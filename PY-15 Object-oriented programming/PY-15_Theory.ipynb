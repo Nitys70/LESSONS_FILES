{
 "cells": [
  {
   "cell_type": "code",
   "execution_count": null,
   "metadata": {},
   "outputs": [],
   "source": [
    "class SalesReport():  \n",
    "    # Позволим добавлять много разных сделок   \n",
    "    def add_deal(self, amount):   \n",
    "        # На первой сделке создадим список для хранения всех сделок   \n",
    "        if not hasattr(self, 'deals'):  \n",
    "            self.deals = []  \n",
    "        # Добавим текущую сделку  \n",
    "        self.deals.append(amount)  \n",
    "          \n",
    "    # Посчитаем сумму всех сделок      \n",
    "    def total_amount(self):  \n",
    "        return sum(self.deals)  \n",
    "      \n",
    "    def print_report(self):  \n",
    "        print(\"Total sales:\", self.total_amount())  \n",
    "          \n",
    "# Используем наши новые возможности  \n",
    "# Добавим две сделки и распечатаем отчёт  \n",
    "report = SalesReport()  \n",
    "report.add_deal(10_000)  \n",
    "report.add_deal(30_000)  \n",
    "report.print_report() # => Total sales: 40000  "
   ]
  },
  {
   "cell_type": "markdown",
   "metadata": {},
   "source": [
    "# Task 5-1"
   ]
  },
  {
   "cell_type": "code",
   "execution_count": 19,
   "metadata": {},
   "outputs": [
    {
     "name": "stdout",
     "output_type": "stream",
     "text": [
      "True\n",
      "19700\n",
      "False\n",
      "29700\n"
     ]
    }
   ],
   "source": [
    "class User():\n",
    "    def __init__(self, email, password, balance):\n",
    "        self.email = email\n",
    "        self.password = password \n",
    "        self.balance = balance\n",
    "        \n",
    "    def login(self, email, password):\n",
    "        if email == self.email and password == self.password:\n",
    "            return True \n",
    "        else:\n",
    "            return False\n",
    "        \n",
    "    def update_balance(self, amount):\n",
    "        self.balance=self.balance + amount\n",
    "        \n",
    "        \n",
    "user = User(\"gosha@roskino.org\", \"qwerty\", 20_000)\n",
    "# print(user.login(\"gosha@roskino.org\", \"qwerty123\"))\n",
    "# # False\n",
    "print(user.login(\"gosha@roskino.org\", \"qwerty\"))\n",
    "# # True\n",
    "user.update_balance(200)\n",
    "user.update_balance(-500)\n",
    "print(user.balance)\n",
    "# 19700\n",
    "\n",
    "user = User(\"gosha@roskino.com\", \"qwerty\", 30000)\n",
    "# print(user.login(\"gosha@roskino.org\", \"qwerty123\"))\n",
    "# # False\n",
    "print(user.login(\"gosha@roskino.com\", \"qwerty1\"))\n",
    "# # True\n",
    "user.update_balance(200)\n",
    "user.update_balance(-500)\n",
    "print(user.balance)\n"
   ]
  },
  {
   "cell_type": "markdown",
   "metadata": {},
   "source": [
    "# Task 5-2"
   ]
  },
  {
   "cell_type": "code",
   "execution_count": null,
   "metadata": {},
   "outputs": [],
   "source": [
    "import statistics  \n",
    "\n",
    "class IntDataFrame:\n",
    "    def __init__(self, numbers):\n",
    "        self.column = numbers\n",
    "        self.to_int()\n",
    "        \n",
    "    def to_int(self):\n",
    "        self.column = [int(value) for value in self.column]\n",
    "        \n",
    "    def count(self):\n",
    "        counter = 0\n",
    "        for value in self.column:\n",
    "            if value != 0:\n",
    "                counter +=1\n",
    "        return counter\n",
    "    \n",
    "    def unique(self):\n",
    "        return len(set(self.column))\n",
    "\n",
    "    "
   ]
  },
  {
   "cell_type": "code",
   "execution_count": 7,
   "metadata": {},
   "outputs": [
    {
     "name": "stdout",
     "output_type": "stream",
     "text": [
      "{'perfomance': [10, 20, 10], 'clients': {'Romashka': 10, 'Vector': 34}}\n",
      "{'perfomance': [20, 30, 20], 'clients': {'Romashka': 15, 'Vector': 39}}\n"
     ]
    }
   ],
   "source": [
    "import pickle  \n",
    "from datetime import datetime  \n",
    "from os import path  \n",
    "  \n",
    "class Dumper():  \n",
    "    def __init__(self, archive_dir=\"archive/\"):  \n",
    "        self.archive_dir = archive_dir  \n",
    "          \n",
    "    def dump(self, data):  \n",
    "        # Библиотека pickle позволяет доставать и класть объекты в файл  \n",
    "        with open(self.get_file_name(), 'wb') as file:  \n",
    "            pickle.dump(data, file)  \n",
    "              \n",
    "    def load_for_day(self, day):  \n",
    "        file_name = path.join(self.archive_dir, day + \".pkl\")   \n",
    "        with open(file_name, 'rb') as file:  \n",
    "            sets = pickle.load(file)  \n",
    "        return sets  \n",
    "          \n",
    "    # возвращает корректное имя для файла   \n",
    "    def get_file_name(self):   \n",
    "        today = datetime.now().strftime(\"%y-%m-%d\")   \n",
    "        return path.join(self.archive_dir, today + \".pkl\")  \n",
    "    \n",
    "    \n",
    "data = {  \n",
    "    'perfomance': [10, 20, 10],  \n",
    "    'clients': {\"Romashka\": 10, \"Vector\": 34}  \n",
    "}  \n",
    "\n",
    "dumper = Dumper()  \n",
    "\n",
    "dumper.dump(data)\n",
    "\n",
    "file_name = datetime.now().strftime(\"%y-%m-%d\")\n",
    "restored_data = dumper.load_for_day(file_name)\n",
    "print(restored_data)  \n",
    "\n",
    "\n",
    "data = {  \n",
    "    'perfomance': [20, 30, 20],  \n",
    "    'clients': {\"Romashka\": 15, \"Vector\": 39}  \n",
    "}  \n",
    "\n",
    "dumper = Dumper()  \n",
    "\n",
    "dumper.dump(data)\n",
    "\n",
    "file_name = datetime.now().strftime(\"%y-%m-%d\")\n",
    "restored_data = dumper.load_for_day(file_name)\n",
    "print(restored_data)  "
   ]
  },
  {
   "cell_type": "markdown",
   "metadata": {},
   "source": [
    "# Task 5-3"
   ]
  },
  {
   "cell_type": "code",
   "execution_count": 33,
   "metadata": {},
   "outputs": [
    {
     "name": "stdout",
     "output_type": "stream",
     "text": [
      "Warning message\n",
      "{'info': ['System started', 'System started 2'], 'warning': ['Warning message'], 'error': None, 'all': ['System started', 'System started 2', 'Warning message']}\n"
     ]
    }
   ],
   "source": [
    "\n",
    "\n",
    "class OwnLogger():\n",
    "    def __init__(self, logs={\"info\": None, \"warning\": None, \"error\": None, \"all\": None} ):\n",
    "        self.logs = logs\n",
    "    \n",
    "        \n",
    "    def log(self, message, level):\n",
    "        if self.logs[level] == None:\n",
    "            self.logs[level] = []\n",
    "        self.logs[level].append(message)\n",
    "        \n",
    "        if self.logs['all'] == None:\n",
    "            self.logs['all'] = []\n",
    "        self.logs['all'].append(message)\n",
    "        \n",
    "    def show_last(self, level='all'):\n",
    "        if self.logs[level] is None:\n",
    "            return None\n",
    "        else:\n",
    "            return self.logs[level][-1]\n",
    "        \n",
    "    def print_all(self):\n",
    "        return self.logs\n",
    "    \n",
    "res = OwnLogger()\n",
    "res.log(message='System started', level='info')\n",
    "res.log(message='System started 2', level='info')\n",
    "res.log(message='Warning message', level='warning')\n",
    "\n",
    "\n",
    "\n",
    "\n",
    "print(res.show_last())\n",
    "\n",
    "print(res.print_all())\n",
    "\n",
    "\n",
    "# res = OwnLogger()\n",
    "# res.log(message='System started', level='info')\n",
    "# res.log(message='System started 2', level='info')\n",
    "# res.log(message='Warning message', level='warning')\n",
    "\n",
    "\n",
    "\n",
    "\n",
    "# print(res.show_last(level='error'))"
   ]
  },
  {
   "cell_type": "code",
   "execution_count": 23,
   "metadata": {},
   "outputs": [
    {
     "data": {
      "text/plain": [
       "[[2, 3], 7]"
      ]
     },
     "execution_count": 23,
     "metadata": {},
     "output_type": "execute_result"
    }
   ],
   "source": [
    "a = {1:2, 3:4}\n",
    "a[1] = [a[1]]\n",
    "a[1].append(3)\n",
    "a[1] = [a[1]]\n",
    "a[1].append(7)\n",
    "# a[1] = [a[1],  7]\n",
    "\n",
    "a[1]"
   ]
  },
  {
   "cell_type": "code",
   "execution_count": 42,
   "metadata": {},
   "outputs": [
    {
     "name": "stdout",
     "output_type": "stream",
     "text": [
      "Bark!\n"
     ]
    }
   ],
   "source": [
    "# class Dog():\n",
    "#     def __init__(self, list_sth):\n",
    "#         self.list_sth = list_sth\n",
    "#         # self.args = args\n",
    "    \n",
    "#     def bark(list_sth):\n",
    "#         return 'Bark!'\n",
    "    \n",
    "#     def give_paw(list_sth):\n",
    "#         return 'Paw'\n",
    "\n",
    "# print(Dog().bark(['Лайка', 'Бим']))\n",
    "\n",
    "class Dog():\n",
    "    def __init__(self, list_sth):\n",
    "        self.list_sth = list_sth\n",
    "        # self.args = args\n",
    "    \n",
    "    def bark(*self):\n",
    "        return 'Bark!'\n",
    "    \n",
    "    def give_paw(*self):\n",
    "        return 'Paw'\n",
    "\n",
    "print(Dog().bark(['Лайка', 'Бим']))"
   ]
  },
  {
   "cell_type": "code",
   "execution_count": 47,
   "metadata": {},
   "outputs": [
    {
     "data": {
      "text/plain": [
       "['archive', 'logs', 'PY-15_Theory.ipynb']"
      ]
     },
     "execution_count": 47,
     "metadata": {},
     "output_type": "execute_result"
    }
   ],
   "source": [
    "import os \n",
    "os.listdir(os.getcwd())\n",
    "# os.getcwd()"
   ]
  },
  {
   "cell_type": "markdown",
   "metadata": {},
   "source": [
    "# Task 7-3"
   ]
  },
  {
   "cell_type": "code",
   "execution_count": 48,
   "metadata": {},
   "outputs": [
    {
     "name": "stdout",
     "output_type": "stream",
     "text": [
      "Текущая директория:  d:\\IDE\\PY-15 Object-oriented programming\n",
      "-----\n",
      "Список папок:  ['archive', 'logs']\n",
      "----\n",
      "Список файлов:  ['PY-15_Theory.ipynb']\n",
      "----\n",
      "Все пути:\n",
      "Файл  d:\\IDE\\PY-15 Object-oriented programming\\PY-15_Theory.ipynb\n",
      "Папка  d:\\IDE\\PY-15 Object-oriented programming\\archive\n",
      "Папка  d:\\IDE\\PY-15 Object-oriented programming\\logs\n",
      "====\n",
      "Текущая директория:  d:\\IDE\\PY-15 Object-oriented programming\\archive\n",
      "-----\n",
      "Папок нет\n",
      "----\n",
      "Список файлов:  ['24-04-26.pkl']\n",
      "----\n",
      "Файл  d:\\IDE\\PY-15 Object-oriented programming\\archive\\24-04-26.pkl\n",
      "====\n",
      "Текущая директория:  d:\\IDE\\PY-15 Object-oriented programming\\logs\n",
      "-----\n",
      "Папок нет\n",
      "----\n",
      "Папок нет\n",
      "----\n",
      "====\n"
     ]
    }
   ],
   "source": [
    "import os \n",
    "\n",
    "def walk_desc(path=None):\n",
    "    start_path = path if path is not None else os.getcwd()\n",
    "    \n",
    "    for root, dirs, files in os.walk(start_path):\n",
    "        print('Текущая директория: ', root)\n",
    "        print('-----')\n",
    "        \n",
    "        if dirs:\n",
    "            print('Список папок: ', dirs)\n",
    "        else:\n",
    "            print('Папок нет')\n",
    "        \n",
    "        print('----')\n",
    "        \n",
    "        \n",
    "        if files:\n",
    "            print('Список файлов: ', files)\n",
    "        else:\n",
    "            print('Папок нет')\n",
    "        print('----')\n",
    "        \n",
    "        \n",
    "        if files and dirs:\n",
    "            print('Все пути:')\n",
    "            \n",
    "        for f in files:\n",
    "            print('Файл ', os.path.join(root, f))\n",
    "            \n",
    "        for d in dirs:\n",
    "            print('Папка ', os.path.join(root, d))\n",
    "            \n",
    "        print('====')\n",
    "        \n",
    "walk_desc()\n",
    "        \n",
    "    \n",
    "    \n",
    "    "
   ]
  },
  {
   "cell_type": "code",
   "execution_count": 59,
   "metadata": {},
   "outputs": [],
   "source": [
    "import os \n",
    "# print(os.listdir(os.getcwd())[-1])\n",
    "\n",
    "os.rename('Новиков Юрий Сергеевич.xlsx', 'Новиков Юрий Сергеевич.xlsm')"
   ]
  },
  {
   "cell_type": "markdown",
   "metadata": {},
   "source": [
    "# Task 7-4"
   ]
  },
  {
   "cell_type": "code",
   "execution_count": 62,
   "metadata": {},
   "outputs": [],
   "source": [
    "import os\n",
    "\n",
    "with open('data/input.txt') as orig:\n",
    "    with open('data/output.txt', 'w') as final:\n",
    "        for line in orig:\n",
    "            final.writelines(line)\n",
    "            \n"
   ]
  },
  {
   "cell_type": "markdown",
   "metadata": {},
   "source": [
    "# Task 7-5"
   ]
  },
  {
   "cell_type": "code",
   "execution_count": 16,
   "metadata": {},
   "outputs": [],
   "source": [
    "import os\n",
    "\n",
    "with open('data/numbers.txt', 'r') as nums:\n",
    "    numbers = []\n",
    "    for elem in nums:\n",
    "        numbers.append(elem.split())\n",
    "    numbers = sorted(numbers)\n",
    "    sum_minmax = int(numbers[0][0]) + int(numbers[-1][0])\n",
    "\n",
    "    with open('data/outputs.txt', 'w') as final:\n",
    "        final.writelines(f'{sum_minmax}')\n",
    "        final.writelines('\\n')"
   ]
  },
  {
   "cell_type": "markdown",
   "metadata": {},
   "source": [
    "# Task 7-6"
   ]
  },
  {
   "cell_type": "code",
   "execution_count": 19,
   "metadata": {},
   "outputs": [
    {
     "name": "stdout",
     "output_type": "stream",
     "text": [
      "Иванов О. 4\n",
      "\n",
      "Петров И. 3\n",
      "\n"
     ]
    },
    {
     "data": {
      "text/plain": [
       "'cp1251'"
      ]
     },
     "execution_count": 19,
     "metadata": {},
     "output_type": "execute_result"
    }
   ],
   "source": [
    "import os\n",
    "import codecs\n",
    "import locale\n",
    "# counts = 0\n",
    "\n",
    "# with codecs.open('data/grades.txt', 'r', 'utf-8') as grades:\n",
    "#     for elem in grades:\n",
    "#        if int(elem.split()[-1]) < 3:\n",
    "#            counts += 1\n",
    "\n",
    "# print(counts)\n",
    "\n",
    "with open('data/grades.txt', 'r', -1, 'utf-8') as grades:\n",
    "    for elem in grades:\n",
    "        print(elem)\n",
    "\n",
    "locale.getencoding()"
   ]
  },
  {
   "cell_type": "markdown",
   "metadata": {},
   "source": [
    "# Task 7-7"
   ]
  },
  {
   "cell_type": "code",
   "execution_count": null,
   "metadata": {},
   "outputs": [],
   "source": [
    "with open(\"input.txt\", \"r\") as input_file:\n",
    "    with open(\"output.txt\", \"w\") as output_file:\n",
    "        for line in reversed(input_file.readlines()):\n",
    "            output_file.write(line)"
   ]
  }
 ],
 "metadata": {
  "kernelspec": {
   "display_name": "Python 3",
   "language": "python",
   "name": "python3"
  },
  "language_info": {
   "codemirror_mode": {
    "name": "ipython",
    "version": 3
   },
   "file_extension": ".py",
   "mimetype": "text/x-python",
   "name": "python",
   "nbconvert_exporter": "python",
   "pygments_lexer": "ipython3",
   "version": "3.12.0"
  }
 },
 "nbformat": 4,
 "nbformat_minor": 2
}
