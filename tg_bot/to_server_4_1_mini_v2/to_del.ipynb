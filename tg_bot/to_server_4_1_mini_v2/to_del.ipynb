{
 "cells": [
  {
   "cell_type": "code",
   "execution_count": null,
   "id": "e43d333c",
   "metadata": {},
   "outputs": [],
   "source": [
    "56.30 84.95"
   ]
  },
  {
   "cell_type": "code",
   "execution_count": 5,
   "id": "ecc2c581",
   "metadata": {},
   "outputs": [
    {
     "name": "stdout",
     "output_type": "stream",
     "text": [
      "timezone_str = Asia/Tomsk, user_tz = Asia/Tomsk, current_time = 2025-06-01 00:36:26.230204+07:00\n"
     ]
    }
   ],
   "source": [
    "from timezonefinder import TimezoneFinder\n",
    "from datetime import datetime\n",
    "import pytz\n",
    "\n",
    "tf = TimezoneFinder()\n",
    "\n",
    "timezone_str = tf.timezone_at(lat=56.30, lng=84.95)\n",
    "\n",
    "if timezone_str:\n",
    "    user_tz = pytz.timezone(timezone_str)\n",
    "    current_time = datetime.now(user_tz)\n",
    "    print(f'timezone_str = {timezone_str}, user_tz = {user_tz}, current_time = {current_time}')\n",
    "else:\n",
    "    print(\"TimeZone hasn't been finded\")"
   ]
  }
 ],
 "metadata": {
  "kernelspec": {
   "display_name": "Python 3",
   "language": "python",
   "name": "python3"
  },
  "language_info": {
   "codemirror_mode": {
    "name": "ipython",
    "version": 3
   },
   "file_extension": ".py",
   "mimetype": "text/x-python",
   "name": "python",
   "nbconvert_exporter": "python",
   "pygments_lexer": "ipython3",
   "version": "3.12.0"
  }
 },
 "nbformat": 4,
 "nbformat_minor": 5
}
