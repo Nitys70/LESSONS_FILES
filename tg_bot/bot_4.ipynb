{
 "cells": [
  {
   "cell_type": "code",
   "execution_count": null,
   "id": "41e7cc06",
   "metadata": {},
   "outputs": [],
   "source": [
    "import openai\n",
    "from telegram import Update\n",
    "from telegram.ext import ApplicationBuilder, CommandHandler, MessageHandler, ContextTypes, filters\n",
    "\n",
    "# Токены\n",
    "TELEGRAM_BOT_TOKEN = \"A\"\n",
    "OPENAI_API_KEY = \"sk-UnlAA\"\n",
    "\n",
    "# Настройка клиента OpenAI (новый стиль)\n",
    "client = openai.OpenAI(api_key=OPENAI_API_KEY)\n",
    "\n",
    "# /start\n",
    "async def start(update: Update, context: ContextTypes.DEFAULT_TYPE):\n",
    "    await update.message.reply_text(\"Привет! Напиши мне что-нибудь, и я отвечу как ChatGPT 🤖\")\n",
    "\n",
    "# Обработка сообщений\n",
    "async def handle_message(update: Update, context: ContextTypes.DEFAULT_TYPE):\n",
    "    user_message = update.message.text\n",
    "\n",
    "    try:\n",
    "        response = client.chat.completions.create(\n",
    "            model=\"gpt-3.5-turbo\",\n",
    "            messages=[{\"role\": \"user\", \"content\": user_message}],\n",
    "            temperature=0.7,\n",
    "            max_tokens=1000,\n",
    "        )\n",
    "        reply = response.choices[0].message.content.strip()\n",
    "        await update.message.reply_text(reply)\n",
    "\n",
    "    except Exception as e:\n",
    "        print(f\"OpenAI ошибка: {e}\")\n",
    "        await update.message.reply_text(\"Ошибка при обращении к ChatGPT.\")\n",
    "\n",
    "# Запуск бота\n",
    "def main():\n",
    "    app = ApplicationBuilder().token(TELEGRAM_BOT_TOKEN).build()\n",
    "    app.add_handler(CommandHandler(\"start\", start))\n",
    "    app.add_handler(MessageHandler(filters.TEXT & ~filters.COMMAND, handle_message))\n",
    "    app.run_polling()\n",
    "\n",
    "if __name__ == \"__main__\":\n",
    "    main()\n",
    "    \n"
   ]
  },
  {
   "cell_type": "code",
   "execution_count": 4,
   "id": "c85c3299",
   "metadata": {},
   "outputs": [],
   "source": [
    "!pip freeze -> requirements.txt"
   ]
  },
  {
   "cell_type": "code",
   "execution_count": 9,
   "id": "2614ccb4",
   "metadata": {},
   "outputs": [
    {
     "data": {
      "text/plain": [
       "<Response [200]>"
      ]
     },
     "execution_count": 9,
     "metadata": {},
     "output_type": "execute_result"
    }
   ],
   "source": [
    "import requests\n",
    "import json\n",
    "\n",
    "url = 'https://api.telegram.org/bot7233379984:AAGzMfWqVWP7aAifBmueZVR-gYV5_jUmgOA/getWebhookInfo'\n",
    "\n",
    "response = requests.get(url=url)\n",
    "\n",
    "response"
   ]
  },
  {
   "cell_type": "code",
   "execution_count": 10,
   "id": "5681c212",
   "metadata": {},
   "outputs": [],
   "source": [
    "data = response.json()"
   ]
  },
  {
   "cell_type": "code",
   "execution_count": 11,
   "id": "1542816c",
   "metadata": {},
   "outputs": [
    {
     "data": {
      "text/plain": [
       "{'ok': True,\n",
       " 'result': {'url': '',\n",
       "  'has_custom_certificate': False,\n",
       "  'pending_update_count': 0}}"
      ]
     },
     "execution_count": 11,
     "metadata": {},
     "output_type": "execute_result"
    }
   ],
   "source": [
    "data"
   ]
  }
 ],
 "metadata": {
  "kernelspec": {
   "display_name": "Python 3",
   "language": "python",
   "name": "python3"
  },
  "language_info": {
   "codemirror_mode": {
    "name": "ipython",
    "version": 3
   },
   "file_extension": ".py",
   "mimetype": "text/x-python",
   "name": "python",
   "nbconvert_exporter": "python",
   "pygments_lexer": "ipython3",
   "version": "3.12.1"
  }
 },
 "nbformat": 4,
 "nbformat_minor": 5
}
