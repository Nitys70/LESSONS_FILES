{
 "cells": [
  {
   "cell_type": "code",
   "execution_count": null,
   "id": "208cd234",
   "metadata": {},
   "outputs": [],
   "source": [
    "import requests\n",
    "from requests import get\n",
    "\n",
    "url = 'https://drive.google.com/file/d/view?usp=sharing'\n",
    "\n",
    "file_test = str(requests.get(url=url) )"
   ]
  },
  {
   "cell_type": "code",
   "execution_count": 15,
   "id": "f631c013",
   "metadata": {},
   "outputs": [
    {
     "data": {
      "text/plain": [
       "'<'"
      ]
     },
     "execution_count": 15,
     "metadata": {},
     "output_type": "execute_result"
    }
   ],
   "source": [
    "file_test.find('api_tg')\n",
    "\n",
    "file_test[0]"
   ]
  },
  {
   "cell_type": "code",
   "execution_count": 17,
   "id": "b0513cc3",
   "metadata": {},
   "outputs": [
    {
     "ename": "ModuleNotFoundError",
     "evalue": "No module named 'file_test'",
     "output_type": "error",
     "traceback": [
      "\u001b[1;31m---------------------------------------------------------------------------\u001b[0m",
      "\u001b[1;31mModuleNotFoundError\u001b[0m                       Traceback (most recent call last)",
      "Cell \u001b[1;32mIn[17], line 1\u001b[0m\n\u001b[1;32m----> 1\u001b[0m \u001b[38;5;28;01mfrom\u001b[39;00m \u001b[38;5;21;01mfile_test\u001b[39;00m \u001b[38;5;28;01mimport\u001b[39;00m api_tg\n",
      "\u001b[1;31mModuleNotFoundError\u001b[0m: No module named 'file_test'"
     ]
    }
   ],
   "source": [
    "from file_test import api_tg"
   ]
  },
  {
   "cell_type": "code",
   "execution_count": 21,
   "id": "2bc7324b",
   "metadata": {},
   "outputs": [
    {
     "name": "stdout",
     "output_type": "stream",
     "text": [
      "None\n"
     ]
    }
   ],
   "source": [
    "a = [4, 0,2,3]\n",
    "\n",
    "def test(data):\n",
    "    for elem in data:\n",
    "        if elem == 1:\n",
    "            return True\n",
    "        # else: \n",
    "        #     return False\n",
    "\n",
    "print(test(a))"
   ]
  },
  {
   "cell_type": "code",
   "execution_count": 1,
   "id": "7cd82edc",
   "metadata": {},
   "outputs": [],
   "source": [
    "hello_message = \"Привет! Твой пароль верен, добро пожаловать! \" + \\\n",
    "    \"Я бот ChatGPT, и я могу помочь тебе в разных вопросах, только спроси :) \" + \\\n",
    "        \"К сожалению, я не умею искать в интернете информацию, но, если ты напишешь 'погода', \" + \\\n",
    "            \"это активирует моего товарища, и он тебе обязательно подскажет прогноз.\""
   ]
  },
  {
   "cell_type": "code",
   "execution_count": 2,
   "id": "ba8910e6",
   "metadata": {},
   "outputs": [
    {
     "data": {
      "text/plain": [
       "\"Привет! Твой пароль верен, добро пожаловать! Я бот ChatGPT, и я могу помочь тебе в разных вопросах, только спроси :) К сожалению, я не умею искать в интернете информацию, но, если ты напишешь 'погода', это активирует моего товарища, и он тебе обязательно подскажет прогноз.\""
      ]
     },
     "execution_count": 2,
     "metadata": {},
     "output_type": "execute_result"
    }
   ],
   "source": [
    "hello_message"
   ]
  },
  {
   "cell_type": "code",
   "execution_count": 5,
   "id": "495bca8c",
   "metadata": {},
   "outputs": [
    {
     "name": "stdout",
     "output_type": "stream",
     "text": [
      "<function weather at 0x000002B3F534CF40>\n"
     ]
    }
   ],
   "source": [
    "def weather():\n",
    "    print('Модуль в разработке')\n",
    "    # return 'Модуль в разработке'\n",
    "    return ('snow_forecast.jpg')\n",
    "\n",
    "print(weather)"
   ]
  }
 ],
 "metadata": {
  "kernelspec": {
   "display_name": "Python 3",
   "language": "python",
   "name": "python3"
  },
  "language_info": {
   "codemirror_mode": {
    "name": "ipython",
    "version": 3
   },
   "file_extension": ".py",
   "mimetype": "text/x-python",
   "name": "python",
   "nbconvert_exporter": "python",
   "pygments_lexer": "ipython3",
   "version": "3.12.1"
  }
 },
 "nbformat": 4,
 "nbformat_minor": 5
}
