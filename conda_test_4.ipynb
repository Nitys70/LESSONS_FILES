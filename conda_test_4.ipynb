{
 "cells": [
  {
   "cell_type": "code",
   "execution_count": 1,
   "id": "74ecd79a",
   "metadata": {},
   "outputs": [
    {
     "name": "stdout",
     "output_type": "stream",
     "text": [
      "Python 3.10.16\n"
     ]
    }
   ],
   "source": [
    "!python -V"
   ]
  },
  {
   "cell_type": "code",
   "execution_count": 2,
   "id": "58a6767c",
   "metadata": {},
   "outputs": [
    {
     "name": "stdout",
     "output_type": "stream",
     "text": [
      "2.0.1\n"
     ]
    }
   ],
   "source": [
    "import pandas as pd\n",
    "\n",
    "print(pd.__version__)"
   ]
  },
  {
   "cell_type": "code",
   "execution_count": 3,
   "id": "7d811cc5",
   "metadata": {},
   "outputs": [
    {
     "name": "stdout",
     "output_type": "stream",
     "text": [
      "asttokens @ file:///home/conda/feedstock_root/build_artifacts/asttokens_1733250440834/work\n",
      "colorama @ file:///home/conda/feedstock_root/build_artifacts/colorama_1733218098505/work\n",
      "comm @ file:///home/conda/feedstock_root/build_artifacts/comm_1733502965406/work\n",
      "debugpy @ file:///D:/bld/debugpy_1680755654494/work\n",
      "decorator @ file:///home/conda/feedstock_root/build_artifacts/decorator_1740384970518/work\n",
      "exceptiongroup @ file:///home/conda/feedstock_root/build_artifacts/exceptiongroup_1733208806608/work\n",
      "executing @ file:///home/conda/feedstock_root/build_artifacts/executing_1733569351617/work\n",
      "importlib_metadata @ file:///home/conda/feedstock_root/build_artifacts/importlib-metadata_1737420181517/work\n",
      "ipykernel @ file:///D:/bld/ipykernel_1719845595208/work\n",
      "ipython @ file:///D:/bld/bld/rattler-build_ipython_1744034871/work\n",
      "jedi @ file:///home/conda/feedstock_root/build_artifacts/jedi_1733300866624/work\n",
      "joblib==1.4.2\n",
      "jupyter_client @ file:///home/conda/feedstock_root/build_artifacts/jupyter_client_1733440914442/work\n",
      "jupyter_core @ file:///D:/bld/jupyter_core_1727163532151/work\n",
      "matplotlib-inline @ file:///home/conda/feedstock_root/build_artifacts/matplotlib-inline_1733416936468/work\n",
      "nest_asyncio @ file:///home/conda/feedstock_root/build_artifacts/nest-asyncio_1733325553580/work\n",
      "numpy==1.24.2\n",
      "packaging @ file:///home/conda/feedstock_root/build_artifacts/packaging_1733203243479/work\n",
      "pandas==2.0.1\n",
      "parso @ file:///home/conda/feedstock_root/build_artifacts/parso_1733271261340/work\n",
      "pickleshare @ file:///home/conda/feedstock_root/build_artifacts/pickleshare_1733327343728/work\n",
      "platformdirs @ file:///home/conda/feedstock_root/build_artifacts/bld/rattler-build_platformdirs_1742485085/work\n",
      "prompt_toolkit @ file:///home/conda/feedstock_root/build_artifacts/prompt-toolkit_1737453357274/work\n",
      "psutil @ file:///D:/bld/psutil_1681775154843/work\n",
      "pure_eval @ file:///home/conda/feedstock_root/build_artifacts/pure_eval_1733569405015/work\n",
      "Pygments @ file:///home/conda/feedstock_root/build_artifacts/pygments_1736243443484/work\n",
      "python-dateutil==2.9.0.post0\n",
      "pytz==2025.2\n",
      "pywin32==304\n",
      "pyzmq @ file:///D:/bld/pyzmq_1679316999325/work\n",
      "scikit-learn==1.2.2\n",
      "scipy==1.15.2\n",
      "six==1.17.0\n",
      "stack_data @ file:///home/conda/feedstock_root/build_artifacts/stack_data_1733569443808/work\n",
      "threadpoolctl==3.6.0\n",
      "tornado @ file:///D:/bld/tornado_1681817664954/work\n",
      "traitlets @ file:///home/conda/feedstock_root/build_artifacts/traitlets_1733367359838/work\n",
      "typing_extensions @ file:///home/conda/feedstock_root/build_artifacts/bld/rattler-build_typing_extensions_1743820059/work\n",
      "tzdata==2025.2\n",
      "wcwidth @ file:///home/conda/feedstock_root/build_artifacts/wcwidth_1733231326287/work\n",
      "zipp @ file:///home/conda/feedstock_root/build_artifacts/zipp_1732827521216/work\n"
     ]
    }
   ],
   "source": [
    "!pip freeze"
   ]
  }
 ],
 "metadata": {
  "kernelspec": {
   "display_name": "sf_env",
   "language": "python",
   "name": "python3"
  },
  "language_info": {
   "codemirror_mode": {
    "name": "ipython",
    "version": 3
   },
   "file_extension": ".py",
   "mimetype": "text/x-python",
   "name": "python",
   "nbconvert_exporter": "python",
   "pygments_lexer": "ipython3",
   "version": "3.10.16"
  }
 },
 "nbformat": 4,
 "nbformat_minor": 5
}
