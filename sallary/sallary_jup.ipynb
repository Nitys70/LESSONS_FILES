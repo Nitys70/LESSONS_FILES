{
 "cells": [
  {
   "cell_type": "code",
   "execution_count": 24,
   "metadata": {},
   "outputs": [
    {
     "name": "stdout",
     "output_type": "stream",
     "text": [
      "im here\n",
      "im here\n",
      "im here\n",
      "im here\n",
      "[]\n",
      "5\n"
     ]
    }
   ],
   "source": [
    "a = 'd d d d 1 1 1 1 1'\n",
    "b = a.split()\n",
    "c = list()\n",
    "d = [0, 1]\n",
    "cou = 0\n",
    "for elem in b:\n",
    "    # global cou\n",
    "    if elem == 'd':\n",
    "        if cou in d:\n",
    "            print('im here')\n",
    "            continue\n",
    "        c.append(0)\n",
    "        \n",
    "    cou += 1\n",
    "        \n",
    "        \n",
    "print(c)\n",
    "print(cou)"
   ]
  }
 ],
 "metadata": {
  "kernelspec": {
   "display_name": "Python 3",
   "language": "python",
   "name": "python3"
  },
  "language_info": {
   "codemirror_mode": {
    "name": "ipython",
    "version": 3
   },
   "file_extension": ".py",
   "mimetype": "text/x-python",
   "name": "python",
   "nbconvert_exporter": "python",
   "pygments_lexer": "ipython3",
   "version": "3.12.1"
  }
 },
 "nbformat": 4,
 "nbformat_minor": 2
}
