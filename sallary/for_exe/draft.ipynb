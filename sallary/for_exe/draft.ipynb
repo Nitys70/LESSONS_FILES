{
 "cells": [
  {
   "cell_type": "code",
   "execution_count": null,
   "metadata": {},
   "outputs": [],
   "source": [
    "benefits_perc_list = ['40']\n",
    "benefits_date_list = ['01.01-31.12']\n",
    "\n",
    "def benefits_changes():\n",
    "    \"\"\"Функция для корректировки DF с размером ежемесячной премии, \n",
    "    позволяет вносить данные, по датам\n",
    "    \"\"\"\n",
    "    \n",
    "    # Запрос данных об изменениях\n",
    "    date_of_change = input('Напишите даты изменений и ее размер в формате ДД-ММ-ДД-ММ-Процент (01-12-31-12-20)')\n",
    "    \n",
    "    # Создание переменных дня, месяца изменений, и нового значения\n",
    "    day_1, month_1, day_2, month_2, benefit = date_of_change.split('-')\n",
    "    \n",
    "    # Приведением к расчетным типам данных\n",
    "    day_1 = int(day_1) \n",
    "    month_1 = int(month_1)\n",
    "    day_2 = int(day_2) \n",
    "    month_2 = int(month_2)\n",
    "    benefit = benefit.replace(',', '.')\n",
    "    benefit = int(benefit)/100\n",
    "    \n",
    "    # Значения для подбивки с индексами\n",
    "    current_month_1 = month_1 - 1\n",
    "    current_day_1 = day_1 - 1\n",
    "    current_month_2 = month_2 - 1\n",
    "    current_day_2 = day_2 - 1\n",
    "    \n",
    "    # Обновление значений DF новыми\n",
    "    # df_benefits.loc[month:12] = df_benefits.loc[month:12].map(lambda x: benefit)\n",
    "    df_benefits.loc[current_month_1:current_month_2][current_day_1:current_day_2] = \\\n",
    "        df_benefits.loc[current_month_1:current_month_2][current_day_1:current_day_2]\\\n",
    "            .map(lambda x: benefit)\n",
    "    \n",
    "    # Добавим данные в списки\n",
    "    benefits_perc_list.append(benefit)\n",
    "    benefits_date_list.append(f'{day_1}.{month_1} - {day_2}.{month_2}')\n",
    "    \n",
    "    # Запрос на наличией дополнительных изменений\n",
    "    more_changes = int(input('Менялась ли еще Премия? Да - 1, нет - 0'))\n",
    "    \n",
    "    # В случае дополнительных изменений - повторный вызов функции \n",
    "    if more_changes == 1:\n",
    "        benefits_changes()\n",
    "        \n",
    "benefits_perc_df_summary = \\\n",
    "    pd.DataFrame({'Поцент премии': benefits_perc_list, 'Даты': benefits_date_list})\n"
   ]
  },
  {
   "cell_type": "code",
   "execution_count": null,
   "metadata": {},
   "outputs": [],
   "source": [
    "# df_hours_total - часы под расчет \n",
    "# df_chts - ЧТС\n",
    "# df_north_ratio - СН\n",
    "# df_region_coef - РК\n",
    "# df_benefits_payment_all - ДФ с месячной премией (уже посчитан)\n",
    "# df_hours_payment - деньги по ЧТС\n",
    "# df_north_ratio_payment - СН по часам\n",
    "# df_region_coef_payment - РК по часам\n",
    "# \n",
    "# df_day_compensation - компенсация за вахтовый метод работы \n",
    "# df_dayoff_compensation - оплата дней МО\n",
    "# df_trip_hours - оплата за время в пути\n"
   ]
  },
  {
   "cell_type": "code",
   "execution_count": null,
   "metadata": {},
   "outputs": [],
   "source": [
    "chts_df_summary\n",
    "north_ratio_df_summary\n",
    "benefits_perc_df_summary"
   ]
  }
 ],
 "metadata": {
  "language_info": {
   "name": "python"
  }
 },
 "nbformat": 4,
 "nbformat_minor": 2
}
