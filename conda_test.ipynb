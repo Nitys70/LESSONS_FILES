{
 "cells": [
  {
   "cell_type": "code",
   "execution_count": 2,
   "id": "c64e185d",
   "metadata": {},
   "outputs": [
    {
     "name": "stderr",
     "output_type": "stream",
     "text": [
      "\"conda\" �� ���� ����७��� ��� ���譥�\n",
      "��������, �ᯮ��塞�� �ணࠬ��� ��� ������ 䠩���.\n"
     ]
    }
   ],
   "source": [
    "!conda activate sf_env"
   ]
  },
  {
   "cell_type": "code",
   "execution_count": 3,
   "id": "33ffc39e",
   "metadata": {},
   "outputs": [
    {
     "name": "stderr",
     "output_type": "stream",
     "text": [
      "\"pytnon\" �� ���� ����७��� ��� ���譥�\n",
      "��������, �ᯮ��塞�� �ணࠬ��� ��� ������ 䠩���.\n"
     ]
    }
   ],
   "source": [
    "!pytnon -V"
   ]
  },
  {
   "cell_type": "code",
   "execution_count": 4,
   "id": "14ef7374",
   "metadata": {},
   "outputs": [
    {
     "name": "stderr",
     "output_type": "stream",
     "text": [
      "\"conda\" �� ���� ����७��� ��� ���譥�\n",
      "��������, �ᯮ��塞�� �ணࠬ��� ��� ������ 䠩���.\n"
     ]
    }
   ],
   "source": [
    "!conda deactivate sf_env"
   ]
  },
  {
   "cell_type": "code",
   "execution_count": 1,
   "id": "ea2b760b",
   "metadata": {},
   "outputs": [
    {
     "name": "stderr",
     "output_type": "stream",
     "text": [
      "\"pytnon\" �� ���� ����७��� ��� ���譥�\n",
      "��������, �ᯮ��塞�� �ணࠬ��� ��� ������ 䠩���.\n"
     ]
    }
   ],
   "source": [
    "!pytnon -V"
   ]
  },
  {
   "cell_type": "code",
   "execution_count": 6,
   "id": "555498a3",
   "metadata": {},
   "outputs": [
    {
     "name": "stderr",
     "output_type": "stream",
     "text": [
      "\n",
      "CondaError: Run 'conda init' before 'conda activate'\n",
      "\n"
     ]
    }
   ],
   "source": [
    "!C:\\Miniconda3\\Scripts\\conda.exe activate sf_env"
   ]
  },
  {
   "cell_type": "code",
   "execution_count": 7,
   "id": "34d25211",
   "metadata": {},
   "outputs": [
    {
     "name": "stderr",
     "output_type": "stream",
     "text": [
      "Traceback (most recent call last):\n",
      "  File \"<string>\", line 1, in <module>\n",
      "ModuleNotFoundError: No module named 'numpy'\n",
      "\n",
      "ERROR conda.cli.main_run:execute(125): `conda run python -c import numpy; print(numpy.__version__)` failed. (See above for error)\n"
     ]
    }
   ],
   "source": [
    "!C:\\Miniconda3\\Scripts\\conda.exe run -n sf_env python -c \"import numpy; print(numpy.__version__)\""
   ]
  },
  {
   "cell_type": "code",
   "execution_count": 2,
   "id": "5e6c1b8a",
   "metadata": {},
   "outputs": [
    {
     "name": "stdout",
     "output_type": "stream",
     "text": [
      "Python 3.12.0\n"
     ]
    }
   ],
   "source": [
    "!python -V"
   ]
  },
  {
   "cell_type": "code",
   "execution_count": 3,
   "id": "7dd8ea3a",
   "metadata": {},
   "outputs": [
    {
     "name": "stdout",
     "output_type": "stream",
     "text": [
      "Package                   Version\n",
      "------------------------- ---------\n",
      "annotated-types           0.7.0\n",
      "asttokens                 2.4.1\n",
      "attrs                     23.2.0\n",
      "beautifulsoup4            4.12.3\n",
      "Brotli                    1.1.0\n",
      "category-encoders         2.6.3\n",
      "certifi                   2024.6.2\n",
      "charset-normalizer        3.3.2\n",
      "click                     8.1.7\n",
      "colorama                  0.4.6\n",
      "comet-ml                  3.47.1\n",
      "comm                      0.2.1\n",
      "configobj                 5.0.9\n",
      "contourpy                 1.2.1\n",
      "country-converter         1.2\n",
      "coverage                  7.6.4\n",
      "cycler                    0.12.1\n",
      "dacite                    1.8.1\n",
      "dash                      2.17.1\n",
      "dash-bootstrap-components 1.3.1\n",
      "dash_colorscales          0.0.4\n",
      "dash-core-components      2.0.0\n",
      "dash_daq                  0.5.0\n",
      "dash-html-components      2.0.0\n",
      "dash-table                5.0.0\n",
      "debugpy                   1.8.1\n",
      "decorator                 5.1.1\n",
      "docutils                  0.21.2\n",
      "dtale                     3.13.1\n",
      "dulwich                   0.22.3\n",
      "et-xmlfile                1.1.0\n",
      "everett                   3.1.0\n",
      "executing                 2.0.1\n",
      "fastjsonschema            2.19.1\n",
      "Flask                     2.2.5\n",
      "Flask-Compress            1.15\n",
      "flask-ngrok               0.0.25\n",
      "fonttools                 4.51.0\n",
      "future                    1.0.0\n",
      "geographiclib             2.0\n",
      "geopandas                 1.0.1\n",
      "geopy                     2.4.1\n",
      "htmlmin                   0.1.12\n",
      "idna                      3.7\n",
      "ImageHash                 4.3.1\n",
      "importlib_metadata        8.2.0\n",
      "importlib_resources       6.4.3\n",
      "iniconfig                 2.0.0\n",
      "ipykernel                 6.29.3\n",
      "ipython                   8.22.1\n",
      "ipywidgets                8.1.3\n",
      "itsdangerous              2.2.0\n",
      "jedi                      0.19.1\n",
      "Jinja2                    3.1.4\n",
      "joblib                    1.4.2\n",
      "jsonschema                4.21.1\n",
      "jsonschema-specifications 2023.12.1\n",
      "jupyter_client            8.6.0\n",
      "jupyter_core              5.7.1\n",
      "jupyterlab_widgets        3.0.11\n",
      "kaleido                   0.2.1\n",
      "kiwisolver                1.4.5\n",
      "llvmlite                  0.43.0\n",
      "lz4                       4.3.3\n",
      "markdown-it-py            3.0.0\n",
      "MarkupSafe                2.1.5\n",
      "matplotlib                3.8.4\n",
      "matplotlib-inline         0.1.6\n",
      "mdurl                     0.1.2\n",
      "missingno                 0.5.2\n",
      "multimethod               1.12\n",
      "nbformat                  5.10.4\n",
      "nest-asyncio              1.6.0\n",
      "networkx                  3.3\n",
      "numba                     0.60.0\n",
      "numpy                     1.26.4\n",
      "openpyxl                  3.1.2\n",
      "packaging                 24.2\n",
      "pandas                    2.2.1\n",
      "parso                     0.8.3\n",
      "patsy                     0.5.6\n",
      "phik                      0.12.4\n",
      "pillow                    10.3.0\n",
      "pip                       24.2\n",
      "platformdirs              4.2.0\n",
      "plotly                    5.21.0\n",
      "pluggy                    1.5.0\n",
      "pprintpp                  0.4.0\n",
      "prompt-toolkit            3.0.43\n",
      "psutil                    5.9.8\n",
      "pure-eval                 0.2.2\n",
      "pycountry                 24.6.1\n",
      "pycountry-convert         0.7.2\n",
      "pydantic                  2.8.2\n",
      "pydantic_core             2.20.1\n",
      "Pygments                  2.17.2\n",
      "pyogrio                   0.10.0\n",
      "pyparsing                 3.1.2\n",
      "pyproj                    3.7.1\n",
      "pytest                    8.3.3\n",
      "pytest-cov                5.0.0\n",
      "pytest-mock               3.14.0\n",
      "python-box                6.1.0\n",
      "python-calamine           0.3.1\n",
      "python-dateutil           2.8.2\n",
      "pytz                      2024.1\n",
      "PyWavelets                1.7.0\n",
      "pywin32                   306\n",
      "PyYAML                    6.0.2\n",
      "pyzmq                     25.1.2\n",
      "referencing               0.34.0\n",
      "repoze.lru                0.7\n",
      "requests                  2.32.3\n",
      "requests-toolbelt         1.0.0\n",
      "retrying                  1.3.4\n",
      "rich                      13.9.3\n",
      "rpds-py                   0.18.0\n",
      "schedule                  1.2.2\n",
      "scikit-learn              1.5.1\n",
      "scipy                     1.13.1\n",
      "seaborn                   0.13.2\n",
      "semantic-version          2.10.0\n",
      "sentry-sdk                2.17.0\n",
      "setuptools                72.2.0\n",
      "shapely                   2.1.0\n",
      "simplejson                3.19.3\n",
      "six                       1.16.0\n",
      "soupsieve                 2.5\n",
      "squarify                  0.4.4\n",
      "stack-data                0.6.3\n",
      "statistics                1.0.3.5\n",
      "statsmodels               0.14.2\n",
      "strsimpy                  0.2.1\n",
      "sweetviz                  2.3.1\n",
      "tenacity                  8.2.3\n",
      "threadpoolctl             3.5.0\n",
      "tornado                   6.4\n",
      "tqdm                      4.66.5\n",
      "traitlets                 5.14.1\n",
      "typeguard                 4.3.0\n",
      "typing_extensions         4.12.2\n",
      "tzdata                    2024.1\n",
      "urllib3                   2.2.2\n",
      "visions                   0.7.6\n",
      "wcwidth                   0.2.13\n",
      "Werkzeug                  3.0.3\n",
      "wheel                     0.44.0\n",
      "widgetsnbextension        4.0.11\n",
      "wordcloud                 1.9.3\n",
      "wrapt                     1.16.0\n",
      "wurlitzer                 3.1.1\n",
      "xarray                    2024.7.0\n",
      "xlrd                      2.0.1\n",
      "XlsxWriter                3.2.2\n",
      "ydata-profiling           4.9.0\n",
      "zipp                      3.20.0\n",
      "zstandard                 0.23.0\n"
     ]
    }
   ],
   "source": [
    "!pip list"
   ]
  }
 ],
 "metadata": {
  "kernelspec": {
   "display_name": "Python 3",
   "language": "python",
   "name": "python3"
  },
  "language_info": {
   "codemirror_mode": {
    "name": "ipython",
    "version": 3
   },
   "file_extension": ".py",
   "mimetype": "text/x-python",
   "name": "python",
   "nbconvert_exporter": "python",
   "pygments_lexer": "ipython3",
   "version": "3.12.0"
  }
 },
 "nbformat": 4,
 "nbformat_minor": 5
}
