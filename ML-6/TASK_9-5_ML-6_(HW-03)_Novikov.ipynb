{
 "cells": [
  {
   "cell_type": "markdown",
   "metadata": {},
   "source": [
    "### Отбор признаков Датасета и изучение влияния на метрики модели машинного обучения\n",
    "\n",
    "В качестве датасета выступает набор данных о стоимости автомобилей в США. \n",
    "\n",
    "В ходе данного задания будет произведен отбор предикторов тремя различными методами. \n",
    "- Метод рекурсивного исключения признаков \n",
    "- Метод выбора признаков на основе фильтров \n",
    "    - С применением коэффициента корреляции Пирсона\n",
    "    - С применение дисперсионного анализа ANOVA \n",
    "\n",
    "Далее, будут обучены три модели логистической регрессии, и произведены расчеты метрик для этих трех моделей. В качестве метрики выступает MAE - средняя абсолютная ошибка. \n",
    "\n",
    "По результатам будут сделаны выводы. "
   ]
  },
  {
   "cell_type": "code",
   "execution_count": 1,
   "metadata": {},
   "outputs": [
    {
     "data": {
      "text/html": [
       "<div>\n",
       "<style scoped>\n",
       "    .dataframe tbody tr th:only-of-type {\n",
       "        vertical-align: middle;\n",
       "    }\n",
       "\n",
       "    .dataframe tbody tr th {\n",
       "        vertical-align: top;\n",
       "    }\n",
       "\n",
       "    .dataframe thead th {\n",
       "        text-align: right;\n",
       "    }\n",
       "</style>\n",
       "<table border=\"1\" class=\"dataframe\">\n",
       "  <thead>\n",
       "    <tr style=\"text-align: right;\">\n",
       "      <th></th>\n",
       "      <th>Selection method</th>\n",
       "      <th>MAE Value</th>\n",
       "    </tr>\n",
       "  </thead>\n",
       "  <tbody>\n",
       "    <tr>\n",
       "      <th>0</th>\n",
       "      <td>KBest selection f_regression</td>\n",
       "      <td>4606.024</td>\n",
       "    </tr>\n",
       "    <tr>\n",
       "      <th>1</th>\n",
       "      <td>KBest selection f_classif</td>\n",
       "      <td>4606.024</td>\n",
       "    </tr>\n",
       "    <tr>\n",
       "      <th>2</th>\n",
       "      <td>RFE Selection</td>\n",
       "      <td>5213.692</td>\n",
       "    </tr>\n",
       "  </tbody>\n",
       "</table>\n",
       "</div>"
      ],
      "text/plain": [
       "               Selection method  MAE Value\n",
       "0  KBest selection f_regression   4606.024\n",
       "1     KBest selection f_classif   4606.024\n",
       "2                 RFE Selection   5213.692"
      ]
     },
     "metadata": {},
     "output_type": "display_data"
    }
   ],
   "source": [
    "import pandas as pd\n",
    "\n",
    "from sklearn.model_selection import train_test_split\n",
    "from sklearn.linear_model import LinearRegression\n",
    "from sklearn.metrics import mean_absolute_error\n",
    "\n",
    "from sklearn.feature_selection import RFE\n",
    "from sklearn.feature_selection import SelectKBest, f_regression, f_classif\n",
    "\n",
    "# Чтение файла\n",
    "url = 'https://github.com/Nitys70/LESSONS_FILES/raw/refs/heads/main/ML-6/data/data_ford_price.xlsx'\n",
    "\n",
    "data_ford = pd.read_excel(url)\n",
    "\n",
    "\n",
    "# Предварительный отбор признаков (берем числовые признаки)\n",
    "data_ford = data_ford[['price','year', 'cylinders', 'odometer', 'lat', 'long', 'weather']]\n",
    "# Избавляемся от пропусков\n",
    "data_ford.dropna(inplace = True)\n",
    "\n",
    "# Делим датасет на таргетное значение и предикторы, \n",
    "# формируем тренировочную и тестовую выборки\n",
    "y = data_ford['price']\n",
    "x = data_ford.drop(columns='price')\n",
    "\n",
    "X_train, X_test, y_train, y_test = train_test_split(x, y, test_size=0.3, random_state=42)\n",
    "\n",
    "\n",
    "# Прибегаем к методу рекурсивного исключения признаков (RFE), формируем список признаков\n",
    "estimator = LinearRegression()\n",
    "selector_rfe = RFE(estimator, n_features_to_select=3, step=1)\n",
    "selector_rfe = selector_rfe.fit(X_train, y_train)\n",
    " \n",
    "rfe_list = list(selector_rfe.get_feature_names_out())\n",
    "\n",
    "\n",
    "# Прибегаем к методу отбора признаков с помощью коэф-та корелляции Спирмена, \n",
    "# формируем список признаков\n",
    "selector_f_reg = SelectKBest(f_regression, k=3)\n",
    "selector_f_reg.fit(X_train, y_train)\n",
    " \n",
    "f_reg_list = list(selector_f_reg.get_feature_names_out())\n",
    "\n",
    "# Прибегаем к методу отбора признаков с помощью коэф-та корелляции Спирмена, \n",
    "# формируем список признаков\n",
    "selector_f_classif = SelectKBest(f_classif, k=3)\n",
    "selector_f_classif.fit(X_train, y_train)\n",
    " \n",
    "f_classif_list = list(selector_f_classif.get_feature_names_out())\n",
    "\n",
    "# На основе полученных списков формируем словарь (по нему далее пойдем циклом)\n",
    "feats_top_dict = {'RFE Selection': rfe_list,\n",
    "                  'KBest selection f_regression': f_reg_list,\n",
    "                  'KBest selection f_classif': f_classif_list\n",
    "                  }\n",
    "\n",
    "# Задаем пустой словарь - сюда занесем результаты метрик MAE различных моделей\n",
    "mae_results = dict()\n",
    "\n",
    "# Циклом идем по созданным элементам словаря и обучаем модель, считаем метрики\n",
    "for key, value in feats_top_dict.items():\n",
    "    \n",
    "    # Формируем DF предикторов (исходя из результатов отбора признаков), таргета\n",
    "    x = data_ford[value]\n",
    "    y = data_ford['price']\n",
    "    \n",
    "    # Делим на тренировочную и тестовую выборки\n",
    "    X_train, X_test, y_train, y_test = train_test_split(x, y, train_size=0.3, random_state=42)\n",
    "    \n",
    "    # Создаем модель, обучаем ее, делаем прогноз, считаем метрику\n",
    "    model = LinearRegression()\n",
    "    \n",
    "    model.fit(X_train, y_train)\n",
    "    \n",
    "    y_predicted = model.predict(X_test)\n",
    "    \n",
    "    mae = round(mean_absolute_error(y_test, y_predicted), 3)\n",
    "    \n",
    "    # Заносим в словарь название метода отбора признака и MAE, полученного на этих признаках\n",
    "    mae_results[key] = mae\n",
    "    \n",
    "    \n",
    "# Формируем из полученного словаря с метриками MAE DF, фильтруем по убыванию\n",
    "mae_results_df = pd.DataFrame.from_dict(mae_results, orient='index')\n",
    "mae_results_df = mae_results_df.sort_values(0)\n",
    "mae_results_df = mae_results_df.reset_index()\n",
    "mae_results_df.columns = ['Selection method', 'MAE Value']\n",
    "\n",
    "# Выводим на печать\n",
    "display(mae_results_df)\n"
   ]
  },
  {
   "cell_type": "markdown",
   "metadata": {},
   "source": [
    "Мы видим два одинаковых значения метрик. Вероятно, методами KBest были отобраны одни и те же признаки. Проверим это. "
   ]
  },
  {
   "cell_type": "code",
   "execution_count": 2,
   "metadata": {},
   "outputs": [
    {
     "data": {
      "text/plain": [
       "True"
      ]
     },
     "execution_count": 2,
     "metadata": {},
     "output_type": "execute_result"
    }
   ],
   "source": [
    "f_reg_list == f_classif_list"
   ]
  },
  {
   "cell_type": "markdown",
   "metadata": {},
   "source": [
    "Действительно, одинаковые метрики получены в результате идентичности отобранных придикторов.\n",
    "\n",
    "**Вывод:**\n",
    "\n",
    "Наилучшая метрика средней абсолютной ошибки **(MAE: 4606.024)** получена у модели, обученной на предикторах, которые мы получили при применении метода выбора признаков на основе статистических мер. Причем, при применении коэффциента корреляции Пирсона и дисперсного анализа получены идентичные значения. \n",
    "\n",
    "Так же, важно отметить, что прирост метрики наблюдается и относительно моделей, обученных на всех числовых признаках, лишенных мультиколлинеарности **(MAE: 4672.930)**.\n",
    "\n",
    "Обратный эффект (ухудщение метрики) при использовании отбора предикторов методом рекурсивного исключения признаков **(MAE: 5213.692)**. Здесь значение метрики существенно снизилось. "
   ]
  }
 ],
 "metadata": {
  "kernelspec": {
   "display_name": "Python 3",
   "language": "python",
   "name": "python3"
  },
  "language_info": {
   "codemirror_mode": {
    "name": "ipython",
    "version": 3
   },
   "file_extension": ".py",
   "mimetype": "text/x-python",
   "name": "python",
   "nbconvert_exporter": "python",
   "pygments_lexer": "ipython3",
   "version": "3.12.0"
  }
 },
 "nbformat": 4,
 "nbformat_minor": 2
}
