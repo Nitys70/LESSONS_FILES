{
 "cells": [
  {
   "cell_type": "code",
   "execution_count": 3,
   "metadata": {},
   "outputs": [
    {
     "name": "stdout",
     "output_type": "stream",
     "text": [
      "pandas\n"
     ]
    }
   ],
   "source": [
    "import pandas as pd\n",
    "print(pd.__name__)"
   ]
  },
  {
   "cell_type": "code",
   "execution_count": 6,
   "metadata": {},
   "outputs": [
    {
     "name": "stdout",
     "output_type": "stream",
     "text": [
      "<class 'str'>\n",
      "а    Апельсин\n",
      "к        Киви\n",
      "м    Мандарин\n",
      "я      Яблоко\n",
      "dtype: object\n"
     ]
    }
   ],
   "source": [
    "import pandas as pd\n",
    "abc=[\"Апельсин\", \"Киви\", \"Мандарин\", \"Яблоко\"]\n",
    "defa = [\"а\", \"к\", \"м\", \"я\"]\n",
    "\n",
    "a = pd.Series(data=abc, index = defa)\n",
    "\n",
    "print(type(a.loc['а']))\n",
    "print(a)"
   ]
  },
  {
   "cell_type": "markdown",
   "metadata": {},
   "source": [
    "TASK 2.4"
   ]
  },
  {
   "cell_type": "code",
   "execution_count": 8,
   "metadata": {},
   "outputs": [
    {
     "name": "stdout",
     "output_type": "stream",
     "text": [
      "37.5\n",
      "chlorhexidine    15\n",
      "cyntomycin       18\n",
      "afobazol          7\n",
      "dtype: int64\n"
     ]
    }
   ],
   "source": [
    "import pandas as pd\n",
    "\n",
    "names = ['chlorhexidine', 'cyntomycin', 'afobazol'] \n",
    "counts = [15, 18, 7]\n",
    "\n",
    "def create_medications(names, counts):\n",
    "    medications = pd.Series( data = counts, index = names )\n",
    "    return medications\n",
    "\n",
    "medications = create_medications(names, counts)\n",
    "\n",
    "def get_percent(medications, name):\n",
    "    count_med = 0\n",
    "    for i in range(medications.shape[0]):\n",
    "        count_med += medications.iloc[i]\n",
    "    \n",
    "    count_medicine = (medications.loc[name] / count_med)*100\n",
    "    \n",
    "    return count_medicine\n",
    "\n",
    "\n",
    "print(get_percent(medications, \"chlorhexidine\"))\n",
    "print(medications)\n",
    "\n",
    "    "
   ]
  },
  {
   "cell_type": "markdown",
   "metadata": {},
   "source": [
    "TASK 3.5"
   ]
  },
  {
   "cell_type": "code",
   "execution_count": 4,
   "metadata": {},
   "outputs": [
    {
     "name": "stdout",
     "output_type": "stream",
     "text": [
      "      Income  Expenses\n",
      "2017     612       136\n",
      "2018     516       163\n",
      "2019     329       250\n",
      "2020     158       361\n",
      "None\n"
     ]
    }
   ],
   "source": [
    "\n",
    "\n",
    "# income = [478, 512, 196]\n",
    "# expenses = [156, 130, 270]\n",
    "# years = [2018, 2019, 2020]\n",
    "\n",
    "income = [612, 516, 329, 158]\n",
    "expenses = [136, 163, 250, 361]\n",
    "years = [2017, 2018, 2019, 2020]\n",
    "\n",
    "import pandas as pd\n",
    "\n",
    "def create_companyDF(income, expenses, years):\n",
    "    table = pd.DataFrame( { 'Income': income, 'Expenses': expenses } )\n",
    "    table.index = years\n",
    "    return table\n",
    "\n",
    "def get_profit(df, year):\n",
    "    \n",
    "    if year in df.index: \n",
    "        diff = df.loc[year, 'Income'] - df.loc[year, 'Expenses']\n",
    "        # print(diff)\n",
    "        # result = pd.DataFrame( data = [[diff]], columns = ['difference'], index = [year]   )\n",
    "        return diff\n",
    "    else:\n",
    "        return None\n",
    "    \n",
    "df = create_companyDF(income, expenses, years)\n",
    "\n",
    "print( create_companyDF(income, expenses, years) )\n",
    "\n",
    "print( get_profit(df, 2012) )\n",
    "\n"
   ]
  }
 ],
 "metadata": {
  "kernelspec": {
   "display_name": "Python 3",
   "language": "python",
   "name": "python3"
  },
  "language_info": {
   "codemirror_mode": {
    "name": "ipython",
    "version": 3
   },
   "file_extension": ".py",
   "mimetype": "text/x-python",
   "name": "python",
   "nbconvert_exporter": "python",
   "pygments_lexer": "ipython3",
   "version": "3.12.1"
  }
 },
 "nbformat": 4,
 "nbformat_minor": 2
}
