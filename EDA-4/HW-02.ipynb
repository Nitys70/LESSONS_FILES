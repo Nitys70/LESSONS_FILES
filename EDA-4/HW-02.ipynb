{
 "cells": [
  {
   "cell_type": "markdown",
   "metadata": {},
   "source": [
    "# <center> Исследование данных о зарплатах в сфере Data Science"
   ]
  },
  {
   "cell_type": "markdown",
   "metadata": {},
   "source": [
    "# Постановка задачи\n",
    "\n",
    "Произвести исследование данных HR агентсва за период 2020-2022 годы. На основе полученных данных произвести анализ и ответить на следующие вопросы: \n",
    "\n",
    "- Факторы, влияющие на уровень зарплаты специалиста в области Data Science \n",
    "- Наблюдается ли ежегодный рост зарплат у специалистов Data Scientist?\n",
    "- Как соотносятся зарплаты Data Scientist и Data Engineer в 2022 году?\n",
    "- Как соотносятся зарплаты специалистов Data Scientist в компаниях различных размеров?\n",
    "- Есть ли связь между наличием должностей Data Scientist и Data Engineer и размером компании?\n",
    "\n",
    "В ходе исследования принят уровень значимости $\\alpha=0.05$."
   ]
  },
  {
   "cell_type": "markdown",
   "metadata": {},
   "source": [
    "**Импортируем необходимые в ходе исследования библиотеки, задаем коэфициент уровня значимости.**"
   ]
  },
  {
   "cell_type": "code",
   "execution_count": null,
   "metadata": {},
   "outputs": [],
   "source": [
    "import pandas as pd\n",
    "import matplotlib.pyplot as plt\n",
    "import seaborn as sns\n",
    "import category_encoders as ce\n",
    "import scipy.stats as stats\n",
    "from scipy import stats\n",
    "import statistics\n",
    "import country_converter as coco\n",
    "\n",
    "alpha = 0.05"
   ]
  },
  {
   "cell_type": "markdown",
   "metadata": {},
   "source": [
    "# Чтение и первичное изучение данных. \n",
    "\n",
    "**Произведем предварительную обработку данных (наличие пропусков, дубликтов, неинформативных признаков).**"
   ]
  },
  {
   "cell_type": "code",
   "execution_count": 40,
   "metadata": {},
   "outputs": [
    {
     "data": {
      "text/html": [
       "<div>\n",
       "<style scoped>\n",
       "    .dataframe tbody tr th:only-of-type {\n",
       "        vertical-align: middle;\n",
       "    }\n",
       "\n",
       "    .dataframe tbody tr th {\n",
       "        vertical-align: top;\n",
       "    }\n",
       "\n",
       "    .dataframe thead th {\n",
       "        text-align: right;\n",
       "    }\n",
       "</style>\n",
       "<table border=\"1\" class=\"dataframe\">\n",
       "  <thead>\n",
       "    <tr style=\"text-align: right;\">\n",
       "      <th></th>\n",
       "      <th>work_year</th>\n",
       "      <th>experience_level</th>\n",
       "      <th>employment_type</th>\n",
       "      <th>job_title</th>\n",
       "      <th>salary</th>\n",
       "      <th>salary_currency</th>\n",
       "      <th>salary_in_usd</th>\n",
       "      <th>employee_residence</th>\n",
       "      <th>remote_ratio</th>\n",
       "      <th>company_location</th>\n",
       "      <th>company_size</th>\n",
       "    </tr>\n",
       "  </thead>\n",
       "  <tbody>\n",
       "    <tr>\n",
       "      <th>0</th>\n",
       "      <td>2020</td>\n",
       "      <td>MI</td>\n",
       "      <td>FT</td>\n",
       "      <td>Data Scientist</td>\n",
       "      <td>70000</td>\n",
       "      <td>EUR</td>\n",
       "      <td>79833</td>\n",
       "      <td>DE</td>\n",
       "      <td>0</td>\n",
       "      <td>DE</td>\n",
       "      <td>L</td>\n",
       "    </tr>\n",
       "    <tr>\n",
       "      <th>1</th>\n",
       "      <td>2020</td>\n",
       "      <td>SE</td>\n",
       "      <td>FT</td>\n",
       "      <td>Machine Learning Scientist</td>\n",
       "      <td>260000</td>\n",
       "      <td>USD</td>\n",
       "      <td>260000</td>\n",
       "      <td>JP</td>\n",
       "      <td>0</td>\n",
       "      <td>JP</td>\n",
       "      <td>S</td>\n",
       "    </tr>\n",
       "    <tr>\n",
       "      <th>2</th>\n",
       "      <td>2020</td>\n",
       "      <td>SE</td>\n",
       "      <td>FT</td>\n",
       "      <td>Big Data Engineer</td>\n",
       "      <td>85000</td>\n",
       "      <td>GBP</td>\n",
       "      <td>109024</td>\n",
       "      <td>GB</td>\n",
       "      <td>50</td>\n",
       "      <td>GB</td>\n",
       "      <td>M</td>\n",
       "    </tr>\n",
       "    <tr>\n",
       "      <th>3</th>\n",
       "      <td>2020</td>\n",
       "      <td>MI</td>\n",
       "      <td>FT</td>\n",
       "      <td>Product Data Analyst</td>\n",
       "      <td>20000</td>\n",
       "      <td>USD</td>\n",
       "      <td>20000</td>\n",
       "      <td>HN</td>\n",
       "      <td>0</td>\n",
       "      <td>HN</td>\n",
       "      <td>S</td>\n",
       "    </tr>\n",
       "    <tr>\n",
       "      <th>4</th>\n",
       "      <td>2020</td>\n",
       "      <td>SE</td>\n",
       "      <td>FT</td>\n",
       "      <td>Machine Learning Engineer</td>\n",
       "      <td>150000</td>\n",
       "      <td>USD</td>\n",
       "      <td>150000</td>\n",
       "      <td>US</td>\n",
       "      <td>50</td>\n",
       "      <td>US</td>\n",
       "      <td>L</td>\n",
       "    </tr>\n",
       "  </tbody>\n",
       "</table>\n",
       "</div>"
      ],
      "text/plain": [
       "   work_year experience_level employment_type                   job_title  \\\n",
       "0       2020               MI              FT              Data Scientist   \n",
       "1       2020               SE              FT  Machine Learning Scientist   \n",
       "2       2020               SE              FT           Big Data Engineer   \n",
       "3       2020               MI              FT        Product Data Analyst   \n",
       "4       2020               SE              FT   Machine Learning Engineer   \n",
       "\n",
       "   salary salary_currency  salary_in_usd employee_residence  remote_ratio  \\\n",
       "0   70000             EUR          79833                 DE             0   \n",
       "1  260000             USD         260000                 JP             0   \n",
       "2   85000             GBP         109024                 GB            50   \n",
       "3   20000             USD          20000                 HN             0   \n",
       "4  150000             USD         150000                 US            50   \n",
       "\n",
       "  company_location company_size  \n",
       "0               DE            L  \n",
       "1               JP            S  \n",
       "2               GB            M  \n",
       "3               HN            S  \n",
       "4               US            L  "
      ]
     },
     "metadata": {},
     "output_type": "display_data"
    },
    {
     "name": "stdout",
     "output_type": "stream",
     "text": [
      "Имеется 607 строк данных, и 11 признаков\n"
     ]
    }
   ],
   "source": [
    "# Произведем чтение данных и выведем первые 5 строк для изучения\n",
    "\n",
    "data = pd.read_csv('data/ds_salaries_SF.csv', index_col = 'Unnamed: 0')\n",
    "\n",
    "display(data.head())\n",
    "\n",
    "print('Имеется {} строк данных, и {} признаков'.\n",
    "      format(data.shape[0], data.shape[1]))"
   ]
  },
  {
   "cell_type": "markdown",
   "metadata": {},
   "source": [
    "Данные содеражат следующие столбцы: \n",
    "\n",
    "- **work_year** - Год, в котором была выплачена зарплата.\n",
    "- **experience_level** -\tОпыт работы на этой должности в течение года со следующими возможными значениями:\n",
    "    * EN — Entry-level/Junior;\n",
    "    * MI — Mid-level/Intermediate;\n",
    "    * SE — Senior-level/Expert;\n",
    "    * EX — Executive-level/Director.\n",
    "- **employment_type** -\tТип трудоустройства для этой роли:\n",
    "    * PT — неполный рабочий день;\n",
    "    * FT — полный рабочий день;\n",
    "    * CT — контракт;\n",
    "    * FL — фриланс.\n",
    "- **job_title** -\tРоль, в которой соискатель работал в течение года.\n",
    "- **salary** -\tОбщая выплаченная валовая сумма заработной платы.\n",
    "- **salary_currency** -\tВалюта выплачиваемой заработной платы в виде кода валюты ISO 4217.\n",
    " - **salary_in_usd** -\tЗарплата в долларах США (валютный курс, делённый на среднее значение курса доллара США за соответствующий год через fxdata.foorilla.com).\n",
    "- **employee_residence** -\tОсновная страна проживания сотрудника в течение рабочего года в виде кода страны ISO 3166.\n",
    "- **remote_ratio** -\tОбщий объём работы, выполняемой удалённо. Возможные значения:\n",
    "    * 0 — удалённой работы нет (менее 20 %);\n",
    "    * 50 — частично удалённая работа;\n",
    "    * 100 — полностью удалённая работа (более 80 %).\n",
    "- **company_location** -\tСтрана главного офиса работодателя или филиала по контракту в виде кода страны ISO 3166.\n",
    "- **company_size** -\tСреднее количество людей, работавших в компании в течение года:\n",
    "    * S — менее 50 сотрудников (небольшая компания);\n",
    "    * M — от 50 до 250 сотрудников (средняя компания);\n",
    "    * L — более 250 сотрудников (крупная компания)."
   ]
  },
  {
   "cell_type": "code",
   "execution_count": 41,
   "metadata": {},
   "outputs": [
    {
     "name": "stdout",
     "output_type": "stream",
     "text": [
      "Пропусков нет\n",
      "Имелись дубликаты в количестве 42 шт. Данные очищены от дубликатов.\n"
     ]
    }
   ],
   "source": [
    "# Произведем проверку наличия пропусков \n",
    "\n",
    "null_cols = data.isnull().sum()\n",
    "data_null_cols = null_cols[null_cols>0]\n",
    "\n",
    "if data_null_cols.shape[0] != 0:\n",
    "    print('Имеются пропуски, нужна обработка')\n",
    "else:\n",
    "    print('Пропусков нет')\n",
    "\n",
    "\n",
    "# Произведем поиск и удаление дубликатов (при наличии) \n",
    "    \n",
    "data_dupl = data[data.duplicated()]\n",
    "\n",
    "if data_dupl.shape[0] != 0:\n",
    "    data = data.drop_duplicates()\n",
    "    print('Имелись дубликаты в количестве {} шт. ' \n",
    "        'Данные очищены от дубликатов.'.format(data_dupl.shape[0]))\n",
    "\n",
    "else:\n",
    "    print('Дубликатов нет')"
   ]
  },
  {
   "cell_type": "code",
   "execution_count": 42,
   "metadata": {},
   "outputs": [],
   "source": [
    "# Произведем очистку данных от неинформативных признаков\n",
    "\n",
    "data = data.drop('salary', axis=1)\n",
    "data = data.drop('salary_currency', axis=1)\n"
   ]
  },
  {
   "cell_type": "markdown",
   "metadata": {},
   "source": [
    "#### Описательный анализ данных"
   ]
  },
  {
   "cell_type": "markdown",
   "metadata": {},
   "source": [
    "Перейдем теперь к структуре DataFrame, ознакомимся с типами представленных данных, выведем очищенный DataFrame для анализа возможных методов преобразования данных или создания новых признаков"
   ]
  },
  {
   "cell_type": "code",
   "execution_count": 43,
   "metadata": {},
   "outputs": [
    {
     "name": "stdout",
     "output_type": "stream",
     "text": [
      "<class 'pandas.core.frame.DataFrame'>\n",
      "Index: 565 entries, 0 to 606\n",
      "Data columns (total 9 columns):\n",
      " #   Column              Non-Null Count  Dtype \n",
      "---  ------              --------------  ----- \n",
      " 0   work_year           565 non-null    int64 \n",
      " 1   experience_level    565 non-null    object\n",
      " 2   employment_type     565 non-null    object\n",
      " 3   job_title           565 non-null    object\n",
      " 4   salary_in_usd       565 non-null    int64 \n",
      " 5   employee_residence  565 non-null    object\n",
      " 6   remote_ratio        565 non-null    int64 \n",
      " 7   company_location    565 non-null    object\n",
      " 8   company_size        565 non-null    object\n",
      "dtypes: int64(3), object(6)\n",
      "memory usage: 44.1+ KB\n"
     ]
    }
   ],
   "source": [
    "data.info()"
   ]
  },
  {
   "cell_type": "markdown",
   "metadata": {},
   "source": [
    "Выведем статистическую информацию по признакам категории object:"
   ]
  },
  {
   "cell_type": "code",
   "execution_count": 44,
   "metadata": {},
   "outputs": [
    {
     "data": {
      "text/html": [
       "<div>\n",
       "<style scoped>\n",
       "    .dataframe tbody tr th:only-of-type {\n",
       "        vertical-align: middle;\n",
       "    }\n",
       "\n",
       "    .dataframe tbody tr th {\n",
       "        vertical-align: top;\n",
       "    }\n",
       "\n",
       "    .dataframe thead th {\n",
       "        text-align: right;\n",
       "    }\n",
       "</style>\n",
       "<table border=\"1\" class=\"dataframe\">\n",
       "  <thead>\n",
       "    <tr style=\"text-align: right;\">\n",
       "      <th></th>\n",
       "      <th>experience_level</th>\n",
       "      <th>employment_type</th>\n",
       "      <th>job_title</th>\n",
       "      <th>employee_residence</th>\n",
       "      <th>company_location</th>\n",
       "      <th>company_size</th>\n",
       "    </tr>\n",
       "  </thead>\n",
       "  <tbody>\n",
       "    <tr>\n",
       "      <th>count</th>\n",
       "      <td>565</td>\n",
       "      <td>565</td>\n",
       "      <td>565</td>\n",
       "      <td>565</td>\n",
       "      <td>565</td>\n",
       "      <td>565</td>\n",
       "    </tr>\n",
       "    <tr>\n",
       "      <th>unique</th>\n",
       "      <td>4</td>\n",
       "      <td>4</td>\n",
       "      <td>50</td>\n",
       "      <td>57</td>\n",
       "      <td>50</td>\n",
       "      <td>3</td>\n",
       "    </tr>\n",
       "    <tr>\n",
       "      <th>top</th>\n",
       "      <td>SE</td>\n",
       "      <td>FT</td>\n",
       "      <td>Data Scientist</td>\n",
       "      <td>US</td>\n",
       "      <td>US</td>\n",
       "      <td>M</td>\n",
       "    </tr>\n",
       "    <tr>\n",
       "      <th>freq</th>\n",
       "      <td>243</td>\n",
       "      <td>546</td>\n",
       "      <td>130</td>\n",
       "      <td>295</td>\n",
       "      <td>318</td>\n",
       "      <td>290</td>\n",
       "    </tr>\n",
       "  </tbody>\n",
       "</table>\n",
       "</div>"
      ],
      "text/plain": [
       "       experience_level employment_type       job_title employee_residence  \\\n",
       "count               565             565             565                565   \n",
       "unique                4               4              50                 57   \n",
       "top                  SE              FT  Data Scientist                 US   \n",
       "freq                243             546             130                295   \n",
       "\n",
       "       company_location company_size  \n",
       "count               565          565  \n",
       "unique               50            3  \n",
       "top                  US            M  \n",
       "freq                318          290  "
      ]
     },
     "execution_count": 44,
     "metadata": {},
     "output_type": "execute_result"
    }
   ],
   "source": [
    "data.describe(include='object')"
   ]
  },
  {
   "cell_type": "markdown",
   "metadata": {},
   "source": [
    "Мы видим, что часть признаков, таких как job_title, employee_residence, company_location требуют дальнешей обработки, т.к. количество уникальных значений слишком велико."
   ]
  },
  {
   "cell_type": "markdown",
   "metadata": {},
   "source": [
    "\n",
    "Выведем статистическую информацию по признакам категории int64:\n"
   ]
  },
  {
   "cell_type": "code",
   "execution_count": 45,
   "metadata": {},
   "outputs": [
    {
     "data": {
      "text/html": [
       "<div>\n",
       "<style scoped>\n",
       "    .dataframe tbody tr th:only-of-type {\n",
       "        vertical-align: middle;\n",
       "    }\n",
       "\n",
       "    .dataframe tbody tr th {\n",
       "        vertical-align: top;\n",
       "    }\n",
       "\n",
       "    .dataframe thead th {\n",
       "        text-align: right;\n",
       "    }\n",
       "</style>\n",
       "<table border=\"1\" class=\"dataframe\">\n",
       "  <thead>\n",
       "    <tr style=\"text-align: right;\">\n",
       "      <th></th>\n",
       "      <th>work_year</th>\n",
       "      <th>salary_in_usd</th>\n",
       "      <th>remote_ratio</th>\n",
       "    </tr>\n",
       "  </thead>\n",
       "  <tbody>\n",
       "    <tr>\n",
       "      <th>count</th>\n",
       "      <td>565.000000</td>\n",
       "      <td>565.000000</td>\n",
       "      <td>565.000000</td>\n",
       "    </tr>\n",
       "    <tr>\n",
       "      <th>mean</th>\n",
       "      <td>2021.364602</td>\n",
       "      <td>110610.343363</td>\n",
       "      <td>69.911504</td>\n",
       "    </tr>\n",
       "    <tr>\n",
       "      <th>std</th>\n",
       "      <td>0.698138</td>\n",
       "      <td>72280.702792</td>\n",
       "      <td>40.900666</td>\n",
       "    </tr>\n",
       "    <tr>\n",
       "      <th>min</th>\n",
       "      <td>2020.000000</td>\n",
       "      <td>2859.000000</td>\n",
       "      <td>0.000000</td>\n",
       "    </tr>\n",
       "    <tr>\n",
       "      <th>25%</th>\n",
       "      <td>2021.000000</td>\n",
       "      <td>60757.000000</td>\n",
       "      <td>50.000000</td>\n",
       "    </tr>\n",
       "    <tr>\n",
       "      <th>50%</th>\n",
       "      <td>2021.000000</td>\n",
       "      <td>100000.000000</td>\n",
       "      <td>100.000000</td>\n",
       "    </tr>\n",
       "    <tr>\n",
       "      <th>75%</th>\n",
       "      <td>2022.000000</td>\n",
       "      <td>150000.000000</td>\n",
       "      <td>100.000000</td>\n",
       "    </tr>\n",
       "    <tr>\n",
       "      <th>max</th>\n",
       "      <td>2022.000000</td>\n",
       "      <td>600000.000000</td>\n",
       "      <td>100.000000</td>\n",
       "    </tr>\n",
       "  </tbody>\n",
       "</table>\n",
       "</div>"
      ],
      "text/plain": [
       "         work_year  salary_in_usd  remote_ratio\n",
       "count   565.000000     565.000000    565.000000\n",
       "mean   2021.364602  110610.343363     69.911504\n",
       "std       0.698138   72280.702792     40.900666\n",
       "min    2020.000000    2859.000000      0.000000\n",
       "25%    2021.000000   60757.000000     50.000000\n",
       "50%    2021.000000  100000.000000    100.000000\n",
       "75%    2022.000000  150000.000000    100.000000\n",
       "max    2022.000000  600000.000000    100.000000"
      ]
     },
     "execution_count": 45,
     "metadata": {},
     "output_type": "execute_result"
    }
   ],
   "source": [
    "data.describe(include='int64')"
   ]
  },
  {
   "cell_type": "markdown",
   "metadata": {},
   "source": [
    "Статистическая информация по таким признакам как work_year и remote_ratio в данном случае не представляет особого интереса. Далее в исследовании тип данных будет изменен. \n",
    "\n",
    "Статистическая информавция по признаку заработной платы дает нам понимание медианной и средней заработных плат, 100.000 и 110.610 USD соответственно. Диапазон между первым и третьим квинтилями - от 60.757 до 150.000 USD."
   ]
  },
  {
   "cell_type": "markdown",
   "metadata": {},
   "source": [
    "Изучим признаки **employee_residence** и **company_location** более подробно для формирования понимания того, как лучше их преобразовать в дальнейшем. "
   ]
  },
  {
   "cell_type": "code",
   "execution_count": 46,
   "metadata": {},
   "outputs": [
    {
     "data": {
      "text/plain": [
       "employee_residence\n",
       "US    0.522124\n",
       "GB    0.076106\n",
       "IN    0.053097\n",
       "CA    0.047788\n",
       "DE    0.042478\n",
       "FR    0.031858\n",
       "ES    0.026549\n",
       "Name: proportion, dtype: float64"
      ]
     },
     "metadata": {},
     "output_type": "display_data"
    },
    {
     "data": {
      "text/plain": [
       "company_location\n",
       "US    0.562832\n",
       "GB    0.081416\n",
       "CA    0.049558\n",
       "DE    0.047788\n",
       "IN    0.042478\n",
       "FR    0.026549\n",
       "ES    0.024779\n",
       "Name: proportion, dtype: float64"
      ]
     },
     "metadata": {},
     "output_type": "display_data"
    }
   ],
   "source": [
    "display(data['employee_residence'].value_counts(normalize=True)[0:7])\n",
    "display(data['company_location'].value_counts(normalize=True)[0:7])"
   ]
  },
  {
   "cell_type": "markdown",
   "metadata": {},
   "source": [
    "В обоих признаках лидером по количеству упоминаний является США - более половины. Расшифровка кодировки стран топ-7: \n",
    "* US - США\n",
    "* GB - Великобритания \n",
    "* IN - Индия \n",
    "* CA - Канада \n",
    "* DE - Германия \n",
    "* FR - Франция \n",
    "* ES - Испания"
   ]
  },
  {
   "cell_type": "markdown",
   "metadata": {},
   "source": [
    "# Разведывательный анализ данных\n",
    "\n",
    "Рассмотрим сначала очевидные признаки, которые отнесем к **категориальным**:\n",
    "\n",
    "- experience_level\n",
    "- employment_type\n",
    "- company_size\n",
    "\n",
    "Теперь рассмотрим признаки, которые следует так же отнести к **категориальным**, но они требуют дальнейшего преобразования:\n",
    "\n",
    "- **work_year**:\n",
    "\n",
    "    В наших данных всего три года, представления этих данных в целочисленном виде не имеет смысла\n",
    "\n",
    "- **remote_ratio**:\n",
    "\n",
    "    Аналогично, данный признак говорит нам о том, работает ли сотрудник удаленно, гибридно или офисно, это относится к категориальному признаку\n",
    "\n",
    "- **job_title**:\n",
    "\n",
    "    С этим признаком сложнее, имеется 50 уникальных значений при 565 строках. Для анализа такие данные непригодны. С ними поступим следующим образом: разобьём все позиции на три категории: DS - Data Science, DE - Data Engineering, DA - Data Analytic\n",
    "\n",
    "- **employee_residence**:\n",
    "\n",
    "    Аналогично с признаком job_title напрашивается необходимость укрупнения приведенных данных. \n",
    "    При выборе метода преобразования можно воспользоваться двумя вариантами, вариант первый: преобразовать данные по виду топ-5 + остальные, но в этом случае под \"остальные\" попадут 20 процентов значений. Поэтому, пойдем другим путем.\n",
    "    \n",
    "    Т.к. данные представлены в виде кодировки ISO 3166 alpha_2, мы можем воспользоваться сторонней библиотекой *country_converter* для преобразования страны в регион. Единственное, что стоит сделать вне этой библиотеки - это обратить внимание на страны бывшего СССР, т.к. все-таки развитие стран отлично от западно-европейского, и, возможно, имеется своя специфика. Поэтому, страны бывшего СССР будут фигурировать в дальнейшем как *ex_USSR*. \n",
    "    При этом, в дальнейшем мы будем держать в уме, что когда речь идет о значении America - это США в бОльшей части, когда Europe - это Великобритания + Германия + Франция + Испания, а когда Asia - Индия. \n",
    "\n",
    "- **company_location**:\n",
    "\n",
    "    Все рассуждения аналогичны признаку employee_residence.  \n",
    "      \n",
    "К **числовым признакам** можно отнести только уровень заработной платы salary_in_usd.\n",
    "\n"
   ]
  },
  {
   "cell_type": "markdown",
   "metadata": {},
   "source": [
    "Приступим к преобразованию данных в нашем датасете. "
   ]
  },
  {
   "cell_type": "code",
   "execution_count": 47,
   "metadata": {},
   "outputs": [],
   "source": [
    "# Преобразования названия должности в сферу деятельности \n",
    "\n",
    "# Функция преобразования описания работы в сферу работы\n",
    "\n",
    "def job_field(x):\n",
    "   \n",
    "    x = x.replace(' ', '')\n",
    "    x = x.lower()\n",
    "    \n",
    "    if 'scien' in x or \\\n",
    "        'machin' in x or \\\n",
    "        'comput' in x or \\\n",
    "        'ml' in x or \\\n",
    "        'cv' in x or \\\n",
    "        'nlp' in x or \\\n",
    "        'ai' in x:\n",
    "\n",
    "        return 'DS'\n",
    "\n",
    "    if 'analy' in x:\n",
    "\n",
    "        return 'DA'\n",
    "\n",
    "    else:\n",
    "\n",
    "        return 'DE' \n",
    "    \n",
    "# Применим функцию и переименуем признак \n",
    "\n",
    "data['job_title'] = data['job_title'].apply(job_field)\n",
    "\n",
    "data = data.rename(columns = {'job_title': 'job_field'})\n",
    "\n",
    "\n",
    "# Преобразования страны в регион \n",
    "\n",
    "# Cписок стран бывшего СССР\n",
    "\n",
    "ex_ussr_list = ['AM', 'AZ', 'BY', 'GE', 'KZ', \n",
    "                'KG', 'LV', 'LT', 'MD', 'TJ', \n",
    "                'TM', 'UZ', 'UA', 'EE', 'RU']\n",
    "\n",
    "\n",
    "# Функция преобразования страны в регион\n",
    "\n",
    "def continent_filling(x):\n",
    "    \n",
    "    if x in ex_ussr_list:\n",
    "        \n",
    "        return 'ex_USSR'\n",
    "    \n",
    "    else:\n",
    "        converter = coco.CountryConverter()\n",
    "        result = converter.convert(names = x, src='ISO2', to='continent')\n",
    "        \n",
    "        return result\n",
    "\n",
    "# Применим функцию\n",
    "\n",
    "data['company_location'] = \\\n",
    "    data['company_location'].apply(continent_filling)\n",
    "    \n",
    "data['employee_residence'] = \\\n",
    "    data['employee_residence'].apply(continent_filling)\n",
    "\n",
    "\n",
    "# Обновим индексы и сохраним DF в новый файл \n",
    "# Необходимость сохранения нового файла вызвана долгой обработкой \n",
    "# при использовании библиотеки country_converter \n",
    "# В дальнейшем целесообразно преобразовывать и кодировать новый DF /\n",
    "\n",
    "\n",
    "data.reset_index()\n",
    "\n",
    "data.to_csv('data/ds_salaries_upd.csv', index=False)"
   ]
  },
  {
   "cell_type": "markdown",
   "metadata": {},
   "source": [
    "# ЗДЕСЬ ВСЕ"
   ]
  },
  {
   "cell_type": "code",
   "execution_count": 48,
   "metadata": {},
   "outputs": [
    {
     "name": "stdout",
     "output_type": "stream",
     "text": [
      "<class 'pandas.core.frame.DataFrame'>\n",
      "RangeIndex: 565 entries, 0 to 564\n",
      "Data columns (total 9 columns):\n",
      " #   Column              Non-Null Count  Dtype \n",
      "---  ------              --------------  ----- \n",
      " 0   work_year           565 non-null    int64 \n",
      " 1   experience_level    565 non-null    object\n",
      " 2   employment_type     565 non-null    object\n",
      " 3   job_field           565 non-null    object\n",
      " 4   salary_in_usd       565 non-null    int64 \n",
      " 5   employee_residence  565 non-null    object\n",
      " 6   remote_ratio        565 non-null    int64 \n",
      " 7   company_location    565 non-null    object\n",
      " 8   company_size        565 non-null    object\n",
      "dtypes: int64(3), object(6)\n",
      "memory usage: 39.9+ KB\n"
     ]
    }
   ],
   "source": [
    "data_upd = pd.read_csv('data/ds_salaries_upd.csv')\n",
    "\n",
    "# Произведем преобразование признаков в категориальные \n",
    "\n",
    "for elem in data.columns:\n",
    "    if elem == 'salary_in_usd':\n",
    "        pass\n",
    "    else:\n",
    "        data['{}'.format(elem)] = data['{}'.format(elem)].astype('category')\n",
    "\n",
    "data_upd.describe(exclude='int64')\n",
    "data_upd.info()"
   ]
  },
  {
   "cell_type": "code",
   "execution_count": 49,
   "metadata": {},
   "outputs": [],
   "source": [
    "jobs = ['Data Scientist', 'Machine Learning Scientist',\n",
    "       'Big Data Engineer', 'Product Data Analyst',\n",
    "       'Machine Learning Engineer', 'Data Analyst', 'Lead Data Scientist',\n",
    "       'Business Data Analyst', 'Lead Data Engineer', 'Lead Data Analyst',\n",
    "       'Data Engineer', 'Data Science Consultant', 'BI Data Analyst',\n",
    "       'Director of Data Science', 'Research Scientist',\n",
    "       'Machine Learning Manager', 'Data Engineering Manager',\n",
    "       'Machine Learning Infrastructure Engineer', 'ML Engineer',\n",
    "       'AI Scientist', 'Computer Vision Engineer',\n",
    "       'Principal Data Scientist', 'Data Science Manager', 'Head of Data',\n",
    "       '3D Computer Vision Researcher', 'Data Analytics Engineer',\n",
    "       'Applied Data Scientist', 'Marketing Data Analyst',\n",
    "       'Cloud Data Engineer', 'Financial Data Analyst',\n",
    "       'Computer Vision Software Engineer',\n",
    "       'Director of Data Engineering', 'Data Science Engineer',\n",
    "       'Principal Data Engineer', 'Machine Learning Developer',\n",
    "       'Applied Machine Learning Scientist', 'Data Analytics Manager',\n",
    "       'Head of Data Science', 'Data Specialist', 'Data Architect',\n",
    "       'Finance Data Analyst', 'Principal Data Analyst',\n",
    "       'Big Data Architect', 'Staff Data Scientist', 'Analytics Engineer',\n",
    "       'ETL Developer', 'Head of Machine Learning', 'NLP Engineer',\n",
    "       'Lead Machine Learning Engineer', 'Data Analytics Lead']\n",
    "\n",
    "str_1 = 'Big Data Architect'\n",
    "str_1 = str_1.replace(' ', '')\n",
    "str_1 = str_1.lower()\n",
    "str_1\n",
    "\n",
    "\n",
    "\n",
    "def job_field(x):\n",
    "   \n",
    "    x = x.replace(' ', '')\n",
    "    x = x.lower()\n",
    "    \n",
    "    if 'scien' in x or \\\n",
    "        'machin' in x or \\\n",
    "        'comput' in x or \\\n",
    "        'ml' in x or \\\n",
    "        'cv' in x or \\\n",
    "        'nlp' in x or \\\n",
    "        'ai' in x:\n",
    "\n",
    "        return 'DS'\n",
    "\n",
    "    if 'analy' in x:\n",
    "\n",
    "        return 'DA'\n",
    "\n",
    "    else:\n",
    "\n",
    "        return 'DE' \n"
   ]
  },
  {
   "cell_type": "code",
   "execution_count": 50,
   "metadata": {},
   "outputs": [
    {
     "data": {
      "text/html": [
       "<div>\n",
       "<style scoped>\n",
       "    .dataframe tbody tr th:only-of-type {\n",
       "        vertical-align: middle;\n",
       "    }\n",
       "\n",
       "    .dataframe tbody tr th {\n",
       "        vertical-align: top;\n",
       "    }\n",
       "\n",
       "    .dataframe thead th {\n",
       "        text-align: right;\n",
       "    }\n",
       "</style>\n",
       "<table border=\"1\" class=\"dataframe\">\n",
       "  <thead>\n",
       "    <tr style=\"text-align: right;\">\n",
       "      <th></th>\n",
       "      <th>salary_in_usd</th>\n",
       "    </tr>\n",
       "  </thead>\n",
       "  <tbody>\n",
       "    <tr>\n",
       "      <th>count</th>\n",
       "      <td>565.000000</td>\n",
       "    </tr>\n",
       "    <tr>\n",
       "      <th>mean</th>\n",
       "      <td>110610.343363</td>\n",
       "    </tr>\n",
       "    <tr>\n",
       "      <th>std</th>\n",
       "      <td>72280.702792</td>\n",
       "    </tr>\n",
       "    <tr>\n",
       "      <th>min</th>\n",
       "      <td>2859.000000</td>\n",
       "    </tr>\n",
       "    <tr>\n",
       "      <th>25%</th>\n",
       "      <td>60757.000000</td>\n",
       "    </tr>\n",
       "    <tr>\n",
       "      <th>50%</th>\n",
       "      <td>100000.000000</td>\n",
       "    </tr>\n",
       "    <tr>\n",
       "      <th>75%</th>\n",
       "      <td>150000.000000</td>\n",
       "    </tr>\n",
       "    <tr>\n",
       "      <th>max</th>\n",
       "      <td>600000.000000</td>\n",
       "    </tr>\n",
       "  </tbody>\n",
       "</table>\n",
       "</div>"
      ],
      "text/plain": [
       "       salary_in_usd\n",
       "count     565.000000\n",
       "mean   110610.343363\n",
       "std     72280.702792\n",
       "min      2859.000000\n",
       "25%     60757.000000\n",
       "50%    100000.000000\n",
       "75%    150000.000000\n",
       "max    600000.000000"
      ]
     },
     "execution_count": 50,
     "metadata": {},
     "output_type": "execute_result"
    }
   ],
   "source": [
    "data.describe(include='int64')"
   ]
  },
  {
   "cell_type": "markdown",
   "metadata": {},
   "source": [
    "Изучив структруру и типы данных "
   ]
  },
  {
   "cell_type": "code",
   "execution_count": 51,
   "metadata": {},
   "outputs": [
    {
     "name": "stdout",
     "output_type": "stream",
     "text": [
      "<class 'pandas.core.frame.DataFrame'>\n",
      "Index: 565 entries, 0 to 606\n",
      "Data columns (total 9 columns):\n",
      " #   Column              Non-Null Count  Dtype   \n",
      "---  ------              --------------  -----   \n",
      " 0   work_year           565 non-null    category\n",
      " 1   experience_level    565 non-null    category\n",
      " 2   employment_type     565 non-null    category\n",
      " 3   job_field           565 non-null    category\n",
      " 4   salary_in_usd       565 non-null    int64   \n",
      " 5   employee_residence  565 non-null    category\n",
      " 6   remote_ratio        565 non-null    category\n",
      " 7   company_location    565 non-null    category\n",
      " 8   company_size        565 non-null    category\n",
      "dtypes: category(8), int64(1)\n",
      "memory usage: 14.6 KB\n"
     ]
    },
    {
     "data": {
      "text/html": [
       "<div>\n",
       "<style scoped>\n",
       "    .dataframe tbody tr th:only-of-type {\n",
       "        vertical-align: middle;\n",
       "    }\n",
       "\n",
       "    .dataframe tbody tr th {\n",
       "        vertical-align: top;\n",
       "    }\n",
       "\n",
       "    .dataframe thead th {\n",
       "        text-align: right;\n",
       "    }\n",
       "</style>\n",
       "<table border=\"1\" class=\"dataframe\">\n",
       "  <thead>\n",
       "    <tr style=\"text-align: right;\">\n",
       "      <th></th>\n",
       "      <th>work_year</th>\n",
       "      <th>experience_level</th>\n",
       "      <th>employment_type</th>\n",
       "      <th>job_field</th>\n",
       "      <th>employee_residence</th>\n",
       "      <th>remote_ratio</th>\n",
       "      <th>company_location</th>\n",
       "      <th>company_size</th>\n",
       "    </tr>\n",
       "  </thead>\n",
       "  <tbody>\n",
       "    <tr>\n",
       "      <th>count</th>\n",
       "      <td>565</td>\n",
       "      <td>565</td>\n",
       "      <td>565</td>\n",
       "      <td>565</td>\n",
       "      <td>565</td>\n",
       "      <td>565</td>\n",
       "      <td>565</td>\n",
       "      <td>565</td>\n",
       "    </tr>\n",
       "    <tr>\n",
       "      <th>unique</th>\n",
       "      <td>3</td>\n",
       "      <td>4</td>\n",
       "      <td>4</td>\n",
       "      <td>3</td>\n",
       "      <td>6</td>\n",
       "      <td>3</td>\n",
       "      <td>6</td>\n",
       "      <td>3</td>\n",
       "    </tr>\n",
       "    <tr>\n",
       "      <th>top</th>\n",
       "      <td>2022</td>\n",
       "      <td>SE</td>\n",
       "      <td>FT</td>\n",
       "      <td>DS</td>\n",
       "      <td>America</td>\n",
       "      <td>100</td>\n",
       "      <td>America</td>\n",
       "      <td>M</td>\n",
       "    </tr>\n",
       "    <tr>\n",
       "      <th>freq</th>\n",
       "      <td>278</td>\n",
       "      <td>243</td>\n",
       "      <td>546</td>\n",
       "      <td>279</td>\n",
       "      <td>336</td>\n",
       "      <td>346</td>\n",
       "      <td>355</td>\n",
       "      <td>290</td>\n",
       "    </tr>\n",
       "  </tbody>\n",
       "</table>\n",
       "</div>"
      ],
      "text/plain": [
       "        work_year experience_level employment_type job_field  \\\n",
       "count         565              565             565       565   \n",
       "unique          3                4               4         3   \n",
       "top          2022               SE              FT        DS   \n",
       "freq          278              243             546       279   \n",
       "\n",
       "       employee_residence  remote_ratio company_location company_size  \n",
       "count                 565           565              565          565  \n",
       "unique                  6             3                6            3  \n",
       "top               America           100          America            M  \n",
       "freq                  336           346              355          290  "
      ]
     },
     "execution_count": 51,
     "metadata": {},
     "output_type": "execute_result"
    }
   ],
   "source": [
    "data['work_year'] = data['work_year'].astype('category')\n",
    "data.info()\n",
    "data.describe(exclude='int64')\n",
    "\n"
   ]
  },
  {
   "cell_type": "code",
   "execution_count": 52,
   "metadata": {},
   "outputs": [
    {
     "name": "stdout",
     "output_type": "stream",
     "text": [
      "Количество уникальных значений признаков\n",
      "work_year:  3\n",
      "experience_level:  4\n",
      "employment_type:  4\n",
      "job_field:  3\n",
      "salary_in_usd:  369\n",
      "employee_residence:  6\n",
      "remote_ratio:  3\n",
      "company_location:  6\n",
      "company_size:  3\n"
     ]
    }
   ],
   "source": [
    "print('Количество уникальных значений признаков')\n",
    "for title in data.columns:\n",
    "    print(f'{title}: ', data['{}'.format(title)].nunique())"
   ]
  },
  {
   "cell_type": "code",
   "execution_count": 53,
   "metadata": {},
   "outputs": [],
   "source": [
    "# data['work_year'] = data['work_year'].astype('category')\n",
    "# data['experience_level'] = data['experience_level'].astype('category')\n",
    "# data['employment_type'] = data['employment_type'].astype('category')\n",
    "# data['work_year'] = data['work_year'].astype('category')\n",
    "# data['work_year'] = data['work_year'].astype('category')\n",
    "\n"
   ]
  },
  {
   "cell_type": "markdown",
   "metadata": {},
   "source": [
    "**Промежуточный вывод:**\n",
    "\n",
    "В ходе предварительной обработки данных мы выяснили, что отсутствуют незаполненные признаки. Так же, обнаружили 42 дубликата и избавились от них. Так же, произвели очистку данных от неинформативных признаков, а именно: значение зарплаты и валюта зарплаты (salary, salary_currency). Причиной этому послужило наличие признака \"salary_in_usd\", который уже унифицирован для оценки уровня зароботных плат сотрудников и его хватит для решения поставленных задач. \n"
   ]
  },
  {
   "cell_type": "code",
   "execution_count": 23,
   "metadata": {},
   "outputs": [
    {
     "data": {
      "text/plain": [
       "69"
      ]
     },
     "execution_count": 23,
     "metadata": {},
     "output_type": "execute_result"
    }
   ],
   "source": [
    "stroka = \"_, p, _, _ = stats.chi2_contingency(data_remote_rat_year.T.iloc[::2])\"\n",
    "\n",
    "\n",
    "len(stroka)\n",
    "\n"
   ]
  },
  {
   "cell_type": "code",
   "execution_count": 55,
   "metadata": {},
   "outputs": [],
   "source": [
    "# import country_converter as coco\n",
    "\n",
    "\n",
    "# ex_ussr_list = ['AM', 'AZ', 'BY', 'GE', 'KZ', \n",
    "#                 'KG', 'LV', 'LT', 'MD', 'TJ', \n",
    "#                 'TM', 'UZ', 'UA', 'EE', 'RU']\n",
    "\n",
    "# copy_data = data.copy()\n",
    "# copy_data = copy_data.reset_index()\n",
    "\n",
    "\n",
    "# def continent_filling(x):\n",
    "    \n",
    "#     if x in ex_ussr_list:\n",
    "        \n",
    "#         return 'ex_ussr'\n",
    "    \n",
    "#     else:\n",
    "#         converter = coco.CountryConverter()\n",
    "#         result = converter.convert(names = x, src='ISO2', to='continent')\n",
    "        \n",
    "#         return result\n",
    "\n",
    "# copy_data['company_location'] = \\\n",
    "#     copy_data['company_location'].apply(continent_filling)\n",
    "    \n",
    "# copy_data['employee_residence'] = \\\n",
    "#     copy_data['employee_residence'].apply(continent_filling)\n",
    "\n",
    "# display(copy_data)\n",
    "\n",
    "# copy_data['company_location'].nunique()\n"
   ]
  }
 ],
 "metadata": {
  "kernelspec": {
   "display_name": "Python 3",
   "language": "python",
   "name": "python3"
  },
  "language_info": {
   "codemirror_mode": {
    "name": "ipython",
    "version": 3
   },
   "file_extension": ".py",
   "mimetype": "text/x-python",
   "name": "python",
   "nbconvert_exporter": "python",
   "pygments_lexer": "ipython3",
   "version": "3.12.1"
  }
 },
 "nbformat": 4,
 "nbformat_minor": 2
}
