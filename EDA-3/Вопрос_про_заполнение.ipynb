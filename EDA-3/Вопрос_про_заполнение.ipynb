{
 "cells": [
  {
   "cell_type": "code",
   "execution_count": 1,
   "metadata": {},
   "outputs": [
    {
     "name": "stderr",
     "output_type": "stream",
     "text": [
      "<>:11: SyntaxWarning: invalid escape sequence '\\d'\n",
      "<>:11: SyntaxWarning: invalid escape sequence '\\d'\n",
      "C:\\Users\\nitys\\AppData\\Local\\Temp\\ipykernel_23768\\1287484525.py:11: SyntaxWarning: invalid escape sequence '\\d'\n",
      "  regex = '\\d{4}'\n"
     ]
    },
    {
     "data": {
      "text/plain": [
       "39781.0"
      ]
     },
     "execution_count": 1,
     "metadata": {},
     "output_type": "execute_result"
    }
   ],
   "source": [
    "import pandas as pd\n",
    "import re\n",
    "import numpy as np\n",
    "\n",
    "data = pd.read_csv('data/wine_cleared.csv', index_col='Unnamed: 0')\n",
    "\n",
    "data['price_round'] = data['price'].round().astype(int)\n",
    "\n",
    "data\n",
    "\n",
    "regex = '\\d{4}'\n",
    "\n",
    "data['year'] = data['title'].str.findall(regex).str.get(0)\n",
    "\n",
    "data\n",
    "\n",
    "data['is_usa'] = data['country'].apply(lambda x: 1 if x == 'US' else 0)\n",
    "\n",
    "data['country'].value_counts()\n",
    "\n",
    "data['is_france'] = data['country'].apply(lambda x: 1 if x == 'France' else 0)\n",
    "data['is_italy'] = data['country'].apply(lambda x: 1 if x == 'Italy' else 0)\n",
    "\n",
    "data['is_france'].sum()\n",
    "data['is_italy'].sum()\n",
    "\n",
    "def old_wine(year):\n",
    "    try:\n",
    "        year = int(year)\n",
    "        if year < 2010:\n",
    "            return 1\n",
    "        else:\n",
    "            return 0\n",
    "    except:\n",
    "        return None\n",
    "\n",
    "data['old_wine'] = data['year'].apply(old_wine)\n",
    "data['old_wine'].sum()\n",
    "\n"
   ]
  },
  {
   "cell_type": "markdown",
   "metadata": {},
   "source": [
    "**Создание признака locality**"
   ]
  },
  {
   "cell_type": "code",
   "execution_count": 2,
   "metadata": {},
   "outputs": [
    {
     "name": "stderr",
     "output_type": "stream",
     "text": [
      "<>:5: SyntaxWarning: invalid escape sequence '\\('\n",
      "<>:5: SyntaxWarning: invalid escape sequence '\\('\n",
      "C:\\Users\\nitys\\AppData\\Local\\Temp\\ipykernel_20520\\2983431704.py:5: SyntaxWarning: invalid escape sequence '\\('\n",
      "  regex = '\\((.*?)\\)'\n"
     ]
    },
    {
     "data": {
      "text/plain": [
       "108724"
      ]
     },
     "execution_count": 2,
     "metadata": {},
     "output_type": "execute_result"
    }
   ],
   "source": [
    "\n",
    "###\n",
    "### Создание LOCALITY\n",
    "###\n",
    "\n",
    "regex = '\\((.*?)\\)'\n",
    "data['locality'] = data['title'].str.findall(regex).str.get(-1)\n",
    "\n",
    "\n",
    "data[\n",
    "    (data['region_1'] != 'unknown')\n",
    "    &\n",
    "    (data['region_1'] != np.nan)].shape[0]\n",
    "# 108724\n",
    "\n",
    "\n",
    "# Кол-во одинаковых значений признаков locality и region_1 среди заполненных \n",
    "test_df = data[\n",
    "    (data['locality'].isnull() == False) \n",
    "    &\n",
    "    (data['locality'] != 'unknown')\n",
    "    & \n",
    "    (data['locality'] == data['region_1'])\n",
    "    &\n",
    "    (data['region_1'].isnull() == False)\n",
    "    &\n",
    "    (data['region_1'] != 'unknown')\n",
    "    ]\n",
    "\n",
    "test_df.shape[0]\n",
    "# 92928\n",
    "\n",
    "\n",
    "\n",
    "# # В результате заполнения признака locality имеем заполненных признаков\n",
    "\n",
    "data[(data['locality'].isnull() == False)].shape[0]\n",
    "# 119449\n",
    "\n",
    "data[(data['region_1'] != 'unknown') & (data['region_1'].isnull() == False)].shape[0]\n",
    "# 108724"
   ]
  },
  {
   "cell_type": "markdown",
   "metadata": {},
   "source": [
    "**Заполнение признака region_1**"
   ]
  },
  {
   "cell_type": "code",
   "execution_count": 6,
   "metadata": {},
   "outputs": [
    {
     "name": "stderr",
     "output_type": "stream",
     "text": [
      "<>:18: SyntaxWarning: invalid escape sequence '\\('\n",
      "<>:18: SyntaxWarning: invalid escape sequence '\\('\n",
      "C:\\Users\\nitys\\AppData\\Local\\Temp\\ipykernel_23768\\2420253739.py:18: SyntaxWarning: invalid escape sequence '\\('\n",
      "  regex = '\\((.*?)\\)'\n"
     ]
    },
    {
     "name": "stdout",
     "output_type": "stream",
     "text": [
      "Кол-во пропусков region_1:  412\n",
      "Кол-во обработанных пропусков:  0\n"
     ]
    },
    {
     "data": {
      "text/plain": [
       "{'country': 'Italy',\n",
       " 'description': \"Aromas include tropical fruit, broom, brimstone and dried herb. The palate isn't overly expressive, offering unripened apple, citrus and dried sage alongside brisk acidity.\",\n",
       " 'designation': 'Vulkà Bianco',\n",
       " 'points': 87.0,\n",
       " 'price': 35.363389129985535,\n",
       " 'province': 'Sicily & Sardinia',\n",
       " 'region_1': 'Etna',\n",
       " 'taster_name': 'Kerin O’Keefe',\n",
       " 'taster_twitter_handle': '@kerinokeefe',\n",
       " 'title': 'Nicosia 2013 Vulkà Bianco  (Etna)',\n",
       " 'variety': 'White Blend',\n",
       " 'winery': 'Nicosia',\n",
       " 'price_round': 35.0,\n",
       " 'year': '2013',\n",
       " 'is_usa': 0.0,\n",
       " 'is_france': 0.0,\n",
       " 'is_italy': 1.0,\n",
       " 'old_wine': 0.0}"
      ]
     },
     "execution_count": 6,
     "metadata": {},
     "output_type": "execute_result"
    }
   ],
   "source": [
    "\n",
    "##\n",
    "## ОБРАБОТКА REGION_1 \n",
    "##\n",
    "\n",
    "print('Кол-во пропусков region_1: ', \n",
    "      data[(data['region_1'] == 'unknown') \n",
    "           | \n",
    "           (data['region_1'].isnull() == True)].shape[0]\n",
    "      )\n",
    "\n",
    "counter = 0\n",
    "\n",
    "def reg_1_filling(df):\n",
    "    \n",
    "    try: \n",
    "        if (df['region_1'] == 'unknown') or (df['region_1'] is np.nan):\n",
    "            \n",
    "            regex = '\\((.*?)\\)'\n",
    "            df['region_1'] = re.findall(regex, df['title'])[0]\n",
    "            \n",
    "            global counter\n",
    "            counter +=1\n",
    "            \n",
    "            return df\n",
    "\n",
    "        else:\n",
    "            df['region_1'] = df['region_1']\n",
    "            \n",
    "            return df\n",
    "            \n",
    "    except:\n",
    "        pass\n",
    "        \n",
    "data = data.apply(lambda x: reg_1_filling(x), axis = 1)\n",
    "\n",
    "print('Кол-во обработанных пропусков: ', counter)\n",
    "\n",
    "\n",
    "data_reg_1_filled = data[(data['region_1'] != 'unknown') \n",
    "                         & \n",
    "                         (data['region_1'].isnull() == False)\n",
    "                         ]\n",
    "\n",
    "data_reg_1_filled.shape[0]\n",
    "# 129559\n",
    "\n",
    "data.shape[0]\n",
    "# 129971\n",
    "\n",
    "\n",
    "test_ser = data.loc[0]\n",
    "\n",
    "test_dict = dict(test_ser)\n",
    "\n",
    "test_dict"
   ]
  }
 ],
 "metadata": {
  "kernelspec": {
   "display_name": "Python 3",
   "language": "python",
   "name": "python3"
  },
  "language_info": {
   "codemirror_mode": {
    "name": "ipython",
    "version": 3
   },
   "file_extension": ".py",
   "mimetype": "text/x-python",
   "name": "python",
   "nbconvert_exporter": "python",
   "pygments_lexer": "ipython3",
   "version": "3.12.1"
  }
 },
 "nbformat": 4,
 "nbformat_minor": 2
}
