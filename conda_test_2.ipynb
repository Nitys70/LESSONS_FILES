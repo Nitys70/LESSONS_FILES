{
 "cells": [
  {
   "cell_type": "code",
   "execution_count": 1,
   "id": "8e0b646a",
   "metadata": {},
   "outputs": [
    {
     "name": "stdout",
     "output_type": "stream",
     "text": [
      "Python 3.10.16\n"
     ]
    }
   ],
   "source": [
    "!python -V"
   ]
  },
  {
   "cell_type": "code",
   "execution_count": 2,
   "id": "768e3ea0",
   "metadata": {},
   "outputs": [
    {
     "name": "stdout",
     "output_type": "stream",
     "text": [
      "Package            Version\n",
      "------------------ -----------\n",
      "asttokens          3.0.0\n",
      "colorama           0.4.6\n",
      "comm               0.2.2\n",
      "debugpy            1.6.7\n",
      "decorator          5.2.1\n",
      "exceptiongroup     1.2.2\n",
      "executing          2.1.0\n",
      "importlib_metadata 8.6.1\n",
      "ipykernel          6.29.5\n",
      "ipython            8.35.0\n",
      "jedi               0.19.2\n",
      "jupyter_client     8.6.3\n",
      "jupyter_core       5.7.2\n",
      "matplotlib-inline  0.1.7\n",
      "nest_asyncio       1.6.0\n",
      "packaging          24.2\n",
      "parso              0.8.4\n",
      "pickleshare        0.7.5\n",
      "pip                25.0\n",
      "platformdirs       4.3.7\n",
      "prompt_toolkit     3.0.50\n",
      "psutil             5.9.5\n",
      "pure_eval          0.2.3\n",
      "Pygments           2.19.1\n",
      "python-dateutil    2.9.0.post0\n",
      "pywin32            304\n",
      "pyzmq              25.0.2\n",
      "setuptools         75.8.0\n",
      "six                1.17.0\n",
      "stack_data         0.6.3\n",
      "tornado            6.3\n",
      "traitlets          5.14.3\n",
      "typing_extensions  4.13.1\n",
      "wcwidth            0.2.13\n",
      "wheel              0.45.1\n",
      "zipp               3.21.0\n"
     ]
    }
   ],
   "source": [
    "!pip list"
   ]
  }
 ],
 "metadata": {
  "kernelspec": {
   "display_name": "sf_env",
   "language": "python",
   "name": "python3"
  },
  "language_info": {
   "codemirror_mode": {
    "name": "ipython",
    "version": 3
   },
   "file_extension": ".py",
   "mimetype": "text/x-python",
   "name": "python",
   "nbconvert_exporter": "python",
   "pygments_lexer": "ipython3",
   "version": "3.10.16"
  }
 },
 "nbformat": 4,
 "nbformat_minor": 5
}
