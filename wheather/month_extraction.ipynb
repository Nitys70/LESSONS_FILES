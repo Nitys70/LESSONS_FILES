{
 "cells": [
  {
   "cell_type": "code",
   "execution_count": null,
   "metadata": {},
   "outputs": [],
   "source": [
    "import requests \n",
    "import pandas as pd \n",
    "import json\n",
    "from datetime import datetime\n",
    "import time\n",
    "from internal_data import wheater_api\n",
    "\n",
    "year = '2025'\n",
    "month = '01'\n",
    "\n",
    "col_list = ['dt', 'sunrise', 'sunset', 'temp', 'feels_like', 'pressure', 'humidity',\n",
    "       'dew_point', 'clouds', 'wind_speed', 'wind_deg', 'main', 'description']\n",
    "\n",
    "month_df = pd.DataFrame(columns=col_list)\n",
    "\n",
    "for day in range(2,3):\n",
    "    \n",
    "    for hour in range(0,15):\n",
    "        \n",
    "        if day in list(range(10)):\n",
    "            day = f'0{day}'\n",
    "        \n",
    "        if hour in list(range(10)):\n",
    "            hour = f'0{hour}'\n",
    "\n",
    "        date_to_stamp = f'{day}/{month}/{year}/{hour}'\n",
    "        \n",
    "        time_stamp = int(time.mktime(datetime.strptime(date_to_stamp, \"%d/%m/%Y/%H\").timetuple()))\n",
    "\n",
    "        lat = '56.29'\n",
    "        lon = '84.58'\n",
    "        \n",
    "        url_arch = f'https://api.openweathermap.org/data/3.0/onecall/timemachine?lat={lat}&lon={lon}&units={'metric'}&dt={time_stamp}&appid={wheater_api}'\n",
    "\n",
    "        response_arch = requests.get(url_arch)\n",
    "\n",
    "        data_arch = response_arch.json()\n",
    "        \n",
    "        df_day_hour_arch = pd.DataFrame(data_arch['data'][0])\n",
    "        \n",
    "        df_day_hour_arch\n",
    "        \n",
    "        df_day_hour_arch['main'] = df_day_hour_arch['weather'][0]['main']\n",
    "        df_day_hour_arch['description'] = df_day_hour_arch['weather'][0]['description']\n",
    "        df_day_hour_arch = df_day_hour_arch.drop('weather', axis=1)\n",
    "        \n",
    "        month_df = pd.concat([month_df, df_day_hour_arch])\n",
    "        \n",
    "        time.sleep(1.5)"
   ]
  },
  {
   "cell_type": "code",
   "execution_count": null,
   "metadata": {},
   "outputs": [],
   "source": [
    "feats_to_convert = ['dt', 'sunrise', 'sunset']\n",
    "\n",
    "jan_df_conv = month_df.copy()\n",
    "\n",
    "def ts_convert(ts):\n",
    "    return datetime.fromtimestamp(ts).strftime('%d-%m-%Y %H:%M:%S')\n",
    "\n",
    "for feat in feats_to_convert:\n",
    "    jan_df_conv[feat] = jan_df_conv[feat].apply(ts_convert)\n",
    "    "
   ]
  }
 ],
 "metadata": {
  "language_info": {
   "name": "python"
  }
 },
 "nbformat": 4,
 "nbformat_minor": 2
}
