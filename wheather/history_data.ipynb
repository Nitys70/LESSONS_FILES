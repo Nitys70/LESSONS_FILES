{
 "cells": [
  {
   "cell_type": "code",
   "execution_count": 3,
   "metadata": {},
   "outputs": [],
   "source": [
    "import requests \n",
    "import pandas as pd \n",
    "import json\n",
    "from datetime import datetime\n",
    "import time\n",
    "from internal_data import weather_api\n",
    "\n",
    "lat = '56.29'\n",
    "lon = '84.58'\n",
    "\n",
    "# lat = '56.48'\n",
    "# lon = '84.98'\n",
    "\n",
    "# Дата и время в формате ДД-ММ-ГГГГ-ЧЧ\n",
    "date_to_stamp = '01/03/2025/12'\n",
    "\n",
    "        \n",
    "time_stamp = int(time.mktime(datetime.strptime(date_to_stamp, \"%d/%m/%Y/%H\").timetuple()))\n",
    "\n",
    "\n",
    "ts_arch = '1735808400'\n",
    "url_arch = f'https://api.openweathermap.org/data/3.0/onecall/timemachine?lat={lat}&lon={lon}&units={'metric'}&dt={time_stamp}&appid={weather_api}'\n",
    "\n",
    "response_arch = requests.get(url_arch)\n",
    "\n",
    "data_arch = response_arch.json()\n"
   ]
  },
  {
   "cell_type": "code",
   "execution_count": 12,
   "metadata": {},
   "outputs": [
    {
     "data": {
      "text/html": [
       "<div>\n",
       "<style scoped>\n",
       "    .dataframe tbody tr th:only-of-type {\n",
       "        vertical-align: middle;\n",
       "    }\n",
       "\n",
       "    .dataframe tbody tr th {\n",
       "        vertical-align: top;\n",
       "    }\n",
       "\n",
       "    .dataframe thead th {\n",
       "        text-align: right;\n",
       "    }\n",
       "</style>\n",
       "<table border=\"1\" class=\"dataframe\">\n",
       "  <thead>\n",
       "    <tr style=\"text-align: right;\">\n",
       "      <th></th>\n",
       "      <th>dt</th>\n",
       "      <th>sunrise</th>\n",
       "      <th>sunset</th>\n",
       "      <th>temp</th>\n",
       "      <th>feels_like</th>\n",
       "      <th>pressure</th>\n",
       "      <th>humidity</th>\n",
       "      <th>dew_point</th>\n",
       "      <th>clouds</th>\n",
       "      <th>wind_speed</th>\n",
       "      <th>wind_deg</th>\n",
       "      <th>main</th>\n",
       "      <th>description</th>\n",
       "    </tr>\n",
       "  </thead>\n",
       "  <tbody>\n",
       "    <tr>\n",
       "      <th>0</th>\n",
       "      <td>01-03-2025 12:00:00</td>\n",
       "      <td>01-03-2025 08:14:16</td>\n",
       "      <td>01-03-2025 18:54:12</td>\n",
       "      <td>-7.96</td>\n",
       "      <td>-12.41</td>\n",
       "      <td>1027</td>\n",
       "      <td>82</td>\n",
       "      <td>-10.21</td>\n",
       "      <td>98</td>\n",
       "      <td>2.47</td>\n",
       "      <td>214</td>\n",
       "      <td>Clouds</td>\n",
       "      <td>overcast clouds</td>\n",
       "    </tr>\n",
       "  </tbody>\n",
       "</table>\n",
       "</div>"
      ],
      "text/plain": [
       "                    dt              sunrise               sunset  temp  \\\n",
       "0  01-03-2025 12:00:00  01-03-2025 08:14:16  01-03-2025 18:54:12 -7.96   \n",
       "\n",
       "   feels_like  pressure  humidity  dew_point  clouds  wind_speed  wind_deg  \\\n",
       "0      -12.41      1027        82     -10.21      98        2.47       214   \n",
       "\n",
       "     main      description  \n",
       "0  Clouds  overcast clouds  "
      ]
     },
     "metadata": {},
     "output_type": "display_data"
    }
   ],
   "source": [
    "data_arch_df = pd.DataFrame(data_arch['data'][0])\n",
    "\n",
    "data_arch_df['main'] = data_arch_df['weather'][0]['main']\n",
    "data_arch_df['description'] = data_arch_df['weather'][0]['description']\n",
    "data_arch_df = data_arch_df.drop('weather', axis=1)\n",
    "\n",
    "feats_to_convert = ['dt', 'sunrise', 'sunset']\n",
    "\n",
    "# jan_df_conv = jan_df.copy()\n",
    "\n",
    "def ts_convert(ts):\n",
    "    return datetime.fromtimestamp(ts).strftime('%d-%m-%Y %H:%M:%S')\n",
    "\n",
    "for feat in feats_to_convert:\n",
    "    data_arch_df[feat] = data_arch_df[feat].apply(ts_convert)\n",
    "\n",
    "display(data_arch_df)"
   ]
  },
  {
   "cell_type": "code",
   "execution_count": null,
   "metadata": {},
   "outputs": [
    {
     "data": {
      "text/html": [
       "<div>\n",
       "<style scoped>\n",
       "    .dataframe tbody tr th:only-of-type {\n",
       "        vertical-align: middle;\n",
       "    }\n",
       "\n",
       "    .dataframe tbody tr th {\n",
       "        vertical-align: top;\n",
       "    }\n",
       "\n",
       "    .dataframe thead th {\n",
       "        text-align: right;\n",
       "    }\n",
       "</style>\n",
       "<table border=\"1\" class=\"dataframe\">\n",
       "  <thead>\n",
       "    <tr style=\"text-align: right;\">\n",
       "      <th></th>\n",
       "      <th>dt</th>\n",
       "      <th>sunrise</th>\n",
       "      <th>sunset</th>\n",
       "      <th>temp</th>\n",
       "      <th>feels_like</th>\n",
       "      <th>pressure</th>\n",
       "      <th>humidity</th>\n",
       "      <th>dew_point</th>\n",
       "      <th>clouds</th>\n",
       "      <th>wind_speed</th>\n",
       "      <th>wind_deg</th>\n",
       "      <th>weather</th>\n",
       "    </tr>\n",
       "  </thead>\n",
       "  <tbody>\n",
       "    <tr>\n",
       "      <th>0</th>\n",
       "      <td>1740805200</td>\n",
       "      <td>1740791656</td>\n",
       "      <td>1740830052</td>\n",
       "      <td>-7.96</td>\n",
       "      <td>-12.41</td>\n",
       "      <td>1027</td>\n",
       "      <td>82</td>\n",
       "      <td>-10.21</td>\n",
       "      <td>98</td>\n",
       "      <td>2.47</td>\n",
       "      <td>214</td>\n",
       "      <td>[{'id': 804, 'main': 'Clouds', 'description': ...</td>\n",
       "    </tr>\n",
       "  </tbody>\n",
       "</table>\n",
       "</div>"
      ],
      "text/plain": [
       "           dt     sunrise      sunset  temp  feels_like  pressure  humidity  \\\n",
       "0  1740805200  1740791656  1740830052 -7.96      -12.41      1027        82   \n",
       "\n",
       "   dew_point  clouds  wind_speed  wind_deg  \\\n",
       "0     -10.21      98        2.47       214   \n",
       "\n",
       "                                             weather  \n",
       "0  [{'id': 804, 'main': 'Clouds', 'description': ...  "
      ]
     },
     "execution_count": 3,
     "metadata": {},
     "output_type": "execute_result"
    }
   ],
   "source": [
    "import requests \n",
    "import pandas as pd \n",
    "import json\n",
    "from datetime import datetime\n",
    "import time\n",
    "from internal_data import weather_api\n",
    "\n",
    "lat = '56.29'\n",
    "lon = '84.58'\n",
    "\n",
    "# lat = '56.48'\n",
    "# lon = '84.98'\n",
    "\n",
    "# Дата и время в формате ДД-ММ-ГГГГ-ЧЧ\n",
    "date_to_stamp = '01/03/2025/12'\n",
    "\n",
    "        \n",
    "time_stamp = int(time.mktime(datetime.strptime(date_to_stamp, \"%d/%m/%Y/%H\").timetuple()))\n",
    "\n",
    "\n",
    "ts_arch = '1735808400'\n",
    "url_arch = f'https://api.openweathermap.org/data/3.0/onecall/timemachine?lat={lat}&lon={lon}&units={'metric'}&dt={time_stamp}&appid={weather_api}'\n",
    "\n",
    "response_arch = requests.get(url_arch)\n",
    "\n",
    "data_arch = response_arch.json()\n",
    "\n",
    "\n",
    "data_arch_df = pd.json_normalize(data_arch['data'][0])\n",
    "\n",
    "data_arch_df"
   ]
  },
  {
   "cell_type": "code",
   "execution_count": 4,
   "metadata": {},
   "outputs": [],
   "source": [
    "df_day_hour_arch = data_arch_df.copy()"
   ]
  },
  {
   "cell_type": "code",
   "execution_count": 10,
   "metadata": {},
   "outputs": [
    {
     "data": {
      "text/plain": [
       "'Clouds'"
      ]
     },
     "execution_count": 10,
     "metadata": {},
     "output_type": "execute_result"
    }
   ],
   "source": [
    "df_day_hour_arch['weather'][0][0]['main']"
   ]
  },
  {
   "cell_type": "code",
   "execution_count": 11,
   "metadata": {},
   "outputs": [],
   "source": [
    "df_day_hour_arch['main'] = df_day_hour_arch['weather'][0][0]['main']\n",
    "df_day_hour_arch['description'] = df_day_hour_arch['weather'][0][0]['description']\n",
    "df_day_hour_arch = df_day_hour_arch.drop('weather', axis=1)"
   ]
  },
  {
   "cell_type": "code",
   "execution_count": 12,
   "metadata": {},
   "outputs": [
    {
     "data": {
      "text/html": [
       "<div>\n",
       "<style scoped>\n",
       "    .dataframe tbody tr th:only-of-type {\n",
       "        vertical-align: middle;\n",
       "    }\n",
       "\n",
       "    .dataframe tbody tr th {\n",
       "        vertical-align: top;\n",
       "    }\n",
       "\n",
       "    .dataframe thead th {\n",
       "        text-align: right;\n",
       "    }\n",
       "</style>\n",
       "<table border=\"1\" class=\"dataframe\">\n",
       "  <thead>\n",
       "    <tr style=\"text-align: right;\">\n",
       "      <th></th>\n",
       "      <th>dt</th>\n",
       "      <th>sunrise</th>\n",
       "      <th>sunset</th>\n",
       "      <th>temp</th>\n",
       "      <th>feels_like</th>\n",
       "      <th>pressure</th>\n",
       "      <th>humidity</th>\n",
       "      <th>dew_point</th>\n",
       "      <th>clouds</th>\n",
       "      <th>wind_speed</th>\n",
       "      <th>wind_deg</th>\n",
       "      <th>main</th>\n",
       "      <th>description</th>\n",
       "    </tr>\n",
       "  </thead>\n",
       "  <tbody>\n",
       "    <tr>\n",
       "      <th>0</th>\n",
       "      <td>1740805200</td>\n",
       "      <td>1740791656</td>\n",
       "      <td>1740830052</td>\n",
       "      <td>-7.96</td>\n",
       "      <td>-12.41</td>\n",
       "      <td>1027</td>\n",
       "      <td>82</td>\n",
       "      <td>-10.21</td>\n",
       "      <td>98</td>\n",
       "      <td>2.47</td>\n",
       "      <td>214</td>\n",
       "      <td>Clouds</td>\n",
       "      <td>overcast clouds</td>\n",
       "    </tr>\n",
       "  </tbody>\n",
       "</table>\n",
       "</div>"
      ],
      "text/plain": [
       "           dt     sunrise      sunset  temp  feels_like  pressure  humidity  \\\n",
       "0  1740805200  1740791656  1740830052 -7.96      -12.41      1027        82   \n",
       "\n",
       "   dew_point  clouds  wind_speed  wind_deg    main      description  \n",
       "0     -10.21      98        2.47       214  Clouds  overcast clouds  "
      ]
     },
     "execution_count": 12,
     "metadata": {},
     "output_type": "execute_result"
    }
   ],
   "source": [
    "df_day_hour_arch"
   ]
  },
  {
   "cell_type": "code",
   "execution_count": null,
   "metadata": {},
   "outputs": [],
   "source": [
    "df_day_hour_arch['main'] = df_day_hour_arch['weather'][0]['main']\n",
    "df_day_hour_arch['description'] = df_day_hour_arch['weather'][0]['description']\n",
    "df_day_hour_arch = df_day_hour_arch.drop('weather', axis=1)"
   ]
  }
 ],
 "metadata": {
  "kernelspec": {
   "display_name": "Python 3",
   "language": "python",
   "name": "python3"
  },
  "language_info": {
   "codemirror_mode": {
    "name": "ipython",
    "version": 3
   },
   "file_extension": ".py",
   "mimetype": "text/x-python",
   "name": "python",
   "nbconvert_exporter": "python",
   "pygments_lexer": "ipython3",
   "version": "3.12.1"
  }
 },
 "nbformat": 4,
 "nbformat_minor": 2
}
