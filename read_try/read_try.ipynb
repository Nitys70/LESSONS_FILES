{
 "cells": [
  {
   "cell_type": "code",
   "execution_count": 10,
   "id": "f9369e74",
   "metadata": {},
   "outputs": [
    {
     "name": "stdout",
     "output_type": "stream",
     "text": [
      "2025-04-24\n"
     ]
    },
    {
     "data": {
      "text/plain": [
       "'Сегодня использовали бота 1 человек(а):\\n- @yuriynovikov'"
      ]
     },
     "execution_count": 10,
     "metadata": {},
     "output_type": "execute_result"
    }
   ],
   "source": [
    "from datetime import datetime\n",
    "\n",
    "LOG_FILE = \"user_log.txt\"\n",
    "today = datetime.now().date()\n",
    "users = set()\n",
    "\n",
    "print(today)\n",
    "\n",
    "with open(LOG_FILE, \"r\", encoding=\"utf-8\") as f:\n",
    "    for line in f:\n",
    "        # print(line)\n",
    "        try:\n",
    "            timestamp_str, rest = line.split(\" - \", 1)\n",
    "            timestamp = datetime.strptime(timestamp_str, \"%Y-%m-%d %H:%M:%S.%f\")\n",
    "            if timestamp.date() == today:\n",
    "                parts = rest.strip().split(\", \")\n",
    "                username_part = next((p for p in parts if p.startswith(\"Username: @\")), None)\n",
    "                username = username_part.replace(\"Username: \", \"\") if username_part else \"(без ника)\"\n",
    "                users.add(username)\n",
    "        except Exception as e:\n",
    "            print(f\"Ошибка при парсинге строки лога: {e}\")\n",
    "message = f\"Сегодня использовали бота {len(users)} человек(а):\\n\" + \"\\n\".join(f\"- {u}\" for u in sorted(users))\n",
    "message"
   ]
  },
  {
   "cell_type": "code",
   "execution_count": 4,
   "id": "d42b3586",
   "metadata": {},
   "outputs": [
    {
     "data": {
      "text/plain": [
       "{'дача': {'name': 'Дача', 'lat': 56.3, 'lon': 84.95}}"
      ]
     },
     "execution_count": 4,
     "metadata": {},
     "output_type": "execute_result"
    }
   ],
   "source": [
    "import pickle\n",
    "import os\n",
    "# some_file = os.read('location_data.pkl')\n",
    "\n",
    "with open('location_data.pkl', 'rb') as file:\n",
    "    some_data = pickle.load(file)\n",
    "    \n",
    "some_data\n",
    "\n",
    "user_data = some_data.get(1890642056, {})\n",
    "user_data"
   ]
  }
 ],
 "metadata": {
  "kernelspec": {
   "display_name": "Python 3",
   "language": "python",
   "name": "python3"
  },
  "language_info": {
   "codemirror_mode": {
    "name": "ipython",
    "version": 3
   },
   "file_extension": ".py",
   "mimetype": "text/x-python",
   "name": "python",
   "nbconvert_exporter": "python",
   "pygments_lexer": "ipython3",
   "version": "3.12.0"
  }
 },
 "nbformat": 4,
 "nbformat_minor": 5
}
