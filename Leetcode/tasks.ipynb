{
 "cells": [
  {
   "cell_type": "code",
   "execution_count": null,
   "metadata": {},
   "outputs": [],
   "source": [
    "x = 121\n",
    "\n",
    "x = int(x)\n",
    "\n",
    "x = str(x)\n",
    "\n",
    "y = x[::-1]a\n",
    "\n",
    "print(x == y)"
   ]
  },
  {
   "cell_type": "code",
   "execution_count": null,
   "metadata": {},
   "outputs": [],
   "source": [
    "dic = {'a': 2, 'b': 1, 'C': 3}\n",
    "\n",
    "dic_list = sorted(dic.items(), key = lambda x: x[1])\n",
    "\n",
    "dic_list\n",
    "\n",
    "result = []\n",
    "\n",
    "for elem in dic_list:\n",
    "    for n in range(elem[1]):\n",
    "        a.append(elem[0])\n",
    "        \n",
    "\n",
    "dic_list\n",
    "a"
   ]
  },
  {
   "cell_type": "code",
   "execution_count": null,
   "metadata": {},
   "outputs": [],
   "source": [
    "nums = [2,3,1,3,2]\n",
    "\n",
    "nums_set = set(nums)\n",
    "nums_dict = dict()\n",
    "for elem in nums_set:\n",
    "    nums_dict[elem] = 0\n",
    "    \n",
    "for elem in nums:\n",
    "    nums_dict[elem] += 1\n",
    "    \n",
    "nums_list_sorted = sorted(nums_dict.items(), key = lambda x: (x[1], -x[0]))\n",
    "\n",
    "result = []\n",
    "\n",
    "for elem in nums_list_sorted:\n",
    "    for n in range(elem[1]):\n",
    "        result.append(elem[0])\n",
    "        \n",
    "result"
   ]
  },
  {
   "cell_type": "code",
   "execution_count": null,
   "metadata": {},
   "outputs": [],
   "source": [
    "nums = [2,3,1,3,2]\n",
    "\n",
    "nums_dict = dict()\n",
    "\n",
    "for elem in nums:\n",
    "    if elem in nums_dict.keys():\n",
    "        nums_dict[elem] +=1\n",
    "    else:\n",
    "        nums_dict[elem] = 1\n",
    "        \n",
    "pre_result = sorted(nums_dict.items(), key = lambda x: (x[1], -x[0]))\n",
    "result = []\n",
    "\n",
    "for elem in pre_result:\n",
    "    for n in range(elem[1]):\n",
    "        result.append(elem[0])\n",
    "\n",
    "result"
   ]
  }
 ],
 "metadata": {
  "language_info": {
   "name": "python"
  }
 },
 "nbformat": 4,
 "nbformat_minor": 2
}
