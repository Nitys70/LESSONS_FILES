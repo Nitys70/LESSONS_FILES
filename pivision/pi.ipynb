{
 "cells": [
  {
   "cell_type": "code",
   "execution_count": 13,
   "metadata": {},
   "outputs": [
    {
     "name": "stdout",
     "output_type": "stream",
     "text": [
      "102 2\n"
     ]
    }
   ],
   "source": [
    "import pandas as pd\n",
    "\n",
    "w_data = pd.read_csv('seq_of_events.csv')\n",
    "w_data\n",
    "counter = 0\n",
    "hvac_list = []\n",
    "for elem in list(w_data['TagName']):\n",
    "    if '95' in str(elem)[1:3]:\n",
    "        counter += 1\n",
    "        hvac_list.append(elem)\n",
    "counter\n",
    "hvac_list\n",
    "\n",
    "alarm_type_set = set()\n",
    "\n",
    "for elem in hvac_list:\n",
    "    alarm_type_set.add(elem[3:6])\n",
    "alarm_type_set\n",
    "\n",
    "pdi_count = 0\n",
    "ti_count = 0\n",
    "\n",
    "for elem in hvac_list:\n",
    "    if 'PDI' in elem:\n",
    "        pdi_count += 1\n",
    "    if 'TI' in elem:\n",
    "        ti_count += 1\n",
    "        \n",
    "print(pdi_count, ti_count)"
   ]
  }
 ],
 "metadata": {
  "kernelspec": {
   "display_name": "Python 3",
   "language": "python",
   "name": "python3"
  },
  "language_info": {
   "codemirror_mode": {
    "name": "ipython",
    "version": 3
   },
   "file_extension": ".py",
   "mimetype": "text/x-python",
   "name": "python",
   "nbconvert_exporter": "python",
   "pygments_lexer": "ipython3",
   "version": "3.12.1"
  }
 },
 "nbformat": 4,
 "nbformat_minor": 2
}
