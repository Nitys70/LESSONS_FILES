{
 "cells": [
  {
   "cell_type": "code",
   "execution_count": null,
   "id": "e5f4696f",
   "metadata": {},
   "outputs": [],
   "source": [
    "from sklearn.preprocessing import StandardScaler, OrdinalEncoder, OneHotEncoder\n",
    "from sklearn.ensemble import RandomForestRegressor\n",
    "from sklearn.pipeline import Pipeline\n",
    "from sklearn.compose import make_column_transformer\n",
    "from sklearn.metrics import r2_score, mean_squared_error\n",
    "\n",
    "import pandas as pd \n",
    "import numpy as np \n",
    "import joblib\n",
    "\n",
    "\n",
    "red_wine_df = pd.read_csv('data/Red.csv')\n",
    "\n",
    "X = red_wine_df[['Country', 'Region', 'Price']]\n",
    "y = red_wine_df['Rating']\n",
    "\n",
    "ct = make_column_transformer(\n",
    "    (OrdinalEncoder(), ['Region']),\n",
    "    (StandardScaler(), ['Price']), \n",
    "    (OneHotEncoder(), ['Country'])\n",
    ")\n",
    "\n",
    "print(ct)\n",
    "\n",
    "pipeline_wine = Pipeline(\n",
    "    [('ct', ct), ('rfr', RandomForestRegressor(random_state=42))]\n",
    "    )\n",
    "\n",
    "def rmse(y_hat, y):\n",
    "    return mean_squared_error(y_hat, y, squared = False)\n",
    "\n",
    "wine_test = pd.read_csv('data/Red_test.csv')\n",
    "\n",
    "x_test = wine_test[['Country', 'Region', 'Price']]\n",
    "y_test = wine_test['Rating']\n",
    "\n",
    "y_pred = pipeline_wine.predict(x_test)\n",
    "\n",
    "print('Метрика RMSE для тестового набора данных составляет: {}'.format(\n",
    "    round(rmse(y_pred, y_test), 4))\n",
    "      )\n",
    "\n",
    "pipeline_wine.set_params(rfr__n_estimators = 200)\n",
    "\n",
    "y_pred_n_estim_200 = pipeline_wine.predict(x_test)\n",
    "\n",
    "print('Метрика RMSE для тестового набора данных составляет: {}'.format(\n",
    "    round(rmse(y_pred_n_estim_200, y_test), 4))\n",
    "      )\n"
   ]
  }
 ],
 "metadata": {
  "language_info": {
   "name": "python"
  }
 },
 "nbformat": 4,
 "nbformat_minor": 5
}
