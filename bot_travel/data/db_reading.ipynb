{
 "cells": [
  {
   "cell_type": "code",
   "execution_count": 4,
   "id": "9f5cfad0",
   "metadata": {},
   "outputs": [
    {
     "data": {
      "text/html": [
       "<div>\n",
       "<style scoped>\n",
       "    .dataframe tbody tr th:only-of-type {\n",
       "        vertical-align: middle;\n",
       "    }\n",
       "\n",
       "    .dataframe tbody tr th {\n",
       "        vertical-align: top;\n",
       "    }\n",
       "\n",
       "    .dataframe thead th {\n",
       "        text-align: right;\n",
       "    }\n",
       "</style>\n",
       "<table border=\"1\" class=\"dataframe\">\n",
       "  <thead>\n",
       "    <tr style=\"text-align: right;\">\n",
       "      <th></th>\n",
       "      <th>request_id</th>\n",
       "      <th>user_id</th>\n",
       "      <th>contact_id</th>\n",
       "      <th>contact_type</th>\n",
       "      <th>date</th>\n",
       "      <th>time</th>\n",
       "      <th>pass_qnt</th>\n",
       "      <th>user_comment</th>\n",
       "      <th>departure_point</th>\n",
       "      <th>destination_point</th>\n",
       "      <th>time_window</th>\n",
       "      <th>active</th>\n",
       "      <th>delete_reason</th>\n",
       "      <th>created_at</th>\n",
       "      <th>updated_at</th>\n",
       "    </tr>\n",
       "  </thead>\n",
       "  <tbody>\n",
       "    <tr>\n",
       "      <th>0</th>\n",
       "      <td>20250707023600242428</td>\n",
       "      <td>7776175645</td>\n",
       "      <td>yuriy_ds7</td>\n",
       "      <td>username</td>\n",
       "      <td>2025-07-02</td>\n",
       "      <td>14:30:00</td>\n",
       "      <td>2</td>\n",
       "      <td>2</td>\n",
       "      <td>а/п Шереметьево</td>\n",
       "      <td>а/п Домодедово</td>\n",
       "      <td>40</td>\n",
       "      <td>1</td>\n",
       "      <td>None</td>\n",
       "      <td>2025-07-07T02:36:00.242428</td>\n",
       "      <td>2025-07-07T02:36:29.401380</td>\n",
       "    </tr>\n",
       "  </tbody>\n",
       "</table>\n",
       "</div>"
      ],
      "text/plain": [
       "             request_id     user_id contact_id contact_type        date  \\\n",
       "0  20250707023600242428  7776175645  yuriy_ds7     username  2025-07-02   \n",
       "\n",
       "       time  pass_qnt user_comment  departure_point destination_point  \\\n",
       "0  14:30:00         2            2  а/п Шереметьево    а/п Домодедово   \n",
       "\n",
       "   time_window  active delete_reason                  created_at  \\\n",
       "0           40       1          None  2025-07-07T02:36:00.242428   \n",
       "\n",
       "                   updated_at  \n",
       "0  2025-07-07T02:36:29.401380  "
      ]
     },
     "execution_count": 4,
     "metadata": {},
     "output_type": "execute_result"
    }
   ],
   "source": [
    "import os\n",
    "from pathlib import Path\n",
    "import sqlite3\n",
    "\n",
    "import pandas as pd\n",
    "import sqlite3\n",
    "\n",
    "# Подключение к базе данных\n",
    "def get_db_data():\n",
    "    db_path = 'travel_bot.db'  # или просто 'travel_bot.db' если нет папки data\n",
    "    conn = sqlite3.connect(db_path)\n",
    "    \n",
    "    # Чтение всей таблицы в DataFrame\n",
    "    df = pd.read_sql('SELECT * FROM travel_requests', conn)\n",
    "    \n",
    "    conn.close()\n",
    "    return df\n",
    "\n",
    "# Использование\n",
    "df = get_db_data()\n",
    "df.head()"
   ]
  },
  {
   "cell_type": "code",
   "execution_count": 16,
   "id": "6dbe373e",
   "metadata": {},
   "outputs": [
    {
     "data": {
      "text/html": [
       "<div>\n",
       "<style scoped>\n",
       "    .dataframe tbody tr th:only-of-type {\n",
       "        vertical-align: middle;\n",
       "    }\n",
       "\n",
       "    .dataframe tbody tr th {\n",
       "        vertical-align: top;\n",
       "    }\n",
       "\n",
       "    .dataframe thead th {\n",
       "        text-align: right;\n",
       "    }\n",
       "</style>\n",
       "<table border=\"1\" class=\"dataframe\">\n",
       "  <thead>\n",
       "    <tr style=\"text-align: right;\">\n",
       "      <th></th>\n",
       "      <th>user_id</th>\n",
       "      <th>consented_at</th>\n",
       "      <th>user_name</th>\n",
       "      <th>user_phone</th>\n",
       "    </tr>\n",
       "  </thead>\n",
       "  <tbody>\n",
       "    <tr>\n",
       "      <th>0</th>\n",
       "      <td>218553624</td>\n",
       "      <td>2025-07-07T02:36:44.868406</td>\n",
       "      <td>yuriynovikov</td>\n",
       "      <td>NaN</td>\n",
       "    </tr>\n",
       "    <tr>\n",
       "      <th>1</th>\n",
       "      <td>467090140</td>\n",
       "      <td>2025-07-07T23:03:53.535452</td>\n",
       "      <td>None</td>\n",
       "      <td>7.961097e+10</td>\n",
       "    </tr>\n",
       "    <tr>\n",
       "      <th>2</th>\n",
       "      <td>896471888</td>\n",
       "      <td>2025-07-07T23:05:20.247512</td>\n",
       "      <td>None</td>\n",
       "      <td>7.983237e+10</td>\n",
       "    </tr>\n",
       "    <tr>\n",
       "      <th>3</th>\n",
       "      <td>7756203839</td>\n",
       "      <td>2025-07-07T02:38:24.559002</td>\n",
       "      <td>None</td>\n",
       "      <td>7.906947e+10</td>\n",
       "    </tr>\n",
       "    <tr>\n",
       "      <th>4</th>\n",
       "      <td>7776175645</td>\n",
       "      <td>2025-07-07T02:35:58.104920</td>\n",
       "      <td>yuriy_ds7</td>\n",
       "      <td>NaN</td>\n",
       "    </tr>\n",
       "  </tbody>\n",
       "</table>\n",
       "</div>"
      ],
      "text/plain": [
       "      user_id                consented_at     user_name    user_phone\n",
       "0   218553624  2025-07-07T02:36:44.868406  yuriynovikov           NaN\n",
       "1   467090140  2025-07-07T23:03:53.535452          None  7.961097e+10\n",
       "2   896471888  2025-07-07T23:05:20.247512          None  7.983237e+10\n",
       "3  7756203839  2025-07-07T02:38:24.559002          None  7.906947e+10\n",
       "4  7776175645  2025-07-07T02:35:58.104920     yuriy_ds7           NaN"
      ]
     },
     "execution_count": 16,
     "metadata": {},
     "output_type": "execute_result"
    }
   ],
   "source": [
    "import os\n",
    "from pathlib import Path\n",
    "import sqlite3\n",
    "\n",
    "import pandas as pd\n",
    "import sqlite3\n",
    "\n",
    "# Подключение к базе данных\n",
    "def get_db_data():\n",
    "    db_path = 'consents.db'  # или просто 'travel_bot.db' если нет папки data\n",
    "    conn = sqlite3.connect(db_path)\n",
    "    \n",
    "    # Чтение всей таблицы в DataFrame\n",
    "    df = pd.read_sql('SELECT * FROM consents', conn)\n",
    "    \n",
    "    conn.close()\n",
    "    return df\n",
    "\n",
    "# Использование\n",
    "df = get_db_data()\n",
    "df.head()"
   ]
  },
  {
   "cell_type": "code",
   "execution_count": 13,
   "id": "8b660859",
   "metadata": {},
   "outputs": [
    {
     "data": {
      "text/plain": [
       "'08.07.2025'"
      ]
     },
     "execution_count": 13,
     "metadata": {},
     "output_type": "execute_result"
    }
   ],
   "source": [
    "from datetime import datetime, timedelta\n",
    "\n",
    "now = datetime.now().date().strftime('%d.%m.%Y')\n",
    "now"
   ]
  },
  {
   "cell_type": "code",
   "execution_count": 14,
   "id": "fe2cd452",
   "metadata": {},
   "outputs": [],
   "source": [
    "text_date = '08.07.2025'\n",
    "text_date = text_date.replace('.', '/')"
   ]
  },
  {
   "cell_type": "code",
   "execution_count": 15,
   "id": "c3d7746b",
   "metadata": {},
   "outputs": [
    {
     "data": {
      "text/plain": [
       "'08/07/2025'"
      ]
     },
     "execution_count": 15,
     "metadata": {},
     "output_type": "execute_result"
    }
   ],
   "source": [
    "text_date"
   ]
  }
 ],
 "metadata": {
  "kernelspec": {
   "display_name": "Python 3",
   "language": "python",
   "name": "python3"
  },
  "language_info": {
   "codemirror_mode": {
    "name": "ipython",
    "version": 3
   },
   "file_extension": ".py",
   "mimetype": "text/x-python",
   "name": "python",
   "nbconvert_exporter": "python",
   "pygments_lexer": "ipython3",
   "version": "3.12.0"
  }
 },
 "nbformat": 4,
 "nbformat_minor": 5
}
