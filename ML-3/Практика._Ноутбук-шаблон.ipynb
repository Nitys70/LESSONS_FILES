{
 "cells": [
  {
   "cell_type": "markdown",
   "id": "086a113c",
   "metadata": {
    "id": "086a113c"
   },
   "source": [
    "# <center> Обучение с учителем. Классификация. Практика\n",
    "\n",
    "## <center> Прогнозирование оттока клиентов банка"
   ]
  },
  {
   "cell_type": "markdown",
   "id": "85ccf5ae",
   "metadata": {
    "id": "85ccf5ae"
   },
   "source": [
    "## Постановка задачи"
   ]
  },
  {
   "cell_type": "markdown",
   "id": "20769d74",
   "metadata": {
    "id": "20769d74"
   },
   "source": [
    "Теперь настало время самостоятельной работы. В рамках самостоятельной работы вам предстоит решить задачу прогнозирования оттока клиентов банка. \n",
    "\n",
    "> **Примечание.** Вы уже знакомились с этой задачей в модуле по визуализации («PYTHON-13. Визуализация данных») и провели небольшое исследование данных. Вы можете использовать результаты своего исследования для построения модели машинного обучения.\n",
    "\n",
    "Напомним контекст задачи:\n",
    "\n",
    "> Некоторый банк обратился к вам за помощью: он хочет разработать кампанию лояльности по удержанию клиентов. Для этого он хочет прогнозировать вероятности оттока клиентов и определять, уйдёт ли клиент в ближайшее время. \n",
    "\n",
    "Итак, ранее вы провели небольшой разведывательный анализ, познакомились с данными и выявили, чем ушедшие клиенты отличаются от лояльных и как между собой связаны различные признаки, определяющие клиентов. Вы отлично справились с первой задачей, и теперь представители банка предлагают вам построить саму модель машинного обучения, которая будет прогнозировать отток клиентов. \n",
    "\n",
    "**Ваша задача** - построить классификатор, который позволит своевременно определять уходящих клиентов банка, оценить качество построенных моделей и проинтерпретировать результаты.\n",
    "\n",
    "Разделим эту задачу на две части:\n",
    "* В первой части мы подготовим данные для моделирования и построим простейшую модель логистической регрессии, оценим её качество и проанализируем результаты её работы.\n",
    "\n",
    "* Во второй части мы займёмся построением моделей дерева решений и случайного леса, сравним их результаты с результатами, полученными на первом этапе, и сделаем финальный вывод.\n"
   ]
  },
  {
   "cell_type": "markdown",
   "id": "fd90490e",
   "metadata": {
    "id": "fd90490e"
   },
   "source": [
    "Для начала импортируем библиотеки, которые нам понадобятся:"
   ]
  },
  {
   "cell_type": "code",
   "execution_count": 1,
   "id": "a26669af-982b-421f-9441-4d5f3a8ffb5d",
   "metadata": {
    "id": "a26669af-982b-421f-9441-4d5f3a8ffb5d"
   },
   "outputs": [],
   "source": [
    "import numpy as np #для матричных вычислений\n",
    "import pandas as pd #для анализа и предобработки данных\n",
    "import matplotlib.pyplot as plt #для визуализации\n",
    "import seaborn as sns #для визуализации\n",
    "\n",
    "from sklearn import linear_model #линейные модели\n",
    "from sklearn import metrics #метрики\n",
    "from sklearn import model_selection #сплитование выборки\n",
    "from sklearn import preprocessing #предобработка данных\n",
    "%matplotlib inline\n",
    "\n",
    "plt.style.use('seaborn-v0_8')\n",
    "\n",
    "import warnings\n",
    "warnings.filterwarnings('ignore')"
   ]
  },
  {
   "cell_type": "markdown",
   "id": "6687034e",
   "metadata": {
    "id": "6687034e"
   },
   "source": [
    "Итак, прочитаем нашу таблицу:"
   ]
  },
  {
   "cell_type": "code",
   "execution_count": 2,
   "id": "2fa60e26-cf4c-4dec-baca-90c3025d2bed",
   "metadata": {
    "colab": {
     "base_uri": "https://localhost:8080/",
     "height": 270
    },
    "executionInfo": {
     "elapsed": 7,
     "status": "ok",
     "timestamp": 1678085430153,
     "user": {
      "displayName": "Андрей Достоевский",
      "userId": "09718989537568551698"
     },
     "user_tz": -180
    },
    "id": "2fa60e26-cf4c-4dec-baca-90c3025d2bed",
    "outputId": "029556b1-99b4-4ec5-c2f4-9c07fabca762"
   },
   "outputs": [
    {
     "data": {
      "text/html": [
       "<div>\n",
       "<style scoped>\n",
       "    .dataframe tbody tr th:only-of-type {\n",
       "        vertical-align: middle;\n",
       "    }\n",
       "\n",
       "    .dataframe tbody tr th {\n",
       "        vertical-align: top;\n",
       "    }\n",
       "\n",
       "    .dataframe thead th {\n",
       "        text-align: right;\n",
       "    }\n",
       "</style>\n",
       "<table border=\"1\" class=\"dataframe\">\n",
       "  <thead>\n",
       "    <tr style=\"text-align: right;\">\n",
       "      <th></th>\n",
       "      <th>RowNumber</th>\n",
       "      <th>CustomerId</th>\n",
       "      <th>Surname</th>\n",
       "      <th>CreditScore</th>\n",
       "      <th>Geography</th>\n",
       "      <th>Gender</th>\n",
       "      <th>Age</th>\n",
       "      <th>Tenure</th>\n",
       "      <th>Balance</th>\n",
       "      <th>NumOfProducts</th>\n",
       "      <th>HasCrCard</th>\n",
       "      <th>IsActiveMember</th>\n",
       "      <th>EstimatedSalary</th>\n",
       "      <th>Exited</th>\n",
       "    </tr>\n",
       "  </thead>\n",
       "  <tbody>\n",
       "    <tr>\n",
       "      <th>0</th>\n",
       "      <td>1</td>\n",
       "      <td>15634602</td>\n",
       "      <td>Hargrave</td>\n",
       "      <td>619</td>\n",
       "      <td>France</td>\n",
       "      <td>Female</td>\n",
       "      <td>42</td>\n",
       "      <td>2</td>\n",
       "      <td>0.00</td>\n",
       "      <td>1</td>\n",
       "      <td>1</td>\n",
       "      <td>1</td>\n",
       "      <td>101348.88</td>\n",
       "      <td>1</td>\n",
       "    </tr>\n",
       "    <tr>\n",
       "      <th>1</th>\n",
       "      <td>2</td>\n",
       "      <td>15647311</td>\n",
       "      <td>Hill</td>\n",
       "      <td>608</td>\n",
       "      <td>Spain</td>\n",
       "      <td>Female</td>\n",
       "      <td>41</td>\n",
       "      <td>1</td>\n",
       "      <td>83807.86</td>\n",
       "      <td>1</td>\n",
       "      <td>0</td>\n",
       "      <td>1</td>\n",
       "      <td>112542.58</td>\n",
       "      <td>0</td>\n",
       "    </tr>\n",
       "    <tr>\n",
       "      <th>2</th>\n",
       "      <td>3</td>\n",
       "      <td>15619304</td>\n",
       "      <td>Onio</td>\n",
       "      <td>502</td>\n",
       "      <td>France</td>\n",
       "      <td>Female</td>\n",
       "      <td>42</td>\n",
       "      <td>8</td>\n",
       "      <td>159660.80</td>\n",
       "      <td>3</td>\n",
       "      <td>1</td>\n",
       "      <td>0</td>\n",
       "      <td>113931.57</td>\n",
       "      <td>1</td>\n",
       "    </tr>\n",
       "    <tr>\n",
       "      <th>3</th>\n",
       "      <td>4</td>\n",
       "      <td>15701354</td>\n",
       "      <td>Boni</td>\n",
       "      <td>699</td>\n",
       "      <td>France</td>\n",
       "      <td>Female</td>\n",
       "      <td>39</td>\n",
       "      <td>1</td>\n",
       "      <td>0.00</td>\n",
       "      <td>2</td>\n",
       "      <td>0</td>\n",
       "      <td>0</td>\n",
       "      <td>93826.63</td>\n",
       "      <td>0</td>\n",
       "    </tr>\n",
       "    <tr>\n",
       "      <th>4</th>\n",
       "      <td>5</td>\n",
       "      <td>15737888</td>\n",
       "      <td>Mitchell</td>\n",
       "      <td>850</td>\n",
       "      <td>Spain</td>\n",
       "      <td>Female</td>\n",
       "      <td>43</td>\n",
       "      <td>2</td>\n",
       "      <td>125510.82</td>\n",
       "      <td>1</td>\n",
       "      <td>1</td>\n",
       "      <td>1</td>\n",
       "      <td>79084.10</td>\n",
       "      <td>0</td>\n",
       "    </tr>\n",
       "  </tbody>\n",
       "</table>\n",
       "</div>"
      ],
      "text/plain": [
       "   RowNumber  CustomerId   Surname  CreditScore Geography  Gender  Age  \\\n",
       "0          1    15634602  Hargrave          619    France  Female   42   \n",
       "1          2    15647311      Hill          608     Spain  Female   41   \n",
       "2          3    15619304      Onio          502    France  Female   42   \n",
       "3          4    15701354      Boni          699    France  Female   39   \n",
       "4          5    15737888  Mitchell          850     Spain  Female   43   \n",
       "\n",
       "   Tenure    Balance  NumOfProducts  HasCrCard  IsActiveMember  \\\n",
       "0       2       0.00              1          1               1   \n",
       "1       1   83807.86              1          0               1   \n",
       "2       8  159660.80              3          1               0   \n",
       "3       1       0.00              2          0               0   \n",
       "4       2  125510.82              1          1               1   \n",
       "\n",
       "   EstimatedSalary  Exited  \n",
       "0        101348.88       1  \n",
       "1        112542.58       0  \n",
       "2        113931.57       1  \n",
       "3         93826.63       0  \n",
       "4         79084.10       0  "
      ]
     },
     "execution_count": 2,
     "metadata": {},
     "output_type": "execute_result"
    }
   ],
   "source": [
    "churn_data = pd.read_csv('data/churn.csv')\n",
    "churn_data.head()"
   ]
  },
  {
   "cell_type": "markdown",
   "id": "d2fa56d2",
   "metadata": {
    "id": "d2fa56d2"
   },
   "source": [
    "## Практика: логистическая регрессия"
   ]
  },
  {
   "cell_type": "markdown",
   "id": "4cRkKq9ZItBe",
   "metadata": {
    "id": "4cRkKq9ZItBe"
   },
   "source": [
    "В первой части вам предстоит выполнить задания 5.0–5.6. Максимальное количество баллов, которое можно получить, — 9:"
   ]
  },
  {
   "cell_type": "markdown",
   "id": "489f4fdd",
   "metadata": {
    "id": "489f4fdd"
   },
   "source": [
    "### Задание 5.0 (не оценивается)\n",
    "\n",
    "Для полноты задачи проведите небольшой разведывательный анализ данных. Постройте графики распределения целевого признака, диаграммы и графики, показывающие взаимосвязь между исходными признаками и целевым признаком, а также другие диаграммы, иллюстрирующие предоставленные данные. \n",
    "\n",
    "**Совет:** воспользуйтесь кодом, который вы писали, выполняя задания в модуле «PYTHON-13. Визуализация данных»."
   ]
  },
  {
   "cell_type": "code",
   "execution_count": 3,
   "id": "44542330",
   "metadata": {
    "id": "44542330"
   },
   "outputs": [
    {
     "data": {
      "text/plain": [
       "RowNumber          0\n",
       "CustomerId         0\n",
       "Surname            0\n",
       "CreditScore        0\n",
       "Geography          0\n",
       "Gender             0\n",
       "Age                0\n",
       "Tenure             0\n",
       "Balance            0\n",
       "NumOfProducts      0\n",
       "HasCrCard          0\n",
       "IsActiveMember     0\n",
       "EstimatedSalary    0\n",
       "Exited             0\n",
       "dtype: int64"
      ]
     },
     "execution_count": 3,
     "metadata": {},
     "output_type": "execute_result"
    }
   ],
   "source": [
    "# Ваш код здесь\n",
    "# Выполним проверку на пропуски данных\n",
    "churn_data.isnull().sum()"
   ]
  },
  {
   "cell_type": "code",
   "execution_count": 4,
   "id": "7784b787",
   "metadata": {},
   "outputs": [
    {
     "data": {
      "text/html": [
       "<div>\n",
       "<style scoped>\n",
       "    .dataframe tbody tr th:only-of-type {\n",
       "        vertical-align: middle;\n",
       "    }\n",
       "\n",
       "    .dataframe tbody tr th {\n",
       "        vertical-align: top;\n",
       "    }\n",
       "\n",
       "    .dataframe thead th {\n",
       "        text-align: right;\n",
       "    }\n",
       "</style>\n",
       "<table border=\"1\" class=\"dataframe\">\n",
       "  <thead>\n",
       "    <tr style=\"text-align: right;\">\n",
       "      <th></th>\n",
       "      <th>Surname</th>\n",
       "      <th>Geography</th>\n",
       "      <th>Gender</th>\n",
       "    </tr>\n",
       "  </thead>\n",
       "  <tbody>\n",
       "    <tr>\n",
       "      <th>count</th>\n",
       "      <td>10000</td>\n",
       "      <td>10000</td>\n",
       "      <td>10000</td>\n",
       "    </tr>\n",
       "    <tr>\n",
       "      <th>unique</th>\n",
       "      <td>2932</td>\n",
       "      <td>3</td>\n",
       "      <td>2</td>\n",
       "    </tr>\n",
       "    <tr>\n",
       "      <th>top</th>\n",
       "      <td>Smith</td>\n",
       "      <td>France</td>\n",
       "      <td>Male</td>\n",
       "    </tr>\n",
       "    <tr>\n",
       "      <th>freq</th>\n",
       "      <td>32</td>\n",
       "      <td>5014</td>\n",
       "      <td>5457</td>\n",
       "    </tr>\n",
       "  </tbody>\n",
       "</table>\n",
       "</div>"
      ],
      "text/plain": [
       "       Surname Geography Gender\n",
       "count    10000     10000  10000\n",
       "unique    2932         3      2\n",
       "top      Smith    France   Male\n",
       "freq        32      5014   5457"
      ]
     },
     "execution_count": 4,
     "metadata": {},
     "output_type": "execute_result"
    }
   ],
   "source": [
    "# Воспользуемся методом описательной статистики \n",
    "# для категориальных признаков\n",
    "churn_data.describe(include='object')"
   ]
  },
  {
   "cell_type": "code",
   "execution_count": 5,
   "id": "e4869bdd",
   "metadata": {},
   "outputs": [
    {
     "data": {
      "text/html": [
       "<div>\n",
       "<style scoped>\n",
       "    .dataframe tbody tr th:only-of-type {\n",
       "        vertical-align: middle;\n",
       "    }\n",
       "\n",
       "    .dataframe tbody tr th {\n",
       "        vertical-align: top;\n",
       "    }\n",
       "\n",
       "    .dataframe thead th {\n",
       "        text-align: right;\n",
       "    }\n",
       "</style>\n",
       "<table border=\"1\" class=\"dataframe\">\n",
       "  <thead>\n",
       "    <tr style=\"text-align: right;\">\n",
       "      <th></th>\n",
       "      <th>RowNumber</th>\n",
       "      <th>CustomerId</th>\n",
       "      <th>CreditScore</th>\n",
       "      <th>Age</th>\n",
       "      <th>Tenure</th>\n",
       "      <th>Balance</th>\n",
       "      <th>NumOfProducts</th>\n",
       "      <th>HasCrCard</th>\n",
       "      <th>IsActiveMember</th>\n",
       "      <th>EstimatedSalary</th>\n",
       "      <th>Exited</th>\n",
       "    </tr>\n",
       "  </thead>\n",
       "  <tbody>\n",
       "    <tr>\n",
       "      <th>count</th>\n",
       "      <td>10000.00000</td>\n",
       "      <td>1.000000e+04</td>\n",
       "      <td>10000.000000</td>\n",
       "      <td>10000.000000</td>\n",
       "      <td>10000.000000</td>\n",
       "      <td>10000.000000</td>\n",
       "      <td>10000.000000</td>\n",
       "      <td>10000.00000</td>\n",
       "      <td>10000.000000</td>\n",
       "      <td>10000.000000</td>\n",
       "      <td>10000.000000</td>\n",
       "    </tr>\n",
       "    <tr>\n",
       "      <th>mean</th>\n",
       "      <td>5000.50000</td>\n",
       "      <td>1.569094e+07</td>\n",
       "      <td>650.528800</td>\n",
       "      <td>38.921800</td>\n",
       "      <td>5.012800</td>\n",
       "      <td>76485.889288</td>\n",
       "      <td>1.530200</td>\n",
       "      <td>0.70550</td>\n",
       "      <td>0.515100</td>\n",
       "      <td>100090.239881</td>\n",
       "      <td>0.203700</td>\n",
       "    </tr>\n",
       "    <tr>\n",
       "      <th>std</th>\n",
       "      <td>2886.89568</td>\n",
       "      <td>7.193619e+04</td>\n",
       "      <td>96.653299</td>\n",
       "      <td>10.487806</td>\n",
       "      <td>2.892174</td>\n",
       "      <td>62397.405202</td>\n",
       "      <td>0.581654</td>\n",
       "      <td>0.45584</td>\n",
       "      <td>0.499797</td>\n",
       "      <td>57510.492818</td>\n",
       "      <td>0.402769</td>\n",
       "    </tr>\n",
       "    <tr>\n",
       "      <th>min</th>\n",
       "      <td>1.00000</td>\n",
       "      <td>1.556570e+07</td>\n",
       "      <td>350.000000</td>\n",
       "      <td>18.000000</td>\n",
       "      <td>0.000000</td>\n",
       "      <td>0.000000</td>\n",
       "      <td>1.000000</td>\n",
       "      <td>0.00000</td>\n",
       "      <td>0.000000</td>\n",
       "      <td>11.580000</td>\n",
       "      <td>0.000000</td>\n",
       "    </tr>\n",
       "    <tr>\n",
       "      <th>25%</th>\n",
       "      <td>2500.75000</td>\n",
       "      <td>1.562853e+07</td>\n",
       "      <td>584.000000</td>\n",
       "      <td>32.000000</td>\n",
       "      <td>3.000000</td>\n",
       "      <td>0.000000</td>\n",
       "      <td>1.000000</td>\n",
       "      <td>0.00000</td>\n",
       "      <td>0.000000</td>\n",
       "      <td>51002.110000</td>\n",
       "      <td>0.000000</td>\n",
       "    </tr>\n",
       "    <tr>\n",
       "      <th>50%</th>\n",
       "      <td>5000.50000</td>\n",
       "      <td>1.569074e+07</td>\n",
       "      <td>652.000000</td>\n",
       "      <td>37.000000</td>\n",
       "      <td>5.000000</td>\n",
       "      <td>97198.540000</td>\n",
       "      <td>1.000000</td>\n",
       "      <td>1.00000</td>\n",
       "      <td>1.000000</td>\n",
       "      <td>100193.915000</td>\n",
       "      <td>0.000000</td>\n",
       "    </tr>\n",
       "    <tr>\n",
       "      <th>75%</th>\n",
       "      <td>7500.25000</td>\n",
       "      <td>1.575323e+07</td>\n",
       "      <td>718.000000</td>\n",
       "      <td>44.000000</td>\n",
       "      <td>7.000000</td>\n",
       "      <td>127644.240000</td>\n",
       "      <td>2.000000</td>\n",
       "      <td>1.00000</td>\n",
       "      <td>1.000000</td>\n",
       "      <td>149388.247500</td>\n",
       "      <td>0.000000</td>\n",
       "    </tr>\n",
       "    <tr>\n",
       "      <th>max</th>\n",
       "      <td>10000.00000</td>\n",
       "      <td>1.581569e+07</td>\n",
       "      <td>850.000000</td>\n",
       "      <td>92.000000</td>\n",
       "      <td>10.000000</td>\n",
       "      <td>250898.090000</td>\n",
       "      <td>4.000000</td>\n",
       "      <td>1.00000</td>\n",
       "      <td>1.000000</td>\n",
       "      <td>199992.480000</td>\n",
       "      <td>1.000000</td>\n",
       "    </tr>\n",
       "  </tbody>\n",
       "</table>\n",
       "</div>"
      ],
      "text/plain": [
       "         RowNumber    CustomerId   CreditScore           Age        Tenure  \\\n",
       "count  10000.00000  1.000000e+04  10000.000000  10000.000000  10000.000000   \n",
       "mean    5000.50000  1.569094e+07    650.528800     38.921800      5.012800   \n",
       "std     2886.89568  7.193619e+04     96.653299     10.487806      2.892174   \n",
       "min        1.00000  1.556570e+07    350.000000     18.000000      0.000000   \n",
       "25%     2500.75000  1.562853e+07    584.000000     32.000000      3.000000   \n",
       "50%     5000.50000  1.569074e+07    652.000000     37.000000      5.000000   \n",
       "75%     7500.25000  1.575323e+07    718.000000     44.000000      7.000000   \n",
       "max    10000.00000  1.581569e+07    850.000000     92.000000     10.000000   \n",
       "\n",
       "             Balance  NumOfProducts    HasCrCard  IsActiveMember  \\\n",
       "count   10000.000000   10000.000000  10000.00000    10000.000000   \n",
       "mean    76485.889288       1.530200      0.70550        0.515100   \n",
       "std     62397.405202       0.581654      0.45584        0.499797   \n",
       "min         0.000000       1.000000      0.00000        0.000000   \n",
       "25%         0.000000       1.000000      0.00000        0.000000   \n",
       "50%     97198.540000       1.000000      1.00000        1.000000   \n",
       "75%    127644.240000       2.000000      1.00000        1.000000   \n",
       "max    250898.090000       4.000000      1.00000        1.000000   \n",
       "\n",
       "       EstimatedSalary        Exited  \n",
       "count     10000.000000  10000.000000  \n",
       "mean     100090.239881      0.203700  \n",
       "std       57510.492818      0.402769  \n",
       "min          11.580000      0.000000  \n",
       "25%       51002.110000      0.000000  \n",
       "50%      100193.915000      0.000000  \n",
       "75%      149388.247500      0.000000  \n",
       "max      199992.480000      1.000000  "
      ]
     },
     "execution_count": 5,
     "metadata": {},
     "output_type": "execute_result"
    }
   ],
   "source": [
    "# Воспользуемся методом описательной статистики \n",
    "# для числовых признаков\n",
    "churn_data.describe(exclude='object')"
   ]
  },
  {
   "cell_type": "code",
   "execution_count": 6,
   "id": "18b8ae06",
   "metadata": {},
   "outputs": [
    {
     "data": {
      "text/plain": [
       "<Axes: xlabel='Exited', ylabel='count'>"
      ]
     },
     "execution_count": 6,
     "metadata": {},
     "output_type": "execute_result"
    },
    {
     "data": {
      "image/png": "[encoded data removed]",
      "text/plain": [
       "<Figure size 800x550 with 1 Axes>"
      ]
     },
     "metadata": {},
     "output_type": "display_data"
    }
   ],
   "source": [
    "# Визуализируем распределение целевого признака \n",
    "sns.countplot(data = churn_data, x = 'Exited', palette='Set2')"
   ]
  },
  {
   "cell_type": "code",
   "execution_count": 7,
   "id": "8d2f801b",
   "metadata": {},
   "outputs": [
    {
     "data": {
      "text/plain": [
       "['Surname', 'Geography', 'Gender']"
      ]
     },
     "execution_count": 7,
     "metadata": {},
     "output_type": "execute_result"
    }
   ],
   "source": [
    "feats_type = churn_data.dtypes\n",
    "cat_feats = list(feats_type[feats_type == 'object'].index)\n",
    "cat_feats"
   ]
  },
  {
   "cell_type": "markdown",
   "id": "c10087fa",
   "metadata": {},
   "source": [
    "Мы получили мало признаков для визуализации, и, забегая вперед, признаки эти не информативные.\n",
    "\n",
    "Для построения различных визуализаций создадим больше категориальных признаков, в новом ДФ, для понимания общих закономерностей и лучшего понимания поставленной проблемы. \n",
    "\n",
    "На основе категориальных, вновь созданных признаков, мы сможем произвести визуализацию взаимосвязи этих признаков и целевого признака. "
   ]
  },
  {
   "cell_type": "markdown",
   "id": "107b7538",
   "metadata": {},
   "source": [
    "#### Преобразования числовых признаков в категориальные"
   ]
  },
  {
   "cell_type": "code",
   "execution_count": 8,
   "id": "8f815946",
   "metadata": {},
   "outputs": [],
   "source": [
    "# Создадим ДФ - копию, в котором будем создавать новые признаки\n",
    "churn_data_vis = churn_data.copy()"
   ]
  },
  {
   "cell_type": "code",
   "execution_count": 9,
   "id": "404e0bbc",
   "metadata": {},
   "outputs": [],
   "source": [
    "# Создадим список числовых признаков\n",
    "all_feats = list(churn_data.columns)\n",
    "num_feats = all_feats.copy()\n",
    "for elem in cat_feats[:2]:\n",
    "    num_feats.remove(f'{elem}')\n",
    "# Срезом удалим неинформативные признаки фамилии клиента и номера строки\n",
    "num_feats = num_feats[2:]"
   ]
  },
  {
   "cell_type": "code",
   "execution_count": 10,
   "id": "87c405a1",
   "metadata": {},
   "outputs": [
    {
     "data": {
      "text/plain": [
       "Text(0.5, 0.98, 'Распределение числовых признаков')"
      ]
     },
     "execution_count": 10,
     "metadata": {},
     "output_type": "execute_result"
    },
    {
     "data": {
      "image/png": "[encoded data removed]",
      "text/plain": [
       "<Figure size 1500x1000 with 12 Axes>"
      ]
     },
     "metadata": {},
     "output_type": "display_data"
    }
   ],
   "source": [
    "# Построим распределения признаков\n",
    "\n",
    "# Зададим плоскость диаграмм и ее параметры\n",
    "fig, ax = plt.subplots(ncols=3, nrows=4, figsize = (15,10))\n",
    "plt.subplots_adjust(hspace=0.4)\n",
    "\n",
    "# Счетчики для выбора нужной ячейки плоскости графиков\n",
    "col = 0\n",
    "row = 0\n",
    "\n",
    "# Цикл для создания гистограмм рапределения числовых признаков\n",
    "for elem in num_feats:\n",
    "    hist = sns.histplot(\n",
    "        data=churn_data,\n",
    "        x = f'{elem}',\n",
    "        ax=ax[row][col]\n",
    "    )\n",
    "    hist.set_xlabel(f'{elem}', fontsize = 14)\n",
    "    hist.set_ylabel('')\n",
    "    \n",
    "    col += 1\n",
    "    \n",
    "    if col == 3:\n",
    "        col = 0\n",
    "        row += 1\n",
    "plt.suptitle('Распределение числовых признаков', fontsize = 20)"
   ]
  },
  {
   "cell_type": "markdown",
   "id": "386612be",
   "metadata": {},
   "source": [
    "О распределении признаков (нормально/ненормально) в контексте данного этапа говорить не будем. Отметим то, что, очевидно, часть признаков можно свести к категориальным. \n",
    "\n",
    "К ним относятся:\n",
    "- CreditScore (Разобьем в диапазоны по 100)\n",
    "- Age (Разобьем в диапазоны меньше 20 и далее по плюс 5 лет)\n",
    "- Balance (Разобьем диапазонами по 25.000)\n",
    "- EstimatedSalary (Так же, разобьем диапазонами по 25.000)"
   ]
  },
  {
   "cell_type": "code",
   "execution_count": 11,
   "id": "8890efb5",
   "metadata": {},
   "outputs": [],
   "source": [
    "# Функция для создания нового признака, определяющая условный класс ЗП\n",
    "def credit_score_classification(credit_score):\n",
    "    \"\"\"Функция для определения условного класса по кредитному\n",
    "    рейтингу. Шаг прибавления (перехода к след классу) = 100\n",
    "    Прибавление осуществляется циклом while\n",
    "\n",
    "    Args:\n",
    "        credit_score (int): Размер кредитного рейтинга\n",
    "\n",
    "    Returns:\n",
    "        int: Получившийся класс Кредитного рейтинга\n",
    "    \"\"\"\n",
    "    \n",
    "    credit_score_class = 0\n",
    "    \n",
    "    # Задаем \"отправную точку расчета\" ближайшая сотня от мин значения\n",
    "    step = (churn_data_vis['CreditScore'].min() // 100) *100\n",
    "    \n",
    "    while credit_score > step:\n",
    "        credit_score_class += 1\n",
    "        step += 100\n",
    "    \n",
    "    return credit_score_class\n",
    "\n",
    "# Функция для создания нового признака, определяющая условный класс ЗП\n",
    "def age_classification(age):\n",
    "    \"\"\"Функция для определения условного класса по возрасту.\n",
    "    Шаг прибавления (перехода к след классу) = 5. Отсчет начинается с 20\n",
    "    Прибавление осуществляется циклом while\n",
    "\n",
    "    Args:\n",
    "        age (int): Возраст клиента\n",
    "\n",
    "    Returns:\n",
    "        int: Получившийся класс возраста\n",
    "    \"\"\"\n",
    "    \n",
    "    age_class = 1\n",
    "    step = 20\n",
    "    \n",
    "    while age > step:\n",
    "        age_class += 1\n",
    "        step += 5\n",
    "    \n",
    "    return age_class\n",
    "\n",
    "# Функция для создания нового признака, определяющая условный класс ЗП\n",
    "def balance_and_salary_classification(money):\n",
    "    \"\"\"Функция для определения условного класса по зарплате или балансу.\n",
    "    Шаг прибавления (перехода к след классу) = 25.000\n",
    "    Прибавление осуществляется циклом while\n",
    "\n",
    "    Args:\n",
    "        money (float): Размер ожидаемой зарплаты / баланса клиента \n",
    "\n",
    "    Returns:\n",
    "        int: Получившийся класс ЗП / баланса\n",
    "    \"\"\"\n",
    "    \n",
    "    sal_class = 1\n",
    "    step = 25000\n",
    "    \n",
    "    while money > step:\n",
    "        sal_class += 1\n",
    "        step += 25000\n",
    "    \n",
    "    return sal_class\n",
    "\n",
    "# Применим фукнции для создания новых признаков\n",
    "churn_data_vis['Credit_score_class'] = \\\n",
    "    churn_data_vis['CreditScore'].apply(credit_score_classification)\n",
    "\n",
    "churn_data_vis['Age_class'] = \\\n",
    "    churn_data_vis['Age'].apply(age_classification)\n",
    "\n",
    "churn_data_vis['Balance_class'] = \\\n",
    "    churn_data_vis['Balance'].apply(balance_and_salary_classification)\n",
    "\n",
    "churn_data_vis['Salary_class'] = \\\n",
    "    churn_data_vis['EstimatedSalary'].apply(balance_and_salary_classification)\n",
    "\n",
    "# Дополним существующий список признаков вновь созданными \n",
    "# и удалим преобразованные признаки \n",
    "num_feats.append('Credit_score_class')\n",
    "num_feats.remove('CreditScore')\n",
    "num_feats.append('Age_class')\n",
    "num_feats.remove('Age')\n",
    "num_feats.append('Balance_class')\n",
    "num_feats.remove('Balance')\n",
    "num_feats.append('Salary_class')\n",
    "num_feats.remove('EstimatedSalary')\n",
    "num_feats.remove('Exited')\n"
   ]
  },
  {
   "cell_type": "code",
   "execution_count": 12,
   "id": "760ef92a",
   "metadata": {},
   "outputs": [
    {
     "data": {
      "image/png": "[encoded data removed]",
      "text/plain": [
       "<Figure size 1500x2500 with 18 Axes>"
      ]
     },
     "metadata": {},
     "output_type": "display_data"
    }
   ],
   "source": [
    "fig, axes = plt.subplots(ncols=2, nrows=len(num_feats), figsize = (15, 25))\n",
    "plt.subplots_adjust(hspace=0.4)\n",
    "\n",
    "for i, feature in enumerate(num_feats):\n",
    "    \n",
    "    # Подготовим данные для построения в процентом выражении (сформируем \n",
    "    # новый ДФ, где значению признака будет соответствать его процент в признаке)\n",
    "    count_data = (churn_data_vis[feature]\n",
    "                  .value_counts(normalize=True)\n",
    "                  .sort_values(ascending=False)\n",
    "                  .rename('percentage')\n",
    "                  .reset_index())\n",
    "    \n",
    "    # Построим столбчатую диаграмму получившегося ДФ (признака)\n",
    "    count_barplot = sns.barplot(\n",
    "        data=count_data, \n",
    "        x=f'{feature}', \n",
    "        y='percentage', \n",
    "        ax=axes[i][0]\n",
    "        )\n",
    "    \n",
    "    # Проименуем оси\n",
    "    count_barplot.set_xlabel(f'{feature}')\n",
    "    count_barplot.set_ylabel('Percentage')\n",
    "    \n",
    "    # Зададим заголовок для столбца графиков\n",
    "    if i == 0:\n",
    "        count_barplot.set_title(\n",
    "            'Распределение признака', \n",
    "            fontsize = 16\n",
    "            )\n",
    "    \n",
    "    # Построим стобчатые даграммы для признаков, \n",
    "    # которые продемострируют долю внутри признака ушедших клиентов\n",
    "    bar_exited = sns.barplot(\n",
    "        data = churn_data_vis,\n",
    "        x = f'{feature}',\n",
    "        y = 'Exited',\n",
    "        ax = axes[i][1],        \n",
    "        )\n",
    "    \n",
    "    # Проименуем оси\n",
    "    bar_exited.set_xlabel(f'{feature}')\n",
    "    \n",
    "    # Зададим заголовок для столбца графиков\n",
    "    if i == 0:\n",
    "        bar_exited.set_title(\n",
    "            'Доля ушедших клиентов в разрезе значений признака', \n",
    "            fontsize = 16\n",
    "            )"
   ]
  },
  {
   "cell_type": "markdown",
   "id": "84bc43d5",
   "metadata": {},
   "source": [
    "По построенным графикам можно увидеть, что: \n",
    "\n",
    "- Четверть женщин - клиентов прекратили пользоваться услугами банка, при этом доля женщин в суммарном выражении клиентов немногим меньше мужской, этот фактор может быть важен.\n",
    "\n",
    "- Распределение признака количества лет, в течении которых клиент имеет отношения с банком примерно одинаковое, за исключением лиц, являющихся клиентами первый год и 10ый год, таких клиентов меньше более чем в половину относительно других групп. А вот что же касается доли ушедших внутри каждой из групп признака - здесь отличительных особенностей не прослеживается. \n",
    "\n",
    "- Подалвяющее большинство клиентов банка пользуются одним либо двумя продуктами банка и эти группы примерно равны (клиентов с двумя продуктами немного меньше). А вот что касается доли ухода, здесь ситуация следующая, все клиенты, имевшие 4 продукта в банке ушли, клиенты же с тремя продуктами так же в большом оттоке - более 80 процентов ушедших. Стоит обратить особое внимание на клиентов с одним продуктом, доля ушедших примерно четверть, при этом, это самая многочисленная группа. \n",
    "\n",
    "- Наличие кредитной карты, вероятно, никак не оказывает влияние на уход, в обоих группах доля ушедших в процентном выражении одинакова. В целом по признаку, пятая часть клиентов имеет кредитную карту, остальные - не имеют. \n",
    "\n",
    "- Про признаку наличия активного статуса клиенты делятся примерно поровну. Но, доля ушедших клиентов больше среди группы не имеющей статус \"активный клиент\", это примерно четверть, когда в группе, имеющий статус \"активный клиент\" доля ушедших составляет около 15 процентов. \n",
    "\n",
    "- Наблюдается наибольший, стопроцентный отток клиентов с низким кредитным рейтингом, но, общее число клиентов этой группы малочисленно, так что этот фактор незначителей, скорее всего. По остальным группам признака особенностей нет. Разве что, стоит обратить внимание на 4-ую группу кредитного рейтинга, т.к. она наиболее многочислена. \n",
    "\n",
    "- Касаемо возраста, наиболее многочисленны возрастные классы 3-6 включительно (что соответствует 25-40 годам), а вот наивысшая доля ухода у клиентов классов 7-10 (45-60 лет).\n",
    "\n",
    "- Примечателен факт, что клиенты с максимальным из представленного уровнями баланса (10, 11 классы) все покинули банк, хоть доля этих клиентов и крайне мала. Лидером по численности же является класс 1 (баланс до 25.000), он же имеет самую низкую долю ухода. Внутри классов 3-8 доля уходов схожа, по численности же из указанных классов лидируют 4-6 классы (100-150 к).\n",
    "\n",
    "- По признаку ожидаемого уровня дохода у клиентов нельзя выделить что-то примечательное. Распределение очень ровное, как по численности групп, так и по доле ушедших клиентов внутри каждой группы."
   ]
  },
  {
   "cell_type": "markdown",
   "id": "8e687f96",
   "metadata": {
    "id": "8e687f96"
   },
   "source": [
    "В модуле по визуализации мы выяснили, что отток в Германии, Франции и Испании имеет различные показатели. Исследователи, которые уже работали с этим датасетом, пришли к выводу, что наилучшее решение при работе с этими данными — строить модели индивидуально для каждой страны. Мы будем прогнозировать отток в немецком филиале банка. Давайте выделим только данные, относящиеся к Германии:"
   ]
  },
  {
   "cell_type": "code",
   "execution_count": 13,
   "id": "4bd5cc7f-5db6-4464-9ccf-f40b9c0c97cb",
   "metadata": {
    "colab": {
     "base_uri": "https://localhost:8080/"
    },
    "executionInfo": {
     "elapsed": 3,
     "status": "ok",
     "timestamp": 1678085431373,
     "user": {
      "displayName": "Андрей Достоевский",
      "userId": "09718989537568551698"
     },
     "user_tz": -180
    },
    "id": "4bd5cc7f-5db6-4464-9ccf-f40b9c0c97cb",
    "outputId": "2adeac9c-d989-4731-cc95-9559e4a0e75f"
   },
   "outputs": [
    {
     "data": {
      "text/plain": [
       "(2509, 14)"
      ]
     },
     "execution_count": 13,
     "metadata": {},
     "output_type": "execute_result"
    }
   ],
   "source": [
    "churn_data = churn_data[churn_data['Geography'] == 'Germany']\n",
    "churn_data.shape"
   ]
  },
  {
   "cell_type": "markdown",
   "id": "faa98fa3",
   "metadata": {
    "id": "faa98fa3"
   },
   "source": [
    "Сразу избавимся от заведомо неинформативных признаков: страна, номер строки, идентификатор пользователя и имя клиента."
   ]
  },
  {
   "cell_type": "code",
   "execution_count": 14,
   "id": "47fd1e77-b9ab-4df6-ab69-c2d0d7411fee",
   "metadata": {
    "colab": {
     "base_uri": "https://localhost:8080/",
     "height": 206
    },
    "executionInfo": {
     "elapsed": 251,
     "status": "ok",
     "timestamp": 1678085432399,
     "user": {
      "displayName": "Андрей Достоевский",
      "userId": "09718989537568551698"
     },
     "user_tz": -180
    },
    "id": "47fd1e77-b9ab-4df6-ab69-c2d0d7411fee",
    "outputId": "ee541ca7-ba13-4f6c-b3c5-7c82bba571b0",
    "tags": []
   },
   "outputs": [
    {
     "data": {
      "text/html": [
       "<div>\n",
       "<style scoped>\n",
       "    .dataframe tbody tr th:only-of-type {\n",
       "        vertical-align: middle;\n",
       "    }\n",
       "\n",
       "    .dataframe tbody tr th {\n",
       "        vertical-align: top;\n",
       "    }\n",
       "\n",
       "    .dataframe thead th {\n",
       "        text-align: right;\n",
       "    }\n",
       "</style>\n",
       "<table border=\"1\" class=\"dataframe\">\n",
       "  <thead>\n",
       "    <tr style=\"text-align: right;\">\n",
       "      <th></th>\n",
       "      <th>CreditScore</th>\n",
       "      <th>Gender</th>\n",
       "      <th>Age</th>\n",
       "      <th>Tenure</th>\n",
       "      <th>Balance</th>\n",
       "      <th>NumOfProducts</th>\n",
       "      <th>HasCrCard</th>\n",
       "      <th>IsActiveMember</th>\n",
       "      <th>EstimatedSalary</th>\n",
       "      <th>Exited</th>\n",
       "    </tr>\n",
       "  </thead>\n",
       "  <tbody>\n",
       "    <tr>\n",
       "      <th>7</th>\n",
       "      <td>376</td>\n",
       "      <td>Female</td>\n",
       "      <td>29</td>\n",
       "      <td>4</td>\n",
       "      <td>115046.74</td>\n",
       "      <td>4</td>\n",
       "      <td>1</td>\n",
       "      <td>0</td>\n",
       "      <td>119346.88</td>\n",
       "      <td>1</td>\n",
       "    </tr>\n",
       "    <tr>\n",
       "      <th>15</th>\n",
       "      <td>616</td>\n",
       "      <td>Male</td>\n",
       "      <td>45</td>\n",
       "      <td>3</td>\n",
       "      <td>143129.41</td>\n",
       "      <td>2</td>\n",
       "      <td>0</td>\n",
       "      <td>1</td>\n",
       "      <td>64327.26</td>\n",
       "      <td>0</td>\n",
       "    </tr>\n",
       "    <tr>\n",
       "      <th>16</th>\n",
       "      <td>653</td>\n",
       "      <td>Male</td>\n",
       "      <td>58</td>\n",
       "      <td>1</td>\n",
       "      <td>132602.88</td>\n",
       "      <td>1</td>\n",
       "      <td>1</td>\n",
       "      <td>0</td>\n",
       "      <td>5097.67</td>\n",
       "      <td>1</td>\n",
       "    </tr>\n",
       "    <tr>\n",
       "      <th>26</th>\n",
       "      <td>756</td>\n",
       "      <td>Male</td>\n",
       "      <td>36</td>\n",
       "      <td>2</td>\n",
       "      <td>136815.64</td>\n",
       "      <td>1</td>\n",
       "      <td>1</td>\n",
       "      <td>1</td>\n",
       "      <td>170041.95</td>\n",
       "      <td>0</td>\n",
       "    </tr>\n",
       "    <tr>\n",
       "      <th>28</th>\n",
       "      <td>574</td>\n",
       "      <td>Female</td>\n",
       "      <td>43</td>\n",
       "      <td>3</td>\n",
       "      <td>141349.43</td>\n",
       "      <td>1</td>\n",
       "      <td>1</td>\n",
       "      <td>1</td>\n",
       "      <td>100187.43</td>\n",
       "      <td>0</td>\n",
       "    </tr>\n",
       "  </tbody>\n",
       "</table>\n",
       "</div>"
      ],
      "text/plain": [
       "    CreditScore  Gender  Age  Tenure    Balance  NumOfProducts  HasCrCard  \\\n",
       "7           376  Female   29       4  115046.74              4          1   \n",
       "15          616    Male   45       3  143129.41              2          0   \n",
       "16          653    Male   58       1  132602.88              1          1   \n",
       "26          756    Male   36       2  136815.64              1          1   \n",
       "28          574  Female   43       3  141349.43              1          1   \n",
       "\n",
       "    IsActiveMember  EstimatedSalary  Exited  \n",
       "7                0        119346.88       1  \n",
       "15               1         64327.26       0  \n",
       "16               0          5097.67       1  \n",
       "26               1        170041.95       0  \n",
       "28               1        100187.43       0  "
      ]
     },
     "execution_count": 14,
     "metadata": {},
     "output_type": "execute_result"
    }
   ],
   "source": [
    "churn_data = churn_data.drop(['Geography', 'RowNumber', 'CustomerId', 'Surname'], axis=1)\n",
    "churn_data.head()"
   ]
  },
  {
   "cell_type": "markdown",
   "id": "c2ef5b16",
   "metadata": {
    "id": "c2ef5b16"
   },
   "source": [
    "Проверим, что в наших данных нет пропусков:"
   ]
  },
  {
   "cell_type": "code",
   "execution_count": 15,
   "id": "164b1772-00c0-4cb7-9e05-ee9d9f7953d8",
   "metadata": {
    "colab": {
     "base_uri": "https://localhost:8080/"
    },
    "executionInfo": {
     "elapsed": 2,
     "status": "ok",
     "timestamp": 1678085433267,
     "user": {
      "displayName": "Андрей Достоевский",
      "userId": "09718989537568551698"
     },
     "user_tz": -180
    },
    "id": "164b1772-00c0-4cb7-9e05-ee9d9f7953d8",
    "outputId": "f8b2ff23-e81b-4f65-cd13-54655bb04fb0"
   },
   "outputs": [
    {
     "data": {
      "text/plain": [
       "CreditScore        0\n",
       "Gender             0\n",
       "Age                0\n",
       "Tenure             0\n",
       "Balance            0\n",
       "NumOfProducts      0\n",
       "HasCrCard          0\n",
       "IsActiveMember     0\n",
       "EstimatedSalary    0\n",
       "Exited             0\n",
       "dtype: int64"
      ]
     },
     "execution_count": 15,
     "metadata": {},
     "output_type": "execute_result"
    }
   ],
   "source": [
    "churn_data.isnull().sum()"
   ]
  },
  {
   "cell_type": "markdown",
   "id": "06cc2b0f",
   "metadata": {
    "id": "06cc2b0f"
   },
   "source": [
    "Проверим, что в наших данных нет дубликатов:"
   ]
  },
  {
   "cell_type": "code",
   "execution_count": 16,
   "id": "38127c2b",
   "metadata": {
    "colab": {
     "base_uri": "https://localhost:8080/"
    },
    "executionInfo": {
     "elapsed": 2,
     "status": "ok",
     "timestamp": 1678085433787,
     "user": {
      "displayName": "Андрей Достоевский",
      "userId": "09718989537568551698"
     },
     "user_tz": -180
    },
    "id": "38127c2b",
    "outputId": "9b563c30-2343-4aad-c484-feef7b7095df"
   },
   "outputs": [
    {
     "data": {
      "text/plain": [
       "CreditScore          0\n",
       "Gender               0\n",
       "Age                  0\n",
       "Tenure               0\n",
       "Balance            0.0\n",
       "NumOfProducts        0\n",
       "HasCrCard            0\n",
       "IsActiveMember       0\n",
       "EstimatedSalary    0.0\n",
       "Exited               0\n",
       "dtype: object"
      ]
     },
     "execution_count": 16,
     "metadata": {},
     "output_type": "execute_result"
    }
   ],
   "source": [
    "churn_data[churn_data.duplicated()].sum()"
   ]
  },
  {
   "cell_type": "markdown",
   "id": "2cff3b2c",
   "metadata": {
    "id": "2cff3b2c"
   },
   "source": [
    "### Задание 5.1 (1 балл)\n",
    "\n",
    "Давайте сделаем предобработку данных. \n",
    "\n",
    "Для начала расширим датасет с помощью методов Feature Engineering. Создайте следующие признаки:\n",
    "* `BalanceSalaryRatio` — отношение баланса на счетах к заработной плате клиента;\n",
    "* `TenureByAge` — отношение времени пользования услугами банка к возрасту клиента;\n",
    "* `CreditScoreGivenAge` — отношение кредитного рейтинга к возрасту клиента.\n",
    "\n",
    "Затем перекодируйте оставшиеся текстовые категориальные признаки в числовые бинарные столбцы.\n",
    "\n",
    "Выведите основные статистические характеристики полученных признаков."
   ]
  },
  {
   "cell_type": "markdown",
   "id": "f34dcdf2",
   "metadata": {
    "id": "f34dcdf2"
   },
   "source": [
    "**Критерии оценивания:**\n",
    "- Задание выполнено верно, учтены все условия (**1 балл**): \n",
    "    * приведён код для создания указанных в задании признаков;\n",
    "    * приведён код для кодирования категориальных признаков в числовые бинарные столбцы;\n",
    "    * приведён код для расчёта основных статистических характеристик полученных признаков.\n",
    "\n",
    "- Задание выполнено неверно, не учтено одно или несколько условий (**0 баллов**)."
   ]
  },
  {
   "cell_type": "code",
   "execution_count": 17,
   "id": "beb1eb33",
   "metadata": {
    "id": "beb1eb33"
   },
   "outputs": [],
   "source": [
    "# Создадим новые признаки:\n",
    "\n",
    "# отношение баланса на счетах к заработной плате клиента \n",
    "churn_data['BalanceSalaryRatio'] = \\\n",
    "    churn_data['Balance'] / churn_data['EstimatedSalary']\n",
    "\n",
    "# отношение времени пользования услугами банка к возрасту клиента \n",
    "churn_data['TenureByAge'] = \\\n",
    "    churn_data['Tenure'] / churn_data['Age']\n",
    "\n",
    "# отношение кредитного рейтинга к возрасту клиента \n",
    "churn_data['CreditScoreGivenAge'] = \\\n",
    "    churn_data['CreditScore'] / churn_data['Age']   "
   ]
  },
  {
   "cell_type": "code",
   "execution_count": 18,
   "id": "b38532d6",
   "metadata": {},
   "outputs": [],
   "source": [
    "# Кодировка оставшегося текстового признака в бинарную величину\n",
    "churn_data['Gender'] = churn_data['Gender'].map(lambda x: 1 if x == 'Male' else 0)"
   ]
  },
  {
   "cell_type": "code",
   "execution_count": 19,
   "id": "321e19e8",
   "metadata": {},
   "outputs": [
    {
     "name": "stdout",
     "output_type": "stream",
     "text": [
      "<class 'pandas.core.frame.DataFrame'>\n",
      "Index: 2509 entries, 7 to 9998\n",
      "Data columns (total 13 columns):\n",
      " #   Column               Non-Null Count  Dtype  \n",
      "---  ------               --------------  -----  \n",
      " 0   CreditScore          2509 non-null   int64  \n",
      " 1   Gender               2509 non-null   int64  \n",
      " 2   Age                  2509 non-null   int64  \n",
      " 3   Tenure               2509 non-null   int64  \n",
      " 4   Balance              2509 non-null   float64\n",
      " 5   NumOfProducts        2509 non-null   int64  \n",
      " 6   HasCrCard            2509 non-null   int64  \n",
      " 7   IsActiveMember       2509 non-null   int64  \n",
      " 8   EstimatedSalary      2509 non-null   float64\n",
      " 9   Exited               2509 non-null   int64  \n",
      " 10  BalanceSalaryRatio   2509 non-null   float64\n",
      " 11  TenureByAge          2509 non-null   float64\n",
      " 12  CreditScoreGivenAge  2509 non-null   float64\n",
      "dtypes: float64(5), int64(8)\n",
      "memory usage: 274.4 KB\n"
     ]
    }
   ],
   "source": [
    "# Проверим типы данных получившегося ДФ\n",
    "churn_data.info()"
   ]
  },
  {
   "cell_type": "code",
   "execution_count": 20,
   "id": "3b880f8d",
   "metadata": {},
   "outputs": [
    {
     "data": {
      "text/html": [
       "<div>\n",
       "<style scoped>\n",
       "    .dataframe tbody tr th:only-of-type {\n",
       "        vertical-align: middle;\n",
       "    }\n",
       "\n",
       "    .dataframe tbody tr th {\n",
       "        vertical-align: top;\n",
       "    }\n",
       "\n",
       "    .dataframe thead th {\n",
       "        text-align: right;\n",
       "    }\n",
       "</style>\n",
       "<table border=\"1\" class=\"dataframe\">\n",
       "  <thead>\n",
       "    <tr style=\"text-align: right;\">\n",
       "      <th></th>\n",
       "      <th>CreditScore</th>\n",
       "      <th>Gender</th>\n",
       "      <th>Age</th>\n",
       "      <th>Tenure</th>\n",
       "      <th>Balance</th>\n",
       "      <th>NumOfProducts</th>\n",
       "      <th>HasCrCard</th>\n",
       "      <th>IsActiveMember</th>\n",
       "      <th>EstimatedSalary</th>\n",
       "      <th>Exited</th>\n",
       "      <th>BalanceSalaryRatio</th>\n",
       "      <th>TenureByAge</th>\n",
       "      <th>CreditScoreGivenAge</th>\n",
       "    </tr>\n",
       "  </thead>\n",
       "  <tbody>\n",
       "    <tr>\n",
       "      <th>count</th>\n",
       "      <td>2509.000000</td>\n",
       "      <td>2509.000000</td>\n",
       "      <td>2509.000000</td>\n",
       "      <td>2509.000000</td>\n",
       "      <td>2509.000000</td>\n",
       "      <td>2509.000000</td>\n",
       "      <td>2509.00000</td>\n",
       "      <td>2509.000000</td>\n",
       "      <td>2509.000000</td>\n",
       "      <td>2509.000000</td>\n",
       "      <td>2509.000000</td>\n",
       "      <td>2509.000000</td>\n",
       "      <td>2509.000000</td>\n",
       "    </tr>\n",
       "    <tr>\n",
       "      <th>mean</th>\n",
       "      <td>651.453567</td>\n",
       "      <td>0.524512</td>\n",
       "      <td>39.771622</td>\n",
       "      <td>5.009964</td>\n",
       "      <td>119730.116134</td>\n",
       "      <td>1.519729</td>\n",
       "      <td>0.71383</td>\n",
       "      <td>0.497409</td>\n",
       "      <td>101113.435102</td>\n",
       "      <td>0.324432</td>\n",
       "      <td>9.024870</td>\n",
       "      <td>0.134303</td>\n",
       "      <td>17.526487</td>\n",
       "    </tr>\n",
       "    <tr>\n",
       "      <th>std</th>\n",
       "      <td>98.168937</td>\n",
       "      <td>0.499498</td>\n",
       "      <td>10.519143</td>\n",
       "      <td>2.935154</td>\n",
       "      <td>27022.006157</td>\n",
       "      <td>0.619420</td>\n",
       "      <td>0.45206</td>\n",
       "      <td>0.500093</td>\n",
       "      <td>58263.011501</td>\n",
       "      <td>0.468256</td>\n",
       "      <td>214.286020</td>\n",
       "      <td>0.087680</td>\n",
       "      <td>5.349558</td>\n",
       "    </tr>\n",
       "    <tr>\n",
       "      <th>min</th>\n",
       "      <td>350.000000</td>\n",
       "      <td>0.000000</td>\n",
       "      <td>18.000000</td>\n",
       "      <td>0.000000</td>\n",
       "      <td>27288.430000</td>\n",
       "      <td>1.000000</td>\n",
       "      <td>0.00000</td>\n",
       "      <td>0.000000</td>\n",
       "      <td>11.580000</td>\n",
       "      <td>0.000000</td>\n",
       "      <td>0.192582</td>\n",
       "      <td>0.000000</td>\n",
       "      <td>6.112676</td>\n",
       "    </tr>\n",
       "    <tr>\n",
       "      <th>25%</th>\n",
       "      <td>584.000000</td>\n",
       "      <td>0.000000</td>\n",
       "      <td>32.000000</td>\n",
       "      <td>2.000000</td>\n",
       "      <td>102800.720000</td>\n",
       "      <td>1.000000</td>\n",
       "      <td>0.00000</td>\n",
       "      <td>0.000000</td>\n",
       "      <td>51016.020000</td>\n",
       "      <td>0.000000</td>\n",
       "      <td>0.783284</td>\n",
       "      <td>0.060606</td>\n",
       "      <td>13.686275</td>\n",
       "    </tr>\n",
       "    <tr>\n",
       "      <th>50%</th>\n",
       "      <td>651.000000</td>\n",
       "      <td>1.000000</td>\n",
       "      <td>38.000000</td>\n",
       "      <td>5.000000</td>\n",
       "      <td>119703.100000</td>\n",
       "      <td>1.000000</td>\n",
       "      <td>1.00000</td>\n",
       "      <td>0.000000</td>\n",
       "      <td>102397.220000</td>\n",
       "      <td>0.000000</td>\n",
       "      <td>1.197220</td>\n",
       "      <td>0.125000</td>\n",
       "      <td>16.857143</td>\n",
       "    </tr>\n",
       "    <tr>\n",
       "      <th>75%</th>\n",
       "      <td>722.000000</td>\n",
       "      <td>1.000000</td>\n",
       "      <td>45.000000</td>\n",
       "      <td>8.000000</td>\n",
       "      <td>137560.380000</td>\n",
       "      <td>2.000000</td>\n",
       "      <td>1.00000</td>\n",
       "      <td>1.000000</td>\n",
       "      <td>151083.800000</td>\n",
       "      <td>1.000000</td>\n",
       "      <td>2.400083</td>\n",
       "      <td>0.200000</td>\n",
       "      <td>20.852941</td>\n",
       "    </tr>\n",
       "    <tr>\n",
       "      <th>max</th>\n",
       "      <td>850.000000</td>\n",
       "      <td>1.000000</td>\n",
       "      <td>84.000000</td>\n",
       "      <td>10.000000</td>\n",
       "      <td>214346.960000</td>\n",
       "      <td>4.000000</td>\n",
       "      <td>1.00000</td>\n",
       "      <td>1.000000</td>\n",
       "      <td>199970.740000</td>\n",
       "      <td>1.000000</td>\n",
       "      <td>10614.655440</td>\n",
       "      <td>0.500000</td>\n",
       "      <td>46.388889</td>\n",
       "    </tr>\n",
       "  </tbody>\n",
       "</table>\n",
       "</div>"
      ],
      "text/plain": [
       "       CreditScore       Gender          Age       Tenure        Balance  \\\n",
       "count  2509.000000  2509.000000  2509.000000  2509.000000    2509.000000   \n",
       "mean    651.453567     0.524512    39.771622     5.009964  119730.116134   \n",
       "std      98.168937     0.499498    10.519143     2.935154   27022.006157   \n",
       "min     350.000000     0.000000    18.000000     0.000000   27288.430000   \n",
       "25%     584.000000     0.000000    32.000000     2.000000  102800.720000   \n",
       "50%     651.000000     1.000000    38.000000     5.000000  119703.100000   \n",
       "75%     722.000000     1.000000    45.000000     8.000000  137560.380000   \n",
       "max     850.000000     1.000000    84.000000    10.000000  214346.960000   \n",
       "\n",
       "       NumOfProducts   HasCrCard  IsActiveMember  EstimatedSalary  \\\n",
       "count    2509.000000  2509.00000     2509.000000      2509.000000   \n",
       "mean        1.519729     0.71383        0.497409    101113.435102   \n",
       "std         0.619420     0.45206        0.500093     58263.011501   \n",
       "min         1.000000     0.00000        0.000000        11.580000   \n",
       "25%         1.000000     0.00000        0.000000     51016.020000   \n",
       "50%         1.000000     1.00000        0.000000    102397.220000   \n",
       "75%         2.000000     1.00000        1.000000    151083.800000   \n",
       "max         4.000000     1.00000        1.000000    199970.740000   \n",
       "\n",
       "            Exited  BalanceSalaryRatio  TenureByAge  CreditScoreGivenAge  \n",
       "count  2509.000000         2509.000000  2509.000000          2509.000000  \n",
       "mean      0.324432            9.024870     0.134303            17.526487  \n",
       "std       0.468256          214.286020     0.087680             5.349558  \n",
       "min       0.000000            0.192582     0.000000             6.112676  \n",
       "25%       0.000000            0.783284     0.060606            13.686275  \n",
       "50%       0.000000            1.197220     0.125000            16.857143  \n",
       "75%       1.000000            2.400083     0.200000            20.852941  \n",
       "max       1.000000        10614.655440     0.500000            46.388889  "
      ]
     },
     "execution_count": 20,
     "metadata": {},
     "output_type": "execute_result"
    }
   ],
   "source": [
    "# Выведем основую статистическую информацию по признакам ДФ\n",
    "churn_data.describe()"
   ]
  },
  {
   "cell_type": "code",
   "execution_count": 21,
   "id": "1aae2efe",
   "metadata": {},
   "outputs": [
    {
     "data": {
      "text/html": [
       "<div>\n",
       "<style scoped>\n",
       "    .dataframe tbody tr th:only-of-type {\n",
       "        vertical-align: middle;\n",
       "    }\n",
       "\n",
       "    .dataframe tbody tr th {\n",
       "        vertical-align: top;\n",
       "    }\n",
       "\n",
       "    .dataframe thead th {\n",
       "        text-align: right;\n",
       "    }\n",
       "</style>\n",
       "<table border=\"1\" class=\"dataframe\">\n",
       "  <thead>\n",
       "    <tr style=\"text-align: right;\">\n",
       "      <th></th>\n",
       "      <th>CreditScore</th>\n",
       "      <th>Gender</th>\n",
       "      <th>Age</th>\n",
       "      <th>Tenure</th>\n",
       "      <th>Balance</th>\n",
       "      <th>NumOfProducts</th>\n",
       "      <th>HasCrCard</th>\n",
       "      <th>IsActiveMember</th>\n",
       "      <th>EstimatedSalary</th>\n",
       "      <th>Exited</th>\n",
       "      <th>BalanceSalaryRatio</th>\n",
       "      <th>TenureByAge</th>\n",
       "      <th>CreditScoreGivenAge</th>\n",
       "    </tr>\n",
       "  </thead>\n",
       "  <tbody>\n",
       "    <tr>\n",
       "      <th>7</th>\n",
       "      <td>376</td>\n",
       "      <td>0</td>\n",
       "      <td>29</td>\n",
       "      <td>4</td>\n",
       "      <td>115046.74</td>\n",
       "      <td>4</td>\n",
       "      <td>1</td>\n",
       "      <td>0</td>\n",
       "      <td>119346.88</td>\n",
       "      <td>1</td>\n",
       "      <td>0.963969</td>\n",
       "      <td>0.137931</td>\n",
       "      <td>12.965517</td>\n",
       "    </tr>\n",
       "    <tr>\n",
       "      <th>15</th>\n",
       "      <td>616</td>\n",
       "      <td>1</td>\n",
       "      <td>45</td>\n",
       "      <td>3</td>\n",
       "      <td>143129.41</td>\n",
       "      <td>2</td>\n",
       "      <td>0</td>\n",
       "      <td>1</td>\n",
       "      <td>64327.26</td>\n",
       "      <td>0</td>\n",
       "      <td>2.225020</td>\n",
       "      <td>0.066667</td>\n",
       "      <td>13.688889</td>\n",
       "    </tr>\n",
       "    <tr>\n",
       "      <th>16</th>\n",
       "      <td>653</td>\n",
       "      <td>1</td>\n",
       "      <td>58</td>\n",
       "      <td>1</td>\n",
       "      <td>132602.88</td>\n",
       "      <td>1</td>\n",
       "      <td>1</td>\n",
       "      <td>0</td>\n",
       "      <td>5097.67</td>\n",
       "      <td>1</td>\n",
       "      <td>26.012449</td>\n",
       "      <td>0.017241</td>\n",
       "      <td>11.258621</td>\n",
       "    </tr>\n",
       "    <tr>\n",
       "      <th>26</th>\n",
       "      <td>756</td>\n",
       "      <td>1</td>\n",
       "      <td>36</td>\n",
       "      <td>2</td>\n",
       "      <td>136815.64</td>\n",
       "      <td>1</td>\n",
       "      <td>1</td>\n",
       "      <td>1</td>\n",
       "      <td>170041.95</td>\n",
       "      <td>0</td>\n",
       "      <td>0.804599</td>\n",
       "      <td>0.055556</td>\n",
       "      <td>21.000000</td>\n",
       "    </tr>\n",
       "    <tr>\n",
       "      <th>28</th>\n",
       "      <td>574</td>\n",
       "      <td>0</td>\n",
       "      <td>43</td>\n",
       "      <td>3</td>\n",
       "      <td>141349.43</td>\n",
       "      <td>1</td>\n",
       "      <td>1</td>\n",
       "      <td>1</td>\n",
       "      <td>100187.43</td>\n",
       "      <td>0</td>\n",
       "      <td>1.410850</td>\n",
       "      <td>0.069767</td>\n",
       "      <td>13.348837</td>\n",
       "    </tr>\n",
       "  </tbody>\n",
       "</table>\n",
       "</div>"
      ],
      "text/plain": [
       "    CreditScore  Gender  Age  Tenure    Balance  NumOfProducts  HasCrCard  \\\n",
       "7           376       0   29       4  115046.74              4          1   \n",
       "15          616       1   45       3  143129.41              2          0   \n",
       "16          653       1   58       1  132602.88              1          1   \n",
       "26          756       1   36       2  136815.64              1          1   \n",
       "28          574       0   43       3  141349.43              1          1   \n",
       "\n",
       "    IsActiveMember  EstimatedSalary  Exited  BalanceSalaryRatio  TenureByAge  \\\n",
       "7                0        119346.88       1            0.963969     0.137931   \n",
       "15               1         64327.26       0            2.225020     0.066667   \n",
       "16               0          5097.67       1           26.012449     0.017241   \n",
       "26               1        170041.95       0            0.804599     0.055556   \n",
       "28               1        100187.43       0            1.410850     0.069767   \n",
       "\n",
       "    CreditScoreGivenAge  \n",
       "7             12.965517  \n",
       "15            13.688889  \n",
       "16            11.258621  \n",
       "26            21.000000  \n",
       "28            13.348837  "
      ]
     },
     "execution_count": 21,
     "metadata": {},
     "output_type": "execute_result"
    }
   ],
   "source": [
    "churn_data.head()"
   ]
  },
  {
   "cell_type": "markdown",
   "id": "9cf0fd33",
   "metadata": {
    "id": "9cf0fd33"
   },
   "source": [
    "Разделим исходный набор данных на матрицу наблюдений `X` (фичи) и столбец ответов `y` (таргет). "
   ]
  },
  {
   "cell_type": "code",
   "execution_count": 22,
   "id": "a282c11f-485c-4148-be08-609ceee1cf8f",
   "metadata": {
    "id": "a282c11f-485c-4148-be08-609ceee1cf8f"
   },
   "outputs": [],
   "source": [
    "X = churn_data.drop(\"Exited\", axis=1)\n",
    "y = churn_data[\"Exited\"]"
   ]
  },
  {
   "cell_type": "markdown",
   "id": "d5c1b75a",
   "metadata": {
    "id": "d5c1b75a"
   },
   "source": [
    "Прежде чем перейти к этапу разделения выборки на тренировочную и тестовую, давайте посмотрим на сбалансированность данных. Для этого воспользуемся методом `value_counts()` и выведем количество наблюдений каждого из классов в долевом соотношении от общего количества наблюдений:"
   ]
  },
  {
   "cell_type": "code",
   "execution_count": 23,
   "id": "8940b979-7d39-4bf1-93b0-e1b41d7ed78b",
   "metadata": {
    "colab": {
     "base_uri": "https://localhost:8080/"
    },
    "executionInfo": {
     "elapsed": 1,
     "status": "ok",
     "timestamp": 1678085438382,
     "user": {
      "displayName": "Андрей Достоевский",
      "userId": "09718989537568551698"
     },
     "user_tz": -180
    },
    "id": "8940b979-7d39-4bf1-93b0-e1b41d7ed78b",
    "outputId": "a5f5b8c3-09d7-421c-e46f-2c024d77da2e"
   },
   "outputs": [
    {
     "data": {
      "text/plain": [
       "Exited\n",
       "0    0.675568\n",
       "1    0.324432\n",
       "Name: proportion, dtype: float64"
      ]
     },
     "execution_count": 23,
     "metadata": {},
     "output_type": "execute_result"
    }
   ],
   "source": [
    "y.value_counts(normalize=True)"
   ]
  },
  {
   "cell_type": "markdown",
   "id": "ef964f7a",
   "metadata": {
    "id": "ef964f7a"
   },
   "source": [
    "Очевидно, что классы не сбалансированы. Ушедших пользователей 32 %, в то время как лояльных — 68 %.\n"
   ]
  },
  {
   "cell_type": "markdown",
   "id": "bfeb6192",
   "metadata": {
    "id": "bfeb6192"
   },
   "source": [
    "**К чему это может привести?**\n",
    "\n",
    "При разделении набора данных на тренировочный и тестовый может возникнуть такая ситуация, что в тренировочную выборку попадут только лояльные клиенты или их большая часть. Тогда модель может не научиться определять вероятность оттока и качество на тестовой выборке будет неудовлетворительным.\n",
    "\n",
    "Или противоположная ситуация: в тестовую выборку попадут только лояльные клиенты. Тогда модель будет показывать отличное качество на тестовой выборке, но в реальных условиях она может оказаться бесполезной.\n",
    "\n",
    "То есть нам нужно сделать так, чтобы в тренировочной и тестовой выборке было одинаковое соотношение лояльных и ушедших клиентов. Такое разбиение выборки называется **стратифицированным**. \n",
    "\n",
    "Функция `train_test_split()` из библиотеки `sklearn` умеет производить такое разбиение. Для этого в ней предусмотрен параметр `stratify`, который нужно выставить в значение признака, который должен иметь одинаковые соотношения в тренировочной и тестовой выборке. У нас этот признак - это целевой признак y. \n",
    "\n",
    "Выполним разбиение, установив значение параметра `random_state` на 0:\n"
   ]
  },
  {
   "cell_type": "code",
   "execution_count": 24,
   "id": "8324900d-fd13-43b4-b025-5578d6e024ef",
   "metadata": {
    "colab": {
     "base_uri": "https://localhost:8080/"
    },
    "executionInfo": {
     "elapsed": 352,
     "status": "ok",
     "timestamp": 1678085440085,
     "user": {
      "displayName": "Андрей Достоевский",
      "userId": "09718989537568551698"
     },
     "user_tz": -180
    },
    "id": "8324900d-fd13-43b4-b025-5578d6e024ef",
    "outputId": "93fa8322-679a-4ec6-a8a2-10ce12d3e675"
   },
   "outputs": [
    {
     "name": "stdout",
     "output_type": "stream",
     "text": [
      "Train shape: (1881, 12)\n",
      "Test shape: (628, 12)\n"
     ]
    }
   ],
   "source": [
    "X_train, X_test, y_train, y_test = model_selection.train_test_split(\n",
    "    X, y, \n",
    "    stratify=y, \n",
    "    random_state=0\n",
    ")\n",
    "print('Train shape: {}'.format(X_train.shape))\n",
    "print('Test shape: {}'.format(X_test.shape))"
   ]
  },
  {
   "cell_type": "markdown",
   "id": "14b621e0",
   "metadata": {
    "id": "14b621e0"
   },
   "source": [
    "Проверим, что число лояльных и ушедших клиентов примерно одинаково в каждой из выборок:"
   ]
  },
  {
   "cell_type": "code",
   "execution_count": 25,
   "id": "1c34715f-9a79-490f-866a-72c596c6a0dd",
   "metadata": {
    "colab": {
     "base_uri": "https://localhost:8080/",
     "height": 191
    },
    "executionInfo": {
     "elapsed": 217,
     "status": "ok",
     "timestamp": 1678085441654,
     "user": {
      "displayName": "Андрей Достоевский",
      "userId": "09718989537568551698"
     },
     "user_tz": -180
    },
    "id": "1c34715f-9a79-490f-866a-72c596c6a0dd",
    "outputId": "dd6e6ced-54aa-4606-9798-cb276f0386b8"
   },
   "outputs": [
    {
     "name": "stdout",
     "output_type": "stream",
     "text": [
      "Train :\n"
     ]
    },
    {
     "data": {
      "text/plain": [
       "Exited\n",
       "0    0.675704\n",
       "1    0.324296\n",
       "Name: proportion, dtype: float64"
      ]
     },
     "metadata": {},
     "output_type": "display_data"
    },
    {
     "name": "stdout",
     "output_type": "stream",
     "text": [
      "\n",
      "\n",
      "Test :\n"
     ]
    },
    {
     "data": {
      "text/plain": [
       "Exited\n",
       "0    0.675159\n",
       "1    0.324841\n",
       "Name: proportion, dtype: float64"
      ]
     },
     "metadata": {},
     "output_type": "display_data"
    }
   ],
   "source": [
    "print('Train :')\n",
    "display(y_train.value_counts(normalize=True))\n",
    "print('\\n')\n",
    "print('Test :', )\n",
    "display(y_test.value_counts(normalize=True))"
   ]
  },
  {
   "cell_type": "markdown",
   "id": "76401ead",
   "metadata": {
    "id": "76401ead"
   },
   "source": [
    "Соотношения одинаковы, а значит, мы можем перейти к следующему шагу."
   ]
  },
  {
   "cell_type": "markdown",
   "id": "0f623386",
   "metadata": {
    "id": "0f623386"
   },
   "source": [
    "### Задание 5.2 (1 балл)\n",
    "\n",
    "Позаботьтесь о масштабировании признаков. Проведите нормализацию/стандартизацию матрицы наблюдений `X` с помощью `MinMaxScaler`/`RobustScaler` или `StandardScaler`. Выберите метод самостоятельно.\n",
    "\n",
    "Обучите один из предложенных скейлеров на тренировочной выборке (вычислите параметры трансформации) и примените трансформацию данных к тренировочной и тестовой выборкам."
   ]
  },
  {
   "cell_type": "markdown",
   "id": "dda27421",
   "metadata": {
    "id": "dda27421"
   },
   "source": [
    "**Критерии оценивания:**\n",
    "- Задание выполнено верно, учтены все условия (**1 балл**): \n",
    "    * приведён код для создания одного из вариантов скейлеров для масштабирования данных;\n",
    "    * приведён код для расчёта параметров трансформации (обучение скейлера) на тренировочной выборке;\n",
    "    * приведён код для трансформации тренировочных и тестовых данных (признаков) в соответствии с вычисленными параметрами.\n",
    "\n",
    "- Задание выполнено неверно, не учтено одно или несколько условий (**0 баллов**)."
   ]
  },
  {
   "cell_type": "markdown",
   "id": "d8aba0d4",
   "metadata": {},
   "source": [
    "Для выбора способа масштабирования для начала определим как распределены наши данные. Проверим распределение значений признаков факторов (датафрейм X).\n",
    "Так как число экземпляров ниже 5000, воспользуемся тестом Шапиро-Уилка."
   ]
  },
  {
   "cell_type": "code",
   "execution_count": 26,
   "id": "0e1f264e",
   "metadata": {
    "id": "0e1f264e"
   },
   "outputs": [
    {
     "name": "stdout",
     "output_type": "stream",
     "text": [
      "p-value = 0.000\n",
      "p-значение меньше, чем заданный уровень значимости 0.05. Распределение CreditScore отлично от нормального\n",
      "p-value = 0.000\n",
      "p-значение меньше, чем заданный уровень значимости 0.05. Распределение Gender отлично от нормального\n",
      "p-value = 0.000\n",
      "p-значение меньше, чем заданный уровень значимости 0.05. Распределение Age отлично от нормального\n",
      "p-value = 0.000\n",
      "p-значение меньше, чем заданный уровень значимости 0.05. Распределение Tenure отлично от нормального\n",
      "p-value = 0.002\n",
      "p-значение меньше, чем заданный уровень значимости 0.05. Распределение Balance отлично от нормального\n",
      "p-value = 0.000\n",
      "p-значение меньше, чем заданный уровень значимости 0.05. Распределение NumOfProducts отлично от нормального\n",
      "p-value = 0.000\n",
      "p-значение меньше, чем заданный уровень значимости 0.05. Распределение HasCrCard отлично от нормального\n",
      "p-value = 0.000\n",
      "p-значение меньше, чем заданный уровень значимости 0.05. Распределение IsActiveMember отлично от нормального\n",
      "p-value = 0.000\n",
      "p-значение меньше, чем заданный уровень значимости 0.05. Распределение EstimatedSalary отлично от нормального\n",
      "p-value = 0.000\n",
      "p-значение меньше, чем заданный уровень значимости 0.05. Распределение BalanceSalaryRatio отлично от нормального\n",
      "p-value = 0.000\n",
      "p-значение меньше, чем заданный уровень значимости 0.05. Распределение TenureByAge отлично от нормального\n",
      "p-value = 0.000\n",
      "p-значение меньше, чем заданный уровень значимости 0.05. Распределение CreditScoreGivenAge отлично от нормального\n"
     ]
    }
   ],
   "source": [
    "# Ваш код здесь\n",
    "\n",
    "# Импорт необходимого модуля библиотеки\n",
    "from scipy import stats\n",
    "\n",
    "# Задаем коэфициент значимости\n",
    "alpha = 0.05\n",
    "\n",
    "# Функция определения распределения, вывод итога на печать\n",
    "def decision_normality(p):\n",
    "    print('p-value = {:.3f}'.format(p))\n",
    "    if p <= alpha:\n",
    "        print('p-значение меньше, чем заданный уровень значимости {:.2f}.'\n",
    "            ' Распределение {} отлично от нормального'.format(alpha, feat))\n",
    "    else:\n",
    "        print('p-значение больше, чем заданный уровень значимости {:.2f}.'\n",
    "            ' Распределение {} является нормальным'.format(alpha, feat))\n",
    "\n",
    "# Список признаков\n",
    "X_cols = list(X.columns)\n",
    "\n",
    "# Циклом вычислим p - значение распределения значений признаков\n",
    "for feat in X_cols:\n",
    "    data_to_check = X[f'{feat}'].values\n",
    "    result = stats.shapiro(data_to_check)\n",
    "    decision_normality(result[1])"
   ]
  },
  {
   "cell_type": "markdown",
   "id": "81760073",
   "metadata": {},
   "source": [
    "На данном этапе мы выяснили, что ввиду отсутствия нормального рапсределения в значениях признаков применение такого метода масштабирования, как стандартизация невозможно. \n",
    "\n",
    "В таком случае осталось определиться какими методами из нормализации мы сможем воспользоваться. Ключевым в данном случае является наличие выбросов в данных каждого признака. \n",
    "\n",
    "Для этого произведем следующие действия: \n",
    "- Создадим три списка, в которые занесем названия признаков:\n",
    "    - Список бинарных данных; \n",
    "    - список данных без выбросов, к которым можно применить метод нормализации MinMax;\n",
    "    - список данных с выбросами, к которым можно применить метод нормализации Robust.\n",
    "- Напишем и применим функцию, определяющую выбросы в данных. Выбросами будут считаться данные ушедшие за границы 3-ех межвартильных размахов.\n",
    "- По созданным спискам произведем масштабирование данных, обучив их на учебной выборке. Масштабирование произведем отдельно тренировочной и тестовой выборок. "
   ]
  },
  {
   "cell_type": "code",
   "execution_count": 27,
   "id": "d6356dc9",
   "metadata": {},
   "outputs": [
    {
     "name": "stdout",
     "output_type": "stream",
     "text": [
      "В значениях признака CreditScore 4 выбросов.\n",
      "В значениях признака Age 70 выбросов.\n",
      "В значениях признака Tenure выбросов нет.\n",
      "В значениях признака Balance 33 выбросов.\n",
      "В значениях признака NumOfProducts 24 выбросов.\n",
      "В значениях признака EstimatedSalary выбросов нет.\n",
      "В значениях признака BalanceSalaryRatio 298 выбросов.\n",
      "В значениях признака TenureByAge 11 выбросов.\n",
      "В значениях признака CreditScoreGivenAge 38 выбросов.\n"
     ]
    }
   ],
   "source": [
    "# Пустые списки, занесем сюда названия признаков в зависимости \n",
    "# от типа значений и от наличия выбросов в данных\n",
    "binary_feat_list = []\n",
    "no_outlier_feat_list = []\n",
    "with_outlier_feat_list = []\n",
    "\n",
    "# Функция определения наличия выбросов \n",
    "def outlier_detection(feat):\n",
    "    \"\"\"Функкция для определения наличия выбросов в \n",
    "    данных признака ДФ. Используется определение данных вне \n",
    "    трех межквартильных размахов. \n",
    "    Так же, первым этапом отсекаются бинарные признаки. \n",
    "    Итог: занесение названий признаков в соответствующие списки\n",
    "\n",
    "    Args:\n",
    "        feat (str): Название признака ДФ\n",
    "    \"\"\"\n",
    "    \n",
    "    # Проверка на бинарность признака\n",
    "    if X[f'{feat}'].nunique() <= 2:\n",
    "        binary_feat_list.append(feat)\n",
    "    \n",
    "    else:\n",
    "        # Вычисление границ выбросов (\"усов\") \n",
    "        x_25 = X[f'{feat}'].quantile(0.25)\n",
    "        x_75 = X[f'{feat}'].quantile(0.75)\n",
    "        left_board = x_25 - 1.5*(x_75 - x_25)\n",
    "        right_board = x_75 + 1.5*(x_75 - x_25)\n",
    "        \n",
    "        # Счетчик для подсчета выбросов\n",
    "        outlier_counter = 0\n",
    "        \n",
    "        # Проверка значений признака на нахождение внутри границ 3х \n",
    "        # межквартильных размахов\n",
    "        for elem in X[f'{feat}']:\n",
    "            if elem < left_board or elem > right_board:\n",
    "                outlier_counter += 1\n",
    "        \n",
    "        # Занесение названия признака в соответствующий список, \n",
    "        # вывод итоговой информации по признаку на экран        \n",
    "        if outlier_counter != 0:\n",
    "            print(f'В значениях признака {feat} {outlier_counter} выбросов.')\n",
    "            with_outlier_feat_list.append(feat)\n",
    "        else:\n",
    "            print(f'В значениях признака {feat} выбросов нет.')\n",
    "            no_outlier_feat_list.append(feat)\n",
    "\n",
    "# Применение функции определения выбросов по названию признака        \n",
    "for feat in X_cols:\n",
    "    outlier_detection(feat)"
   ]
  },
  {
   "cell_type": "code",
   "execution_count": 28,
   "id": "493e0b0a",
   "metadata": {},
   "outputs": [
    {
     "name": "stdout",
     "output_type": "stream",
     "text": [
      "Список бинарных признаков: ['Gender', 'HasCrCard', 'IsActiveMember']\n",
      "Список признаков для с отсутствием выбросов: ['Tenure', 'EstimatedSalary']\n",
      "Список признаков для с наличием выбросов: ['CreditScore', 'Age', 'Balance', 'NumOfProducts', 'BalanceSalaryRatio', 'TenureByAge', 'CreditScoreGivenAge']\n"
     ]
    }
   ],
   "source": [
    "\n",
    "print('Список бинарных признаков:', binary_feat_list) \n",
    "print('Список признаков для с отсутствием выбросов:', no_outlier_feat_list)\n",
    "print('Список признаков для с наличием выбросов:', with_outlier_feat_list)"
   ]
  },
  {
   "cell_type": "code",
   "execution_count": 29,
   "id": "012af227",
   "metadata": {},
   "outputs": [
    {
     "data": {
      "text/plain": [
       "Text(0.5, 0.98, 'Коробчатые диаграммы значений признаков, имеющих выбросы')"
      ]
     },
     "execution_count": 29,
     "metadata": {},
     "output_type": "execute_result"
    },
    {
     "data": {
      "image/png": "[encoded data removed]",
      "text/plain": [
       "<Figure size 1500x1000 with 9 Axes>"
      ]
     },
     "metadata": {},
     "output_type": "display_data"
    }
   ],
   "source": [
    "fig, axes = plt.subplots(nrows= 3, ncols=3, figsize = (15,10))\n",
    "plt.subplots_adjust(hspace=0.3)\n",
    "\n",
    "row = 0\n",
    "col = 0\n",
    "\n",
    "for feat in with_outlier_feat_list:\n",
    "    box = sns.boxplot(\n",
    "        data = X[f'{feat}'],\n",
    "        ax = axes[row][col]\n",
    "        )\n",
    "    box.set_ylabel('')\n",
    "    box.set_title(f'{feat}', fontsize = 14)\n",
    "        \n",
    "    col += 1\n",
    "    if col == 3:\n",
    "        col = 0\n",
    "        row += 1\n",
    "\n",
    "plt.suptitle(\n",
    "    'Коробчатые диаграммы значений признаков, имеющих выбросы',\n",
    "    fontsize = 18\n",
    "    )"
   ]
  },
  {
   "cell_type": "markdown",
   "id": "b2c6dfc3",
   "metadata": {},
   "source": [
    "**Выбор метода масштабирования данных**\n",
    "\n",
    "По результатам анализа данных возникает неоднозначная ситуация. С одной стороны, мы имеем большое количество признаков, в данных которых имеются выбросы. С другой стороны, выбросы эти на так уже и далеки от границ. Фактически, из признаков, обладающих прямо большими выбросами, можно выделить BalanceSalaryRatio. Так же, можно сюда отнести признаки CreditScoreGivenAge, Age. \n",
    "\n",
    "Таким образом, для дальнейшего получения лучших показателей метрик будущих моделей, произведем подготовку трех данных с указаниями: \n",
    "\n",
    "- _most_minmax - масштабируются все небинарные признаки, кроме BalanceSalaryRatio при помощи метода MinMax Scaller\n",
    "- _middle_minmax - масштабируется большиство небинарных признаков при помощи MinMax Scaller, три признака - при помощи RobustScaller (BalanceSalaryRatio, CreditScoreGivenAge, Age)\n",
    "- _most_robust - масштабируются \"по правилам\" все данные с выбросами (по списку with_outlier_feat_list), коих большинство, при помощи RobustScaller, а данные без выбросов (по списку no_outlier_feat_list) при помощи MinMaxScaller. "
   ]
  },
  {
   "cell_type": "code",
   "execution_count": 30,
   "id": "3034e70c",
   "metadata": {},
   "outputs": [],
   "source": [
    "feats_robust_most_minmax = ['BalanceSalaryRatio']\n",
    "feats_minmax_most_minmax = with_outlier_feat_list + no_outlier_feat_list\n",
    "feats_minmax_most_minmax.remove('BalanceSalaryRatio')\n",
    "\n",
    "feats_robust_middle_minmax = ['BalanceSalaryRatio', 'CreditScoreGivenAge', 'Age']\n",
    "summary_list = with_outlier_feat_list + no_outlier_feat_list\n",
    "feats_minmax_middle_minmax = [elem for elem in summary_list if elem not in feats_robust_middle_minmax]\n",
    "\n",
    "feats_robust_most_robust = with_outlier_feat_list.copy()\n",
    "feats_minmax_most_robust = no_outlier_feat_list.copy()"
   ]
  },
  {
   "cell_type": "code",
   "execution_count": 31,
   "id": "cc4237ba",
   "metadata": {},
   "outputs": [
    {
     "data": {
      "text/html": [
       "<style>#sk-container-id-1 {\n",
       "  /* Definition of color scheme common for light and dark mode */\n",
       "  --sklearn-color-text: black;\n",
       "  --sklearn-color-line: gray;\n",
       "  /* Definition of color scheme for unfitted estimators */\n",
       "  --sklearn-color-unfitted-level-0: #fff5e6;\n",
       "  --sklearn-color-unfitted-level-1: #f6e4d2;\n",
       "  --sklearn-color-unfitted-level-2: #ffe0b3;\n",
       "  --sklearn-color-unfitted-level-3: chocolate;\n",
       "  /* Definition of color scheme for fitted estimators */\n",
       "  --sklearn-color-fitted-level-0: #f0f8ff;\n",
       "  --sklearn-color-fitted-level-1: #d4ebff;\n",
       "  --sklearn-color-fitted-level-2: #b3dbfd;\n",
       "  --sklearn-color-fitted-level-3: cornflowerblue;\n",
       "\n",
       "  /* Specific color for light theme */\n",
       "  --sklearn-color-text-on-default-background: var(--sg-text-color, var(--theme-code-foreground, var(--jp-content-font-color1, black)));\n",
       "  --sklearn-color-background: var(--sg-background-color, var(--theme-background, var(--jp-layout-color0, white)));\n",
       "  --sklearn-color-border-box: var(--sg-text-color, var(--theme-code-foreground, var(--jp-content-font-color1, black)));\n",
       "  --sklearn-color-icon: #696969;\n",
       "\n",
       "  @media (prefers-color-scheme: dark) {\n",
       "    /* Redefinition of color scheme for dark theme */\n",
       "    --sklearn-color-text-on-default-background: var(--sg-text-color, var(--theme-code-foreground, var(--jp-content-font-color1, white)));\n",
       "    --sklearn-color-background: var(--sg-background-color, var(--theme-background, var(--jp-layout-color0, #111)));\n",
       "    --sklearn-color-border-box: var(--sg-text-color, var(--theme-code-foreground, var(--jp-content-font-color1, white)));\n",
       "    --sklearn-color-icon: #878787;\n",
       "  }\n",
       "}\n",
       "\n",
       "#sk-container-id-1 {\n",
       "  color: var(--sklearn-color-text);\n",
       "}\n",
       "\n",
       "#sk-container-id-1 pre {\n",
       "  padding: 0;\n",
       "}\n",
       "\n",
       "#sk-container-id-1 input.sk-hidden--visually {\n",
       "  border: 0;\n",
       "  clip: rect(1px 1px 1px 1px);\n",
       "  clip: rect(1px, 1px, 1px, 1px);\n",
       "  height: 1px;\n",
       "  margin: -1px;\n",
       "  overflow: hidden;\n",
       "  padding: 0;\n",
       "  position: absolute;\n",
       "  width: 1px;\n",
       "}\n",
       "\n",
       "#sk-container-id-1 div.sk-dashed-wrapped {\n",
       "  border: 1px dashed var(--sklearn-color-line);\n",
       "  margin: 0 0.4em 0.5em 0.4em;\n",
       "  box-sizing: border-box;\n",
       "  padding-bottom: 0.4em;\n",
       "  background-color: var(--sklearn-color-background);\n",
       "}\n",
       "\n",
       "#sk-container-id-1 div.sk-container {\n",
       "  /* jupyter's `normalize.less` sets `[hidden] { display: none; }`\n",
       "     but bootstrap.min.css set `[hidden] { display: none !important; }`\n",
       "     so we also need the `!important` here to be able to override the\n",
       "     default hidden behavior on the sphinx rendered scikit-learn.org.\n",
       "     See: https://github.com/scikit-learn/scikit-learn/issues/21755 */\n",
       "  display: inline-block !important;\n",
       "  position: relative;\n",
       "}\n",
       "\n",
       "#sk-container-id-1 div.sk-text-repr-fallback {\n",
       "  display: none;\n",
       "}\n",
       "\n",
       "div.sk-parallel-item,\n",
       "div.sk-serial,\n",
       "div.sk-item {\n",
       "  /* draw centered vertical line to link estimators */\n",
       "  background-image: linear-gradient(var(--sklearn-color-text-on-default-background), var(--sklearn-color-text-on-default-background));\n",
       "  background-size: 2px 100%;\n",
       "  background-repeat: no-repeat;\n",
       "  background-position: center center;\n",
       "}\n",
       "\n",
       "/* Parallel-specific style estimator block */\n",
       "\n",
       "#sk-container-id-1 div.sk-parallel-item::after {\n",
       "  content: \"\";\n",
       "  width: 100%;\n",
       "  border-bottom: 2px solid var(--sklearn-color-text-on-default-background);\n",
       "  flex-grow: 1;\n",
       "}\n",
       "\n",
       "#sk-container-id-1 div.sk-parallel {\n",
       "  display: flex;\n",
       "  align-items: stretch;\n",
       "  justify-content: center;\n",
       "  background-color: var(--sklearn-color-background);\n",
       "  position: relative;\n",
       "}\n",
       "\n",
       "#sk-container-id-1 div.sk-parallel-item {\n",
       "  display: flex;\n",
       "  flex-direction: column;\n",
       "}\n",
       "\n",
       "#sk-container-id-1 div.sk-parallel-item:first-child::after {\n",
       "  align-self: flex-end;\n",
       "  width: 50%;\n",
       "}\n",
       "\n",
       "#sk-container-id-1 div.sk-parallel-item:last-child::after {\n",
       "  align-self: flex-start;\n",
       "  width: 50%;\n",
       "}\n",
       "\n",
       "#sk-container-id-1 div.sk-parallel-item:only-child::after {\n",
       "  width: 0;\n",
       "}\n",
       "\n",
       "/* Serial-specific style estimator block */\n",
       "\n",
       "#sk-container-id-1 div.sk-serial {\n",
       "  display: flex;\n",
       "  flex-direction: column;\n",
       "  align-items: center;\n",
       "  background-color: var(--sklearn-color-background);\n",
       "  padding-right: 1em;\n",
       "  padding-left: 1em;\n",
       "}\n",
       "\n",
       "\n",
       "/* Toggleable style: style used for estimator/Pipeline/ColumnTransformer box that is\n",
       "clickable and can be expanded/collapsed.\n",
       "- Pipeline and ColumnTransformer use this feature and define the default style\n",
       "- Estimators will overwrite some part of the style using the `sk-estimator` class\n",
       "*/\n",
       "\n",
       "/* Pipeline and ColumnTransformer style (default) */\n",
       "\n",
       "#sk-container-id-1 div.sk-toggleable {\n",
       "  /* Default theme specific background. It is overwritten whether we have a\n",
       "  specific estimator or a Pipeline/ColumnTransformer */\n",
       "  background-color: var(--sklearn-color-background);\n",
       "}\n",
       "\n",
       "/* Toggleable label */\n",
       "#sk-container-id-1 label.sk-toggleable__label {\n",
       "  cursor: pointer;\n",
       "  display: block;\n",
       "  width: 100%;\n",
       "  margin-bottom: 0;\n",
       "  padding: 0.5em;\n",
       "  box-sizing: border-box;\n",
       "  text-align: center;\n",
       "}\n",
       "\n",
       "#sk-container-id-1 label.sk-toggleable__label-arrow:before {\n",
       "  /* Arrow on the left of the label */\n",
       "  content: \"▸\";\n",
       "  float: left;\n",
       "  margin-right: 0.25em;\n",
       "  color: var(--sklearn-color-icon);\n",
       "}\n",
       "\n",
       "#sk-container-id-1 label.sk-toggleable__label-arrow:hover:before {\n",
       "  color: var(--sklearn-color-text);\n",
       "}\n",
       "\n",
       "/* Toggleable content - dropdown */\n",
       "\n",
       "#sk-container-id-1 div.sk-toggleable__content {\n",
       "  max-height: 0;\n",
       "  max-width: 0;\n",
       "  overflow: hidden;\n",
       "  text-align: left;\n",
       "  /* unfitted */\n",
       "  background-color: var(--sklearn-color-unfitted-level-0);\n",
       "}\n",
       "\n",
       "#sk-container-id-1 div.sk-toggleable__content.fitted {\n",
       "  /* fitted */\n",
       "  background-color: var(--sklearn-color-fitted-level-0);\n",
       "}\n",
       "\n",
       "#sk-container-id-1 div.sk-toggleable__content pre {\n",
       "  margin: 0.2em;\n",
       "  border-radius: 0.25em;\n",
       "  color: var(--sklearn-color-text);\n",
       "  /* unfitted */\n",
       "  background-color: var(--sklearn-color-unfitted-level-0);\n",
       "}\n",
       "\n",
       "#sk-container-id-1 div.sk-toggleable__content.fitted pre {\n",
       "  /* unfitted */\n",
       "  background-color: var(--sklearn-color-fitted-level-0);\n",
       "}\n",
       "\n",
       "#sk-container-id-1 input.sk-toggleable__control:checked~div.sk-toggleable__content {\n",
       "  /* Expand drop-down */\n",
       "  max-height: 200px;\n",
       "  max-width: 100%;\n",
       "  overflow: auto;\n",
       "}\n",
       "\n",
       "#sk-container-id-1 input.sk-toggleable__control:checked~label.sk-toggleable__label-arrow:before {\n",
       "  content: \"▾\";\n",
       "}\n",
       "\n",
       "/* Pipeline/ColumnTransformer-specific style */\n",
       "\n",
       "#sk-container-id-1 div.sk-label input.sk-toggleable__control:checked~label.sk-toggleable__label {\n",
       "  color: var(--sklearn-color-text);\n",
       "  background-color: var(--sklearn-color-unfitted-level-2);\n",
       "}\n",
       "\n",
       "#sk-container-id-1 div.sk-label.fitted input.sk-toggleable__control:checked~label.sk-toggleable__label {\n",
       "  background-color: var(--sklearn-color-fitted-level-2);\n",
       "}\n",
       "\n",
       "/* Estimator-specific style */\n",
       "\n",
       "/* Colorize estimator box */\n",
       "#sk-container-id-1 div.sk-estimator input.sk-toggleable__control:checked~label.sk-toggleable__label {\n",
       "  /* unfitted */\n",
       "  background-color: var(--sklearn-color-unfitted-level-2);\n",
       "}\n",
       "\n",
       "#sk-container-id-1 div.sk-estimator.fitted input.sk-toggleable__control:checked~label.sk-toggleable__label {\n",
       "  /* fitted */\n",
       "  background-color: var(--sklearn-color-fitted-level-2);\n",
       "}\n",
       "\n",
       "#sk-container-id-1 div.sk-label label.sk-toggleable__label,\n",
       "#sk-container-id-1 div.sk-label label {\n",
       "  /* The background is the default theme color */\n",
       "  color: var(--sklearn-color-text-on-default-background);\n",
       "}\n",
       "\n",
       "/* On hover, darken the color of the background */\n",
       "#sk-container-id-1 div.sk-label:hover label.sk-toggleable__label {\n",
       "  color: var(--sklearn-color-text);\n",
       "  background-color: var(--sklearn-color-unfitted-level-2);\n",
       "}\n",
       "\n",
       "/* Label box, darken color on hover, fitted */\n",
       "#sk-container-id-1 div.sk-label.fitted:hover label.sk-toggleable__label.fitted {\n",
       "  color: var(--sklearn-color-text);\n",
       "  background-color: var(--sklearn-color-fitted-level-2);\n",
       "}\n",
       "\n",
       "/* Estimator label */\n",
       "\n",
       "#sk-container-id-1 div.sk-label label {\n",
       "  font-family: monospace;\n",
       "  font-weight: bold;\n",
       "  display: inline-block;\n",
       "  line-height: 1.2em;\n",
       "}\n",
       "\n",
       "#sk-container-id-1 div.sk-label-container {\n",
       "  text-align: center;\n",
       "}\n",
       "\n",
       "/* Estimator-specific */\n",
       "#sk-container-id-1 div.sk-estimator {\n",
       "  font-family: monospace;\n",
       "  border: 1px dotted var(--sklearn-color-border-box);\n",
       "  border-radius: 0.25em;\n",
       "  box-sizing: border-box;\n",
       "  margin-bottom: 0.5em;\n",
       "  /* unfitted */\n",
       "  background-color: var(--sklearn-color-unfitted-level-0);\n",
       "}\n",
       "\n",
       "#sk-container-id-1 div.sk-estimator.fitted {\n",
       "  /* fitted */\n",
       "  background-color: var(--sklearn-color-fitted-level-0);\n",
       "}\n",
       "\n",
       "/* on hover */\n",
       "#sk-container-id-1 div.sk-estimator:hover {\n",
       "  /* unfitted */\n",
       "  background-color: var(--sklearn-color-unfitted-level-2);\n",
       "}\n",
       "\n",
       "#sk-container-id-1 div.sk-estimator.fitted:hover {\n",
       "  /* fitted */\n",
       "  background-color: var(--sklearn-color-fitted-level-2);\n",
       "}\n",
       "\n",
       "/* Specification for estimator info (e.g. \"i\" and \"?\") */\n",
       "\n",
       "/* Common style for \"i\" and \"?\" */\n",
       "\n",
       ".sk-estimator-doc-link,\n",
       "a:link.sk-estimator-doc-link,\n",
       "a:visited.sk-estimator-doc-link {\n",
       "  float: right;\n",
       "  font-size: smaller;\n",
       "  line-height: 1em;\n",
       "  font-family: monospace;\n",
       "  background-color: var(--sklearn-color-background);\n",
       "  border-radius: 1em;\n",
       "  height: 1em;\n",
       "  width: 1em;\n",
       "  text-decoration: none !important;\n",
       "  margin-left: 1ex;\n",
       "  /* unfitted */\n",
       "  border: var(--sklearn-color-unfitted-level-1) 1pt solid;\n",
       "  color: var(--sklearn-color-unfitted-level-1);\n",
       "}\n",
       "\n",
       ".sk-estimator-doc-link.fitted,\n",
       "a:link.sk-estimator-doc-link.fitted,\n",
       "a:visited.sk-estimator-doc-link.fitted {\n",
       "  /* fitted */\n",
       "  border: var(--sklearn-color-fitted-level-1) 1pt solid;\n",
       "  color: var(--sklearn-color-fitted-level-1);\n",
       "}\n",
       "\n",
       "/* On hover */\n",
       "div.sk-estimator:hover .sk-estimator-doc-link:hover,\n",
       ".sk-estimator-doc-link:hover,\n",
       "div.sk-label-container:hover .sk-estimator-doc-link:hover,\n",
       ".sk-estimator-doc-link:hover {\n",
       "  /* unfitted */\n",
       "  background-color: var(--sklearn-color-unfitted-level-3);\n",
       "  color: var(--sklearn-color-background);\n",
       "  text-decoration: none;\n",
       "}\n",
       "\n",
       "div.sk-estimator.fitted:hover .sk-estimator-doc-link.fitted:hover,\n",
       ".sk-estimator-doc-link.fitted:hover,\n",
       "div.sk-label-container:hover .sk-estimator-doc-link.fitted:hover,\n",
       ".sk-estimator-doc-link.fitted:hover {\n",
       "  /* fitted */\n",
       "  background-color: var(--sklearn-color-fitted-level-3);\n",
       "  color: var(--sklearn-color-background);\n",
       "  text-decoration: none;\n",
       "}\n",
       "\n",
       "/* Span, style for the box shown on hovering the info icon */\n",
       ".sk-estimator-doc-link span {\n",
       "  display: none;\n",
       "  z-index: 9999;\n",
       "  position: relative;\n",
       "  font-weight: normal;\n",
       "  right: .2ex;\n",
       "  padding: .5ex;\n",
       "  margin: .5ex;\n",
       "  width: min-content;\n",
       "  min-width: 20ex;\n",
       "  max-width: 50ex;\n",
       "  color: var(--sklearn-color-text);\n",
       "  box-shadow: 2pt 2pt 4pt #999;\n",
       "  /* unfitted */\n",
       "  background: var(--sklearn-color-unfitted-level-0);\n",
       "  border: .5pt solid var(--sklearn-color-unfitted-level-3);\n",
       "}\n",
       "\n",
       ".sk-estimator-doc-link.fitted span {\n",
       "  /* fitted */\n",
       "  background: var(--sklearn-color-fitted-level-0);\n",
       "  border: var(--sklearn-color-fitted-level-3);\n",
       "}\n",
       "\n",
       ".sk-estimator-doc-link:hover span {\n",
       "  display: block;\n",
       "}\n",
       "\n",
       "/* \"?\"-specific style due to the `<a>` HTML tag */\n",
       "\n",
       "#sk-container-id-1 a.estimator_doc_link {\n",
       "  float: right;\n",
       "  font-size: 1rem;\n",
       "  line-height: 1em;\n",
       "  font-family: monospace;\n",
       "  background-color: var(--sklearn-color-background);\n",
       "  border-radius: 1rem;\n",
       "  height: 1rem;\n",
       "  width: 1rem;\n",
       "  text-decoration: none;\n",
       "  /* unfitted */\n",
       "  color: var(--sklearn-color-unfitted-level-1);\n",
       "  border: var(--sklearn-color-unfitted-level-1) 1pt solid;\n",
       "}\n",
       "\n",
       "#sk-container-id-1 a.estimator_doc_link.fitted {\n",
       "  /* fitted */\n",
       "  border: var(--sklearn-color-fitted-level-1) 1pt solid;\n",
       "  color: var(--sklearn-color-fitted-level-1);\n",
       "}\n",
       "\n",
       "/* On hover */\n",
       "#sk-container-id-1 a.estimator_doc_link:hover {\n",
       "  /* unfitted */\n",
       "  background-color: var(--sklearn-color-unfitted-level-3);\n",
       "  color: var(--sklearn-color-background);\n",
       "  text-decoration: none;\n",
       "}\n",
       "\n",
       "#sk-container-id-1 a.estimator_doc_link.fitted:hover {\n",
       "  /* fitted */\n",
       "  background-color: var(--sklearn-color-fitted-level-3);\n",
       "}\n",
       "</style><div id=\"sk-container-id-1\" class=\"sk-top-container\"><div class=\"sk-text-repr-fallback\"><pre>MinMaxScaler()</pre><b>In a Jupyter environment, please rerun this cell to show the HTML representation or trust the notebook. <br />On GitHub, the HTML representation is unable to render, please try loading this page with nbviewer.org.</b></div><div class=\"sk-container\" hidden><div class=\"sk-item\"><div class=\"sk-estimator fitted sk-toggleable\"><input class=\"sk-toggleable__control sk-hidden--visually\" id=\"sk-estimator-id-1\" type=\"checkbox\" checked><label for=\"sk-estimator-id-1\" class=\"sk-toggleable__label fitted sk-toggleable__label-arrow fitted\">&nbsp;&nbsp;MinMaxScaler<a class=\"sk-estimator-doc-link fitted\" rel=\"noreferrer\" target=\"_blank\" href=\"https://scikit-learn.org/1.5/modules/generated/sklearn.preprocessing.MinMaxScaler.html\">?<span>Documentation for MinMaxScaler</span></a><span class=\"sk-estimator-doc-link fitted\">i<span>Fitted</span></span></label><div class=\"sk-toggleable__content fitted\"><pre>MinMaxScaler()</pre></div> </div></div></div></div>"
      ],
      "text/plain": [
       "MinMaxScaler()"
      ]
     },
     "execution_count": 31,
     "metadata": {},
     "output_type": "execute_result"
    }
   ],
   "source": [
    "# Создание скейлеров для первой группы\n",
    "r_scaller_most_minmax = preprocessing.RobustScaler()\n",
    "r_scaller_most_minmax.fit(X_train[feats_robust_most_minmax])\n",
    "\n",
    "mm_scaller_most_minmax = preprocessing.MinMaxScaler()\n",
    "mm_scaller_most_minmax.fit(X_train[feats_minmax_most_minmax])\n",
    "\n",
    "# Создание скейлеров для второй группы\n",
    "r_scaller_middle_minmax = preprocessing.RobustScaler()\n",
    "r_scaller_middle_minmax.fit(X_train[feats_robust_middle_minmax])\n",
    "\n",
    "mm_scaller_middle_minmax = preprocessing.MinMaxScaler()\n",
    "mm_scaller_middle_minmax.fit(X_train[feats_minmax_middle_minmax])\n",
    "\n",
    "# Создание скейлеров для третей группы\n",
    "r_scaller_most_robust = preprocessing.RobustScaler()\n",
    "r_scaller_most_robust.fit(X_train[feats_robust_most_robust])\n",
    "\n",
    "mm_scaller_most_robust = preprocessing.MinMaxScaler()\n",
    "mm_scaller_most_robust.fit(X_train[feats_minmax_most_robust])"
   ]
  },
  {
   "cell_type": "code",
   "execution_count": 32,
   "id": "0d03144d",
   "metadata": {},
   "outputs": [],
   "source": [
    "# Нормализация значений признаков тренировочной и тестовой выборок первой группы\n",
    "X_train_most_minmax = X_train.copy()\n",
    "\n",
    "X_train_most_minmax[feats_robust_most_minmax] = \\\n",
    "    r_scaller_most_minmax.transform(X_train[feats_robust_most_minmax])\n",
    "X_train_most_minmax[feats_minmax_most_minmax] = \\\n",
    "    mm_scaller_most_minmax.transform(X_train[feats_minmax_most_minmax])\n",
    "\n",
    "\n",
    "X_test_most_minmax = X_test.copy()\n",
    "\n",
    "X_test_most_minmax[feats_robust_most_minmax] = \\\n",
    "    r_scaller_most_minmax.transform(X_test[feats_robust_most_minmax])\n",
    "X_test_most_minmax[feats_minmax_most_minmax] = \\\n",
    "    mm_scaller_most_minmax.transform(X_test[feats_minmax_most_minmax])\n"
   ]
  },
  {
   "cell_type": "code",
   "execution_count": 33,
   "id": "9c12685a",
   "metadata": {},
   "outputs": [],
   "source": [
    "# Нормализация значений признаков тренировочной и тестовой выборок второй группы\n",
    "X_train_middle_minmax = X_train.copy()\n",
    "\n",
    "X_train_middle_minmax[feats_robust_middle_minmax] = \\\n",
    "    r_scaller_middle_minmax.transform(X_train[feats_robust_middle_minmax])\n",
    "X_train_middle_minmax[feats_minmax_middle_minmax] = \\\n",
    "    mm_scaller_middle_minmax.transform(X_train[feats_minmax_middle_minmax])\n",
    "\n",
    "\n",
    "X_test_middle_minmax = X_test.copy()\n",
    "\n",
    "X_test_middle_minmax[feats_robust_middle_minmax] = \\\n",
    "    r_scaller_middle_minmax.transform(X_test[feats_robust_middle_minmax])\n",
    "X_test_middle_minmax[feats_minmax_middle_minmax] = \\\n",
    "    mm_scaller_middle_minmax.transform(X_test[feats_minmax_middle_minmax])"
   ]
  },
  {
   "cell_type": "code",
   "execution_count": 34,
   "id": "9f5497aa",
   "metadata": {},
   "outputs": [],
   "source": [
    "# Нормализация значений признаков тренировочной и тестовой выборок третей группы\n",
    "X_train_most_robust = X_train.copy()\n",
    "\n",
    "X_train_most_robust[feats_robust_most_robust] = \\\n",
    "    r_scaller_most_robust.transform(X_train[feats_robust_most_robust])\n",
    "X_train_most_robust[feats_minmax_most_robust] = \\\n",
    "    mm_scaller_most_robust.transform(X_train[feats_minmax_most_robust])\n",
    "\n",
    "\n",
    "X_test_most_robust = X_test.copy()\n",
    "\n",
    "X_test_most_robust[feats_robust_most_robust] = \\\n",
    "    r_scaller_most_robust.transform(X_test[feats_robust_most_robust])\n",
    "X_test_most_robust[feats_minmax_most_robust] = \\\n",
    "    mm_scaller_most_robust.transform(X_test[feats_minmax_most_robust])"
   ]
  },
  {
   "cell_type": "markdown",
   "id": "0d138345",
   "metadata": {},
   "source": [
    "А так же, пойдем простым путем, и сделаем масштабирование всех данных методом Robust Scaller."
   ]
  },
  {
   "cell_type": "code",
   "execution_count": 54,
   "id": "d12d98d3",
   "metadata": {},
   "outputs": [],
   "source": [
    "r_scaller = preprocessing.RobustScaler()\n",
    "\n",
    "r_scaller.fit(X_train)\n",
    "\n",
    "X_train_scaled = r_scaller.transform(X_train)\n",
    "X_test_scaled = r_scaller.transform(X_test)"
   ]
  },
  {
   "cell_type": "markdown",
   "id": "8b7c4564",
   "metadata": {},
   "source": [
    "Итого, мы получили четыре набора нормализованных разными способами значений факторов в тренировочной и тестовой выборках: \n",
    "\n",
    "X_train_most_minmax и X_test_most_minmax\n",
    "\n",
    "X_train_middle_minmax и X_test_middle_minmax\n",
    "\n",
    "X_train_most_robust и X_test_most_robust\n",
    "\n",
    "X_train_scaled и X_test_scaled"
   ]
  },
  {
   "cell_type": "markdown",
   "id": "66527b15",
   "metadata": {
    "id": "66527b15"
   },
   "source": [
    "Теперь переходим к моделированию."
   ]
  },
  {
   "cell_type": "markdown",
   "id": "69df2d66",
   "metadata": {
    "id": "69df2d66"
   },
   "source": [
    "### Задание 5.3 (1 балл)\n",
    "\n",
    "Для начала давайте заранее определим метрику, на которую будем ориентироваться. \n",
    "\n",
    "По условию задачи, наша модель должна своевременно предсказывать отток клиентов. Известно, что для сохранения клиентов банк будет использовать ресурсы колл-центра и клиентам, у которых вероятность оттока наиболее высока, будут сделаны специальные предложения. Ресурсы, выделяемые на сохранение клиентов, ограничены, поэтому нам важно минимизировать количество звонков. Однако в то же время необходимо сохранить как можно больше клиентов.\n",
    "\n",
    "Таким образом, нам бы хотелось минимизировать как ложноположительные и ложноотрицательные срабатывания модели.\n",
    "\n",
    "Какую метрику в данной задаче вы будете пытаться улучшить? Обоснуйте свой выбор. \n"
   ]
  },
  {
   "cell_type": "markdown",
   "id": "9c4e72a3",
   "metadata": {
    "id": "9c4e72a3"
   },
   "source": [
    "**Критерии оценивания:**\n",
    "- Задание выполнено верно, учтены все условия (**1 балл**): \n",
    "    * выбрана верная метрика;\n",
    "    * приведено развернутое обоснование выбора метрики, и приведенные рассуждения являются верными;\n",
    "\n",
    "- Задание выполнено неверно, не учтено одно или несколько условий (**0 баллов**)."
   ]
  },
  {
   "cell_type": "markdown",
   "id": "AOgaRpo53tgp",
   "metadata": {
    "id": "AOgaRpo53tgp"
   },
   "source": [
    "> Для решения данной задачи подойдёт метрика F-мера. Данная метрика является балансом между метриками precission и recall, т.е. балансом между вероятностями допустить ошибки первого и ошибки второго рода. \n",
    "\n",
    "> Применить более простую метрику accurancy в данном случае не выйдет ввиду несбалансированности классов. \n",
    "\n",
    "> Ниже приведена диаграмма, отображающая несбаланированность значений целевого признака.  "
   ]
  },
  {
   "cell_type": "code",
   "execution_count": 49,
   "id": "30489528",
   "metadata": {},
   "outputs": [
    {
     "data": {
      "text/plain": [
       "Text(0.5, 1.0, 'Распределение ушедших и лояльных клиентов')"
      ]
     },
     "execution_count": 49,
     "metadata": {},
     "output_type": "execute_result"
    },
    {
     "data": {
      "image/png": "[encoded data removed]",
      "text/plain": [
       "<Figure size 800x550 with 1 Axes>"
      ]
     },
     "metadata": {},
     "output_type": "display_data"
    }
   ],
   "source": [
    "fig = sns.countplot(\n",
    "    pd.DataFrame(y, columns=['Exited']), \n",
    "    x = 'Exited',\n",
    "    )\n",
    "fig.set_title('Распределение ушедших и лояльных клиентов', fontsize = 16)"
   ]
  },
  {
   "cell_type": "markdown",
   "id": "34e0666e",
   "metadata": {
    "id": "34e0666e"
   },
   "source": [
    "### Задание 5.4 (2 балла)\n",
    "\n",
    "Обучите модель логистической регрессии (`Logistic Regression`) на тренировочных данных. Позаботьтесь о воспроизводимости результата, установив конкретное значение параметра `random_state` (например, число 42).\n",
    "\n",
    "Сделайте предсказание меток классов для тренировочной и тестовой выборок. \n",
    "\n",
    "Рассчитайте значение целевой метрики на тренировочной и тестовой выборках. \n",
    "\n",
    "Проинтерпретируйте полученные результаты, ответив на следующий вопрос:\n",
    "* Как вы считаете, является ли ваша модель переобученной или недообученной?\n",
    "\n",
    "> **Примечание.** Будем считать, что модель нас не удовлетворяет (считается недообученной), если значение целевой метрики на тестовой выборке меньше 0.5.\n",
    "\n",
    "**Дополнительное задание:**\n",
    "\n",
    "Попробуйте поуправлять следующими параметрами модели:\n",
    "* `penalty` — тип используемой регуляризации ('l1' — $L_1$-регуляризация, 'l2' — $L_2$-регуляризация);\n",
    "* `C` — коэффициент, обратный коэффициенту регуляризации (по умолчанию он равен 1).\n",
    "\n",
    "Понаблюдайте, как ведут себя метрики в зависимости от типа регуляризации и увеличения/уменьшения значения парамера `C`."
   ]
  },
  {
   "cell_type": "markdown",
   "id": "8a1f5868",
   "metadata": {
    "id": "8a1f5868"
   },
   "source": [
    "**Критерии оценивания:**\n",
    "- Задание выполнено верно, учтены все условия (**2 балла**): \n",
    "    * построена модель логистической регрессии, решающая поставленную задачу;\n",
    "    * с помощью полученной модели сформированы предсказания на тренировочной и тестовой выборках;\n",
    "    * приведён расчёт выбранной метрики на тренировочных и тестовых данных (метрика должна быть выбрана корректно);\n",
    "    * приведён небольшой вывод по полученным результатам, в котором содержится ответ на поставленный в задании вопрос.\n",
    "\n",
    "- Задание выполнено верно, но не приведён вывод по полученным результатам или вывод является неверным (**1 балл**).\n",
    "- Задание выполнено неверно, не учтено несколько условий (**0 баллов**)."
   ]
  },
  {
   "cell_type": "code",
   "execution_count": 103,
   "id": "f47fa732",
   "metadata": {
    "id": "f47fa732"
   },
   "outputs": [
    {
     "data": {
      "text/html": [
       "<style>#sk-container-id-21 {\n",
       "  /* Definition of color scheme common for light and dark mode */\n",
       "  --sklearn-color-text: black;\n",
       "  --sklearn-color-line: gray;\n",
       "  /* Definition of color scheme for unfitted estimators */\n",
       "  --sklearn-color-unfitted-level-0: #fff5e6;\n",
       "  --sklearn-color-unfitted-level-1: #f6e4d2;\n",
       "  --sklearn-color-unfitted-level-2: #ffe0b3;\n",
       "  --sklearn-color-unfitted-level-3: chocolate;\n",
       "  /* Definition of color scheme for fitted estimators */\n",
       "  --sklearn-color-fitted-level-0: #f0f8ff;\n",
       "  --sklearn-color-fitted-level-1: #d4ebff;\n",
       "  --sklearn-color-fitted-level-2: #b3dbfd;\n",
       "  --sklearn-color-fitted-level-3: cornflowerblue;\n",
       "\n",
       "  /* Specific color for light theme */\n",
       "  --sklearn-color-text-on-default-background: var(--sg-text-color, var(--theme-code-foreground, var(--jp-content-font-color1, black)));\n",
       "  --sklearn-color-background: var(--sg-background-color, var(--theme-background, var(--jp-layout-color0, white)));\n",
       "  --sklearn-color-border-box: var(--sg-text-color, var(--theme-code-foreground, var(--jp-content-font-color1, black)));\n",
       "  --sklearn-color-icon: #696969;\n",
       "\n",
       "  @media (prefers-color-scheme: dark) {\n",
       "    /* Redefinition of color scheme for dark theme */\n",
       "    --sklearn-color-text-on-default-background: var(--sg-text-color, var(--theme-code-foreground, var(--jp-content-font-color1, white)));\n",
       "    --sklearn-color-background: var(--sg-background-color, var(--theme-background, var(--jp-layout-color0, #111)));\n",
       "    --sklearn-color-border-box: var(--sg-text-color, var(--theme-code-foreground, var(--jp-content-font-color1, white)));\n",
       "    --sklearn-color-icon: #878787;\n",
       "  }\n",
       "}\n",
       "\n",
       "#sk-container-id-21 {\n",
       "  color: var(--sklearn-color-text);\n",
       "}\n",
       "\n",
       "#sk-container-id-21 pre {\n",
       "  padding: 0;\n",
       "}\n",
       "\n",
       "#sk-container-id-21 input.sk-hidden--visually {\n",
       "  border: 0;\n",
       "  clip: rect(1px 1px 1px 1px);\n",
       "  clip: rect(1px, 1px, 1px, 1px);\n",
       "  height: 1px;\n",
       "  margin: -1px;\n",
       "  overflow: hidden;\n",
       "  padding: 0;\n",
       "  position: absolute;\n",
       "  width: 1px;\n",
       "}\n",
       "\n",
       "#sk-container-id-21 div.sk-dashed-wrapped {\n",
       "  border: 1px dashed var(--sklearn-color-line);\n",
       "  margin: 0 0.4em 0.5em 0.4em;\n",
       "  box-sizing: border-box;\n",
       "  padding-bottom: 0.4em;\n",
       "  background-color: var(--sklearn-color-background);\n",
       "}\n",
       "\n",
       "#sk-container-id-21 div.sk-container {\n",
       "  /* jupyter's `normalize.less` sets `[hidden] { display: none; }`\n",
       "     but bootstrap.min.css set `[hidden] { display: none !important; }`\n",
       "     so we also need the `!important` here to be able to override the\n",
       "     default hidden behavior on the sphinx rendered scikit-learn.org.\n",
       "     See: https://github.com/scikit-learn/scikit-learn/issues/21755 */\n",
       "  display: inline-block !important;\n",
       "  position: relative;\n",
       "}\n",
       "\n",
       "#sk-container-id-21 div.sk-text-repr-fallback {\n",
       "  display: none;\n",
       "}\n",
       "\n",
       "div.sk-parallel-item,\n",
       "div.sk-serial,\n",
       "div.sk-item {\n",
       "  /* draw centered vertical line to link estimators */\n",
       "  background-image: linear-gradient(var(--sklearn-color-text-on-default-background), var(--sklearn-color-text-on-default-background));\n",
       "  background-size: 2px 100%;\n",
       "  background-repeat: no-repeat;\n",
       "  background-position: center center;\n",
       "}\n",
       "\n",
       "/* Parallel-specific style estimator block */\n",
       "\n",
       "#sk-container-id-21 div.sk-parallel-item::after {\n",
       "  content: \"\";\n",
       "  width: 100%;\n",
       "  border-bottom: 2px solid var(--sklearn-color-text-on-default-background);\n",
       "  flex-grow: 1;\n",
       "}\n",
       "\n",
       "#sk-container-id-21 div.sk-parallel {\n",
       "  display: flex;\n",
       "  align-items: stretch;\n",
       "  justify-content: center;\n",
       "  background-color: var(--sklearn-color-background);\n",
       "  position: relative;\n",
       "}\n",
       "\n",
       "#sk-container-id-21 div.sk-parallel-item {\n",
       "  display: flex;\n",
       "  flex-direction: column;\n",
       "}\n",
       "\n",
       "#sk-container-id-21 div.sk-parallel-item:first-child::after {\n",
       "  align-self: flex-end;\n",
       "  width: 50%;\n",
       "}\n",
       "\n",
       "#sk-container-id-21 div.sk-parallel-item:last-child::after {\n",
       "  align-self: flex-start;\n",
       "  width: 50%;\n",
       "}\n",
       "\n",
       "#sk-container-id-21 div.sk-parallel-item:only-child::after {\n",
       "  width: 0;\n",
       "}\n",
       "\n",
       "/* Serial-specific style estimator block */\n",
       "\n",
       "#sk-container-id-21 div.sk-serial {\n",
       "  display: flex;\n",
       "  flex-direction: column;\n",
       "  align-items: center;\n",
       "  background-color: var(--sklearn-color-background);\n",
       "  padding-right: 1em;\n",
       "  padding-left: 1em;\n",
       "}\n",
       "\n",
       "\n",
       "/* Toggleable style: style used for estimator/Pipeline/ColumnTransformer box that is\n",
       "clickable and can be expanded/collapsed.\n",
       "- Pipeline and ColumnTransformer use this feature and define the default style\n",
       "- Estimators will overwrite some part of the style using the `sk-estimator` class\n",
       "*/\n",
       "\n",
       "/* Pipeline and ColumnTransformer style (default) */\n",
       "\n",
       "#sk-container-id-21 div.sk-toggleable {\n",
       "  /* Default theme specific background. It is overwritten whether we have a\n",
       "  specific estimator or a Pipeline/ColumnTransformer */\n",
       "  background-color: var(--sklearn-color-background);\n",
       "}\n",
       "\n",
       "/* Toggleable label */\n",
       "#sk-container-id-21 label.sk-toggleable__label {\n",
       "  cursor: pointer;\n",
       "  display: block;\n",
       "  width: 100%;\n",
       "  margin-bottom: 0;\n",
       "  padding: 0.5em;\n",
       "  box-sizing: border-box;\n",
       "  text-align: center;\n",
       "}\n",
       "\n",
       "#sk-container-id-21 label.sk-toggleable__label-arrow:before {\n",
       "  /* Arrow on the left of the label */\n",
       "  content: \"▸\";\n",
       "  float: left;\n",
       "  margin-right: 0.25em;\n",
       "  color: var(--sklearn-color-icon);\n",
       "}\n",
       "\n",
       "#sk-container-id-21 label.sk-toggleable__label-arrow:hover:before {\n",
       "  color: var(--sklearn-color-text);\n",
       "}\n",
       "\n",
       "/* Toggleable content - dropdown */\n",
       "\n",
       "#sk-container-id-21 div.sk-toggleable__content {\n",
       "  max-height: 0;\n",
       "  max-width: 0;\n",
       "  overflow: hidden;\n",
       "  text-align: left;\n",
       "  /* unfitted */\n",
       "  background-color: var(--sklearn-color-unfitted-level-0);\n",
       "}\n",
       "\n",
       "#sk-container-id-21 div.sk-toggleable__content.fitted {\n",
       "  /* fitted */\n",
       "  background-color: var(--sklearn-color-fitted-level-0);\n",
       "}\n",
       "\n",
       "#sk-container-id-21 div.sk-toggleable__content pre {\n",
       "  margin: 0.2em;\n",
       "  border-radius: 0.25em;\n",
       "  color: var(--sklearn-color-text);\n",
       "  /* unfitted */\n",
       "  background-color: var(--sklearn-color-unfitted-level-0);\n",
       "}\n",
       "\n",
       "#sk-container-id-21 div.sk-toggleable__content.fitted pre {\n",
       "  /* unfitted */\n",
       "  background-color: var(--sklearn-color-fitted-level-0);\n",
       "}\n",
       "\n",
       "#sk-container-id-21 input.sk-toggleable__control:checked~div.sk-toggleable__content {\n",
       "  /* Expand drop-down */\n",
       "  max-height: 200px;\n",
       "  max-width: 100%;\n",
       "  overflow: auto;\n",
       "}\n",
       "\n",
       "#sk-container-id-21 input.sk-toggleable__control:checked~label.sk-toggleable__label-arrow:before {\n",
       "  content: \"▾\";\n",
       "}\n",
       "\n",
       "/* Pipeline/ColumnTransformer-specific style */\n",
       "\n",
       "#sk-container-id-21 div.sk-label input.sk-toggleable__control:checked~label.sk-toggleable__label {\n",
       "  color: var(--sklearn-color-text);\n",
       "  background-color: var(--sklearn-color-unfitted-level-2);\n",
       "}\n",
       "\n",
       "#sk-container-id-21 div.sk-label.fitted input.sk-toggleable__control:checked~label.sk-toggleable__label {\n",
       "  background-color: var(--sklearn-color-fitted-level-2);\n",
       "}\n",
       "\n",
       "/* Estimator-specific style */\n",
       "\n",
       "/* Colorize estimator box */\n",
       "#sk-container-id-21 div.sk-estimator input.sk-toggleable__control:checked~label.sk-toggleable__label {\n",
       "  /* unfitted */\n",
       "  background-color: var(--sklearn-color-unfitted-level-2);\n",
       "}\n",
       "\n",
       "#sk-container-id-21 div.sk-estimator.fitted input.sk-toggleable__control:checked~label.sk-toggleable__label {\n",
       "  /* fitted */\n",
       "  background-color: var(--sklearn-color-fitted-level-2);\n",
       "}\n",
       "\n",
       "#sk-container-id-21 div.sk-label label.sk-toggleable__label,\n",
       "#sk-container-id-21 div.sk-label label {\n",
       "  /* The background is the default theme color */\n",
       "  color: var(--sklearn-color-text-on-default-background);\n",
       "}\n",
       "\n",
       "/* On hover, darken the color of the background */\n",
       "#sk-container-id-21 div.sk-label:hover label.sk-toggleable__label {\n",
       "  color: var(--sklearn-color-text);\n",
       "  background-color: var(--sklearn-color-unfitted-level-2);\n",
       "}\n",
       "\n",
       "/* Label box, darken color on hover, fitted */\n",
       "#sk-container-id-21 div.sk-label.fitted:hover label.sk-toggleable__label.fitted {\n",
       "  color: var(--sklearn-color-text);\n",
       "  background-color: var(--sklearn-color-fitted-level-2);\n",
       "}\n",
       "\n",
       "/* Estimator label */\n",
       "\n",
       "#sk-container-id-21 div.sk-label label {\n",
       "  font-family: monospace;\n",
       "  font-weight: bold;\n",
       "  display: inline-block;\n",
       "  line-height: 1.2em;\n",
       "}\n",
       "\n",
       "#sk-container-id-21 div.sk-label-container {\n",
       "  text-align: center;\n",
       "}\n",
       "\n",
       "/* Estimator-specific */\n",
       "#sk-container-id-21 div.sk-estimator {\n",
       "  font-family: monospace;\n",
       "  border: 1px dotted var(--sklearn-color-border-box);\n",
       "  border-radius: 0.25em;\n",
       "  box-sizing: border-box;\n",
       "  margin-bottom: 0.5em;\n",
       "  /* unfitted */\n",
       "  background-color: var(--sklearn-color-unfitted-level-0);\n",
       "}\n",
       "\n",
       "#sk-container-id-21 div.sk-estimator.fitted {\n",
       "  /* fitted */\n",
       "  background-color: var(--sklearn-color-fitted-level-0);\n",
       "}\n",
       "\n",
       "/* on hover */\n",
       "#sk-container-id-21 div.sk-estimator:hover {\n",
       "  /* unfitted */\n",
       "  background-color: var(--sklearn-color-unfitted-level-2);\n",
       "}\n",
       "\n",
       "#sk-container-id-21 div.sk-estimator.fitted:hover {\n",
       "  /* fitted */\n",
       "  background-color: var(--sklearn-color-fitted-level-2);\n",
       "}\n",
       "\n",
       "/* Specification for estimator info (e.g. \"i\" and \"?\") */\n",
       "\n",
       "/* Common style for \"i\" and \"?\" */\n",
       "\n",
       ".sk-estimator-doc-link,\n",
       "a:link.sk-estimator-doc-link,\n",
       "a:visited.sk-estimator-doc-link {\n",
       "  float: right;\n",
       "  font-size: smaller;\n",
       "  line-height: 1em;\n",
       "  font-family: monospace;\n",
       "  background-color: var(--sklearn-color-background);\n",
       "  border-radius: 1em;\n",
       "  height: 1em;\n",
       "  width: 1em;\n",
       "  text-decoration: none !important;\n",
       "  margin-left: 1ex;\n",
       "  /* unfitted */\n",
       "  border: var(--sklearn-color-unfitted-level-1) 1pt solid;\n",
       "  color: var(--sklearn-color-unfitted-level-1);\n",
       "}\n",
       "\n",
       ".sk-estimator-doc-link.fitted,\n",
       "a:link.sk-estimator-doc-link.fitted,\n",
       "a:visited.sk-estimator-doc-link.fitted {\n",
       "  /* fitted */\n",
       "  border: var(--sklearn-color-fitted-level-1) 1pt solid;\n",
       "  color: var(--sklearn-color-fitted-level-1);\n",
       "}\n",
       "\n",
       "/* On hover */\n",
       "div.sk-estimator:hover .sk-estimator-doc-link:hover,\n",
       ".sk-estimator-doc-link:hover,\n",
       "div.sk-label-container:hover .sk-estimator-doc-link:hover,\n",
       ".sk-estimator-doc-link:hover {\n",
       "  /* unfitted */\n",
       "  background-color: var(--sklearn-color-unfitted-level-3);\n",
       "  color: var(--sklearn-color-background);\n",
       "  text-decoration: none;\n",
       "}\n",
       "\n",
       "div.sk-estimator.fitted:hover .sk-estimator-doc-link.fitted:hover,\n",
       ".sk-estimator-doc-link.fitted:hover,\n",
       "div.sk-label-container:hover .sk-estimator-doc-link.fitted:hover,\n",
       ".sk-estimator-doc-link.fitted:hover {\n",
       "  /* fitted */\n",
       "  background-color: var(--sklearn-color-fitted-level-3);\n",
       "  color: var(--sklearn-color-background);\n",
       "  text-decoration: none;\n",
       "}\n",
       "\n",
       "/* Span, style for the box shown on hovering the info icon */\n",
       ".sk-estimator-doc-link span {\n",
       "  display: none;\n",
       "  z-index: 9999;\n",
       "  position: relative;\n",
       "  font-weight: normal;\n",
       "  right: .2ex;\n",
       "  padding: .5ex;\n",
       "  margin: .5ex;\n",
       "  width: min-content;\n",
       "  min-width: 20ex;\n",
       "  max-width: 50ex;\n",
       "  color: var(--sklearn-color-text);\n",
       "  box-shadow: 2pt 2pt 4pt #999;\n",
       "  /* unfitted */\n",
       "  background: var(--sklearn-color-unfitted-level-0);\n",
       "  border: .5pt solid var(--sklearn-color-unfitted-level-3);\n",
       "}\n",
       "\n",
       ".sk-estimator-doc-link.fitted span {\n",
       "  /* fitted */\n",
       "  background: var(--sklearn-color-fitted-level-0);\n",
       "  border: var(--sklearn-color-fitted-level-3);\n",
       "}\n",
       "\n",
       ".sk-estimator-doc-link:hover span {\n",
       "  display: block;\n",
       "}\n",
       "\n",
       "/* \"?\"-specific style due to the `<a>` HTML tag */\n",
       "\n",
       "#sk-container-id-21 a.estimator_doc_link {\n",
       "  float: right;\n",
       "  font-size: 1rem;\n",
       "  line-height: 1em;\n",
       "  font-family: monospace;\n",
       "  background-color: var(--sklearn-color-background);\n",
       "  border-radius: 1rem;\n",
       "  height: 1rem;\n",
       "  width: 1rem;\n",
       "  text-decoration: none;\n",
       "  /* unfitted */\n",
       "  color: var(--sklearn-color-unfitted-level-1);\n",
       "  border: var(--sklearn-color-unfitted-level-1) 1pt solid;\n",
       "}\n",
       "\n",
       "#sk-container-id-21 a.estimator_doc_link.fitted {\n",
       "  /* fitted */\n",
       "  border: var(--sklearn-color-fitted-level-1) 1pt solid;\n",
       "  color: var(--sklearn-color-fitted-level-1);\n",
       "}\n",
       "\n",
       "/* On hover */\n",
       "#sk-container-id-21 a.estimator_doc_link:hover {\n",
       "  /* unfitted */\n",
       "  background-color: var(--sklearn-color-unfitted-level-3);\n",
       "  color: var(--sklearn-color-background);\n",
       "  text-decoration: none;\n",
       "}\n",
       "\n",
       "#sk-container-id-21 a.estimator_doc_link.fitted:hover {\n",
       "  /* fitted */\n",
       "  background-color: var(--sklearn-color-fitted-level-3);\n",
       "}\n",
       "</style><div id=\"sk-container-id-21\" class=\"sk-top-container\"><div class=\"sk-text-repr-fallback\"><pre>LogisticRegression(max_iter=1000, random_state=42)</pre><b>In a Jupyter environment, please rerun this cell to show the HTML representation or trust the notebook. <br />On GitHub, the HTML representation is unable to render, please try loading this page with nbviewer.org.</b></div><div class=\"sk-container\" hidden><div class=\"sk-item\"><div class=\"sk-estimator fitted sk-toggleable\"><input class=\"sk-toggleable__control sk-hidden--visually\" id=\"sk-estimator-id-21\" type=\"checkbox\" checked><label for=\"sk-estimator-id-21\" class=\"sk-toggleable__label fitted sk-toggleable__label-arrow fitted\">&nbsp;&nbsp;LogisticRegression<a class=\"sk-estimator-doc-link fitted\" rel=\"noreferrer\" target=\"_blank\" href=\"https://scikit-learn.org/1.5/modules/generated/sklearn.linear_model.LogisticRegression.html\">?<span>Documentation for LogisticRegression</span></a><span class=\"sk-estimator-doc-link fitted\">i<span>Fitted</span></span></label><div class=\"sk-toggleable__content fitted\"><pre>LogisticRegression(max_iter=1000, random_state=42)</pre></div> </div></div></div></div>"
      ],
      "text/plain": [
       "LogisticRegression(max_iter=1000, random_state=42)"
      ]
     },
     "execution_count": 103,
     "metadata": {},
     "output_type": "execute_result"
    }
   ],
   "source": [
    "# Ваш код здесь\n",
    "\n",
    "#Создаем объект класса логистическая регрессия\n",
    "log_reg = linear_model.LogisticRegression(\n",
    "    solver='lbfgs', #алгоритм оптимизации\n",
    "    random_state=42, #генератор случайных чисел\n",
    "    max_iter=1000, #количество итераций на сходимость\n",
    "    # penalty = 'l1',\n",
    "    # C=0.8\n",
    ")\n",
    "#Обучаем модель, минимизируя logloss\n",
    "log_reg.fit(X_train_scaled, y_train)"
   ]
  },
  {
   "cell_type": "code",
   "execution_count": 161,
   "id": "44a4f9b7",
   "metadata": {},
   "outputs": [
    {
     "name": "stdout",
     "output_type": "stream",
     "text": [
      "[18, 22, 27, 11, 31]\n",
      "3\n"
     ]
    }
   ],
   "source": [
    "import random\n",
    "num_list = []\n",
    "num = random.randint(1, 45)\n",
    "num_qnt = 5\n",
    "\n",
    "for i in range(num_qnt):\n",
    "    num = random.randint(1, 36)\n",
    "    num_list.append(num)\n",
    "\n",
    "print(num_list)\n",
    "\n",
    "num_2 = random.randint(1, 4)\n",
    "print(num_2)"
   ]
  },
  {
   "cell_type": "code",
   "execution_count": 155,
   "id": "59c8c5cd",
   "metadata": {},
   "outputs": [
    {
     "data": {
      "text/plain": [
       "1"
      ]
     },
     "execution_count": 155,
     "metadata": {},
     "output_type": "execute_result"
    }
   ],
   "source": [
    "num_2 = random.randint(1, 4)\n",
    "num_2"
   ]
  },
  {
   "cell_type": "code",
   "execution_count": 165,
   "id": "48cae05c",
   "metadata": {},
   "outputs": [
    {
     "data": {
      "text/plain": [
       "1"
      ]
     },
     "execution_count": 165,
     "metadata": {},
     "output_type": "execute_result"
    }
   ],
   "source": [
    "x_form_list = [1,2,3,4,5]\n",
    "x_form_array = np.array(x_form_list)\n",
    "x_form_array.min()"
   ]
  },
  {
   "cell_type": "code",
   "execution_count": 235,
   "id": "90f94367",
   "metadata": {},
   "outputs": [],
   "source": [
    "y_form_list = []\n",
    "for elem in np.arange(-10, 10, 0.0001):\n",
    "    x_form = elem\n",
    "    y_form = x_form*x_form +5*x_form - 10\n",
    "    \n",
    "    y_form_list.append(y_form)\n",
    "    \n"
   ]
  },
  {
   "cell_type": "code",
   "execution_count": 241,
   "id": "5b1aa653",
   "metadata": {},
   "outputs": [
    {
     "data": {
      "text/plain": [
       "-0.00023278993482023225"
      ]
     },
     "execution_count": 241,
     "metadata": {},
     "output_type": "execute_result"
    }
   ],
   "source": [
    "min(y_form_list, key=lambda x:abs(x-0))"
   ]
  },
  {
   "cell_type": "code",
   "execution_count": 242,
   "id": "310510b4",
   "metadata": {},
   "outputs": [],
   "source": [
    "a = np.argpartition(y_form_list, 0)"
   ]
  },
  {
   "cell_type": "code",
   "execution_count": 243,
   "id": "b48672ab",
   "metadata": {},
   "outputs": [
    {
     "data": {
      "text/plain": [
       "array([ 75000,      1,      2, ..., 199997, 199998, 199999], dtype=int64)"
      ]
     },
     "execution_count": 243,
     "metadata": {},
     "output_type": "execute_result"
    }
   ],
   "source": [
    "a\n"
   ]
  },
  {
   "cell_type": "code",
   "execution_count": 239,
   "id": "2696bf1c",
   "metadata": {},
   "outputs": [
    {
     "data": {
      "text/plain": [
       "-2.5000000000174794"
      ]
     },
     "execution_count": 239,
     "metadata": {},
     "output_type": "execute_result"
    }
   ],
   "source": [
    "y_form_array = np.array(y_form_list)\n",
    "np.argmin(y_form_array)\n",
    "x_list = list(np.arange(-10, 10, 0.0001))\n",
    "x_list[75000]"
   ]
  },
  {
   "cell_type": "code",
   "execution_count": 240,
   "id": "7518651f",
   "metadata": {},
   "outputs": [
    {
     "data": {
      "text/plain": [
       "-16.25"
      ]
     },
     "execution_count": 240,
     "metadata": {},
     "output_type": "execute_result"
    }
   ],
   "source": [
    "y_form_array.min()"
   ]
  },
  {
   "cell_type": "code",
   "execution_count": 216,
   "id": "5c6dadf2",
   "metadata": {},
   "outputs": [],
   "source": [
    "y_form_list = []\n",
    "for elem in np.arange(-13, 7, 0.1):\n",
    "    \n",
    "    x_form = elem\n",
    "    y_form = x_form*x_form +5*x_form - 10\n",
    "    \n",
    "    y_form_list.append(y_form)"
   ]
  },
  {
   "cell_type": "code",
   "execution_count": 218,
   "id": "4cc088e7",
   "metadata": {},
   "outputs": [
    {
     "data": {
      "text/plain": [
       "-9.49999999999985"
      ]
     },
     "execution_count": 218,
     "metadata": {},
     "output_type": "execute_result"
    }
   ],
   "source": [
    "y_form_array = np.array(y_form_list)\n",
    "np.argmin(y_form_array)\n",
    "x_list = list(np.arange(-20, 20, 0.1))\n",
    "x_list[105]"
   ]
  },
  {
   "cell_type": "code",
   "execution_count": 219,
   "id": "619f0cae",
   "metadata": {},
   "outputs": [],
   "source": [
    "y_form_list = []\n",
    "for elem in np.arange(-14.5, -4.4999, 0.01):\n",
    "    \n",
    "    x_form = elem\n",
    "    y_form = x_form*x_form +5*x_form - 10\n",
    "    \n",
    "    y_form_list.append(y_form)"
   ]
  },
  {
   "cell_type": "code",
   "execution_count": 222,
   "id": "2c491730",
   "metadata": {},
   "outputs": [
    {
     "data": {
      "text/plain": [
       "-4.500000000000213"
      ]
     },
     "execution_count": 222,
     "metadata": {},
     "output_type": "execute_result"
    }
   ],
   "source": [
    "y_form_array = np.array(y_form_list)\n",
    "np.argmin(y_form_array)\n",
    "x_list = list(np.arange(-14.5, -4.4999, 0.01))\n",
    "x_list[1000]"
   ]
  },
  {
   "cell_type": "code",
   "execution_count": 223,
   "id": "144841fc",
   "metadata": {},
   "outputs": [],
   "source": [
    "y_form_list = []\n",
    "for elem in np.arange(-6, -2, 0.005):\n",
    "    \n",
    "    x_form = elem\n",
    "    y_form = x_form*x_form +5*x_form + 10\n",
    "    \n",
    "    y_form_list.append(y_form)"
   ]
  },
  {
   "cell_type": "code",
   "execution_count": 225,
   "id": "e9c90b81",
   "metadata": {},
   "outputs": [
    {
     "data": {
      "text/plain": [
       "-7.500000000000149"
      ]
     },
     "execution_count": 225,
     "metadata": {},
     "output_type": "execute_result"
    }
   ],
   "source": [
    "y_form_array = np.array(y_form_list)\n",
    "np.argmin(y_form_array)\n",
    "x_list = list(np.arange(-14.5, -4.4999, 0.01))\n",
    "x_list[700]"
   ]
  },
  {
   "cell_type": "code",
   "execution_count": 226,
   "id": "2b137ce5",
   "metadata": {},
   "outputs": [],
   "source": [
    "y_form_list = []\n",
    "for elem in np.arange(-8.75, -6.25, 0.0025):\n",
    "    \n",
    "    x_form = elem\n",
    "    y_form = x_form*x_form +5*x_form + 10\n",
    "    \n",
    "    y_form_list.append(y_form)"
   ]
  },
  {
   "cell_type": "code",
   "execution_count": 228,
   "id": "06cbb57f",
   "metadata": {},
   "outputs": [
    {
     "data": {
      "text/plain": [
       "-6.252500000000497"
      ]
     },
     "execution_count": 228,
     "metadata": {},
     "output_type": "execute_result"
    }
   ],
   "source": [
    "y_form_array = np.array(y_form_list)\n",
    "np.argmin(y_form_array)\n",
    "x_list = list(np.arange(-8.75, -6.25, 0.0025))\n",
    "x_list[999]"
   ]
  },
  {
   "cell_type": "code",
   "execution_count": 229,
   "id": "705c4a72",
   "metadata": {},
   "outputs": [],
   "source": [
    "y_form_list = []\n",
    "for elem in np.arange(-7, -5.5, 0.00125):\n",
    "    \n",
    "    x_form = elem\n",
    "    y_form = x_form*x_form +5*x_form + 10\n",
    "    \n",
    "    y_form_list.append(y_form)"
   ]
  },
  {
   "cell_type": "code",
   "execution_count": 233,
   "id": "56ef6577",
   "metadata": {},
   "outputs": [
    {
     "data": {
      "text/plain": [
       "24.0"
      ]
     },
     "execution_count": 233,
     "metadata": {},
     "output_type": "execute_result"
    }
   ],
   "source": [
    "y_form_array.max()"
   ]
  },
  {
   "cell_type": "code",
   "execution_count": 231,
   "id": "ee8e46b3",
   "metadata": {},
   "outputs": [
    {
     "data": {
      "text/plain": [
       "-5.501250000000298"
      ]
     },
     "execution_count": 231,
     "metadata": {},
     "output_type": "execute_result"
    }
   ],
   "source": [
    "y_form_array = np.array(y_form_list)\n",
    "np.argmin(y_form_array)\n",
    "x_list = list(np.arange(-7, -5.5, 0.00125))\n",
    "x_list[1199]"
   ]
  },
  {
   "cell_type": "code",
   "execution_count": 190,
   "id": "714dcd0c",
   "metadata": {},
   "outputs": [
    {
     "data": {
      "text/plain": [
       "3.8400000000001517"
      ]
     },
     "execution_count": 190,
     "metadata": {},
     "output_type": "execute_result"
    }
   ],
   "source": [
    "x_form = -2.199999999999747\n",
    "y_form = x_form*x_form +5*x_form + 10\n",
    "y_form"
   ]
  },
  {
   "cell_type": "code",
   "execution_count": 159,
   "id": "583a07e5",
   "metadata": {},
   "outputs": [
    {
     "ename": "AttributeError",
     "evalue": "module 'random' has no attribute 'get_state'",
     "output_type": "error",
     "traceback": [
      "\u001b[1;31m---------------------------------------------------------------------------\u001b[0m",
      "\u001b[1;31mAttributeError\u001b[0m                            Traceback (most recent call last)",
      "Cell \u001b[1;32mIn[159], line 1\u001b[0m\n\u001b[1;32m----> 1\u001b[0m \u001b[43mrandom\u001b[49m\u001b[38;5;241;43m.\u001b[39;49m\u001b[43mget_state\u001b[49m([\u001b[38;5;241m6\u001b[39m, \u001b[38;5;241m10\u001b[39m, \u001b[38;5;241m17\u001b[39m, \u001b[38;5;241m1\u001b[39m, \u001b[38;5;241m29\u001b[39m])\n",
      "\u001b[1;31mAttributeError\u001b[0m: module 'random' has no attribute 'get_state'"
     ]
    }
   ],
   "source": [
    "random.get_state([6, 10, 17, 1, 29])"
   ]
  },
  {
   "cell_type": "code",
   "execution_count": 104,
   "id": "d8d8d787",
   "metadata": {},
   "outputs": [
    {
     "name": "stdout",
     "output_type": "stream",
     "text": [
      "0.5135658914728682\n",
      "0.4956772334293948\n"
     ]
    }
   ],
   "source": [
    "#Делаем предсказание для тренировочной выборки\n",
    "y_train_pred = log_reg.predict(X_train_scaled)\n",
    "#Вывод отчет о метриках классификации\n",
    "print(metrics.f1_score(y_train, y_train_pred))\n",
    "#Делаем предсказание для тестовой выборки\n",
    "y_test_pred = log_reg.predict(X_test_scaled)\n",
    "#Вывод отчет о метриках классификации\n",
    "print(metrics.f1_score(y_test, y_test_pred))"
   ]
  },
  {
   "cell_type": "code",
   "execution_count": 116,
   "id": "8c0d9e8c",
   "metadata": {},
   "outputs": [
    {
     "data": {
      "text/html": [
       "<style>#sk-container-id-27 {\n",
       "  /* Definition of color scheme common for light and dark mode */\n",
       "  --sklearn-color-text: black;\n",
       "  --sklearn-color-line: gray;\n",
       "  /* Definition of color scheme for unfitted estimators */\n",
       "  --sklearn-color-unfitted-level-0: #fff5e6;\n",
       "  --sklearn-color-unfitted-level-1: #f6e4d2;\n",
       "  --sklearn-color-unfitted-level-2: #ffe0b3;\n",
       "  --sklearn-color-unfitted-level-3: chocolate;\n",
       "  /* Definition of color scheme for fitted estimators */\n",
       "  --sklearn-color-fitted-level-0: #f0f8ff;\n",
       "  --sklearn-color-fitted-level-1: #d4ebff;\n",
       "  --sklearn-color-fitted-level-2: #b3dbfd;\n",
       "  --sklearn-color-fitted-level-3: cornflowerblue;\n",
       "\n",
       "  /* Specific color for light theme */\n",
       "  --sklearn-color-text-on-default-background: var(--sg-text-color, var(--theme-code-foreground, var(--jp-content-font-color1, black)));\n",
       "  --sklearn-color-background: var(--sg-background-color, var(--theme-background, var(--jp-layout-color0, white)));\n",
       "  --sklearn-color-border-box: var(--sg-text-color, var(--theme-code-foreground, var(--jp-content-font-color1, black)));\n",
       "  --sklearn-color-icon: #696969;\n",
       "\n",
       "  @media (prefers-color-scheme: dark) {\n",
       "    /* Redefinition of color scheme for dark theme */\n",
       "    --sklearn-color-text-on-default-background: var(--sg-text-color, var(--theme-code-foreground, var(--jp-content-font-color1, white)));\n",
       "    --sklearn-color-background: var(--sg-background-color, var(--theme-background, var(--jp-layout-color0, #111)));\n",
       "    --sklearn-color-border-box: var(--sg-text-color, var(--theme-code-foreground, var(--jp-content-font-color1, white)));\n",
       "    --sklearn-color-icon: #878787;\n",
       "  }\n",
       "}\n",
       "\n",
       "#sk-container-id-27 {\n",
       "  color: var(--sklearn-color-text);\n",
       "}\n",
       "\n",
       "#sk-container-id-27 pre {\n",
       "  padding: 0;\n",
       "}\n",
       "\n",
       "#sk-container-id-27 input.sk-hidden--visually {\n",
       "  border: 0;\n",
       "  clip: rect(1px 1px 1px 1px);\n",
       "  clip: rect(1px, 1px, 1px, 1px);\n",
       "  height: 1px;\n",
       "  margin: -1px;\n",
       "  overflow: hidden;\n",
       "  padding: 0;\n",
       "  position: absolute;\n",
       "  width: 1px;\n",
       "}\n",
       "\n",
       "#sk-container-id-27 div.sk-dashed-wrapped {\n",
       "  border: 1px dashed var(--sklearn-color-line);\n",
       "  margin: 0 0.4em 0.5em 0.4em;\n",
       "  box-sizing: border-box;\n",
       "  padding-bottom: 0.4em;\n",
       "  background-color: var(--sklearn-color-background);\n",
       "}\n",
       "\n",
       "#sk-container-id-27 div.sk-container {\n",
       "  /* jupyter's `normalize.less` sets `[hidden] { display: none; }`\n",
       "     but bootstrap.min.css set `[hidden] { display: none !important; }`\n",
       "     so we also need the `!important` here to be able to override the\n",
       "     default hidden behavior on the sphinx rendered scikit-learn.org.\n",
       "     See: https://github.com/scikit-learn/scikit-learn/issues/21755 */\n",
       "  display: inline-block !important;\n",
       "  position: relative;\n",
       "}\n",
       "\n",
       "#sk-container-id-27 div.sk-text-repr-fallback {\n",
       "  display: none;\n",
       "}\n",
       "\n",
       "div.sk-parallel-item,\n",
       "div.sk-serial,\n",
       "div.sk-item {\n",
       "  /* draw centered vertical line to link estimators */\n",
       "  background-image: linear-gradient(var(--sklearn-color-text-on-default-background), var(--sklearn-color-text-on-default-background));\n",
       "  background-size: 2px 100%;\n",
       "  background-repeat: no-repeat;\n",
       "  background-position: center center;\n",
       "}\n",
       "\n",
       "/* Parallel-specific style estimator block */\n",
       "\n",
       "#sk-container-id-27 div.sk-parallel-item::after {\n",
       "  content: \"\";\n",
       "  width: 100%;\n",
       "  border-bottom: 2px solid var(--sklearn-color-text-on-default-background);\n",
       "  flex-grow: 1;\n",
       "}\n",
       "\n",
       "#sk-container-id-27 div.sk-parallel {\n",
       "  display: flex;\n",
       "  align-items: stretch;\n",
       "  justify-content: center;\n",
       "  background-color: var(--sklearn-color-background);\n",
       "  position: relative;\n",
       "}\n",
       "\n",
       "#sk-container-id-27 div.sk-parallel-item {\n",
       "  display: flex;\n",
       "  flex-direction: column;\n",
       "}\n",
       "\n",
       "#sk-container-id-27 div.sk-parallel-item:first-child::after {\n",
       "  align-self: flex-end;\n",
       "  width: 50%;\n",
       "}\n",
       "\n",
       "#sk-container-id-27 div.sk-parallel-item:last-child::after {\n",
       "  align-self: flex-start;\n",
       "  width: 50%;\n",
       "}\n",
       "\n",
       "#sk-container-id-27 div.sk-parallel-item:only-child::after {\n",
       "  width: 0;\n",
       "}\n",
       "\n",
       "/* Serial-specific style estimator block */\n",
       "\n",
       "#sk-container-id-27 div.sk-serial {\n",
       "  display: flex;\n",
       "  flex-direction: column;\n",
       "  align-items: center;\n",
       "  background-color: var(--sklearn-color-background);\n",
       "  padding-right: 1em;\n",
       "  padding-left: 1em;\n",
       "}\n",
       "\n",
       "\n",
       "/* Toggleable style: style used for estimator/Pipeline/ColumnTransformer box that is\n",
       "clickable and can be expanded/collapsed.\n",
       "- Pipeline and ColumnTransformer use this feature and define the default style\n",
       "- Estimators will overwrite some part of the style using the `sk-estimator` class\n",
       "*/\n",
       "\n",
       "/* Pipeline and ColumnTransformer style (default) */\n",
       "\n",
       "#sk-container-id-27 div.sk-toggleable {\n",
       "  /* Default theme specific background. It is overwritten whether we have a\n",
       "  specific estimator or a Pipeline/ColumnTransformer */\n",
       "  background-color: var(--sklearn-color-background);\n",
       "}\n",
       "\n",
       "/* Toggleable label */\n",
       "#sk-container-id-27 label.sk-toggleable__label {\n",
       "  cursor: pointer;\n",
       "  display: block;\n",
       "  width: 100%;\n",
       "  margin-bottom: 0;\n",
       "  padding: 0.5em;\n",
       "  box-sizing: border-box;\n",
       "  text-align: center;\n",
       "}\n",
       "\n",
       "#sk-container-id-27 label.sk-toggleable__label-arrow:before {\n",
       "  /* Arrow on the left of the label */\n",
       "  content: \"▸\";\n",
       "  float: left;\n",
       "  margin-right: 0.25em;\n",
       "  color: var(--sklearn-color-icon);\n",
       "}\n",
       "\n",
       "#sk-container-id-27 label.sk-toggleable__label-arrow:hover:before {\n",
       "  color: var(--sklearn-color-text);\n",
       "}\n",
       "\n",
       "/* Toggleable content - dropdown */\n",
       "\n",
       "#sk-container-id-27 div.sk-toggleable__content {\n",
       "  max-height: 0;\n",
       "  max-width: 0;\n",
       "  overflow: hidden;\n",
       "  text-align: left;\n",
       "  /* unfitted */\n",
       "  background-color: var(--sklearn-color-unfitted-level-0);\n",
       "}\n",
       "\n",
       "#sk-container-id-27 div.sk-toggleable__content.fitted {\n",
       "  /* fitted */\n",
       "  background-color: var(--sklearn-color-fitted-level-0);\n",
       "}\n",
       "\n",
       "#sk-container-id-27 div.sk-toggleable__content pre {\n",
       "  margin: 0.2em;\n",
       "  border-radius: 0.25em;\n",
       "  color: var(--sklearn-color-text);\n",
       "  /* unfitted */\n",
       "  background-color: var(--sklearn-color-unfitted-level-0);\n",
       "}\n",
       "\n",
       "#sk-container-id-27 div.sk-toggleable__content.fitted pre {\n",
       "  /* unfitted */\n",
       "  background-color: var(--sklearn-color-fitted-level-0);\n",
       "}\n",
       "\n",
       "#sk-container-id-27 input.sk-toggleable__control:checked~div.sk-toggleable__content {\n",
       "  /* Expand drop-down */\n",
       "  max-height: 200px;\n",
       "  max-width: 100%;\n",
       "  overflow: auto;\n",
       "}\n",
       "\n",
       "#sk-container-id-27 input.sk-toggleable__control:checked~label.sk-toggleable__label-arrow:before {\n",
       "  content: \"▾\";\n",
       "}\n",
       "\n",
       "/* Pipeline/ColumnTransformer-specific style */\n",
       "\n",
       "#sk-container-id-27 div.sk-label input.sk-toggleable__control:checked~label.sk-toggleable__label {\n",
       "  color: var(--sklearn-color-text);\n",
       "  background-color: var(--sklearn-color-unfitted-level-2);\n",
       "}\n",
       "\n",
       "#sk-container-id-27 div.sk-label.fitted input.sk-toggleable__control:checked~label.sk-toggleable__label {\n",
       "  background-color: var(--sklearn-color-fitted-level-2);\n",
       "}\n",
       "\n",
       "/* Estimator-specific style */\n",
       "\n",
       "/* Colorize estimator box */\n",
       "#sk-container-id-27 div.sk-estimator input.sk-toggleable__control:checked~label.sk-toggleable__label {\n",
       "  /* unfitted */\n",
       "  background-color: var(--sklearn-color-unfitted-level-2);\n",
       "}\n",
       "\n",
       "#sk-container-id-27 div.sk-estimator.fitted input.sk-toggleable__control:checked~label.sk-toggleable__label {\n",
       "  /* fitted */\n",
       "  background-color: var(--sklearn-color-fitted-level-2);\n",
       "}\n",
       "\n",
       "#sk-container-id-27 div.sk-label label.sk-toggleable__label,\n",
       "#sk-container-id-27 div.sk-label label {\n",
       "  /* The background is the default theme color */\n",
       "  color: var(--sklearn-color-text-on-default-background);\n",
       "}\n",
       "\n",
       "/* On hover, darken the color of the background */\n",
       "#sk-container-id-27 div.sk-label:hover label.sk-toggleable__label {\n",
       "  color: var(--sklearn-color-text);\n",
       "  background-color: var(--sklearn-color-unfitted-level-2);\n",
       "}\n",
       "\n",
       "/* Label box, darken color on hover, fitted */\n",
       "#sk-container-id-27 div.sk-label.fitted:hover label.sk-toggleable__label.fitted {\n",
       "  color: var(--sklearn-color-text);\n",
       "  background-color: var(--sklearn-color-fitted-level-2);\n",
       "}\n",
       "\n",
       "/* Estimator label */\n",
       "\n",
       "#sk-container-id-27 div.sk-label label {\n",
       "  font-family: monospace;\n",
       "  font-weight: bold;\n",
       "  display: inline-block;\n",
       "  line-height: 1.2em;\n",
       "}\n",
       "\n",
       "#sk-container-id-27 div.sk-label-container {\n",
       "  text-align: center;\n",
       "}\n",
       "\n",
       "/* Estimator-specific */\n",
       "#sk-container-id-27 div.sk-estimator {\n",
       "  font-family: monospace;\n",
       "  border: 1px dotted var(--sklearn-color-border-box);\n",
       "  border-radius: 0.25em;\n",
       "  box-sizing: border-box;\n",
       "  margin-bottom: 0.5em;\n",
       "  /* unfitted */\n",
       "  background-color: var(--sklearn-color-unfitted-level-0);\n",
       "}\n",
       "\n",
       "#sk-container-id-27 div.sk-estimator.fitted {\n",
       "  /* fitted */\n",
       "  background-color: var(--sklearn-color-fitted-level-0);\n",
       "}\n",
       "\n",
       "/* on hover */\n",
       "#sk-container-id-27 div.sk-estimator:hover {\n",
       "  /* unfitted */\n",
       "  background-color: var(--sklearn-color-unfitted-level-2);\n",
       "}\n",
       "\n",
       "#sk-container-id-27 div.sk-estimator.fitted:hover {\n",
       "  /* fitted */\n",
       "  background-color: var(--sklearn-color-fitted-level-2);\n",
       "}\n",
       "\n",
       "/* Specification for estimator info (e.g. \"i\" and \"?\") */\n",
       "\n",
       "/* Common style for \"i\" and \"?\" */\n",
       "\n",
       ".sk-estimator-doc-link,\n",
       "a:link.sk-estimator-doc-link,\n",
       "a:visited.sk-estimator-doc-link {\n",
       "  float: right;\n",
       "  font-size: smaller;\n",
       "  line-height: 1em;\n",
       "  font-family: monospace;\n",
       "  background-color: var(--sklearn-color-background);\n",
       "  border-radius: 1em;\n",
       "  height: 1em;\n",
       "  width: 1em;\n",
       "  text-decoration: none !important;\n",
       "  margin-left: 1ex;\n",
       "  /* unfitted */\n",
       "  border: var(--sklearn-color-unfitted-level-1) 1pt solid;\n",
       "  color: var(--sklearn-color-unfitted-level-1);\n",
       "}\n",
       "\n",
       ".sk-estimator-doc-link.fitted,\n",
       "a:link.sk-estimator-doc-link.fitted,\n",
       "a:visited.sk-estimator-doc-link.fitted {\n",
       "  /* fitted */\n",
       "  border: var(--sklearn-color-fitted-level-1) 1pt solid;\n",
       "  color: var(--sklearn-color-fitted-level-1);\n",
       "}\n",
       "\n",
       "/* On hover */\n",
       "div.sk-estimator:hover .sk-estimator-doc-link:hover,\n",
       ".sk-estimator-doc-link:hover,\n",
       "div.sk-label-container:hover .sk-estimator-doc-link:hover,\n",
       ".sk-estimator-doc-link:hover {\n",
       "  /* unfitted */\n",
       "  background-color: var(--sklearn-color-unfitted-level-3);\n",
       "  color: var(--sklearn-color-background);\n",
       "  text-decoration: none;\n",
       "}\n",
       "\n",
       "div.sk-estimator.fitted:hover .sk-estimator-doc-link.fitted:hover,\n",
       ".sk-estimator-doc-link.fitted:hover,\n",
       "div.sk-label-container:hover .sk-estimator-doc-link.fitted:hover,\n",
       ".sk-estimator-doc-link.fitted:hover {\n",
       "  /* fitted */\n",
       "  background-color: var(--sklearn-color-fitted-level-3);\n",
       "  color: var(--sklearn-color-background);\n",
       "  text-decoration: none;\n",
       "}\n",
       "\n",
       "/* Span, style for the box shown on hovering the info icon */\n",
       ".sk-estimator-doc-link span {\n",
       "  display: none;\n",
       "  z-index: 9999;\n",
       "  position: relative;\n",
       "  font-weight: normal;\n",
       "  right: .2ex;\n",
       "  padding: .5ex;\n",
       "  margin: .5ex;\n",
       "  width: min-content;\n",
       "  min-width: 20ex;\n",
       "  max-width: 50ex;\n",
       "  color: var(--sklearn-color-text);\n",
       "  box-shadow: 2pt 2pt 4pt #999;\n",
       "  /* unfitted */\n",
       "  background: var(--sklearn-color-unfitted-level-0);\n",
       "  border: .5pt solid var(--sklearn-color-unfitted-level-3);\n",
       "}\n",
       "\n",
       ".sk-estimator-doc-link.fitted span {\n",
       "  /* fitted */\n",
       "  background: var(--sklearn-color-fitted-level-0);\n",
       "  border: var(--sklearn-color-fitted-level-3);\n",
       "}\n",
       "\n",
       ".sk-estimator-doc-link:hover span {\n",
       "  display: block;\n",
       "}\n",
       "\n",
       "/* \"?\"-specific style due to the `<a>` HTML tag */\n",
       "\n",
       "#sk-container-id-27 a.estimator_doc_link {\n",
       "  float: right;\n",
       "  font-size: 1rem;\n",
       "  line-height: 1em;\n",
       "  font-family: monospace;\n",
       "  background-color: var(--sklearn-color-background);\n",
       "  border-radius: 1rem;\n",
       "  height: 1rem;\n",
       "  width: 1rem;\n",
       "  text-decoration: none;\n",
       "  /* unfitted */\n",
       "  color: var(--sklearn-color-unfitted-level-1);\n",
       "  border: var(--sklearn-color-unfitted-level-1) 1pt solid;\n",
       "}\n",
       "\n",
       "#sk-container-id-27 a.estimator_doc_link.fitted {\n",
       "  /* fitted */\n",
       "  border: var(--sklearn-color-fitted-level-1) 1pt solid;\n",
       "  color: var(--sklearn-color-fitted-level-1);\n",
       "}\n",
       "\n",
       "/* On hover */\n",
       "#sk-container-id-27 a.estimator_doc_link:hover {\n",
       "  /* unfitted */\n",
       "  background-color: var(--sklearn-color-unfitted-level-3);\n",
       "  color: var(--sklearn-color-background);\n",
       "  text-decoration: none;\n",
       "}\n",
       "\n",
       "#sk-container-id-27 a.estimator_doc_link.fitted:hover {\n",
       "  /* fitted */\n",
       "  background-color: var(--sklearn-color-fitted-level-3);\n",
       "}\n",
       "</style><div id=\"sk-container-id-27\" class=\"sk-top-container\"><div class=\"sk-text-repr-fallback\"><pre>LogisticRegression(max_iter=1000, random_state=42, solver=&#x27;sag&#x27;)</pre><b>In a Jupyter environment, please rerun this cell to show the HTML representation or trust the notebook. <br />On GitHub, the HTML representation is unable to render, please try loading this page with nbviewer.org.</b></div><div class=\"sk-container\" hidden><div class=\"sk-item\"><div class=\"sk-estimator fitted sk-toggleable\"><input class=\"sk-toggleable__control sk-hidden--visually\" id=\"sk-estimator-id-27\" type=\"checkbox\" checked><label for=\"sk-estimator-id-27\" class=\"sk-toggleable__label fitted sk-toggleable__label-arrow fitted\">&nbsp;&nbsp;LogisticRegression<a class=\"sk-estimator-doc-link fitted\" rel=\"noreferrer\" target=\"_blank\" href=\"https://scikit-learn.org/1.5/modules/generated/sklearn.linear_model.LogisticRegression.html\">?<span>Documentation for LogisticRegression</span></a><span class=\"sk-estimator-doc-link fitted\">i<span>Fitted</span></span></label><div class=\"sk-toggleable__content fitted\"><pre>LogisticRegression(max_iter=1000, random_state=42, solver=&#x27;sag&#x27;)</pre></div> </div></div></div></div>"
      ],
      "text/plain": [
       "LogisticRegression(max_iter=1000, random_state=42, solver='sag')"
      ]
     },
     "execution_count": 116,
     "metadata": {},
     "output_type": "execute_result"
    }
   ],
   "source": [
    "# Ваш код здесь\n",
    "\n",
    "#Создаем объект класса логистическая регрессия\n",
    "log_reg = linear_model.LogisticRegression(\n",
    "    solver='sag', #алгоритм оптимизации\n",
    "    random_state=42, #генератор случайных чисел\n",
    "    max_iter=1000 #количество итераций на сходимость\n",
    ")\n",
    "#Обучаем модель, минимизируя logloss\n",
    "log_reg.fit(X_train_scaled, y_train)"
   ]
  },
  {
   "cell_type": "code",
   "execution_count": 144,
   "id": "dddce7e1",
   "metadata": {},
   "outputs": [],
   "source": [
    "test_dict = {'C_factor': [], 'f1_score_train': [], 'f1_score_test': [] }\n",
    "for c_factor in np.arange(0.05, 1, 0.05):\n",
    "\n",
    "    #Создаем объект класса логистическая регрессия\n",
    "    log_reg = linear_model.LogisticRegression(\n",
    "        # solver='sag', #алгоритм оптимизации\n",
    "        random_state=42, #генератор случайных чисел\n",
    "        max_iter=1000, #количество итераций на сходимость\n",
    "        C = c_factor\n",
    "    )\n",
    "    \n",
    "    test_dict['C_factor'].append(c_factor)\n",
    "    \n",
    "    #Обучаем модель, минимизируя logloss\n",
    "    log_reg.fit(X_train_scaled, y_train)\n",
    "    #Делаем предсказание для тренировочной выборки\n",
    "    y_train_pred = log_reg.predict(X_train_scaled)\n",
    "    test_dict['f1_score_train'].append(metrics.f1_score(y_train, y_train_pred))\n",
    "    #Вывод отчет о метриках классификации\n",
    "    # print(metrics.f1_score(y_train, y_train_pred))\n",
    "    #Делаем предсказание для тестовой выборки\n",
    "    y_test_pred = log_reg.predict(X_test_scaled)\n",
    "    #Вывод отчет о метриках классификации\n",
    "    test_dict['f1_score_test'].append(metrics.f1_score(y_test, y_test_pred))\n",
    "    \n",
    "    # print(metrics.f1_score(y_test, y_test_pred))"
   ]
  },
  {
   "cell_type": "code",
   "execution_count": 145,
   "id": "d50f27b6",
   "metadata": {},
   "outputs": [],
   "source": [
    "test_dict_df = pd.DataFrame.from_dict(test_dict)"
   ]
  },
  {
   "cell_type": "code",
   "execution_count": 146,
   "id": "39b2123b",
   "metadata": {},
   "outputs": [
    {
     "data": {
      "text/html": [
       "<div>\n",
       "<style scoped>\n",
       "    .dataframe tbody tr th:only-of-type {\n",
       "        vertical-align: middle;\n",
       "    }\n",
       "\n",
       "    .dataframe tbody tr th {\n",
       "        vertical-align: top;\n",
       "    }\n",
       "\n",
       "    .dataframe thead th {\n",
       "        text-align: right;\n",
       "    }\n",
       "</style>\n",
       "<table border=\"1\" class=\"dataframe\">\n",
       "  <thead>\n",
       "    <tr style=\"text-align: right;\">\n",
       "      <th></th>\n",
       "      <th>C_factor</th>\n",
       "      <th>f1_score_train</th>\n",
       "      <th>f1_score_test</th>\n",
       "    </tr>\n",
       "  </thead>\n",
       "  <tbody>\n",
       "    <tr>\n",
       "      <th>0</th>\n",
       "      <td>0.05</td>\n",
       "      <td>0.489209</td>\n",
       "      <td>0.460568</td>\n",
       "    </tr>\n",
       "    <tr>\n",
       "      <th>1</th>\n",
       "      <td>0.10</td>\n",
       "      <td>0.498998</td>\n",
       "      <td>0.462963</td>\n",
       "    </tr>\n",
       "    <tr>\n",
       "      <th>2</th>\n",
       "      <td>0.15</td>\n",
       "      <td>0.505929</td>\n",
       "      <td>0.489552</td>\n",
       "    </tr>\n",
       "    <tr>\n",
       "      <th>3</th>\n",
       "      <td>0.20</td>\n",
       "      <td>0.505906</td>\n",
       "      <td>0.480712</td>\n",
       "    </tr>\n",
       "    <tr>\n",
       "      <th>4</th>\n",
       "      <td>0.25</td>\n",
       "      <td>0.508342</td>\n",
       "      <td>0.482353</td>\n",
       "    </tr>\n",
       "    <tr>\n",
       "      <th>5</th>\n",
       "      <td>0.30</td>\n",
       "      <td>0.510264</td>\n",
       "      <td>0.485380</td>\n",
       "    </tr>\n",
       "    <tr>\n",
       "      <th>6</th>\n",
       "      <td>0.35</td>\n",
       "      <td>0.512171</td>\n",
       "      <td>0.491329</td>\n",
       "    </tr>\n",
       "    <tr>\n",
       "      <th>7</th>\n",
       "      <td>0.40</td>\n",
       "      <td>0.514119</td>\n",
       "      <td>0.491329</td>\n",
       "    </tr>\n",
       "    <tr>\n",
       "      <th>8</th>\n",
       "      <td>0.45</td>\n",
       "      <td>0.512621</td>\n",
       "      <td>0.489914</td>\n",
       "    </tr>\n",
       "    <tr>\n",
       "      <th>9</th>\n",
       "      <td>0.50</td>\n",
       "      <td>0.514064</td>\n",
       "      <td>0.489914</td>\n",
       "    </tr>\n",
       "    <tr>\n",
       "      <th>10</th>\n",
       "      <td>0.55</td>\n",
       "      <td>0.513120</td>\n",
       "      <td>0.489914</td>\n",
       "    </tr>\n",
       "    <tr>\n",
       "      <th>11</th>\n",
       "      <td>0.60</td>\n",
       "      <td>0.512621</td>\n",
       "      <td>0.494253</td>\n",
       "    </tr>\n",
       "    <tr>\n",
       "      <th>12</th>\n",
       "      <td>0.65</td>\n",
       "      <td>0.514064</td>\n",
       "      <td>0.494253</td>\n",
       "    </tr>\n",
       "    <tr>\n",
       "      <th>13</th>\n",
       "      <td>0.70</td>\n",
       "      <td>0.513566</td>\n",
       "      <td>0.494253</td>\n",
       "    </tr>\n",
       "    <tr>\n",
       "      <th>14</th>\n",
       "      <td>0.75</td>\n",
       "      <td>0.513566</td>\n",
       "      <td>0.494253</td>\n",
       "    </tr>\n",
       "    <tr>\n",
       "      <th>15</th>\n",
       "      <td>0.80</td>\n",
       "      <td>0.513566</td>\n",
       "      <td>0.494253</td>\n",
       "    </tr>\n",
       "    <tr>\n",
       "      <th>16</th>\n",
       "      <td>0.85</td>\n",
       "      <td>0.513566</td>\n",
       "      <td>0.495677</td>\n",
       "    </tr>\n",
       "    <tr>\n",
       "      <th>17</th>\n",
       "      <td>0.90</td>\n",
       "      <td>0.513566</td>\n",
       "      <td>0.495677</td>\n",
       "    </tr>\n",
       "    <tr>\n",
       "      <th>18</th>\n",
       "      <td>0.95</td>\n",
       "      <td>0.513566</td>\n",
       "      <td>0.495677</td>\n",
       "    </tr>\n",
       "  </tbody>\n",
       "</table>\n",
       "</div>"
      ],
      "text/plain": [
       "    C_factor  f1_score_train  f1_score_test\n",
       "0       0.05        0.489209       0.460568\n",
       "1       0.10        0.498998       0.462963\n",
       "2       0.15        0.505929       0.489552\n",
       "3       0.20        0.505906       0.480712\n",
       "4       0.25        0.508342       0.482353\n",
       "5       0.30        0.510264       0.485380\n",
       "6       0.35        0.512171       0.491329\n",
       "7       0.40        0.514119       0.491329\n",
       "8       0.45        0.512621       0.489914\n",
       "9       0.50        0.514064       0.489914\n",
       "10      0.55        0.513120       0.489914\n",
       "11      0.60        0.512621       0.494253\n",
       "12      0.65        0.514064       0.494253\n",
       "13      0.70        0.513566       0.494253\n",
       "14      0.75        0.513566       0.494253\n",
       "15      0.80        0.513566       0.494253\n",
       "16      0.85        0.513566       0.495677\n",
       "17      0.90        0.513566       0.495677\n",
       "18      0.95        0.513566       0.495677"
      ]
     },
     "execution_count": 146,
     "metadata": {},
     "output_type": "execute_result"
    }
   ],
   "source": [
    "test_dict_df"
   ]
  },
  {
   "cell_type": "code",
   "execution_count": 135,
   "id": "fe4b39fe",
   "metadata": {},
   "outputs": [
    {
     "name": "stdout",
     "output_type": "stream",
     "text": [
      "0.05\n",
      "0.1\n",
      "0.15000000000000002\n",
      "0.2\n",
      "0.25\n",
      "0.3\n",
      "0.35000000000000003\n",
      "0.4\n",
      "0.45\n",
      "0.5\n",
      "0.55\n",
      "0.6000000000000001\n",
      "0.6500000000000001\n",
      "0.7000000000000001\n",
      "0.7500000000000001\n",
      "0.8\n",
      "0.8500000000000001\n",
      "0.9000000000000001\n",
      "0.9500000000000001\n"
     ]
    }
   ],
   "source": [
    "for c_factor in np.arange(0.05, 1, 0.05):\n",
    "    print(c_factor)"
   ]
  },
  {
   "cell_type": "code",
   "execution_count": null,
   "id": "b0cc1201",
   "metadata": {},
   "outputs": [],
   "source": [
    "X_train_most_minmax и X_test_most_minmax\n",
    "\n",
    "X_train_middle_minmax и X_test_middle_minmax\n",
    "\n",
    "X_train_most_robust и X_test_most_robust\n",
    "\n",
    "X_train_scaled и X_test_scaled"
   ]
  },
  {
   "cell_type": "code",
   "execution_count": 87,
   "id": "bbd06287",
   "metadata": {},
   "outputs": [
    {
     "data": {
      "image/png": "[encoded data removed]",
      "text/plain": [
       "<Figure size 1000x400 with 1 Axes>"
      ]
     },
     "metadata": {},
     "output_type": "display_data"
    }
   ],
   "source": [
    "#Нас интересует только вероятность класса (второй столбец)\n",
    "y_test_proba_pred = log_reg.predict_proba(X_test_scaled)[:, 1]\n",
    "#Для удобства завернем numpy-массив в pandas Series\n",
    "y_test_proba_pred = pd.Series(y_test_proba_pred)\n",
    "#Создадим списки, в которых будем хранить значения метрик \n",
    "recall_scores = []\n",
    "precision_scores = []\n",
    "f1_scores = []\n",
    "#Сгенерируем набор вероятностных порогов в диапазоне от 0.1 до 1\n",
    "thresholds = np.arange(0.1, 1, 0.05)\n",
    "#В цикле будем перебирать сгенерированные пороги\n",
    "for threshold in thresholds:\n",
    "    #В противном случае - к классу 0\n",
    "    y_test_pred = y_test_proba_pred.apply(lambda x: 1 if x>threshold else 0)\n",
    "    #Считаем метрики и добавляем их в списки\n",
    "    recall_scores.append(metrics.recall_score(y_test, y_test_pred))\n",
    "    precision_scores.append(metrics.precision_score(y_test, y_test_pred))\n",
    "    f1_scores.append(metrics.f1_score(y_test, y_test_pred))\n",
    "\n",
    "#Визуализируем метрики при различных threshold\n",
    "fig, ax = plt.subplots(figsize=(10, 4)) #фигура + координатная плоскость\n",
    "#Строим линейный график зависимости recall от threshold\n",
    "ax.plot(thresholds, recall_scores, label='Recall')\n",
    "#Строим линейный график зависимости precision от threshold\n",
    "ax.plot(thresholds, precision_scores, label='Precision')\n",
    "\n",
    "#Строим линейный график зависимости F1 от threshold\n",
    "ax.plot(thresholds, f1_scores, label='F1-score')\n",
    "#Даем графику название и подписи осям\n",
    "ax.set_title('Recall/Precision dependence on the threshold')\n",
    "ax.set_xlabel('Probability threshold')\n",
    "ax.set_ylabel('Score')\n",
    "ax.legend();"
   ]
  },
  {
   "cell_type": "code",
   "execution_count": 88,
   "id": "816aedb6",
   "metadata": {},
   "outputs": [
    {
     "name": "stdout",
     "output_type": "stream",
     "text": [
      "              precision    recall  f1-score   support\n",
      "\n",
      "           0       0.00      0.00      0.00       424\n",
      "           1       0.32      1.00      0.49       204\n",
      "\n",
      "    accuracy                           0.32       628\n",
      "   macro avg       0.16      0.50      0.25       628\n",
      "weighted avg       0.11      0.32      0.16       628\n",
      "\n"
     ]
    }
   ],
   "source": [
    "#Задаем оптимальный порог вероятностей\n",
    "threshold_opt = 0.43\n",
    "#Людей, у которых вероятность зарабатывать >50K больше 0.4 относим к классу 1\n",
    "#В противном случае - к классу 0\n",
    "y_test_pred_opt = y_test_proba_pred.apply(lambda x: 1 if x > threshold_opt else 0)\n",
    "#Считаем метрики\n",
    "print(metrics.classification_report(y_test, y_test_pred_opt))"
   ]
  },
  {
   "cell_type": "markdown",
   "id": "9258c527",
   "metadata": {
    "id": "9258c527"
   },
   "source": [
    "> Ваши выводы и рассуждения — *здесь*."
   ]
  },
  {
   "cell_type": "markdown",
   "id": "e6709b8d",
   "metadata": {
    "id": "e6709b8d"
   },
   "source": [
    "### Задание 5.5 (2 балла)\n",
    "\n",
    "Сгенерируйте полиномиальные признаки третьей степени для тренировочной и тестовой выборок. Используйте класс `PolynomialFeatures` из библиотеки `sklearn`. Параметр `include_bias` выставите в значение `False`.\n",
    "\n",
    "> **Примечание.** Обратите внимание, что для генерации полиномов необходимо использовать масштабированные данные.\n",
    "\n",
    "Обучите модель логистической регрессии на полиномиальных признаках (`Logistic Regression`). Позаботьтесь о воспроизводимости результат, установив конкретное значение параметра `random_state` (например, число 42).\n",
    "\n",
    "Предскажите метки классов для тренировочной и тестовой выборок.\n",
    "\n",
    "Рассчитайте значение целевой метрики на тренировочной и тестовой выборках для модели, обученной на полиномиальных признаках.\n",
    "\n",
    "Сравните результат с полученным ранее. Удалось ли вам улучшить качество вашей модели?\n",
    "\n",
    "**Дополнительное задание:**\n",
    "\n",
    "Попробуйте поуправлять следующими параметрами модели:\n",
    "* `penalty` — тип используемой регуляризации ('l1' — $L_1$-регуляризация, 'l2' — $L_2$-регуляризация);\n",
    "* `C` — коэффициент, обратный коэффициенту регуляризации (по умолчанию он равен 1).\n",
    "\n",
    "Понаблюдайте, как ведут себя метрики в зависимости от типа регуляризации и увеличения/уменьшения значения парамера `C`."
   ]
  },
  {
   "cell_type": "markdown",
   "id": "af02d772",
   "metadata": {
    "id": "af02d772"
   },
   "source": [
    "**Критерии оценивания:**\n",
    "- Задание выполнено верно, учтены все условия (**2 балла**): \n",
    "    * сгенерированы полиномиальные признаки третьей степени;\n",
    "    * построена модель логистической регрессии, решающая поставленную задачу на основе сгенерированных признаков;\n",
    "    * с помощью полученной модели сформированы предсказания на тренировочной и тестовой выборках;\n",
    "    * приведён расчёт выбранной метрики на тренировочных и тестовых данных (метрика должна быть выбрана корректно);\n",
    "    * приведён небольшой вывод по полученным результатам, в котором содержится корректный ответ на поставленный в задании вопрос.\n",
    "\n",
    "- Задание выполнено верно, но не приведён вывод по полученным результатам или вывод является неверным (**1 балл**).\n",
    "- Задание выполнено неверно, не учтено несколько условий (**0 баллов**)."
   ]
  },
  {
   "cell_type": "code",
   "execution_count": null,
   "id": "23315092",
   "metadata": {
    "id": "23315092"
   },
   "outputs": [],
   "source": [
    "# Ваш код здесь"
   ]
  },
  {
   "cell_type": "markdown",
   "id": "4e7d4e3e",
   "metadata": {
    "id": "4e7d4e3e"
   },
   "source": [
    "> Ваши выводы и рассуждения — *здесь*"
   ]
  },
  {
   "cell_type": "markdown",
   "id": "8dc563a4",
   "metadata": {
    "id": "8dc563a4"
   },
   "source": [
    "### Задание 5.6. (2 балла)\n",
    "\n",
    "\n",
    "Попробуйте подобрать значение порога вероятности, при котором наблюдается наибольшее значение целевой метрики на тестовой выборке. В качестве модели используйте логистическую регрессию, обученную на полиномиальных признаках. \n",
    "\n",
    "В качестве порога вероятности используйте значения из следующего диапазона:\n",
    "\n",
    "`thresholds = np.arange(0.1, 1, 0.05)`\n",
    "\n",
    "Напомним алгоритм, как определить оптимальный порог вероятности:\n",
    "* Предсказать вероятности оттока для каждого клиента из тестовой выборки.\n",
    "* В цикле перебрать значения порогов вероятности threshold:\n",
    "    * Сделать предсказание класса по принципу: если вероятность > threshold, то отнести объект к классу 1, в противном случае — к классу 0.\n",
    "    * Рассчитать метрику и занести её в заранее созданный список.\n",
    "\n",
    "Для реализации алгоритма подбора вы можете воспользоваться шаблоном кода, приведённым ниже:\n",
    "\n",
    "```python\n",
    "# Делаем предсказание вероятности оттока для каждого клиента из тестовой выборки\n",
    "y_test_proba_pred = pd.Series(model.predict_proba(X_test_poly)[:, 1])\n",
    "# Инициализируем список, куда будем сохранять метрики.\n",
    "scores = []\n",
    "# Задаём значения порогов вероятности\n",
    "thresholds = np.arange(0.1, 1, 0.05)\n",
    "# В цикле перебираем значения порогов вероятности\n",
    "for threshold in thresholds:\n",
    "    # Делаем предсказание\n",
    "    y_test_pred_poly = y_test_proba_pred.apply(lambda x: 1 if x > threshold else 0)\n",
    "    # Рассчитываем метрику\n",
    "    score = # код для вычисления метрики\n",
    "    # Добавляем результат в список\n",
    "    scores.append(score)\n",
    "```\n",
    "\n",
    "Постройте график зависимости целевой метрики от порога вероятности. На основе построенного графика определите порог вероятности, которому соответствует наибольшее значение целевой метрики на тестовой выборке.\n",
    "\n",
    "Сделайте предсказание классов с подобранным оптимальным порогом вероятности. Рассчитайте значение целевой метрики на тестовой выборке и сравните результат с полученными ранее.\n"
   ]
  },
  {
   "cell_type": "markdown",
   "id": "efc4a3c0",
   "metadata": {
    "id": "efc4a3c0"
   },
   "source": [
    "**Критерии оценивания:**\n",
    "- Задание выполнено верно, учтены все условия (**2 балла**): \n",
    "    * приведён код для построения графика зависимости значения выбранной метрики от порога вероятности;\n",
    "    * найден оптимальный порог вероятности, на котором достигается наибольшее значение выбранной метрики на тестовой выборке;\n",
    "    * на основе найденного порога вероятности построено предсказание модели для тренировочной и тестовой выборок;\n",
    "    * приведён расчёт выбранной метрики на тренировочных и тестовых данных (метрика должна быть выбрана корректно).\n",
    "\n",
    "- Задание выполнено верно, но не приведён вывод по полученным результатам или вывод является неверным (**1 балл**).\n",
    "- Задание выполнено неверно, не учтено несколько условий (**0 баллов**)."
   ]
  },
  {
   "cell_type": "code",
   "execution_count": null,
   "id": "oYs8-MFYSNxX",
   "metadata": {
    "id": "oYs8-MFYSNxX"
   },
   "outputs": [],
   "source": [
    "# Ваш код здесь"
   ]
  },
  {
   "cell_type": "markdown",
   "id": "ae809d58",
   "metadata": {
    "id": "ae809d58"
   },
   "source": [
    "## Практика: деревья решений и случайный лес"
   ]
  },
  {
   "cell_type": "markdown",
   "id": "32dd8694",
   "metadata": {
    "id": "32dd8694"
   },
   "source": [
    "Мы продолжаем решать задачу прогнозирования оттока клиентов банка.\n",
    "\n",
    "Ранее мы построили модель логистической регрессии, затем добавили в модель полиномиальные признаки и подобрали оптимальный порог вероятности для логистической регрессии.\n",
    "\n",
    "> Теперь попробуем решить задачу с помощью деревьев решений и лесов.\n",
    "\n",
    "\n",
    "> **Примечание №1.** Для выполнения дальнейших заданий необходимо совершить уже знакомые шаги предобработки с данными об оттоке клиентов банка, а именно:\n",
    "* выделить данные, относящиеся к отделениям банка в Германии;\n",
    "* избавиться от заведомо неинформативных признаков;\n",
    "* расширить датасет путём добавления новых признаков;\n",
    "* разделить выборку на тренировочную и тестовую со стратификацией.\n",
    "\n",
    "> **Примечание №2.** Деревья решений — алгоритм, способный уловить нелинейные зависимости. Генерация полиномиальных признаков практически не имеет значения.\n",
    "Также деревья решений не чувствительны к масштабу признаков. Масштабирование исходных данных не играет роли при построении деревьев решения.\n",
    "Поэтому для решения задачи используйте обучающую (`X_train`, `y_train`) и тестовую (`X_test`, `y_test`) выборки без полиномиальных столбцов.\n"
   ]
  },
  {
   "cell_type": "code",
   "execution_count": null,
   "id": "9fcfcba4",
   "metadata": {
    "colab": {
     "base_uri": "https://localhost:8080/"
    },
    "executionInfo": {
     "elapsed": 222,
     "status": "ok",
     "timestamp": 1678085972604,
     "user": {
      "displayName": "Андрей Достоевский",
      "userId": "09718989537568551698"
     },
     "user_tz": -180
    },
    "id": "9fcfcba4",
    "outputId": "90611fd6-1306-46fe-ea78-cd6f8a5ae2ce"
   },
   "outputs": [
    {
     "name": "stdout",
     "output_type": "stream",
     "text": [
      "Train shape: (1881, 12)\n",
      "Test shape: (628, 12)\n"
     ]
    }
   ],
   "source": [
    "X_train, X_test, y_train, y_test = model_selection.train_test_split(\n",
    "    X, y, \n",
    "    stratify=y, \n",
    "    random_state=0\n",
    ")\n",
    "print('Train shape: {}'.format(X_train.shape))\n",
    "print('Test shape: {}'.format(X_test.shape))"
   ]
  },
  {
   "cell_type": "markdown",
   "id": "48LgpXuJt_nL",
   "metadata": {
    "id": "48LgpXuJt_nL"
   },
   "source": [
    "Импортируем необходимые для выполнения практики модули:"
   ]
  },
  {
   "cell_type": "code",
   "execution_count": null,
   "id": "4b23febd-6403-4b0a-a024-28f27c240729",
   "metadata": {
    "id": "4b23febd-6403-4b0a-a024-28f27c240729"
   },
   "outputs": [],
   "source": [
    "from sklearn import tree\n",
    "from sklearn import ensemble"
   ]
  },
  {
   "cell_type": "markdown",
   "id": "4r3hncEEfx8T",
   "metadata": {
    "id": "4r3hncEEfx8T"
   },
   "source": [
    "Приступим! Выполните задания 8.1–8.4."
   ]
  },
  {
   "cell_type": "markdown",
   "id": "b57000af",
   "metadata": {
    "id": "b57000af"
   },
   "source": [
    "### Задание 8.1. (2 балла)\n",
    "\n",
    "Обучите на тренировочной выборке дерево решений из библиотеки `sklearn` (`DecisionTreeClassifier`) с неограниченной максимальной глубиной дерева. В качестве критерия информативности используйте энтропию Шеннона, остальные параметры оставьте по умолчанию. \n",
    "\n",
    "Также позаботьтесь о воспроизводимости результатов, установив конкретное  значение `random_state` (например, число 42). \n",
    "\n",
    "Сделайте предсказания для тренировочной и тестовой выборок. Рассчитайте значение целевой метрики на каждой из выборок.\n",
    "\n",
    "Сделайте вывод, ответив на вопрос:\n",
    "* Как вы считаете, является полученная модель переобученной или недообученной? Попробуйте дать обоснование, почему так происходит.\n"
   ]
  },
  {
   "cell_type": "markdown",
   "id": "52fdb449",
   "metadata": {
    "id": "52fdb449"
   },
   "source": [
    "**Критерии оценивания:**\n",
    "- Задание выполнено верно, учтены все условия (**2 балла**): \n",
    "    * построена модель дерева решений с заданными в условии задачи параметрами;\n",
    "    * с помощью полученной модели сформированы предсказания для тренировочной и тестовой выборок;\n",
    "    * приведён расчёт выбранной метрики на тренировочных и тестовых данных (метрика должна быть выбрана корректно);\n",
    "    * приведён небольшой вывод по полученным результатам, в котором содержится корректный ответ на поставленный в задании вопрос, а также обоснование полученного результата.\n",
    "\n",
    "- Задание выполнено верно, но не приведено обоснование полученного результата или обоснование является некорректным (**1 балл**).\n",
    "- Задание выполнено неверно, не учтено несколько условий (**0 баллов**)."
   ]
  },
  {
   "cell_type": "code",
   "execution_count": null,
   "id": "59a61357",
   "metadata": {
    "id": "59a61357"
   },
   "outputs": [],
   "source": [
    "# Ваш код здесь"
   ]
  },
  {
   "cell_type": "markdown",
   "id": "40d5e039",
   "metadata": {
    "id": "40d5e039"
   },
   "source": [
    "> Ваши выводы и рассуждения — *здесь*"
   ]
  },
  {
   "cell_type": "markdown",
   "id": "ab0187f6",
   "metadata": {
    "id": "ab0187f6"
   },
   "source": [
    "### Задание 8.2. (1 балл)\n",
    "\n",
    "Давайте «подстрижём» наше дерево. \n",
    "\n",
    "Обучите на тренировочной выборке дерево решений из библиотеки `sklearn` (`DecisionTreeClassifier`) с максимальной глубиной 8. В качестве критерия информативности используйте энтропию Шеннона, минимальное число объектов в листе (количество объектов, при которых дерево прекратит делиться и образуется лист) — 10.\n",
    "\n",
    "Также позаботьтесь о воспроизводимости результатов, установив конкретное значение `random_state` (например, число 42).\n",
    "\n",
    "Сделайте предсказания для тренировочной и тестовой выборок. Рассчитайте значение целевой метрики на каждой из выборок.\n",
    "\n",
    "Сравните результат с полученными ранее. Сделайте вывод.\n"
   ]
  },
  {
   "cell_type": "markdown",
   "id": "4216b9ca",
   "metadata": {
    "id": "4216b9ca"
   },
   "source": [
    "**Критерии оценивания:**\n",
    "- Задание выполнено верно, учтены все условия (**1 балла**): \n",
    "    * построена модель дерева решений с заданными в условии задачи параметрами;\n",
    "    * с помощью полученной модели сформированы предсказания для тренировочной и тестовой выборок;\n",
    "    * приведён расчёт выбранной метрики на тренировочных и тестовых данных (метрика должна быть выбрана корректно);\n",
    "    * приведён небольшой вывод по полученным результатам, в котором содержится корректный ответ на поставленный в задании вопрос.\n",
    "\n",
    "- Задание выполнено неверно, не учтено одно или несколько условий (**0 баллов**)."
   ]
  },
  {
   "cell_type": "code",
   "execution_count": null,
   "id": "ab6e8060",
   "metadata": {
    "id": "ab6e8060"
   },
   "outputs": [],
   "source": [
    "# Ваш код здесь"
   ]
  },
  {
   "cell_type": "markdown",
   "id": "0d9a4222",
   "metadata": {
    "id": "0d9a4222"
   },
   "source": [
    "> Ваши выводы и рассуждения — *здесь*"
   ]
  },
  {
   "cell_type": "markdown",
   "id": "2a37fe23",
   "metadata": {
    "id": "2a37fe23"
   },
   "source": [
    "### Задание 8.3. (1 балл)\n",
    "\n",
    "Давайте воспользуемся случайным лесом. \n",
    "\n",
    "Постройте случайный лес (`RandomForestClassifier`) из 500 деревьев с максимальной глубиной 8. Критерий информативности — энтропия Шеннона, минимальное число объектов в листе (количество объектов, при которых дерево прекратит делиться и образуется лист) — 10.\n",
    "\n",
    "Также позаботьтесь о воспроизводимости результатов, установив конкретное значение значение `random_state` (например, число 42).\n",
    "\n",
    "Сделайте предсказания для тренировочной и тестовой выборок. Рассчитайте значение целевой метрики на каждой из выборок.\n",
    "\n",
    "Сравните качество одного дерева решений с качеством случайного леса на тестовой выборке. Смогли ли вы улучшить метрику?\n"
   ]
  },
  {
   "cell_type": "markdown",
   "id": "0277e1e0",
   "metadata": {
    "id": "0277e1e0"
   },
   "source": [
    "**Критерии оценивания:**\n",
    "- Задание выполнено верно, учтены все условия (**1 балл**): \n",
    "    * построена модель дерева решений с заданными в условии задачи параметрами;\n",
    "    * с помощью полученной модели сформированы предсказания для тренировочной и тестовой выборок;\n",
    "    * приведён расчёт выбранной метрики на тренировочных и тестовых данных (метрика должна быть выбрана корректно);\n",
    "    * приведён небольшой вывод по полученным результатам, в котором содержится корректный ответ на поставленный в задании вопрос.\n",
    "\n",
    "- Задание выполнено неверно, не учтено одно или несколько условий (**0 баллов**)."
   ]
  },
  {
   "cell_type": "code",
   "execution_count": null,
   "id": "a7a08886",
   "metadata": {
    "id": "a7a08886"
   },
   "outputs": [],
   "source": [
    "# Ваш код здесь"
   ]
  },
  {
   "cell_type": "markdown",
   "id": "80cfd760",
   "metadata": {
    "id": "80cfd760"
   },
   "source": [
    "> Ваши выводы и рассуждения — *здесь*"
   ]
  },
  {
   "cell_type": "markdown",
   "id": "f65b1d5d",
   "metadata": {
    "id": "f65b1d5d"
   },
   "source": [
    "### Задание 8.4. (2 балла)\n",
    "\n",
    "Мы на финишной прямой. \n",
    "\n",
    "\n",
    "Попробуйте подобрать значение порога вероятности, при котором наблюдается наибольшее значение целевой метрики на тестовой выборке. **Используйте ту модель (из рассмотренных ранее), которая показала наилучшее качество на тестовой выборке.**\n",
    "\n",
    "\n",
    "В качестве порога вероятности используйте значения из следующего диапазона:\n",
    "\n",
    "`thresholds = np.arange(0.1, 1, 0.05)`\n",
    "\n",
    "Напомним алгоритм, как определить оптимальный порог вероятности:\n",
    "* Предсказать вероятности оттока для каждого клиента из тестовой выборки.\n",
    "* В цикле перебрать значения порогов вероятности threshold:\n",
    "    * Сделать предсказание класса по принципу: если вероятность > threshold, то отнести объект к классу 1, в противном случае — к классу 0.\n",
    "    * Рассчитать метрику и занести её в заранее созданный список. \n",
    "\n",
    "Для реализации алгоритма подбора вы можете воспользоваться шаблоном кода, приведённым ниже:\n",
    "\n",
    "```python\n",
    "# Делаем предсказание вероятности оттока для каждого клиента из тестовой выборки\n",
    "y_test_proba_pred = pd.Series(model.predict_proba(X_test_poly)[:, 1])\n",
    "# Инициализируем список, куда будем сохранять метрики.\n",
    "scores = []\n",
    "# Задаём значения порогов вероятности\n",
    "thresholds = np.arange(0.1, 1, 0.05)\n",
    "# В цикле перебираем значения порогов вероятности\n",
    "for threshold in thresholds:\n",
    "    # Делаем предсказание\n",
    "    y_test_pred_poly = y_test_proba_pred.apply(lambda x: 1 if x > threshold else 0)\n",
    "    # Рассчитываем метрику\n",
    "    score = # код для вычисления метрики\n",
    "    # Добавляем результат в список\n",
    "    scores.append(score)\n",
    "```\n",
    "\n",
    "Постройте график зависимости целевой метрики от порога вероятности. На основе построенного графика определите порог вероятности, которому соответствует наибольшее значение целевой метрики на тестовой выборке.\n",
    "\n",
    "Сделайте предсказание классов с подобранным оптимальным порогом вероятности. Рассчитайте значение целевой метрики на тестовой выборке и сравните полученный результат с полученными ранее. \n",
    "\n",
    "Напишите небольшой вывод о проделанной работе, указав в нём, какая из рассмотренных нами моделей показала наилучший результат.\n",
    "\n",
    "> **Примечание.** Помните о том, что в реальных задачах (а мы решали задачу на реальных данных) мы практически никогда не сможем получить значения метрик, близкие к 1. Если в задаче прогнозирования оттока ваша метрика превышает хотя бы значения 0.6-0.7, вашу модель уже можно считать хорошей и можно говорить о том, что она успешно справляется с задачей."
   ]
  },
  {
   "cell_type": "code",
   "execution_count": null,
   "id": "a5578584",
   "metadata": {
    "id": "a5578584"
   },
   "outputs": [],
   "source": [
    "# Ваш код здесь"
   ]
  },
  {
   "cell_type": "markdown",
   "id": "088365d3",
   "metadata": {
    "id": "088365d3"
   },
   "source": [
    "> Ваши выводы и рассуждения — *здесь*"
   ]
  },
  {
   "cell_type": "markdown",
   "id": "lRcIEe0uutOC",
   "metadata": {
    "id": "lRcIEe0uutOC"
   },
   "source": [
    "### Задание 8.5. (1 балл)\n",
    "\n",
    "Наконец, финальная задача.\n",
    "\n",
    "У нашего банка есть некоторый клиент, назовём его Василием. В базе данных банка хранятся следующие данные о Василии:\n",
    "\n",
    "```python\n",
    "{\n",
    "    'CreditScore': [601.0],\n",
    "    'Gender': ['Male'],\n",
    "    'Age': [42.0],\n",
    "    'Tenure': [1.0],\n",
    "    'Balance': [98495.72],\n",
    "    'NumOfProducts': [1.0],\n",
    "    'HasCrCard': [1.0],\n",
    "    'IsActiveMember': [0.0],\n",
    "    'EstimatedSalary': [40014.76]\n",
    "}\n",
    "```\n",
    "\n",
    "С помощью наилучшей модели спрогнозируйте вероятность того, что Василий откажется от услуг банка.\n",
    "\n",
    "> **Примечание.** Учтите, что для предсказания необходимо преобразовать данные к тому формату, на котором обучалась модель, то есть:\n",
    "* добавить признаки дополнительные признаки; \n",
    "* произвести кодирование категориальных признаков;\n",
    "* произвести масштабирование признаков (если ваша модель обучалась на масштабированных данных) с помощью того же скейлера, который вы использовали при обучении модели;\n",
    "* сгенерировать полиномиальные признаки."
   ]
  },
  {
   "cell_type": "markdown",
   "id": "Y2zispyJ1qgQ",
   "metadata": {
    "id": "Y2zispyJ1qgQ"
   },
   "source": [
    "**Критерии оценивания:**\n",
    "- Задание выполнено верно, учтены все условия (**1 балл**): \n",
    "    * сформирован DataFrame на основе предоставленного словаря;\n",
    "    * произведены преобразования данных, необходимые для работы модели;\n",
    "    * предсказана вероятность оттока клиента (вероятность принадлежности к классу 1).\n",
    "\n",
    "- Задание выполнено неверно, не учтено одно или несколько условий (**0 баллов**)."
   ]
  },
  {
   "cell_type": "code",
   "execution_count": null,
   "id": "8AY25O3t1-CS",
   "metadata": {
    "id": "8AY25O3t1-CS"
   },
   "outputs": [],
   "source": [
    "# Ваш код здесь"
   ]
  }
 ],
 "metadata": {
  "colab": {
   "provenance": []
  },
  "kernelspec": {
   "display_name": "Python 3",
   "language": "python",
   "name": "python3"
  },
  "language_info": {
   "codemirror_mode": {
    "name": "ipython",
    "version": 3
   },
   "file_extension": ".py",
   "mimetype": "text/x-python",
   "name": "python",
   "nbconvert_exporter": "python",
   "pygments_lexer": "ipython3",
   "version": "3.12.1"
  }
 },
 "nbformat": 4,
 "nbformat_minor": 5
}
