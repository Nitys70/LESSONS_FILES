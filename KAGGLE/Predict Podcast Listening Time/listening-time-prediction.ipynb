{
 "cells": [
  {
   "cell_type": "code",
   "execution_count": 1,
   "id": "a964b25d",
   "metadata": {
    "_cell_guid": "b1076dfc-b9ad-4769-8c92-a6c4dae69d19",
    "_uuid": "8f2839f25d086af736a60e9eeb907d3b93b6e0e5",
    "execution": {
     "iopub.execute_input": "2025-04-12T17:34:21.453710Z",
     "iopub.status.busy": "2025-04-12T17:34:21.453512Z",
     "iopub.status.idle": "2025-04-12T17:34:23.602070Z",
     "shell.execute_reply": "2025-04-12T17:34:23.601161Z"
    },
    "papermill": {
     "duration": 2.159537,
     "end_time": "2025-04-12T17:34:23.603398",
     "exception": false,
     "start_time": "2025-04-12T17:34:21.443861",
     "status": "completed"
    },
    "tags": []
   },
   "outputs": [],
   "source": [
    "# This Python 3 environment comes with many helpful analytics libraries installed\n",
    "# It is defined by the kaggle/python Docker image: https://github.com/kaggle/docker-python\n",
    "# For example, here's several helpful packages to load\n",
    "\n",
    "import numpy as np # linear algebra\n",
    "import pandas as pd # data processing, CSV file I/O (e.g. pd.read_csv)\n",
    "\n",
    "# Input data files are available in the read-only \"../input/\" directory\n",
    "# For example, running this (by clicking run or pressing Shift+Enter) will list all files under the input directory\n",
    "\n",
    "import os\n",
    "# for dirname, _, filenames in os.walk('/kaggle/input'):\n",
    "#     for filename in filenames:\n",
    "#         print(os.path.join(dirname, filename))\n",
    "\n",
    "# You can write up to 20GB to the current directory (/kaggle/working/) that gets preserved as output when you create a version using \"Save & Run All\" \n",
    "# You can also write temporary files to /kaggle/temp/, but they won't be saved outside of the current session"
   ]
  },
  {
   "cell_type": "code",
   "execution_count": 2,
   "id": "477b1e21",
   "metadata": {
    "execution": {
     "iopub.execute_input": "2025-04-12T17:34:23.625428Z",
     "iopub.status.busy": "2025-04-12T17:34:23.624882Z",
     "iopub.status.idle": "2025-04-12T17:34:33.961829Z",
     "shell.execute_reply": "2025-04-12T17:34:33.960762Z"
    },
    "papermill": {
     "duration": 10.348428,
     "end_time": "2025-04-12T17:34:33.963510",
     "exception": false,
     "start_time": "2025-04-12T17:34:23.615082",
     "status": "completed"
    },
    "tags": []
   },
   "outputs": [],
   "source": [
    "# !pip install -q scikit-learn==1.5.2"
   ]
  },
  {
   "cell_type": "code",
   "execution_count": 3,
   "id": "0ae67b73",
   "metadata": {
    "execution": {
     "iopub.execute_input": "2025-04-12T17:34:33.983616Z",
     "iopub.status.busy": "2025-04-12T17:34:33.982935Z",
     "iopub.status.idle": "2025-04-12T17:34:37.986741Z",
     "shell.execute_reply": "2025-04-12T17:34:37.986213Z"
    },
    "papermill": {
     "duration": 4.015011,
     "end_time": "2025-04-12T17:34:37.988181",
     "exception": false,
     "start_time": "2025-04-12T17:34:33.973170",
     "status": "completed"
    },
    "tags": []
   },
   "outputs": [],
   "source": [
    "import pandas as pd\n",
    "import numpy as np\n",
    "import matplotlib.pyplot as plt\n",
    "import seaborn as sns\n",
    "from sklearn.preprocessing import OneHotEncoder\n",
    "from sklearn import preprocessing\n",
    "from sklearn.linear_model import LinearRegression\n",
    "from sklearn.model_selection import train_test_split\n",
    "import category_encoders as ce\n",
    "from xgboost import XGBRegressor\n",
    "import xgboost as xgb\n",
    "from sklearn.metrics import root_mean_squared_error\n",
    "\n",
    "import warnings \n",
    "warnings.filterwarnings(\"ignore\") \n",
    "\n",
    "%matplotlib inline"
   ]
  },
  {
   "cell_type": "markdown",
   "id": "a4bdeef4",
   "metadata": {
    "papermill": {
     "duration": 0.008251,
     "end_time": "2025-04-12T17:34:38.005956",
     "exception": false,
     "start_time": "2025-04-12T17:34:37.997705",
     "status": "completed"
    },
    "tags": []
   },
   "source": [
    "# Data downloading and preliminary review"
   ]
  },
  {
   "cell_type": "code",
   "execution_count": 4,
   "id": "07bb4837",
   "metadata": {
    "execution": {
     "iopub.execute_input": "2025-04-12T17:34:38.023496Z",
     "iopub.status.busy": "2025-04-12T17:34:38.023168Z",
     "iopub.status.idle": "2025-04-12T17:34:40.485066Z",
     "shell.execute_reply": "2025-04-12T17:34:40.484365Z"
    },
    "papermill": {
     "duration": 2.47228,
     "end_time": "2025-04-12T17:34:40.486552",
     "exception": false,
     "start_time": "2025-04-12T17:34:38.014272",
     "status": "completed"
    },
    "tags": []
   },
   "outputs": [],
   "source": [
    "# data_train = pd.read_csv('/kaggle/input/playground-series-s5e4/train.csv')\n",
    "# data_test = pd.read_csv('/kaggle/input/playground-series-s5e4/test.csv')\n",
    "\n",
    "data_train = pd.read_csv('data/train.csv')\n",
    "data_test = pd.read_csv('data/test.csv')"
   ]
  },
  {
   "cell_type": "code",
   "execution_count": 5,
   "id": "c249e443",
   "metadata": {
    "execution": {
     "iopub.execute_input": "2025-04-12T17:34:40.507199Z",
     "iopub.status.busy": "2025-04-12T17:34:40.506942Z",
     "iopub.status.idle": "2025-04-12T17:34:40.537665Z",
     "shell.execute_reply": "2025-04-12T17:34:40.536931Z"
    },
    "papermill": {
     "duration": 0.042176,
     "end_time": "2025-04-12T17:34:40.538881",
     "exception": false,
     "start_time": "2025-04-12T17:34:40.496705",
     "status": "completed"
    },
    "tags": []
   },
   "outputs": [
    {
     "data": {
      "text/html": [
       "<div>\n",
       "<style scoped>\n",
       "    .dataframe tbody tr th:only-of-type {\n",
       "        vertical-align: middle;\n",
       "    }\n",
       "\n",
       "    .dataframe tbody tr th {\n",
       "        vertical-align: top;\n",
       "    }\n",
       "\n",
       "    .dataframe thead th {\n",
       "        text-align: right;\n",
       "    }\n",
       "</style>\n",
       "<table border=\"1\" class=\"dataframe\">\n",
       "  <thead>\n",
       "    <tr style=\"text-align: right;\">\n",
       "      <th></th>\n",
       "      <th>id</th>\n",
       "      <th>Podcast_Name</th>\n",
       "      <th>Episode_Title</th>\n",
       "      <th>Episode_Length_minutes</th>\n",
       "      <th>Genre</th>\n",
       "      <th>Host_Popularity_percentage</th>\n",
       "      <th>Publication_Day</th>\n",
       "      <th>Publication_Time</th>\n",
       "      <th>Guest_Popularity_percentage</th>\n",
       "      <th>Number_of_Ads</th>\n",
       "      <th>Episode_Sentiment</th>\n",
       "      <th>Listening_Time_minutes</th>\n",
       "    </tr>\n",
       "  </thead>\n",
       "  <tbody>\n",
       "    <tr>\n",
       "      <th>0</th>\n",
       "      <td>0</td>\n",
       "      <td>Mystery Matters</td>\n",
       "      <td>Episode 98</td>\n",
       "      <td>NaN</td>\n",
       "      <td>True Crime</td>\n",
       "      <td>74.81</td>\n",
       "      <td>Thursday</td>\n",
       "      <td>Night</td>\n",
       "      <td>NaN</td>\n",
       "      <td>0.0</td>\n",
       "      <td>Positive</td>\n",
       "      <td>31.41998</td>\n",
       "    </tr>\n",
       "    <tr>\n",
       "      <th>1</th>\n",
       "      <td>1</td>\n",
       "      <td>Joke Junction</td>\n",
       "      <td>Episode 26</td>\n",
       "      <td>119.8</td>\n",
       "      <td>Comedy</td>\n",
       "      <td>66.95</td>\n",
       "      <td>Saturday</td>\n",
       "      <td>Afternoon</td>\n",
       "      <td>75.95</td>\n",
       "      <td>2.0</td>\n",
       "      <td>Negative</td>\n",
       "      <td>88.01241</td>\n",
       "    </tr>\n",
       "  </tbody>\n",
       "</table>\n",
       "</div>"
      ],
      "text/plain": [
       "   id     Podcast_Name Episode_Title  Episode_Length_minutes       Genre  \\\n",
       "0   0  Mystery Matters    Episode 98                     NaN  True Crime   \n",
       "1   1    Joke Junction    Episode 26                   119.8      Comedy   \n",
       "\n",
       "   Host_Popularity_percentage Publication_Day Publication_Time  \\\n",
       "0                       74.81        Thursday            Night   \n",
       "1                       66.95        Saturday        Afternoon   \n",
       "\n",
       "   Guest_Popularity_percentage  Number_of_Ads Episode_Sentiment  \\\n",
       "0                          NaN            0.0          Positive   \n",
       "1                        75.95            2.0          Negative   \n",
       "\n",
       "   Listening_Time_minutes  \n",
       "0                31.41998  \n",
       "1                88.01241  "
      ]
     },
     "execution_count": 5,
     "metadata": {},
     "output_type": "execute_result"
    }
   ],
   "source": [
    "data_train.head(2)"
   ]
  },
  {
   "cell_type": "code",
   "execution_count": 6,
   "id": "3b19d4fc",
   "metadata": {
    "execution": {
     "iopub.execute_input": "2025-04-12T17:34:40.559550Z",
     "iopub.status.busy": "2025-04-12T17:34:40.559342Z",
     "iopub.status.idle": "2025-04-12T17:34:40.795531Z",
     "shell.execute_reply": "2025-04-12T17:34:40.794559Z"
    },
    "papermill": {
     "duration": 0.247547,
     "end_time": "2025-04-12T17:34:40.796695",
     "exception": false,
     "start_time": "2025-04-12T17:34:40.549148",
     "status": "completed"
    },
    "tags": []
   },
   "outputs": [
    {
     "name": "stdout",
     "output_type": "stream",
     "text": [
      "<class 'pandas.core.frame.DataFrame'>\n",
      "RangeIndex: 750000 entries, 0 to 749999\n",
      "Data columns (total 12 columns):\n",
      " #   Column                       Non-Null Count   Dtype  \n",
      "---  ------                       --------------   -----  \n",
      " 0   id                           750000 non-null  int64  \n",
      " 1   Podcast_Name                 750000 non-null  object \n",
      " 2   Episode_Title                750000 non-null  object \n",
      " 3   Episode_Length_minutes       662907 non-null  float64\n",
      " 4   Genre                        750000 non-null  object \n",
      " 5   Host_Popularity_percentage   750000 non-null  float64\n",
      " 6   Publication_Day              750000 non-null  object \n",
      " 7   Publication_Time             750000 non-null  object \n",
      " 8   Guest_Popularity_percentage  603970 non-null  float64\n",
      " 9   Number_of_Ads                749999 non-null  float64\n",
      " 10  Episode_Sentiment            750000 non-null  object \n",
      " 11  Listening_Time_minutes       750000 non-null  float64\n",
      "dtypes: float64(5), int64(1), object(6)\n",
      "memory usage: 68.7+ MB\n"
     ]
    }
   ],
   "source": [
    "# Cheking for data types\n",
    "data_train.info()"
   ]
  },
  {
   "cell_type": "code",
   "execution_count": 7,
   "id": "1cf05f87",
   "metadata": {
    "execution": {
     "iopub.execute_input": "2025-04-12T17:34:40.815755Z",
     "iopub.status.busy": "2025-04-12T17:34:40.815267Z",
     "iopub.status.idle": "2025-04-12T17:34:41.022261Z",
     "shell.execute_reply": "2025-04-12T17:34:41.021351Z"
    },
    "papermill": {
     "duration": 0.21741,
     "end_time": "2025-04-12T17:34:41.023350",
     "exception": false,
     "start_time": "2025-04-12T17:34:40.805940",
     "status": "completed"
    },
    "tags": []
   },
   "outputs": [
    {
     "data": {
      "text/plain": [
       "id                                  0\n",
       "Podcast_Name                        0\n",
       "Episode_Title                       0\n",
       "Episode_Length_minutes          87093\n",
       "Genre                               0\n",
       "Host_Popularity_percentage          0\n",
       "Publication_Day                     0\n",
       "Publication_Time                    0\n",
       "Guest_Popularity_percentage    146030\n",
       "Number_of_Ads                       1\n",
       "Episode_Sentiment                   0\n",
       "Listening_Time_minutes              0\n",
       "dtype: int64"
      ]
     },
     "execution_count": 7,
     "metadata": {},
     "output_type": "execute_result"
    }
   ],
   "source": [
    "# Checking for NaN data\n",
    "\n",
    "data_train.isna().sum()"
   ]
  },
  {
   "cell_type": "code",
   "execution_count": 8,
   "id": "5894eb80",
   "metadata": {
    "execution": {
     "iopub.execute_input": "2025-04-12T17:34:41.041541Z",
     "iopub.status.busy": "2025-04-12T17:34:41.040875Z",
     "iopub.status.idle": "2025-04-12T17:34:41.784260Z",
     "shell.execute_reply": "2025-04-12T17:34:41.783438Z"
    },
    "papermill": {
     "duration": 0.753587,
     "end_time": "2025-04-12T17:34:41.785532",
     "exception": false,
     "start_time": "2025-04-12T17:34:41.031945",
     "status": "completed"
    },
    "tags": []
   },
   "outputs": [
    {
     "name": "stdout",
     "output_type": "stream",
     "text": [
      "Statistic data for numeric values:\n"
     ]
    },
    {
     "data": {
      "text/html": [
       "<div>\n",
       "<style scoped>\n",
       "    .dataframe tbody tr th:only-of-type {\n",
       "        vertical-align: middle;\n",
       "    }\n",
       "\n",
       "    .dataframe tbody tr th {\n",
       "        vertical-align: top;\n",
       "    }\n",
       "\n",
       "    .dataframe thead th {\n",
       "        text-align: right;\n",
       "    }\n",
       "</style>\n",
       "<table border=\"1\" class=\"dataframe\">\n",
       "  <thead>\n",
       "    <tr style=\"text-align: right;\">\n",
       "      <th></th>\n",
       "      <th>count</th>\n",
       "      <th>mean</th>\n",
       "      <th>std</th>\n",
       "      <th>min</th>\n",
       "      <th>25%</th>\n",
       "      <th>50%</th>\n",
       "      <th>75%</th>\n",
       "      <th>max</th>\n",
       "    </tr>\n",
       "  </thead>\n",
       "  <tbody>\n",
       "    <tr>\n",
       "      <th>id</th>\n",
       "      <td>750000.0</td>\n",
       "      <td>374999.500000</td>\n",
       "      <td>216506.495284</td>\n",
       "      <td>0.0</td>\n",
       "      <td>187499.75000</td>\n",
       "      <td>374999.50000</td>\n",
       "      <td>562499.25000</td>\n",
       "      <td>749999.00</td>\n",
       "    </tr>\n",
       "    <tr>\n",
       "      <th>Episode_Length_minutes</th>\n",
       "      <td>662907.0</td>\n",
       "      <td>64.504738</td>\n",
       "      <td>32.969603</td>\n",
       "      <td>0.0</td>\n",
       "      <td>35.73000</td>\n",
       "      <td>63.84000</td>\n",
       "      <td>94.07000</td>\n",
       "      <td>325.24</td>\n",
       "    </tr>\n",
       "    <tr>\n",
       "      <th>Host_Popularity_percentage</th>\n",
       "      <td>750000.0</td>\n",
       "      <td>59.859901</td>\n",
       "      <td>22.873098</td>\n",
       "      <td>1.3</td>\n",
       "      <td>39.41000</td>\n",
       "      <td>60.05000</td>\n",
       "      <td>79.53000</td>\n",
       "      <td>119.46</td>\n",
       "    </tr>\n",
       "    <tr>\n",
       "      <th>Guest_Popularity_percentage</th>\n",
       "      <td>603970.0</td>\n",
       "      <td>52.236449</td>\n",
       "      <td>28.451241</td>\n",
       "      <td>0.0</td>\n",
       "      <td>28.38000</td>\n",
       "      <td>53.58000</td>\n",
       "      <td>76.60000</td>\n",
       "      <td>119.91</td>\n",
       "    </tr>\n",
       "    <tr>\n",
       "      <th>Number_of_Ads</th>\n",
       "      <td>749999.0</td>\n",
       "      <td>1.348855</td>\n",
       "      <td>1.151130</td>\n",
       "      <td>0.0</td>\n",
       "      <td>0.00000</td>\n",
       "      <td>1.00000</td>\n",
       "      <td>2.00000</td>\n",
       "      <td>103.91</td>\n",
       "    </tr>\n",
       "    <tr>\n",
       "      <th>Listening_Time_minutes</th>\n",
       "      <td>750000.0</td>\n",
       "      <td>45.437406</td>\n",
       "      <td>27.138306</td>\n",
       "      <td>0.0</td>\n",
       "      <td>23.17835</td>\n",
       "      <td>43.37946</td>\n",
       "      <td>64.81158</td>\n",
       "      <td>119.97</td>\n",
       "    </tr>\n",
       "  </tbody>\n",
       "</table>\n",
       "</div>"
      ],
      "text/plain": [
       "                                count           mean            std  min  \\\n",
       "id                           750000.0  374999.500000  216506.495284  0.0   \n",
       "Episode_Length_minutes       662907.0      64.504738      32.969603  0.0   \n",
       "Host_Popularity_percentage   750000.0      59.859901      22.873098  1.3   \n",
       "Guest_Popularity_percentage  603970.0      52.236449      28.451241  0.0   \n",
       "Number_of_Ads                749999.0       1.348855       1.151130  0.0   \n",
       "Listening_Time_minutes       750000.0      45.437406      27.138306  0.0   \n",
       "\n",
       "                                      25%           50%           75%  \\\n",
       "id                           187499.75000  374999.50000  562499.25000   \n",
       "Episode_Length_minutes           35.73000      63.84000      94.07000   \n",
       "Host_Popularity_percentage       39.41000      60.05000      79.53000   \n",
       "Guest_Popularity_percentage      28.38000      53.58000      76.60000   \n",
       "Number_of_Ads                     0.00000       1.00000       2.00000   \n",
       "Listening_Time_minutes           23.17835      43.37946      64.81158   \n",
       "\n",
       "                                   max  \n",
       "id                           749999.00  \n",
       "Episode_Length_minutes          325.24  \n",
       "Host_Popularity_percentage      119.46  \n",
       "Guest_Popularity_percentage     119.91  \n",
       "Number_of_Ads                   103.91  \n",
       "Listening_Time_minutes          119.97  "
      ]
     },
     "metadata": {},
     "output_type": "display_data"
    },
    {
     "name": "stdout",
     "output_type": "stream",
     "text": [
      "\n",
      "Statistic data for Object values:\n"
     ]
    },
    {
     "data": {
      "text/html": [
       "<div>\n",
       "<style scoped>\n",
       "    .dataframe tbody tr th:only-of-type {\n",
       "        vertical-align: middle;\n",
       "    }\n",
       "\n",
       "    .dataframe tbody tr th {\n",
       "        vertical-align: top;\n",
       "    }\n",
       "\n",
       "    .dataframe thead th {\n",
       "        text-align: right;\n",
       "    }\n",
       "</style>\n",
       "<table border=\"1\" class=\"dataframe\">\n",
       "  <thead>\n",
       "    <tr style=\"text-align: right;\">\n",
       "      <th></th>\n",
       "      <th>count</th>\n",
       "      <th>unique</th>\n",
       "      <th>top</th>\n",
       "      <th>freq</th>\n",
       "    </tr>\n",
       "  </thead>\n",
       "  <tbody>\n",
       "    <tr>\n",
       "      <th>Podcast_Name</th>\n",
       "      <td>750000</td>\n",
       "      <td>48</td>\n",
       "      <td>Tech Talks</td>\n",
       "      <td>22847</td>\n",
       "    </tr>\n",
       "    <tr>\n",
       "      <th>Episode_Title</th>\n",
       "      <td>750000</td>\n",
       "      <td>100</td>\n",
       "      <td>Episode 71</td>\n",
       "      <td>10515</td>\n",
       "    </tr>\n",
       "    <tr>\n",
       "      <th>Genre</th>\n",
       "      <td>750000</td>\n",
       "      <td>10</td>\n",
       "      <td>Sports</td>\n",
       "      <td>87606</td>\n",
       "    </tr>\n",
       "    <tr>\n",
       "      <th>Publication_Day</th>\n",
       "      <td>750000</td>\n",
       "      <td>7</td>\n",
       "      <td>Sunday</td>\n",
       "      <td>115946</td>\n",
       "    </tr>\n",
       "    <tr>\n",
       "      <th>Publication_Time</th>\n",
       "      <td>750000</td>\n",
       "      <td>4</td>\n",
       "      <td>Night</td>\n",
       "      <td>196849</td>\n",
       "    </tr>\n",
       "    <tr>\n",
       "      <th>Episode_Sentiment</th>\n",
       "      <td>750000</td>\n",
       "      <td>3</td>\n",
       "      <td>Neutral</td>\n",
       "      <td>251291</td>\n",
       "    </tr>\n",
       "  </tbody>\n",
       "</table>\n",
       "</div>"
      ],
      "text/plain": [
       "                    count unique         top    freq\n",
       "Podcast_Name       750000     48  Tech Talks   22847\n",
       "Episode_Title      750000    100  Episode 71   10515\n",
       "Genre              750000     10      Sports   87606\n",
       "Publication_Day    750000      7      Sunday  115946\n",
       "Publication_Time   750000      4       Night  196849\n",
       "Episode_Sentiment  750000      3     Neutral  251291"
      ]
     },
     "metadata": {},
     "output_type": "display_data"
    }
   ],
   "source": [
    "# Checking for values statistic info for numeric and object types\n",
    "print('Statistic data for numeric values:')\n",
    "display(data_train.describe(exclude='object').T)\n",
    "\n",
    "print('\\nStatistic data for Object values:')\n",
    "display(data_train.describe(exclude=np.number).T)"
   ]
  },
  {
   "cell_type": "markdown",
   "id": "4aa43157",
   "metadata": {
    "papermill": {
     "duration": 0.008834,
     "end_time": "2025-04-12T17:34:41.804177",
     "exception": false,
     "start_time": "2025-04-12T17:34:41.795343",
     "status": "completed"
    },
    "tags": []
   },
   "source": [
    "For now we'll check numeric data distribution"
   ]
  },
  {
   "cell_type": "code",
   "execution_count": 9,
   "id": "f022d11b",
   "metadata": {
    "execution": {
     "iopub.execute_input": "2025-04-12T17:34:41.823086Z",
     "iopub.status.busy": "2025-04-12T17:34:41.822634Z",
     "iopub.status.idle": "2025-04-12T17:34:45.296237Z",
     "shell.execute_reply": "2025-04-12T17:34:45.295571Z"
    },
    "papermill": {
     "duration": 3.485386,
     "end_time": "2025-04-12T17:34:45.298602",
     "exception": false,
     "start_time": "2025-04-12T17:34:41.813216",
     "status": "completed"
    },
    "tags": []
   },
   "outputs": [
    {
     "data": {
      "text/plain": [
       "Text(0.5, 0.98, 'Distribution of Feature Values')"
      ]
     },
     "execution_count": 9,
     "metadata": {},
     "output_type": "execute_result"
    },
    {
     "data": {
      "image/png": "[encoded data removed]",
      "text/plain": [
       "<Figure size 2500x500 with 5 Axes>"
      ]
     },
     "metadata": {},
     "output_type": "display_data"
    }
   ],
   "source": [
    "numeric_feats_list = list(data_train.select_dtypes([np.number]).columns)\n",
    "numeric_feats_list.remove('id')\n",
    "\n",
    "# Subplot for distribution grpaphs of numeric data\n",
    "fig, axes = plt.subplots(ncols=5, nrows=1, figsize = (25, 5))\n",
    "\n",
    "# Var for column number calculations\n",
    "col = 0\n",
    "\n",
    "# Loop for graph building \n",
    "for feat in numeric_feats_list:\n",
    "    \n",
    "    # Condition if-else as for one feat need counplot and for other need hisplot\n",
    "    if feat != 'Number_of_Ads':\n",
    "        \n",
    "        # Histplot building for feats\n",
    "        hist = sns.histplot(\n",
    "            data_train[feat],\n",
    "            ax=axes[col]\n",
    "        )\n",
    "        \n",
    "        hist.set_ylabel('')\n",
    "        hist.set_xlabel(feat, fontsize = 14)\n",
    "        hist.tick_params(rotation = 45)\n",
    "    \n",
    "    else:\n",
    "        \n",
    "        # Countplot building for feat\n",
    "        countpl = sns.countplot(\n",
    "            data_train,\n",
    "            x = feat,\n",
    "            ax=axes[col]\n",
    "        )\n",
    "        \n",
    "        countpl.set_ylabel('')\n",
    "        countpl.set_xlabel(feat, fontsize = 14)\n",
    "        countpl.tick_params(rotation = 45)\n",
    "        \n",
    "    # Var plussing for graph index switching \n",
    "    col += 1\n",
    "    \n",
    "fig.suptitle('Distribution of Feature Values', fontsize = 20)\n",
    "\n",
    "# outliers in data"
   ]
  },
  {
   "cell_type": "markdown",
   "id": "34a74eb1",
   "metadata": {
    "papermill": {
     "duration": 0.010274,
     "end_time": "2025-04-12T17:34:45.319997",
     "exception": false,
     "start_time": "2025-04-12T17:34:45.309723",
     "status": "completed"
    },
    "tags": []
   },
   "source": [
    "# Feature engineering"
   ]
  },
  {
   "cell_type": "markdown",
   "id": "8e282f38",
   "metadata": {
    "papermill": {
     "duration": 0.010177,
     "end_time": "2025-04-12T17:34:45.340517",
     "exception": false,
     "start_time": "2025-04-12T17:34:45.330340",
     "status": "completed"
    },
    "tags": []
   },
   "source": [
    "## Outliers in Train Data - Cleaning\n",
    "\n",
    "Basing on distribution graphs we can make some conclusions and observants:\n",
    "\n",
    "- **Episode_Length_minutes** - most of values are under 125 minutes, but there is some more = probably it's outliuers\n",
    "- **Host_Popularity_percenatage** - most of values are under 100 %, but there're some more, it doesn't make sense as it's impossible to have more then 100\n",
    "- **Guest_Popularity_percantage** - the same as before \n",
    "- **Number_of_Ads** - most values are 0, 1, 2 of 3, but there is some different values moreover some float values. Sure, it's impossible to have float value for such feat. This data shall be clean up. \n",
    "- **Listening_Time_minutes** - looks like there is no issue in data. We have some peak value for about 0 minutes. It's also could be, probably some users started listening by mistake or started podcast for listening latter. \n",
    "\n",
    "Anyway let's make boxplots to be sure. "
   ]
  },
  {
   "cell_type": "code",
   "execution_count": 10,
   "id": "dfa8b515",
   "metadata": {
    "execution": {
     "iopub.execute_input": "2025-04-12T17:34:45.363157Z",
     "iopub.status.busy": "2025-04-12T17:34:45.362459Z",
     "iopub.status.idle": "2025-04-12T17:34:46.080821Z",
     "shell.execute_reply": "2025-04-12T17:34:46.080154Z"
    },
    "papermill": {
     "duration": 0.731043,
     "end_time": "2025-04-12T17:34:46.082248",
     "exception": false,
     "start_time": "2025-04-12T17:34:45.351205",
     "status": "completed"
    },
    "tags": []
   },
   "outputs": [
    {
     "data": {
      "text/plain": [
       "Text(0.5, 0.98, 'Boxplots for numeric features')"
      ]
     },
     "execution_count": 10,
     "metadata": {},
     "output_type": "execute_result"
    },
    {
     "data": {
      "image/png": "[encoded data removed]",
      "text/plain": [
       "<Figure size 2500x700 with 5 Axes>"
      ]
     },
     "metadata": {},
     "output_type": "display_data"
    }
   ],
   "source": [
    "# Subplot for distribution grpaphs of numeric data\n",
    "fig, axes = plt.subplots(ncols=5, nrows=1, figsize = (25, 7))\n",
    "\n",
    "# Var for column number calculations\n",
    "col = 0\n",
    "\n",
    "# Loop for graph building \n",
    "for feat in numeric_feats_list:\n",
    "    box = sns.boxplot(\n",
    "        data_train, \n",
    "        y = feat, \n",
    "        orient='v',\n",
    "        ax=axes[col]\n",
    "    )\n",
    "    \n",
    "    box.set_title(feat, fontsize = 14)\n",
    "    box.set_ylabel('')\n",
    "    \n",
    "    col += 1\n",
    "    \n",
    "fig.suptitle('Boxplots for numeric features', fontsize = 20)"
   ]
  },
  {
   "cell_type": "markdown",
   "id": "72c4d855",
   "metadata": {
    "papermill": {
     "duration": 0.012453,
     "end_time": "2025-04-12T17:34:46.106663",
     "exception": false,
     "start_time": "2025-04-12T17:34:46.094210",
     "status": "completed"
    },
    "tags": []
   },
   "source": [
    "For features Episode_Length_minutes and Number_of_Ads there is no need to calculate left bound of boxplot, we'll take it visually: \n",
    "\n",
    "For **Episode_Length_minutes** it's **125**\n",
    "\n",
    "For **Number_of_Ads** it's **3**\n",
    "\n",
    "Let's check how many examples of outliers we have."
   ]
  },
  {
   "cell_type": "code",
   "execution_count": 11,
   "id": "bb409ffe",
   "metadata": {
    "execution": {
     "iopub.execute_input": "2025-04-12T17:34:46.171528Z",
     "iopub.status.busy": "2025-04-12T17:34:46.170922Z",
     "iopub.status.idle": "2025-04-12T17:34:46.184481Z",
     "shell.execute_reply": "2025-04-12T17:34:46.183408Z"
    },
    "papermill": {
     "duration": 0.068045,
     "end_time": "2025-04-12T17:34:46.185823",
     "exception": false,
     "start_time": "2025-04-12T17:34:46.117778",
     "status": "completed"
    },
    "tags": []
   },
   "outputs": [
    {
     "name": "stdout",
     "output_type": "stream",
     "text": [
      "Numbers of outliers in episode_lenght_out feature is: 1\n",
      "Numbers of outliers in Number_of_Ads feature is: 7\n"
     ]
    }
   ],
   "source": [
    "episode_lenght_out = data_train[data_train['Episode_Length_minutes'] > 125].value_counts().sum()\n",
    "number_of_ads_out = data_train[data_train['Number_of_Ads'] > 3].value_counts().sum()\n",
    "\n",
    "print('Numbers of outliers in episode_lenght_out feature is:', episode_lenght_out)\n",
    "print('Numbers of outliers in Number_of_Ads feature is:', number_of_ads_out)\n"
   ]
  },
  {
   "cell_type": "markdown",
   "id": "a9c3f895",
   "metadata": {
    "papermill": {
     "duration": 0.011296,
     "end_time": "2025-04-12T17:34:46.208656",
     "exception": false,
     "start_time": "2025-04-12T17:34:46.197360",
     "status": "completed"
    },
    "tags": []
   },
   "source": [
    "Also, it's strange to have more then 100 % of popularity. Need to check it as well. "
   ]
  },
  {
   "cell_type": "code",
   "execution_count": 12,
   "id": "06396ad5",
   "metadata": {
    "execution": {
     "iopub.execute_input": "2025-04-12T17:34:46.232642Z",
     "iopub.status.busy": "2025-04-12T17:34:46.232382Z",
     "iopub.status.idle": "2025-04-12T17:34:46.243402Z",
     "shell.execute_reply": "2025-04-12T17:34:46.242825Z"
    },
    "papermill": {
     "duration": 0.02441,
     "end_time": "2025-04-12T17:34:46.244469",
     "exception": false,
     "start_time": "2025-04-12T17:34:46.220059",
     "status": "completed"
    },
    "tags": []
   },
   "outputs": [
    {
     "name": "stdout",
     "output_type": "stream",
     "text": [
      "Numbers of probably oulliers in Host_Popularity_percentage feature is: 24\n",
      "Numbers of probably oulliers in Guest_Popularity_percentage feature is: 14\n"
     ]
    }
   ],
   "source": [
    "host_popularity_out = data_train[data_train['Host_Popularity_percentage'] > 100].value_counts().sum()\n",
    "guest_popularity_out = data_train[data_train['Guest_Popularity_percentage'] > 100].value_counts().sum()\n",
    "\n",
    "print('Numbers of probably oulliers in Host_Popularity_percentage feature is:', host_popularity_out)\n",
    "print('Numbers of probably oulliers in Guest_Popularity_percentage feature is:', guest_popularity_out)"
   ]
  },
  {
   "cell_type": "markdown",
   "id": "2df798c9",
   "metadata": {
    "papermill": {
     "duration": 0.012129,
     "end_time": "2025-04-12T17:34:46.268569",
     "exception": false,
     "start_time": "2025-04-12T17:34:46.256440",
     "status": "completed"
    },
    "tags": []
   },
   "source": [
    "Not to much of examples. Let's drop them. "
   ]
  },
  {
   "cell_type": "code",
   "execution_count": 13,
   "id": "fe9b03ec",
   "metadata": {
    "execution": {
     "iopub.execute_input": "2025-04-12T17:34:46.293362Z",
     "iopub.status.busy": "2025-04-12T17:34:46.292793Z",
     "iopub.status.idle": "2025-04-12T17:34:46.302939Z",
     "shell.execute_reply": "2025-04-12T17:34:46.302127Z"
    },
    "papermill": {
     "duration": 0.02369,
     "end_time": "2025-04-12T17:34:46.304127",
     "exception": false,
     "start_time": "2025-04-12T17:34:46.280437",
     "status": "completed"
    },
    "tags": []
   },
   "outputs": [],
   "source": [
    "# Indexes lists to drop\n",
    "episode_lenght_out_index = list(data_train[data_train['Episode_Length_minutes'] > 125].index)\n",
    "number_of_ads_out_index = list(data_train[data_train['Number_of_Ads'] > 3].index)\n",
    "host_popularity_out_index = list(data_train[data_train['Host_Popularity_percentage'] > 100].index)\n",
    "guest_popularity_out_index = list(data_train[data_train['Guest_Popularity_percentage'] > 100].index)\n",
    "\n",
    "index_to_drop = set(episode_lenght_out_index + \n",
    "                    number_of_ads_out_index + \n",
    "                    host_popularity_out_index + \n",
    "                    guest_popularity_out_index\n",
    "                    )\n",
    "\n",
    "index_to_drop = list(index_to_drop)"
   ]
  },
  {
   "cell_type": "markdown",
   "id": "de8f3722",
   "metadata": {
    "papermill": {
     "duration": 0.011264,
     "end_time": "2025-04-12T17:34:46.327186",
     "exception": false,
     "start_time": "2025-04-12T17:34:46.315922",
     "status": "completed"
    },
    "tags": []
   },
   "source": [
    "For now we'll make copy of DF and clean it"
   ]
  },
  {
   "cell_type": "code",
   "execution_count": 14,
   "id": "a896d1ee",
   "metadata": {
    "execution": {
     "iopub.execute_input": "2025-04-12T17:34:46.350911Z",
     "iopub.status.busy": "2025-04-12T17:34:46.350530Z",
     "iopub.status.idle": "2025-04-12T17:34:46.577671Z",
     "shell.execute_reply": "2025-04-12T17:34:46.577052Z"
    },
    "papermill": {
     "duration": 0.240521,
     "end_time": "2025-04-12T17:34:46.579019",
     "exception": false,
     "start_time": "2025-04-12T17:34:46.338498",
     "status": "completed"
    },
    "tags": []
   },
   "outputs": [
    {
     "data": {
      "text/plain": [
       "(749946, 11)"
      ]
     },
     "execution_count": 14,
     "metadata": {},
     "output_type": "execute_result"
    }
   ],
   "source": [
    "df_cleaned = data_train.copy()\n",
    "\n",
    "df_cleaned = df_cleaned.drop(index=index_to_drop, axis=0)\n",
    "df_cleaned = df_cleaned.drop('id', axis=1)\n",
    "df_cleaned = df_cleaned.reset_index(drop=True)\n",
    "\n",
    "\n",
    "df_cleaned.shape"
   ]
  },
  {
   "cell_type": "markdown",
   "id": "caa6bdf5",
   "metadata": {
    "papermill": {
     "duration": 0.011417,
     "end_time": "2025-04-12T17:34:46.604429",
     "exception": false,
     "start_time": "2025-04-12T17:34:46.593012",
     "status": "completed"
    },
    "tags": []
   },
   "source": [
    "And as a final let's check for duplicates"
   ]
  },
  {
   "cell_type": "code",
   "execution_count": 15,
   "id": "4cc26c1c",
   "metadata": {
    "execution": {
     "iopub.execute_input": "2025-04-12T17:34:46.628812Z",
     "iopub.status.busy": "2025-04-12T17:34:46.628227Z",
     "iopub.status.idle": "2025-04-12T17:34:47.057525Z",
     "shell.execute_reply": "2025-04-12T17:34:47.056681Z"
    },
    "papermill": {
     "duration": 0.442735,
     "end_time": "2025-04-12T17:34:47.058822",
     "exception": false,
     "start_time": "2025-04-12T17:34:46.616087",
     "status": "completed"
    },
    "tags": []
   },
   "outputs": [
    {
     "name": "stdout",
     "output_type": "stream",
     "text": [
      "Data Frame contains 0 duplicates\n"
     ]
    }
   ],
   "source": [
    "print(f'Data Frame contains {df_cleaned.duplicated().sum()} duplicates')"
   ]
  },
  {
   "cell_type": "markdown",
   "id": "c11b3fa2",
   "metadata": {
    "papermill": {
     "duration": 0.011833,
     "end_time": "2025-04-12T17:34:47.082860",
     "exception": false,
     "start_time": "2025-04-12T17:34:47.071027",
     "status": "completed"
    },
    "tags": []
   },
   "source": [
    "## Outliers in Test Data - Cleaning\n",
    "\n",
    "It's impossible to delete or clean test data, so we need to observe it and make desicion what to do."
   ]
  },
  {
   "cell_type": "code",
   "execution_count": 16,
   "id": "2bc5f67d",
   "metadata": {
    "execution": {
     "iopub.execute_input": "2025-04-12T17:34:47.107342Z",
     "iopub.status.busy": "2025-04-12T17:34:47.106876Z",
     "iopub.status.idle": "2025-04-12T17:34:47.343765Z",
     "shell.execute_reply": "2025-04-12T17:34:47.343129Z"
    },
    "papermill": {
     "duration": 0.25039,
     "end_time": "2025-04-12T17:34:47.344960",
     "exception": false,
     "start_time": "2025-04-12T17:34:47.094570",
     "status": "completed"
    },
    "tags": []
   },
   "outputs": [
    {
     "data": {
      "text/html": [
       "<div>\n",
       "<style scoped>\n",
       "    .dataframe tbody tr th:only-of-type {\n",
       "        vertical-align: middle;\n",
       "    }\n",
       "\n",
       "    .dataframe tbody tr th {\n",
       "        vertical-align: top;\n",
       "    }\n",
       "\n",
       "    .dataframe thead th {\n",
       "        text-align: right;\n",
       "    }\n",
       "</style>\n",
       "<table border=\"1\" class=\"dataframe\">\n",
       "  <thead>\n",
       "    <tr style=\"text-align: right;\">\n",
       "      <th></th>\n",
       "      <th>count</th>\n",
       "      <th>mean</th>\n",
       "      <th>std</th>\n",
       "      <th>min</th>\n",
       "      <th>25%</th>\n",
       "      <th>50%</th>\n",
       "      <th>75%</th>\n",
       "      <th>max</th>\n",
       "    </tr>\n",
       "  </thead>\n",
       "  <tbody>\n",
       "    <tr>\n",
       "      <th>id</th>\n",
       "      <td>250000.0</td>\n",
       "      <td>874999.500000</td>\n",
       "      <td>72168.927986</td>\n",
       "      <td>750000.00</td>\n",
       "      <td>812499.75</td>\n",
       "      <td>874999.50</td>\n",
       "      <td>937499.25</td>\n",
       "      <td>999999.00</td>\n",
       "    </tr>\n",
       "    <tr>\n",
       "      <th>Episode_Length_minutes</th>\n",
       "      <td>221264.0</td>\n",
       "      <td>419.298741</td>\n",
       "      <td>166854.502468</td>\n",
       "      <td>2.47</td>\n",
       "      <td>35.78</td>\n",
       "      <td>63.97</td>\n",
       "      <td>94.15</td>\n",
       "      <td>78486264.00</td>\n",
       "    </tr>\n",
       "    <tr>\n",
       "      <th>Host_Popularity_percentage</th>\n",
       "      <td>250000.0</td>\n",
       "      <td>59.716491</td>\n",
       "      <td>22.880028</td>\n",
       "      <td>2.49</td>\n",
       "      <td>39.25</td>\n",
       "      <td>59.90</td>\n",
       "      <td>79.39</td>\n",
       "      <td>117.76</td>\n",
       "    </tr>\n",
       "    <tr>\n",
       "      <th>Guest_Popularity_percentage</th>\n",
       "      <td>201168.0</td>\n",
       "      <td>52.192796</td>\n",
       "      <td>28.445034</td>\n",
       "      <td>0.00</td>\n",
       "      <td>28.32</td>\n",
       "      <td>53.36</td>\n",
       "      <td>76.56</td>\n",
       "      <td>116.82</td>\n",
       "    </tr>\n",
       "    <tr>\n",
       "      <th>Number_of_Ads</th>\n",
       "      <td>250000.0</td>\n",
       "      <td>1.355852</td>\n",
       "      <td>4.274399</td>\n",
       "      <td>0.00</td>\n",
       "      <td>0.00</td>\n",
       "      <td>1.00</td>\n",
       "      <td>2.00</td>\n",
       "      <td>2063.00</td>\n",
       "    </tr>\n",
       "  </tbody>\n",
       "</table>\n",
       "</div>"
      ],
      "text/plain": [
       "                                count           mean            std  \\\n",
       "id                           250000.0  874999.500000   72168.927986   \n",
       "Episode_Length_minutes       221264.0     419.298741  166854.502468   \n",
       "Host_Popularity_percentage   250000.0      59.716491      22.880028   \n",
       "Guest_Popularity_percentage  201168.0      52.192796      28.445034   \n",
       "Number_of_Ads                250000.0       1.355852       4.274399   \n",
       "\n",
       "                                   min        25%        50%        75%  \\\n",
       "id                           750000.00  812499.75  874999.50  937499.25   \n",
       "Episode_Length_minutes            2.47      35.78      63.97      94.15   \n",
       "Host_Popularity_percentage        2.49      39.25      59.90      79.39   \n",
       "Guest_Popularity_percentage       0.00      28.32      53.36      76.56   \n",
       "Number_of_Ads                     0.00       0.00       1.00       2.00   \n",
       "\n",
       "                                     max  \n",
       "id                             999999.00  \n",
       "Episode_Length_minutes       78486264.00  \n",
       "Host_Popularity_percentage        117.76  \n",
       "Guest_Popularity_percentage       116.82  \n",
       "Number_of_Ads                    2063.00  "
      ]
     },
     "metadata": {},
     "output_type": "display_data"
    },
    {
     "data": {
      "text/html": [
       "<div>\n",
       "<style scoped>\n",
       "    .dataframe tbody tr th:only-of-type {\n",
       "        vertical-align: middle;\n",
       "    }\n",
       "\n",
       "    .dataframe tbody tr th {\n",
       "        vertical-align: top;\n",
       "    }\n",
       "\n",
       "    .dataframe thead th {\n",
       "        text-align: right;\n",
       "    }\n",
       "</style>\n",
       "<table border=\"1\" class=\"dataframe\">\n",
       "  <thead>\n",
       "    <tr style=\"text-align: right;\">\n",
       "      <th></th>\n",
       "      <th>count</th>\n",
       "      <th>unique</th>\n",
       "      <th>top</th>\n",
       "      <th>freq</th>\n",
       "    </tr>\n",
       "  </thead>\n",
       "  <tbody>\n",
       "    <tr>\n",
       "      <th>Podcast_Name</th>\n",
       "      <td>250000</td>\n",
       "      <td>48</td>\n",
       "      <td>Tech Talks</td>\n",
       "      <td>7553</td>\n",
       "    </tr>\n",
       "    <tr>\n",
       "      <th>Episode_Title</th>\n",
       "      <td>250000</td>\n",
       "      <td>100</td>\n",
       "      <td>Episode 71</td>\n",
       "      <td>3492</td>\n",
       "    </tr>\n",
       "    <tr>\n",
       "      <th>Genre</th>\n",
       "      <td>250000</td>\n",
       "      <td>10</td>\n",
       "      <td>Sports</td>\n",
       "      <td>28903</td>\n",
       "    </tr>\n",
       "    <tr>\n",
       "      <th>Publication_Day</th>\n",
       "      <td>250000</td>\n",
       "      <td>7</td>\n",
       "      <td>Sunday</td>\n",
       "      <td>38906</td>\n",
       "    </tr>\n",
       "    <tr>\n",
       "      <th>Publication_Time</th>\n",
       "      <td>250000</td>\n",
       "      <td>4</td>\n",
       "      <td>Night</td>\n",
       "      <td>65440</td>\n",
       "    </tr>\n",
       "    <tr>\n",
       "      <th>Episode_Sentiment</th>\n",
       "      <td>250000</td>\n",
       "      <td>3</td>\n",
       "      <td>Neutral</td>\n",
       "      <td>83671</td>\n",
       "    </tr>\n",
       "  </tbody>\n",
       "</table>\n",
       "</div>"
      ],
      "text/plain": [
       "                    count unique         top   freq\n",
       "Podcast_Name       250000     48  Tech Talks   7553\n",
       "Episode_Title      250000    100  Episode 71   3492\n",
       "Genre              250000     10      Sports  28903\n",
       "Publication_Day    250000      7      Sunday  38906\n",
       "Publication_Time   250000      4       Night  65440\n",
       "Episode_Sentiment  250000      3     Neutral  83671"
      ]
     },
     "metadata": {},
     "output_type": "display_data"
    }
   ],
   "source": [
    "display(data_test.describe(exclude='object').T)\n",
    "display(data_test.describe(exclude=np.number).T)"
   ]
  },
  {
   "cell_type": "markdown",
   "id": "26169459",
   "metadata": {
    "papermill": {
     "duration": 0.011745,
     "end_time": "2025-04-12T17:34:47.369284",
     "exception": false,
     "start_time": "2025-04-12T17:34:47.357539",
     "status": "completed"
    },
    "tags": []
   },
   "source": [
    "We see strange values in **Episode_Length_minutes** - maximum value is 78486264.00 minutes;\n",
    "\n",
    "In **Host_Popularity_percentage** and **Guest_Popularity_percentage** there're values more then 100 %;\n",
    "\n",
    "In **Number_of_Ads** maximum value is 2063.00.\n",
    "\n",
    "\n",
    "We'll do like this:\n",
    "\n",
    "For **Episode_Length_minutes** abnormal data we'll refill with medium feature value;\n",
    "\n",
    "For **Host_Popularity_percentage** and **Guest_Popularity_percentage** we'll refill values which are more then 100 with 100%;\n",
    "\n",
    "For **Number_of_Ads** we'll refill with feature mode value.\n"
   ]
  },
  {
   "cell_type": "code",
   "execution_count": 17,
   "id": "5a3f1fdc",
   "metadata": {
    "execution": {
     "iopub.execute_input": "2025-04-12T17:34:47.394050Z",
     "iopub.status.busy": "2025-04-12T17:34:47.393577Z",
     "iopub.status.idle": "2025-04-12T17:34:47.619723Z",
     "shell.execute_reply": "2025-04-12T17:34:47.619187Z"
    },
    "papermill": {
     "duration": 0.239903,
     "end_time": "2025-04-12T17:34:47.621020",
     "exception": false,
     "start_time": "2025-04-12T17:34:47.381117",
     "status": "completed"
    },
    "tags": []
   },
   "outputs": [],
   "source": [
    "data_test['Episode_Length_minutes'] = \\\n",
    "    data_test['Episode_Length_minutes'].apply(\n",
    "        lambda x: data_test['Episode_Length_minutes'].median() if x > 125 else x\n",
    "        )\n",
    "    \n",
    "data_test['Number_of_Ads'] = \\\n",
    "    data_test['Number_of_Ads'].apply(\n",
    "        lambda x: data_test['Number_of_Ads'].mode() if x > 3 else x\n",
    "    )\n",
    "    \n",
    "data_test['Host_Popularity_percentage'] = \\\n",
    "    data_test['Host_Popularity_percentage'].apply(\n",
    "        lambda x: 100 if x > 100 else x\n",
    "    ) \n",
    "    \n",
    "data_test['Guest_Popularity_percentage'] = \\\n",
    "    data_test['Guest_Popularity_percentage'].apply(\n",
    "        lambda x: 100 if x > 100 else x\n",
    "    ) "
   ]
  },
  {
   "cell_type": "markdown",
   "id": "79d27f33",
   "metadata": {
    "papermill": {
     "duration": 0.011633,
     "end_time": "2025-04-12T17:34:47.645338",
     "exception": false,
     "start_time": "2025-04-12T17:34:47.633705",
     "status": "completed"
    },
    "tags": []
   },
   "source": [
    "And also drop 'id' feature."
   ]
  },
  {
   "cell_type": "code",
   "execution_count": 18,
   "id": "9dd2bc5c",
   "metadata": {
    "execution": {
     "iopub.execute_input": "2025-04-12T17:34:47.669994Z",
     "iopub.status.busy": "2025-04-12T17:34:47.669394Z",
     "iopub.status.idle": "2025-04-12T17:34:47.687187Z",
     "shell.execute_reply": "2025-04-12T17:34:47.686653Z"
    },
    "papermill": {
     "duration": 0.031232,
     "end_time": "2025-04-12T17:34:47.688342",
     "exception": false,
     "start_time": "2025-04-12T17:34:47.657110",
     "status": "completed"
    },
    "tags": []
   },
   "outputs": [],
   "source": [
    "data_test = data_test.drop('id', axis=1)"
   ]
  },
  {
   "cell_type": "markdown",
   "id": "94b7985f",
   "metadata": {
    "papermill": {
     "duration": 0.011845,
     "end_time": "2025-04-12T17:34:47.712307",
     "exception": false,
     "start_time": "2025-04-12T17:34:47.700462",
     "status": "completed"
    },
    "tags": []
   },
   "source": [
    "Let's check if shape of both DataFrames are equal."
   ]
  },
  {
   "cell_type": "code",
   "execution_count": 19,
   "id": "348da696",
   "metadata": {
    "execution": {
     "iopub.execute_input": "2025-04-12T17:34:47.737904Z",
     "iopub.status.busy": "2025-04-12T17:34:47.737703Z",
     "iopub.status.idle": "2025-04-12T17:34:47.741579Z",
     "shell.execute_reply": "2025-04-12T17:34:47.741001Z"
    },
    "papermill": {
     "duration": 0.017514,
     "end_time": "2025-04-12T17:34:47.742658",
     "exception": false,
     "start_time": "2025-04-12T17:34:47.725144",
     "status": "completed"
    },
    "tags": []
   },
   "outputs": [
    {
     "name": "stdout",
     "output_type": "stream",
     "text": [
      "11\n",
      "10\n"
     ]
    }
   ],
   "source": [
    "print(df_cleaned.shape[1])\n",
    "print(data_test.shape[1])"
   ]
  },
  {
   "cell_type": "markdown",
   "id": "f2ff194c",
   "metadata": {
    "papermill": {
     "duration": 0.011801,
     "end_time": "2025-04-12T17:34:47.766487",
     "exception": false,
     "start_time": "2025-04-12T17:34:47.754686",
     "status": "completed"
    },
    "tags": []
   },
   "source": [
    "Quantity of features are **equal** (in the df_cleaned is 11 **as there is still target feature inside**)"
   ]
  },
  {
   "cell_type": "markdown",
   "id": "fa2a09fe",
   "metadata": {
    "papermill": {
     "duration": 0.01167,
     "end_time": "2025-04-12T17:34:47.789955",
     "exception": false,
     "start_time": "2025-04-12T17:34:47.778285",
     "status": "completed"
    },
    "tags": []
   },
   "source": [
    "## Data splitting\n",
    "\n",
    "Before further actions let's split our DF to target and predictors data.\n",
    "\n",
    "It's neccessary to do here as following we will encode our features. And the same actions need to do with test data, so the shapes must be same."
   ]
  },
  {
   "cell_type": "code",
   "execution_count": 20,
   "id": "9a567aca",
   "metadata": {
    "execution": {
     "iopub.execute_input": "2025-04-12T17:34:47.814963Z",
     "iopub.status.busy": "2025-04-12T17:34:47.814781Z",
     "iopub.status.idle": "2025-04-12T17:34:47.867227Z",
     "shell.execute_reply": "2025-04-12T17:34:47.866713Z"
    },
    "papermill": {
     "duration": 0.066103,
     "end_time": "2025-04-12T17:34:47.868368",
     "exception": false,
     "start_time": "2025-04-12T17:34:47.802265",
     "status": "completed"
    },
    "tags": []
   },
   "outputs": [],
   "source": [
    "# Target data\n",
    "y = df_cleaned['Listening_Time_minutes']\n",
    "\n",
    "# predictors data\n",
    "df_cleaned = df_cleaned.drop('Listening_Time_minutes', axis=1)"
   ]
  },
  {
   "cell_type": "markdown",
   "id": "1bb42cc8",
   "metadata": {
    "papermill": {
     "duration": 0.011977,
     "end_time": "2025-04-12T17:34:47.892505",
     "exception": false,
     "start_time": "2025-04-12T17:34:47.880528",
     "status": "completed"
    },
    "tags": []
   },
   "source": [
    "## Feature encoding"
   ]
  },
  {
   "cell_type": "markdown",
   "id": "0a86480f",
   "metadata": {
    "papermill": {
     "duration": 0.011847,
     "end_time": "2025-04-12T17:34:47.916273",
     "exception": false,
     "start_time": "2025-04-12T17:34:47.904426",
     "status": "completed"
    },
    "tags": []
   },
   "source": [
    "Here we'll create lists of object features and encode it.\n",
    "For the quantity of feature unique values less then 15 we'll use One Hot Encoding, if more - Binary Encoding."
   ]
  },
  {
   "cell_type": "code",
   "execution_count": 21,
   "id": "3475ee93",
   "metadata": {
    "execution": {
     "iopub.execute_input": "2025-04-12T17:34:47.941255Z",
     "iopub.status.busy": "2025-04-12T17:34:47.941057Z",
     "iopub.status.idle": "2025-04-12T17:34:48.176707Z",
     "shell.execute_reply": "2025-04-12T17:34:48.175788Z"
    },
    "papermill": {
     "duration": 0.249474,
     "end_time": "2025-04-12T17:34:48.177806",
     "exception": false,
     "start_time": "2025-04-12T17:34:47.928332",
     "status": "completed"
    },
    "tags": []
   },
   "outputs": [
    {
     "name": "stdout",
     "output_type": "stream",
     "text": [
      "Unique values for Podcast_Name is 48\n",
      "Unique values for Episode_Title is 100\n",
      "Unique values for Genre is 10\n",
      "Unique values for Publication_Day is 7\n",
      "Unique values for Publication_Time is 4\n",
      "Unique values for Episode_Sentiment is 3\n"
     ]
    }
   ],
   "source": [
    "object_columns = list(df_cleaned.select_dtypes('object').columns)\n",
    "\n",
    "one_hot_list = list()\n",
    "binary_list = list()\n",
    "\n",
    "for feat in object_columns:\n",
    "    unique_values = df_cleaned[feat].nunique()\n",
    "    print(f'Unique values for {feat} is {unique_values}')\n",
    "    \n",
    "    if unique_values > 15:\n",
    "        binary_list.append(feat)\n",
    "    \n",
    "    else:\n",
    "        one_hot_list.append(feat)\n",
    "    "
   ]
  },
  {
   "cell_type": "code",
   "execution_count": 22,
   "id": "731abce7",
   "metadata": {
    "execution": {
     "iopub.execute_input": "2025-04-12T17:34:48.204178Z",
     "iopub.status.busy": "2025-04-12T17:34:48.203920Z",
     "iopub.status.idle": "2025-04-12T17:34:49.427799Z",
     "shell.execute_reply": "2025-04-12T17:34:49.427001Z"
    },
    "papermill": {
     "duration": 1.238505,
     "end_time": "2025-04-12T17:34:49.429279",
     "exception": false,
     "start_time": "2025-04-12T17:34:48.190774",
     "status": "completed"
    },
    "tags": []
   },
   "outputs": [],
   "source": [
    "one_hot_encoder = OneHotEncoder()\n",
    "\n",
    "data_onehot = one_hot_encoder.fit_transform(df_cleaned[one_hot_list]).toarray()\n",
    "\n",
    "one_hot_col_names = one_hot_encoder.get_feature_names_out(one_hot_list)\n",
    "df_onehot = pd.DataFrame(data_onehot, columns=one_hot_col_names)\n",
    "df_onehotted = pd.concat([df_cleaned, df_onehot], axis=1)\n",
    "df_onehotted = df_onehotted.drop(one_hot_list, axis=1)"
   ]
  },
  {
   "cell_type": "code",
   "execution_count": 23,
   "id": "e2f91f16",
   "metadata": {
    "execution": {
     "iopub.execute_input": "2025-04-12T17:34:49.455376Z",
     "iopub.status.busy": "2025-04-12T17:34:49.455122Z",
     "iopub.status.idle": "2025-04-12T17:34:50.468919Z",
     "shell.execute_reply": "2025-04-12T17:34:50.468087Z"
    },
    "papermill": {
     "duration": 1.028781,
     "end_time": "2025-04-12T17:34:50.470564",
     "exception": false,
     "start_time": "2025-04-12T17:34:49.441783",
     "status": "completed"
    },
    "tags": []
   },
   "outputs": [],
   "source": [
    "bin_encoder = ce.BinaryEncoder(cols=binary_list)\n",
    "\n",
    "feat_binned = bin_encoder.fit_transform(df_onehotted[binary_list])"
   ]
  },
  {
   "cell_type": "code",
   "execution_count": 24,
   "id": "ae52c5e9",
   "metadata": {
    "execution": {
     "iopub.execute_input": "2025-04-12T17:34:50.496678Z",
     "iopub.status.busy": "2025-04-12T17:34:50.496283Z",
     "iopub.status.idle": "2025-04-12T17:34:50.826998Z",
     "shell.execute_reply": "2025-04-12T17:34:50.826130Z"
    },
    "papermill": {
     "duration": 0.344997,
     "end_time": "2025-04-12T17:34:50.828494",
     "exception": false,
     "start_time": "2025-04-12T17:34:50.483497",
     "status": "completed"
    },
    "tags": []
   },
   "outputs": [],
   "source": [
    "df_encoded = pd.concat([df_onehotted, feat_binned], axis=1)\n",
    "\n",
    "df_encoded = df_encoded.drop(binary_list, axis=1)"
   ]
  },
  {
   "cell_type": "markdown",
   "id": "6a1710cc",
   "metadata": {
    "papermill": {
     "duration": 0.011985,
     "end_time": "2025-04-12T17:34:50.852939",
     "exception": false,
     "start_time": "2025-04-12T17:34:50.840954",
     "status": "completed"
    },
    "tags": []
   },
   "source": [
    "Let's do the same for test Dataset, **based on created enoders.**"
   ]
  },
  {
   "cell_type": "code",
   "execution_count": 25,
   "id": "bdb8d00a",
   "metadata": {
    "execution": {
     "iopub.execute_input": "2025-04-12T17:34:50.877940Z",
     "iopub.status.busy": "2025-04-12T17:34:50.877501Z",
     "iopub.status.idle": "2025-04-12T17:34:51.250237Z",
     "shell.execute_reply": "2025-04-12T17:34:51.249614Z"
    },
    "papermill": {
     "duration": 0.386688,
     "end_time": "2025-04-12T17:34:51.251561",
     "exception": false,
     "start_time": "2025-04-12T17:34:50.864873",
     "status": "completed"
    },
    "tags": []
   },
   "outputs": [],
   "source": [
    "data_onehot_test = one_hot_encoder.transform(data_test[one_hot_list]).toarray()\n",
    "\n",
    "one_hot_col_names = one_hot_encoder.get_feature_names_out(one_hot_list)\n",
    "df_onehot_test = pd.DataFrame(data_onehot_test, columns=one_hot_col_names)\n",
    "df_onehotted_test = pd.concat([data_test, df_onehot_test], axis=1)\n",
    "df_onehotted_test = df_onehotted_test.drop(one_hot_list, axis=1)"
   ]
  },
  {
   "cell_type": "code",
   "execution_count": 26,
   "id": "b73ebf7f",
   "metadata": {
    "execution": {
     "iopub.execute_input": "2025-04-12T17:34:51.281005Z",
     "iopub.status.busy": "2025-04-12T17:34:51.280344Z",
     "iopub.status.idle": "2025-04-12T17:34:51.503555Z",
     "shell.execute_reply": "2025-04-12T17:34:51.502902Z"
    },
    "papermill": {
     "duration": 0.239566,
     "end_time": "2025-04-12T17:34:51.504930",
     "exception": false,
     "start_time": "2025-04-12T17:34:51.265364",
     "status": "completed"
    },
    "tags": []
   },
   "outputs": [],
   "source": [
    "feat_binned_test = bin_encoder.transform(df_onehotted_test[binary_list])\n",
    "\n",
    "df_encoded_test = pd.concat([df_onehotted_test, feat_binned_test], axis=1)\n",
    "\n",
    "df_encoded_test = df_encoded_test.drop(binary_list, axis=1)"
   ]
  },
  {
   "cell_type": "markdown",
   "id": "5b27690a",
   "metadata": {
    "papermill": {
     "duration": 0.011902,
     "end_time": "2025-04-12T17:34:51.529439",
     "exception": false,
     "start_time": "2025-04-12T17:34:51.517537",
     "status": "completed"
    },
    "tags": []
   },
   "source": [
    "## Missing Data Imputation"
   ]
  },
  {
   "cell_type": "markdown",
   "id": "e8ae805b",
   "metadata": {
    "papermill": {
     "duration": 0.012377,
     "end_time": "2025-04-12T17:34:51.553694",
     "exception": false,
     "start_time": "2025-04-12T17:34:51.541317",
     "status": "completed"
    },
    "tags": []
   },
   "source": [
    "### Missing Data Imputation - Train Data"
   ]
  },
  {
   "cell_type": "markdown",
   "id": "d4408247",
   "metadata": {
    "papermill": {
     "duration": 0.011794,
     "end_time": "2025-04-12T17:34:51.577458",
     "exception": false,
     "start_time": "2025-04-12T17:34:51.565664",
     "status": "completed"
    },
    "tags": []
   },
   "source": [
    "Let's check the Data which is missed in our dataset."
   ]
  },
  {
   "cell_type": "code",
   "execution_count": 27,
   "id": "abd474ad",
   "metadata": {
    "execution": {
     "iopub.execute_input": "2025-04-12T17:34:51.604781Z",
     "iopub.status.busy": "2025-04-12T17:34:51.604315Z",
     "iopub.status.idle": "2025-04-12T17:34:55.106422Z",
     "shell.execute_reply": "2025-04-12T17:34:55.105827Z"
    },
    "papermill": {
     "duration": 3.51834,
     "end_time": "2025-04-12T17:34:55.107774",
     "exception": false,
     "start_time": "2025-04-12T17:34:51.589434",
     "status": "completed"
    },
    "tags": []
   },
   "outputs": [
    {
     "name": "stdout",
     "output_type": "stream",
     "text": [
      "\n",
      "Feature Episode_Length_minutes has 87087 missings\n",
      "\n",
      "Feature Guest_Popularity_percentage has 146028 missings\n",
      "\n",
      "Feature Number_of_Ads has 1 missings\n"
     ]
    }
   ],
   "source": [
    "df_encoded.isna().sum()\n",
    "\n",
    "for n in range(df_encoded.shape[1]):\n",
    "    \n",
    "    if df_encoded.isna().sum()[n] != 0:\n",
    "        print('\\nFeature {} has {} missings'.format(\n",
    "            df_encoded.isna().sum().index[n], \n",
    "            df_encoded.isna().sum()[n]\n",
    "        ))"
   ]
  },
  {
   "cell_type": "markdown",
   "id": "8c3c97b6",
   "metadata": {
    "papermill": {
     "duration": 0.012003,
     "end_time": "2025-04-12T17:34:55.132605",
     "exception": false,
     "start_time": "2025-04-12T17:34:55.120602",
     "status": "completed"
    },
    "tags": []
   },
   "source": [
    "And for test data"
   ]
  },
  {
   "cell_type": "code",
   "execution_count": 28,
   "id": "3b76a2dc",
   "metadata": {
    "execution": {
     "iopub.execute_input": "2025-04-12T17:34:55.157565Z",
     "iopub.status.busy": "2025-04-12T17:34:55.157336Z",
     "iopub.status.idle": "2025-04-12T17:34:56.524221Z",
     "shell.execute_reply": "2025-04-12T17:34:56.523351Z"
    },
    "papermill": {
     "duration": 1.38094,
     "end_time": "2025-04-12T17:34:56.525663",
     "exception": false,
     "start_time": "2025-04-12T17:34:55.144723",
     "status": "completed"
    },
    "tags": []
   },
   "outputs": [
    {
     "name": "stdout",
     "output_type": "stream",
     "text": [
      "\n",
      "Feature Episode_Length_minutes has 28736 missings\n",
      "\n",
      "Feature Guest_Popularity_percentage has 48832 missings\n"
     ]
    }
   ],
   "source": [
    "df_encoded_test.isna().sum()\n",
    "\n",
    "for n in range(df_encoded_test.shape[1]):\n",
    "    \n",
    "    if df_encoded_test.isna().sum()[n] != 0:\n",
    "        print('\\nFeature {} has {} missings'.format(\n",
    "            df_encoded_test.isna().sum().index[n], \n",
    "            df_encoded_test.isna().sum()[n]\n",
    "        ))"
   ]
  },
  {
   "cell_type": "markdown",
   "id": "18dfcb4d",
   "metadata": {
    "papermill": {
     "duration": 0.012305,
     "end_time": "2025-04-12T17:34:56.551113",
     "exception": false,
     "start_time": "2025-04-12T17:34:56.538808",
     "status": "completed"
    },
    "tags": []
   },
   "source": [
    "**How will we do**\n",
    "\n",
    "For the train data one missed value in **Number_of_Ads** we will fill with mode value.\n",
    "\n",
    "For **other** missed data in features we will use filling with ML prediction values. \n",
    "\n",
    "So, we will create and train Linear regression model on train data and further apply it to test data."
   ]
  },
  {
   "cell_type": "code",
   "execution_count": 29,
   "id": "715c8bba",
   "metadata": {
    "execution": {
     "iopub.execute_input": "2025-04-12T17:34:56.576392Z",
     "iopub.status.busy": "2025-04-12T17:34:56.576143Z",
     "iopub.status.idle": "2025-04-12T17:34:56.593901Z",
     "shell.execute_reply": "2025-04-12T17:34:56.593017Z"
    },
    "papermill": {
     "duration": 0.031837,
     "end_time": "2025-04-12T17:34:56.595060",
     "exception": false,
     "start_time": "2025-04-12T17:34:56.563223",
     "status": "completed"
    },
    "tags": []
   },
   "outputs": [],
   "source": [
    "df_encoded['Number_of_Ads'] = df_encoded['Number_of_Ads'].fillna(\n",
    "    df_encoded['Number_of_Ads'].mode()[0]\n",
    ")"
   ]
  },
  {
   "cell_type": "code",
   "execution_count": 30,
   "id": "28d0fa25",
   "metadata": {},
   "outputs": [
    {
     "data": {
      "text/plain": [
       "Episode_Length_minutes          87087\n",
       "Host_Popularity_percentage          0\n",
       "Guest_Popularity_percentage    146028\n",
       "Number_of_Ads                       0\n",
       "Genre_Business                      0\n",
       "Genre_Comedy                        0\n",
       "Genre_Education                     0\n",
       "Genre_Health                        0\n",
       "Genre_Lifestyle                     0\n",
       "Genre_Music                         0\n",
       "Genre_News                          0\n",
       "Genre_Sports                        0\n",
       "Genre_Technology                    0\n",
       "Genre_True Crime                    0\n",
       "Publication_Day_Friday              0\n",
       "Publication_Day_Monday              0\n",
       "Publication_Day_Saturday            0\n",
       "Publication_Day_Sunday              0\n",
       "Publication_Day_Thursday            0\n",
       "Publication_Day_Tuesday             0\n",
       "Publication_Day_Wednesday           0\n",
       "Publication_Time_Afternoon          0\n",
       "Publication_Time_Evening            0\n",
       "Publication_Time_Morning            0\n",
       "Publication_Time_Night              0\n",
       "Episode_Sentiment_Negative          0\n",
       "Episode_Sentiment_Neutral           0\n",
       "Episode_Sentiment_Positive          0\n",
       "Podcast_Name_0                      0\n",
       "Podcast_Name_1                      0\n",
       "Podcast_Name_2                      0\n",
       "Podcast_Name_3                      0\n",
       "Podcast_Name_4                      0\n",
       "Podcast_Name_5                      0\n",
       "Episode_Title_0                     0\n",
       "Episode_Title_1                     0\n",
       "Episode_Title_2                     0\n",
       "Episode_Title_3                     0\n",
       "Episode_Title_4                     0\n",
       "Episode_Title_5                     0\n",
       "Episode_Title_6                     0\n",
       "dtype: int64"
      ]
     },
     "execution_count": 30,
     "metadata": {},
     "output_type": "execute_result"
    }
   ],
   "source": [
    "df_encoded.isna().sum()"
   ]
  },
  {
   "cell_type": "code",
   "execution_count": 31,
   "id": "10b529db",
   "metadata": {
    "execution": {
     "iopub.execute_input": "2025-04-12T17:34:56.621644Z",
     "iopub.status.busy": "2025-04-12T17:34:56.621039Z",
     "iopub.status.idle": "2025-04-12T17:35:09.241055Z",
     "shell.execute_reply": "2025-04-12T17:35:09.240356Z"
    },
    "papermill": {
     "duration": 12.635218,
     "end_time": "2025-04-12T17:35:09.242550",
     "exception": false,
     "start_time": "2025-04-12T17:34:56.607332",
     "status": "completed"
    },
    "tags": []
   },
   "outputs": [],
   "source": [
    "# ##### ORIGINAL\n",
    "# break\n",
    "# # Make a copy - it will be missing-free and will be \n",
    "# # used as train data for value predictions\n",
    "# data = df_encoded.copy()\n",
    "\n",
    "# # This DF has all missed data and from this will be generated missed values\n",
    "# test_data = data[data['Episode_Length_minutes'].isnull()]\n",
    "\n",
    "# # Clean it from missed data\n",
    "# data.dropna(inplace=True)\n",
    "\n",
    "# # Target data for training\n",
    "# y_train = data['Episode_Length_minutes']\n",
    "\n",
    "# # Predictrors for train and test data\n",
    "# X_train = data.drop(['Episode_Length_minutes', 'Guest_Popularity_percentage'], axis=1)\n",
    "# X_test = test_data.drop(['Episode_Length_minutes', 'Guest_Popularity_percentage'], axis=1)\n",
    "\n",
    "# # Model initialisation\n",
    "# model_episode_length = LinearRegression()\n",
    "\n",
    "# # Model training\n",
    "# model_episode_length.fit(X_train, y_train)\n",
    "\n",
    "# # prediction based on test data\n",
    "# y_pred = model_episode_length.predict(X_test)\n",
    "\n",
    "# # Filling our DF with predicted data based on indexes and values\n",
    "# for i, ni in enumerate(test_data.index):\n",
    "#     df_encoded.loc[ni, 'Episode_Length_minutes'] = y_pred[i]\n"
   ]
  },
  {
   "cell_type": "code",
   "execution_count": 32,
   "id": "73111ddc",
   "metadata": {},
   "outputs": [
    {
     "name": "stdout",
     "output_type": "stream",
     "text": [
      "CPU times: total: 0 ns\n",
      "Wall time: 0 ns\n",
      "100%|██████████| 20/20 [03:30<00:00, 10.52s/trial, best loss: 1076.344377238302]\n",
      "Наилучшие значения гиперпараметров {'alpha': 0.12784690358929376, 'fit_intercept': 0, 'l1_ratio': 0.07366102545052411, 'max_iter': 700.0}\n",
      "f1_score на обучающем наборе: 1170.96\n"
     ]
    }
   ],
   "source": [
    "##### TRY HYPEROPT\n",
    "\n",
    "import time\n",
    "\n",
    "# Make a copy - it will be missing-free and will be \n",
    "# used as train data for value predictions\n",
    "data = df_encoded.copy()\n",
    "\n",
    "# This DF has all missed data and from this will be generated missed values\n",
    "test_data = data[data['Episode_Length_minutes'].isnull()]\n",
    "\n",
    "# Clean it from missed data\n",
    "data.dropna(inplace=True)\n",
    "\n",
    "# Target data for training\n",
    "y_train = data['Episode_Length_minutes']\n",
    "\n",
    "# Predictrors for train and test data\n",
    "X_train = data.drop(['Episode_Length_minutes', 'Guest_Popularity_percentage'], axis=1)\n",
    "X_test = test_data.drop(['Episode_Length_minutes', 'Guest_Popularity_percentage'], axis=1)\n",
    "\n",
    "r_scaller_filling_ep_leng = preprocessing.RobustScaler()\n",
    "# break\n",
    "X_train_scaled = r_scaller_filling_ep_leng.fit_transform(X_train)\n",
    "X_test_scaled = r_scaller_filling_ep_leng.transform(X_test)\n",
    "\n",
    "#делаем импорт и выведем версию библиотеки\n",
    "from sklearn.model_selection import cross_val_score\n",
    "import hyperopt\n",
    "from hyperopt import hp, fmin, tpe, Trials\n",
    "from sklearn.linear_model import LogisticRegression\n",
    "from sklearn import metrics\n",
    "from sklearn.linear_model import ElasticNet\n",
    "# fmin - основная функция, она будет минимизировать наш функционал\n",
    "# tpe - алгоритм оптимизации\n",
    "# hp - включает набор методов для объявления пространства поиска гиперпараметров\n",
    "# trails - используется для логирования результатов\n",
    "\n",
    "space = {\n",
    "    'alpha': hp.loguniform('alpha', -3, 3),  # 0.05 до 20\n",
    "    'l1_ratio': hp.uniform('l1_ratio', 0, 1),\n",
    "    'max_iter': hp.quniform('max_iter', 500, 2000, 100),\n",
    "    'fit_intercept': hp.choice('fit_intercept', [True, False])\n",
    "}\n",
    "    #    'min_samples_leaf': hp.choice('min_samples_leaf', 2, 10, 1)\n",
    "    \n",
    "\n",
    "random_state = 42\n",
    "def hyperopt_rf(space, cv=5, X=X_train_scaled, y=y_train, random_state=random_state):\n",
    "    # функция получает комбинацию гиперпараметров в \"params\"\n",
    "    # params = {'n_estimators': int(params['n_estimators']), \n",
    "    #           'max_depth': int(params['max_depth']), \n",
    "    #          'min_samples_leaf': int(params['min_samples_leaf'])\n",
    "    #           }\n",
    "    \n",
    "    params = {'alpha': float(space['alpha']),\n",
    "        'l1_ratio': float(space['l1_ratio']),\n",
    "        'max_iter': int(space['max_iter']),\n",
    "        'fit_intercept': space['fit_intercept']}\n",
    "\n",
    "  \n",
    "  \n",
    "    # используем эту комбинацию для построения модели\n",
    "    model = ElasticNet(**params, random_state=random_state)\n",
    "\n",
    "    # обучаем модель\n",
    "    model.fit(X, y)\n",
    "    score = cross_val_score(\n",
    "        model, X, y, \n",
    "        cv=cv, \n",
    "        scoring='neg_mean_squared_error'  # для регрессии\n",
    "    ).mean()\n",
    "    \n",
    "    # обучать модель можно также с помощью кросс-валидации\n",
    "    # применим  cross validation с тем же количеством фолдов\n",
    "    # score = cross_val_score(model, X, y, cv=cv, scoring=\"f1\", n_jobs=-1).mean()\n",
    "\n",
    "    # метрику необходимо минимизировать, поэтому ставим знак минус\n",
    "    return -score\n",
    "\n",
    "%time\n",
    "# начинаем подбор гиперпараметров\n",
    "\n",
    "trials = Trials() # используется для логирования результатов\n",
    "\n",
    "best=fmin(hyperopt_rf, # наша функция \n",
    "          space=space, # пространство гиперпараметров\n",
    "          algo=tpe.suggest, # алгоритм оптимизации, установлен по умолчанию, задавать необязательно\n",
    "          max_evals=20, # максимальное количество итераций\n",
    "          trials=trials, # логирование результатов\n",
    "          rstate=np.random.default_rng(random_state) # фиксируем для повторяемости результата\n",
    "         )\n",
    "print(\"Наилучшие значения гиперпараметров {}\".format(best))\n",
    "\n",
    "\n",
    "# рассчитаем точность для тестовой выборки\n",
    "model_ep_leng = ElasticNet(\n",
    "    random_state=random_state, \n",
    "    alpha = float(best['alpha']),\n",
    "    l1_ratio = float(best['l1_ratio']),\n",
    "    max_iter = int(best['max_iter']),\n",
    "    fit_intercept = bool(best['fit_intercept'])\n",
    "    )\n",
    "\n",
    "\n",
    "# model = ensemble.RandomForestClassifier(\n",
    "#     random_state=random_state, \n",
    "#     n_estimators=int(best['n_estimators']),\n",
    "#     max_depth=int(best['max_depth']),\n",
    "#     min_samples_leaf=int(best['min_samples_leaf'])\n",
    "# )\n",
    "model_ep_leng.fit(X_train_scaled, y_train)\n",
    "y_train_pred = model_ep_leng.predict(X_train_scaled)\n",
    "print('f1_score на обучающем наборе: {:.2f}'.format(metrics.mean_squared_error(y_train, y_train_pred)))\n",
    "# print(\"accuracy на тестовом наборе: {:.2f}\".format(model.score(X_test_scaled, y_test)))\n",
    "y_test_pred = model_ep_leng.predict(X_test_scaled)\n",
    "\n",
    "for i, ni in enumerate(test_data.index):\n",
    "    df_encoded.loc[ni, 'Episode_Length_minutes'] = y_test_pred[i]"
   ]
  },
  {
   "cell_type": "code",
   "execution_count": 33,
   "id": "aa1499a7",
   "metadata": {},
   "outputs": [
    {
     "data": {
      "text/plain": [
       "array([45.31872253, 55.84591456, 57.13305192, ..., 71.30032335,\n",
       "       71.95896451, 58.62397883])"
      ]
     },
     "execution_count": 33,
     "metadata": {},
     "output_type": "execute_result"
    }
   ],
   "source": [
    "y_test_pred"
   ]
  },
  {
   "cell_type": "code",
   "execution_count": 34,
   "id": "0bdeed68",
   "metadata": {},
   "outputs": [
    {
     "data": {
      "text/plain": [
       "Episode_Length_minutes              0\n",
       "Host_Popularity_percentage          0\n",
       "Guest_Popularity_percentage    146028\n",
       "Number_of_Ads                       0\n",
       "Genre_Business                      0\n",
       "Genre_Comedy                        0\n",
       "Genre_Education                     0\n",
       "Genre_Health                        0\n",
       "Genre_Lifestyle                     0\n",
       "Genre_Music                         0\n",
       "Genre_News                          0\n",
       "Genre_Sports                        0\n",
       "Genre_Technology                    0\n",
       "Genre_True Crime                    0\n",
       "Publication_Day_Friday              0\n",
       "Publication_Day_Monday              0\n",
       "Publication_Day_Saturday            0\n",
       "Publication_Day_Sunday              0\n",
       "Publication_Day_Thursday            0\n",
       "Publication_Day_Tuesday             0\n",
       "Publication_Day_Wednesday           0\n",
       "Publication_Time_Afternoon          0\n",
       "Publication_Time_Evening            0\n",
       "Publication_Time_Morning            0\n",
       "Publication_Time_Night              0\n",
       "Episode_Sentiment_Negative          0\n",
       "Episode_Sentiment_Neutral           0\n",
       "Episode_Sentiment_Positive          0\n",
       "Podcast_Name_0                      0\n",
       "Podcast_Name_1                      0\n",
       "Podcast_Name_2                      0\n",
       "Podcast_Name_3                      0\n",
       "Podcast_Name_4                      0\n",
       "Podcast_Name_5                      0\n",
       "Episode_Title_0                     0\n",
       "Episode_Title_1                     0\n",
       "Episode_Title_2                     0\n",
       "Episode_Title_3                     0\n",
       "Episode_Title_4                     0\n",
       "Episode_Title_5                     0\n",
       "Episode_Title_6                     0\n",
       "dtype: int64"
      ]
     },
     "execution_count": 34,
     "metadata": {},
     "output_type": "execute_result"
    }
   ],
   "source": [
    "df_encoded.isna().sum()"
   ]
  },
  {
   "cell_type": "code",
   "execution_count": 35,
   "id": "f8303f5f",
   "metadata": {
    "execution": {
     "iopub.execute_input": "2025-04-12T17:35:09.270903Z",
     "iopub.status.busy": "2025-04-12T17:35:09.270544Z",
     "iopub.status.idle": "2025-04-12T17:35:29.955950Z",
     "shell.execute_reply": "2025-04-12T17:35:29.955153Z"
    },
    "papermill": {
     "duration": 20.700009,
     "end_time": "2025-04-12T17:35:29.957513",
     "exception": false,
     "start_time": "2025-04-12T17:35:09.257504",
     "status": "completed"
    },
    "tags": []
   },
   "outputs": [
    {
     "name": "stdout",
     "output_type": "stream",
     "text": [
      "CPU times: total: 0 ns\n",
      "Wall time: 0 ns\n",
      "100%|██████████| 20/20 [03:44<00:00, 11.24s/trial, best loss: 808.4281053375873]\n",
      "Наилучшие значения гиперпараметров {'alpha': 0.12784690358929376, 'fit_intercept': 0, 'l1_ratio': 0.07366102545052411, 'max_iter': 700.0}\n",
      "f1_score на обучающем наборе: 867.66\n"
     ]
    }
   ],
   "source": [
    "# For the comments here please look upper - all the same \n",
    "# Only exception is here dropping only one feature as other has been filled before\n",
    "\n",
    "data = df_encoded.copy()\n",
    "\n",
    "test_data = data[data['Guest_Popularity_percentage'].isnull()]\n",
    "\n",
    "data.dropna(inplace=True)\n",
    "\n",
    "y_train = data['Guest_Popularity_percentage']\n",
    "\n",
    "X_train = data.drop(['Guest_Popularity_percentage'], axis=1)\n",
    "X_test = test_data.drop(['Guest_Popularity_percentage'], axis=1)\n",
    "\n",
    "r_scaller_filling_guest_pop = preprocessing.RobustScaler()\n",
    "# break\n",
    "X_train_scaled = r_scaller_filling_guest_pop.fit_transform(X_train)\n",
    "X_test_scaled = r_scaller_filling_guest_pop.transform(X_test)\n",
    "\n",
    "\n",
    "space = {\n",
    "    'alpha': hp.loguniform('alpha', -3, 3),  # 0.05 до 20\n",
    "    'l1_ratio': hp.uniform('l1_ratio', 0, 1),\n",
    "    'max_iter': hp.quniform('max_iter', 500, 2000, 100),\n",
    "    'fit_intercept': hp.choice('fit_intercept', [True, False])\n",
    "}\n",
    "    #    'min_samples_leaf': hp.choice('min_samples_leaf', 2, 10, 1)\n",
    "    \n",
    "\n",
    "random_state = 42\n",
    "\n",
    "def hyperopt_rf(space, cv=5, X=X_train_scaled, y=y_train, random_state=random_state):\n",
    "    # функция получает комбинацию гиперпараметров в \"params\"\n",
    "    # params = {'n_estimators': int(params['n_estimators']), \n",
    "    #           'max_depth': int(params['max_depth']), \n",
    "    #          'min_samples_leaf': int(params['min_samples_leaf'])\n",
    "    #           }\n",
    "    \n",
    "    params = {'alpha': float(space['alpha']),\n",
    "        'l1_ratio': float(space['l1_ratio']),\n",
    "        'max_iter': int(space['max_iter']),\n",
    "        'fit_intercept': space['fit_intercept']}\n",
    "\n",
    "  \n",
    "  \n",
    "    # используем эту комбинацию для построения модели\n",
    "    model = ElasticNet(**params, random_state=random_state)\n",
    "\n",
    "    # обучаем модель\n",
    "    model.fit(X, y)\n",
    "    score = cross_val_score(\n",
    "        model, X, y, \n",
    "        cv=cv, \n",
    "        scoring='neg_mean_squared_error'  # для регрессии\n",
    "    ).mean()\n",
    "    \n",
    "    # обучать модель можно также с помощью кросс-валидации\n",
    "    # применим  cross validation с тем же количеством фолдов\n",
    "    # score = cross_val_score(model, X, y, cv=cv, scoring=\"f1\", n_jobs=-1).mean()\n",
    "\n",
    "    # метрику необходимо минимизировать, поэтому ставим знак минус\n",
    "    return -score\n",
    "\n",
    "%time\n",
    "# начинаем подбор гиперпараметров\n",
    "\n",
    "trials = Trials() # используется для логирования результатов\n",
    "\n",
    "best=fmin(hyperopt_rf, # наша функция \n",
    "          space=space, # пространство гиперпараметров\n",
    "          algo=tpe.suggest, # алгоритм оптимизации, установлен по умолчанию, задавать необязательно\n",
    "          max_evals=20, # максимальное количество итераций\n",
    "          trials=trials, # логирование результатов\n",
    "          rstate=np.random.default_rng(random_state) # фиксируем для повторяемости результата\n",
    "         )\n",
    "print(\"Наилучшие значения гиперпараметров {}\".format(best))\n",
    "\n",
    "\n",
    "# рассчитаем точность для тестовой выборки\n",
    "model_guest_pop = ElasticNet(\n",
    "    random_state=random_state, \n",
    "    alpha = float(best['alpha']),\n",
    "    l1_ratio = float(best['l1_ratio']),\n",
    "    max_iter = int(best['max_iter']),\n",
    "    fit_intercept = bool(best['fit_intercept'])\n",
    "    )\n",
    "\n",
    "\n",
    "# model = ensemble.RandomForestClassifier(\n",
    "#     random_state=random_state, \n",
    "#     n_estimators=int(best['n_estimators']),\n",
    "#     max_depth=int(best['max_depth']),\n",
    "#     min_samples_leaf=int(best['min_samples_leaf'])\n",
    "# )\n",
    "model_guest_pop.fit(X_train_scaled, y_train)\n",
    "y_train_pred = model_guest_pop.predict(X_train_scaled)\n",
    "print('f1_score на обучающем наборе: {:.2f}'.format(metrics.mean_squared_error(y_train, y_train_pred)))\n",
    "# print(\"accuracy на тестовом наборе: {:.2f}\".format(model.score(X_test_scaled, y_test)))\n",
    "y_test_pred = model_guest_pop.predict(X_test_scaled)\n",
    "\n",
    "\n",
    "\n",
    "# from sklearn.linear_model import LinearRegression\n",
    "\n",
    "# model_guest_pop = LinearRegression()\n",
    "\n",
    "# model_guest_pop.fit(X_train, y_train)\n",
    "\n",
    "# y_pred = model_guest_pop.predict(X_test)\n",
    "\n",
    "for i, ni in enumerate(test_data.index):\n",
    "    df_encoded.loc[ni, 'Guest_Popularity_percentage'] = y_test_pred[i]\n"
   ]
  },
  {
   "cell_type": "markdown",
   "id": "40774aa9",
   "metadata": {
    "papermill": {
     "duration": 0.012083,
     "end_time": "2025-04-12T17:35:29.982487",
     "exception": false,
     "start_time": "2025-04-12T17:35:29.970404",
     "status": "completed"
    },
    "tags": []
   },
   "source": [
    "### Missing Data Imputation - Train Data\n",
    "\n",
    "Let's do all the same for **Test Data.** Ofcourse here are using models which has been trained on train data."
   ]
  },
  {
   "cell_type": "code",
   "execution_count": 36,
   "id": "5e1f860e",
   "metadata": {
    "execution": {
     "iopub.execute_input": "2025-04-12T17:35:30.007334Z",
     "iopub.status.busy": "2025-04-12T17:35:30.007076Z",
     "iopub.status.idle": "2025-04-12T17:35:33.876085Z",
     "shell.execute_reply": "2025-04-12T17:35:33.875502Z"
    },
    "papermill": {
     "duration": 3.883132,
     "end_time": "2025-04-12T17:35:33.877497",
     "exception": false,
     "start_time": "2025-04-12T17:35:29.994365",
     "status": "completed"
    },
    "tags": []
   },
   "outputs": [],
   "source": [
    "# For the code comments please check upper\n",
    "\n",
    "data = df_encoded_test.copy()\n",
    "\n",
    "test_data = data[data['Episode_Length_minutes'].isnull()]\n",
    "\n",
    "data.dropna(inplace=True)\n",
    "\n",
    "y_train = data['Episode_Length_minutes']\n",
    "\n",
    "X_train = data.drop(['Episode_Length_minutes', 'Guest_Popularity_percentage'], axis=1)\n",
    "X_test = test_data.drop(['Episode_Length_minutes', 'Guest_Popularity_percentage'], axis=1)\n",
    "\n",
    "X_train_scaled = r_scaller_filling_ep_leng.transform(X_train)\n",
    "X_test_scaled = r_scaller_filling_ep_leng.transform(X_test)\n",
    "\n",
    "# Here we using the model trained on the Train Data\n",
    "y_pred = model_ep_leng.predict(X_test_scaled)\n",
    "\n",
    "for i, ni in enumerate(test_data.index):\n",
    "    df_encoded_test.loc[ni, 'Episode_Length_minutes'] = y_pred[i]"
   ]
  },
  {
   "cell_type": "code",
   "execution_count": 37,
   "id": "851b48c3",
   "metadata": {
    "execution": {
     "iopub.execute_input": "2025-04-12T17:35:33.902846Z",
     "iopub.status.busy": "2025-04-12T17:35:33.902651Z",
     "iopub.status.idle": "2025-04-12T17:35:40.417510Z",
     "shell.execute_reply": "2025-04-12T17:35:40.416849Z"
    },
    "papermill": {
     "duration": 6.528749,
     "end_time": "2025-04-12T17:35:40.418778",
     "exception": false,
     "start_time": "2025-04-12T17:35:33.890029",
     "status": "completed"
    },
    "tags": []
   },
   "outputs": [],
   "source": [
    "data = df_encoded_test.copy()\n",
    "\n",
    "test_data = data[data['Guest_Popularity_percentage'].isnull()]\n",
    "\n",
    "data.dropna(inplace=True)\n",
    "\n",
    "y_train = data['Guest_Popularity_percentage']\n",
    "\n",
    "X_train = data.drop(['Guest_Popularity_percentage'], axis=1)\n",
    "X_test = test_data.drop(['Guest_Popularity_percentage'], axis=1)\n",
    "\n",
    "X_train_scaled = r_scaller_filling_guest_pop.transform(X_train)\n",
    "X_test_scaled = r_scaller_filling_guest_pop.transform(X_test)\n",
    "\n",
    "# Here we using the model trained on the Train Data\n",
    "y_pred = model_guest_pop.predict(X_test_scaled)\n",
    "\n",
    "for i, ni in enumerate(test_data.index):\n",
    "    df_encoded_test.loc[ni, 'Guest_Popularity_percentage'] = y_pred[i]"
   ]
  },
  {
   "cell_type": "code",
   "execution_count": 38,
   "id": "a4e6e12f",
   "metadata": {},
   "outputs": [
    {
     "data": {
      "text/plain": [
       "Episode_Length_minutes         0\n",
       "Host_Popularity_percentage     0\n",
       "Guest_Popularity_percentage    0\n",
       "Number_of_Ads                  0\n",
       "Genre_Business                 0\n",
       "Genre_Comedy                   0\n",
       "Genre_Education                0\n",
       "Genre_Health                   0\n",
       "Genre_Lifestyle                0\n",
       "Genre_Music                    0\n",
       "Genre_News                     0\n",
       "Genre_Sports                   0\n",
       "Genre_Technology               0\n",
       "Genre_True Crime               0\n",
       "Publication_Day_Friday         0\n",
       "Publication_Day_Monday         0\n",
       "Publication_Day_Saturday       0\n",
       "Publication_Day_Sunday         0\n",
       "Publication_Day_Thursday       0\n",
       "Publication_Day_Tuesday        0\n",
       "Publication_Day_Wednesday      0\n",
       "Publication_Time_Afternoon     0\n",
       "Publication_Time_Evening       0\n",
       "Publication_Time_Morning       0\n",
       "Publication_Time_Night         0\n",
       "Episode_Sentiment_Negative     0\n",
       "Episode_Sentiment_Neutral      0\n",
       "Episode_Sentiment_Positive     0\n",
       "Podcast_Name_0                 0\n",
       "Podcast_Name_1                 0\n",
       "Podcast_Name_2                 0\n",
       "Podcast_Name_3                 0\n",
       "Podcast_Name_4                 0\n",
       "Podcast_Name_5                 0\n",
       "Episode_Title_0                0\n",
       "Episode_Title_1                0\n",
       "Episode_Title_2                0\n",
       "Episode_Title_3                0\n",
       "Episode_Title_4                0\n",
       "Episode_Title_5                0\n",
       "Episode_Title_6                0\n",
       "dtype: int64"
      ]
     },
     "execution_count": 38,
     "metadata": {},
     "output_type": "execute_result"
    }
   ],
   "source": [
    "df_encoded_test.isna().sum()"
   ]
  },
  {
   "cell_type": "markdown",
   "id": "3d4ce55c",
   "metadata": {
    "papermill": {
     "duration": 0.011765,
     "end_time": "2025-04-12T17:35:40.443402",
     "exception": false,
     "start_time": "2025-04-12T17:35:40.431637",
     "status": "completed"
    },
    "tags": []
   },
   "source": [
    "## Polinomial features"
   ]
  },
  {
   "cell_type": "code",
   "execution_count": 39,
   "id": "077e58a7",
   "metadata": {
    "execution": {
     "iopub.execute_input": "2025-04-12T17:35:40.469081Z",
     "iopub.status.busy": "2025-04-12T17:35:40.468833Z",
     "iopub.status.idle": "2025-04-12T17:35:40.666844Z",
     "shell.execute_reply": "2025-04-12T17:35:40.666185Z"
    },
    "papermill": {
     "duration": 0.212863,
     "end_time": "2025-04-12T17:35:40.668409",
     "exception": false,
     "start_time": "2025-04-12T17:35:40.455546",
     "status": "completed"
    },
    "tags": []
   },
   "outputs": [],
   "source": [
    "# Copy of cleaned data to following actions\n",
    "X = df_encoded.copy()"
   ]
  },
  {
   "cell_type": "code",
   "execution_count": 40,
   "id": "c9c637c3",
   "metadata": {
    "execution": {
     "iopub.execute_input": "2025-04-12T17:35:40.698219Z",
     "iopub.status.busy": "2025-04-12T17:35:40.697555Z",
     "iopub.status.idle": "2025-04-12T17:35:40.980389Z",
     "shell.execute_reply": "2025-04-12T17:35:40.979810Z"
    },
    "papermill": {
     "duration": 0.298707,
     "end_time": "2025-04-12T17:35:40.981768",
     "exception": false,
     "start_time": "2025-04-12T17:35:40.683061",
     "status": "completed"
    },
    "tags": []
   },
   "outputs": [],
   "source": [
    "# Splitting of Train data to train and test datasets\n",
    "X_train, X_test, y_train, y_test = \\\n",
    "    train_test_split(X, y, test_size=0.2, random_state=42)\n"
   ]
  },
  {
   "cell_type": "markdown",
   "id": "5ad62948",
   "metadata": {
    "papermill": {
     "duration": 0.01441,
     "end_time": "2025-04-12T17:35:41.010914",
     "exception": false,
     "start_time": "2025-04-12T17:35:40.996504",
     "status": "completed"
    },
    "tags": []
   },
   "source": [
    "Here we starting create polynomial features. To avoid huge loading for calculations, **we will reduce the numbers width to 16 bits.**"
   ]
  },
  {
   "cell_type": "code",
   "execution_count": 41,
   "id": "3418c950",
   "metadata": {
    "execution": {
     "iopub.execute_input": "2025-04-12T17:35:41.040412Z",
     "iopub.status.busy": "2025-04-12T17:35:41.040166Z",
     "iopub.status.idle": "2025-04-12T17:35:41.103934Z",
     "shell.execute_reply": "2025-04-12T17:35:41.103377Z"
    },
    "papermill": {
     "duration": 0.08006,
     "end_time": "2025-04-12T17:35:41.105405",
     "exception": false,
     "start_time": "2025-04-12T17:35:41.025345",
     "status": "completed"
    },
    "tags": []
   },
   "outputs": [],
   "source": [
    "# creating lists with features name according to dtype\n",
    "float_feats = list(X_train.select_dtypes('float64').columns)\n",
    "int_feats = list(X_train.select_dtypes('int64').columns)"
   ]
  },
  {
   "cell_type": "code",
   "execution_count": 42,
   "id": "b70f8cc7",
   "metadata": {
    "execution": {
     "iopub.execute_input": "2025-04-12T17:35:41.133845Z",
     "iopub.status.busy": "2025-04-12T17:35:41.133625Z",
     "iopub.status.idle": "2025-04-12T17:35:41.320487Z",
     "shell.execute_reply": "2025-04-12T17:35:41.319712Z"
    },
    "papermill": {
     "duration": 0.20266,
     "end_time": "2025-04-12T17:35:41.321865",
     "exception": false,
     "start_time": "2025-04-12T17:35:41.119205",
     "status": "completed"
    },
    "tags": []
   },
   "outputs": [],
   "source": [
    "# Reducing numbers width \n",
    "for feat in float_feats:\n",
    "    X_train[feat] = X_train[feat].astype('float16')\n",
    "    X_test[feat] = X_test[feat].astype('float16')\n",
    "    \n",
    "for feat in int_feats:\n",
    "    X_train[feat] = X_train[feat].astype('int16')\n",
    "    X_test[feat] = X_test[feat].astype('int16')"
   ]
  },
  {
   "cell_type": "code",
   "execution_count": 43,
   "id": "8fead115",
   "metadata": {
    "execution": {
     "iopub.execute_input": "2025-04-12T17:35:41.348887Z",
     "iopub.status.busy": "2025-04-12T17:35:41.348483Z",
     "iopub.status.idle": "2025-04-12T17:35:45.491824Z",
     "shell.execute_reply": "2025-04-12T17:35:45.491017Z"
    },
    "papermill": {
     "duration": 4.15839,
     "end_time": "2025-04-12T17:35:45.493317",
     "exception": false,
     "start_time": "2025-04-12T17:35:41.334927",
     "status": "completed"
    },
    "tags": []
   },
   "outputs": [],
   "source": [
    "# Creating polynomializer\n",
    "poly = preprocessing.PolynomialFeatures(degree=2, include_bias=False)\n",
    "\n",
    "# Study it\n",
    "poly.fit(X_train)\n",
    "\n",
    "# Creating of new feats\n",
    "X_train_poly = poly.transform(X_train)\n",
    "X_test_poly = poly.transform(X_test)"
   ]
  },
  {
   "cell_type": "markdown",
   "id": "4be2ae60",
   "metadata": {
    "papermill": {
     "duration": 0.012519,
     "end_time": "2025-04-12T17:35:45.519315",
     "exception": false,
     "start_time": "2025-04-12T17:35:45.506796",
     "status": "completed"
    },
    "tags": []
   },
   "source": [
    "Creating polinimial features for test data"
   ]
  },
  {
   "cell_type": "code",
   "execution_count": 44,
   "id": "233d9524",
   "metadata": {
    "execution": {
     "iopub.execute_input": "2025-04-12T17:35:45.544167Z",
     "iopub.status.busy": "2025-04-12T17:35:45.543898Z",
     "iopub.status.idle": "2025-04-12T17:35:45.614451Z",
     "shell.execute_reply": "2025-04-12T17:35:45.613717Z"
    },
    "papermill": {
     "duration": 0.084548,
     "end_time": "2025-04-12T17:35:45.615737",
     "exception": false,
     "start_time": "2025-04-12T17:35:45.531189",
     "status": "completed"
    },
    "tags": []
   },
   "outputs": [],
   "source": [
    "# Reducing numbers width \n",
    "for feat in float_feats:\n",
    "    df_encoded_test[feat] = df_encoded_test[feat].astype('float16')\n",
    "    \n",
    "for feat in int_feats:\n",
    "    df_encoded_test[feat] = df_encoded_test[feat].astype('int16')"
   ]
  },
  {
   "cell_type": "code",
   "execution_count": 45,
   "id": "4f214606",
   "metadata": {
    "execution": {
     "iopub.execute_input": "2025-04-12T17:35:45.641169Z",
     "iopub.status.busy": "2025-04-12T17:35:45.640939Z",
     "iopub.status.idle": "2025-04-12T17:35:46.957568Z",
     "shell.execute_reply": "2025-04-12T17:35:46.956741Z"
    },
    "papermill": {
     "duration": 1.330978,
     "end_time": "2025-04-12T17:35:46.959098",
     "exception": false,
     "start_time": "2025-04-12T17:35:45.628120",
     "status": "completed"
    },
    "tags": []
   },
   "outputs": [],
   "source": [
    "df_encoded_test_poly = poly.transform(df_encoded_test)"
   ]
  },
  {
   "cell_type": "markdown",
   "id": "b5790f36",
   "metadata": {
    "papermill": {
     "duration": 0.01199,
     "end_time": "2025-04-12T17:35:46.983856",
     "exception": false,
     "start_time": "2025-04-12T17:35:46.971866",
     "status": "completed"
    },
    "tags": []
   },
   "source": [
    "# Base-Line model XGBRegressor"
   ]
  },
  {
   "cell_type": "markdown",
   "id": "a73fba32",
   "metadata": {
    "papermill": {
     "duration": 0.011911,
     "end_time": "2025-04-12T17:35:47.007789",
     "exception": false,
     "start_time": "2025-04-12T17:35:46.995878",
     "status": "completed"
    },
    "tags": []
   },
   "source": [
    "And now we are ready to create model and train it."
   ]
  },
  {
   "cell_type": "markdown",
   "id": "1aa88461",
   "metadata": {
    "papermill": {
     "duration": 0.011835,
     "end_time": "2025-04-12T17:35:47.031751",
     "exception": false,
     "start_time": "2025-04-12T17:35:47.019916",
     "status": "completed"
    },
    "tags": []
   },
   "source": [
    "## Model creating and training od train data"
   ]
  },
  {
   "cell_type": "code",
   "execution_count": 41,
   "id": "162fc757",
   "metadata": {
    "execution": {
     "iopub.execute_input": "2025-04-12T17:35:47.056918Z",
     "iopub.status.busy": "2025-04-12T17:35:47.056508Z",
     "iopub.status.idle": "2025-04-12T17:47:54.712338Z",
     "shell.execute_reply": "2025-04-12T17:47:54.711616Z"
    },
    "papermill": {
     "duration": 727.683118,
     "end_time": "2025-04-12T17:47:54.726998",
     "exception": false,
     "start_time": "2025-04-12T17:35:47.043880",
     "status": "completed"
    },
    "tags": []
   },
   "outputs": [
    {
     "data": {
      "text/html": [
       "<style>#sk-container-id-1 {\n",
       "  /* Definition of color scheme common for light and dark mode */\n",
       "  --sklearn-color-text: black;\n",
       "  --sklearn-color-line: gray;\n",
       "  /* Definition of color scheme for unfitted estimators */\n",
       "  --sklearn-color-unfitted-level-0: #fff5e6;\n",
       "  --sklearn-color-unfitted-level-1: #f6e4d2;\n",
       "  --sklearn-color-unfitted-level-2: #ffe0b3;\n",
       "  --sklearn-color-unfitted-level-3: chocolate;\n",
       "  /* Definition of color scheme for fitted estimators */\n",
       "  --sklearn-color-fitted-level-0: #f0f8ff;\n",
       "  --sklearn-color-fitted-level-1: #d4ebff;\n",
       "  --sklearn-color-fitted-level-2: #b3dbfd;\n",
       "  --sklearn-color-fitted-level-3: cornflowerblue;\n",
       "\n",
       "  /* Specific color for light theme */\n",
       "  --sklearn-color-text-on-default-background: var(--sg-text-color, var(--theme-code-foreground, var(--jp-content-font-color1, black)));\n",
       "  --sklearn-color-background: var(--sg-background-color, var(--theme-background, var(--jp-layout-color0, white)));\n",
       "  --sklearn-color-border-box: var(--sg-text-color, var(--theme-code-foreground, var(--jp-content-font-color1, black)));\n",
       "  --sklearn-color-icon: #696969;\n",
       "\n",
       "  @media (prefers-color-scheme: dark) {\n",
       "    /* Redefinition of color scheme for dark theme */\n",
       "    --sklearn-color-text-on-default-background: var(--sg-text-color, var(--theme-code-foreground, var(--jp-content-font-color1, white)));\n",
       "    --sklearn-color-background: var(--sg-background-color, var(--theme-background, var(--jp-layout-color0, #111)));\n",
       "    --sklearn-color-border-box: var(--sg-text-color, var(--theme-code-foreground, var(--jp-content-font-color1, white)));\n",
       "    --sklearn-color-icon: #878787;\n",
       "  }\n",
       "}\n",
       "\n",
       "#sk-container-id-1 {\n",
       "  color: var(--sklearn-color-text);\n",
       "}\n",
       "\n",
       "#sk-container-id-1 pre {\n",
       "  padding: 0;\n",
       "}\n",
       "\n",
       "#sk-container-id-1 input.sk-hidden--visually {\n",
       "  border: 0;\n",
       "  clip: rect(1px 1px 1px 1px);\n",
       "  clip: rect(1px, 1px, 1px, 1px);\n",
       "  height: 1px;\n",
       "  margin: -1px;\n",
       "  overflow: hidden;\n",
       "  padding: 0;\n",
       "  position: absolute;\n",
       "  width: 1px;\n",
       "}\n",
       "\n",
       "#sk-container-id-1 div.sk-dashed-wrapped {\n",
       "  border: 1px dashed var(--sklearn-color-line);\n",
       "  margin: 0 0.4em 0.5em 0.4em;\n",
       "  box-sizing: border-box;\n",
       "  padding-bottom: 0.4em;\n",
       "  background-color: var(--sklearn-color-background);\n",
       "}\n",
       "\n",
       "#sk-container-id-1 div.sk-container {\n",
       "  /* jupyter's `normalize.less` sets `[hidden] { display: none; }`\n",
       "     but bootstrap.min.css set `[hidden] { display: none !important; }`\n",
       "     so we also need the `!important` here to be able to override the\n",
       "     default hidden behavior on the sphinx rendered scikit-learn.org.\n",
       "     See: https://github.com/scikit-learn/scikit-learn/issues/21755 */\n",
       "  display: inline-block !important;\n",
       "  position: relative;\n",
       "}\n",
       "\n",
       "#sk-container-id-1 div.sk-text-repr-fallback {\n",
       "  display: none;\n",
       "}\n",
       "\n",
       "div.sk-parallel-item,\n",
       "div.sk-serial,\n",
       "div.sk-item {\n",
       "  /* draw centered vertical line to link estimators */\n",
       "  background-image: linear-gradient(var(--sklearn-color-text-on-default-background), var(--sklearn-color-text-on-default-background));\n",
       "  background-size: 2px 100%;\n",
       "  background-repeat: no-repeat;\n",
       "  background-position: center center;\n",
       "}\n",
       "\n",
       "/* Parallel-specific style estimator block */\n",
       "\n",
       "#sk-container-id-1 div.sk-parallel-item::after {\n",
       "  content: \"\";\n",
       "  width: 100%;\n",
       "  border-bottom: 2px solid var(--sklearn-color-text-on-default-background);\n",
       "  flex-grow: 1;\n",
       "}\n",
       "\n",
       "#sk-container-id-1 div.sk-parallel {\n",
       "  display: flex;\n",
       "  align-items: stretch;\n",
       "  justify-content: center;\n",
       "  background-color: var(--sklearn-color-background);\n",
       "  position: relative;\n",
       "}\n",
       "\n",
       "#sk-container-id-1 div.sk-parallel-item {\n",
       "  display: flex;\n",
       "  flex-direction: column;\n",
       "}\n",
       "\n",
       "#sk-container-id-1 div.sk-parallel-item:first-child::after {\n",
       "  align-self: flex-end;\n",
       "  width: 50%;\n",
       "}\n",
       "\n",
       "#sk-container-id-1 div.sk-parallel-item:last-child::after {\n",
       "  align-self: flex-start;\n",
       "  width: 50%;\n",
       "}\n",
       "\n",
       "#sk-container-id-1 div.sk-parallel-item:only-child::after {\n",
       "  width: 0;\n",
       "}\n",
       "\n",
       "/* Serial-specific style estimator block */\n",
       "\n",
       "#sk-container-id-1 div.sk-serial {\n",
       "  display: flex;\n",
       "  flex-direction: column;\n",
       "  align-items: center;\n",
       "  background-color: var(--sklearn-color-background);\n",
       "  padding-right: 1em;\n",
       "  padding-left: 1em;\n",
       "}\n",
       "\n",
       "\n",
       "/* Toggleable style: style used for estimator/Pipeline/ColumnTransformer box that is\n",
       "clickable and can be expanded/collapsed.\n",
       "- Pipeline and ColumnTransformer use this feature and define the default style\n",
       "- Estimators will overwrite some part of the style using the `sk-estimator` class\n",
       "*/\n",
       "\n",
       "/* Pipeline and ColumnTransformer style (default) */\n",
       "\n",
       "#sk-container-id-1 div.sk-toggleable {\n",
       "  /* Default theme specific background. It is overwritten whether we have a\n",
       "  specific estimator or a Pipeline/ColumnTransformer */\n",
       "  background-color: var(--sklearn-color-background);\n",
       "}\n",
       "\n",
       "/* Toggleable label */\n",
       "#sk-container-id-1 label.sk-toggleable__label {\n",
       "  cursor: pointer;\n",
       "  display: block;\n",
       "  width: 100%;\n",
       "  margin-bottom: 0;\n",
       "  padding: 0.5em;\n",
       "  box-sizing: border-box;\n",
       "  text-align: center;\n",
       "}\n",
       "\n",
       "#sk-container-id-1 label.sk-toggleable__label-arrow:before {\n",
       "  /* Arrow on the left of the label */\n",
       "  content: \"▸\";\n",
       "  float: left;\n",
       "  margin-right: 0.25em;\n",
       "  color: var(--sklearn-color-icon);\n",
       "}\n",
       "\n",
       "#sk-container-id-1 label.sk-toggleable__label-arrow:hover:before {\n",
       "  color: var(--sklearn-color-text);\n",
       "}\n",
       "\n",
       "/* Toggleable content - dropdown */\n",
       "\n",
       "#sk-container-id-1 div.sk-toggleable__content {\n",
       "  max-height: 0;\n",
       "  max-width: 0;\n",
       "  overflow: hidden;\n",
       "  text-align: left;\n",
       "  /* unfitted */\n",
       "  background-color: var(--sklearn-color-unfitted-level-0);\n",
       "}\n",
       "\n",
       "#sk-container-id-1 div.sk-toggleable__content.fitted {\n",
       "  /* fitted */\n",
       "  background-color: var(--sklearn-color-fitted-level-0);\n",
       "}\n",
       "\n",
       "#sk-container-id-1 div.sk-toggleable__content pre {\n",
       "  margin: 0.2em;\n",
       "  border-radius: 0.25em;\n",
       "  color: var(--sklearn-color-text);\n",
       "  /* unfitted */\n",
       "  background-color: var(--sklearn-color-unfitted-level-0);\n",
       "}\n",
       "\n",
       "#sk-container-id-1 div.sk-toggleable__content.fitted pre {\n",
       "  /* unfitted */\n",
       "  background-color: var(--sklearn-color-fitted-level-0);\n",
       "}\n",
       "\n",
       "#sk-container-id-1 input.sk-toggleable__control:checked~div.sk-toggleable__content {\n",
       "  /* Expand drop-down */\n",
       "  max-height: 200px;\n",
       "  max-width: 100%;\n",
       "  overflow: auto;\n",
       "}\n",
       "\n",
       "#sk-container-id-1 input.sk-toggleable__control:checked~label.sk-toggleable__label-arrow:before {\n",
       "  content: \"▾\";\n",
       "}\n",
       "\n",
       "/* Pipeline/ColumnTransformer-specific style */\n",
       "\n",
       "#sk-container-id-1 div.sk-label input.sk-toggleable__control:checked~label.sk-toggleable__label {\n",
       "  color: var(--sklearn-color-text);\n",
       "  background-color: var(--sklearn-color-unfitted-level-2);\n",
       "}\n",
       "\n",
       "#sk-container-id-1 div.sk-label.fitted input.sk-toggleable__control:checked~label.sk-toggleable__label {\n",
       "  background-color: var(--sklearn-color-fitted-level-2);\n",
       "}\n",
       "\n",
       "/* Estimator-specific style */\n",
       "\n",
       "/* Colorize estimator box */\n",
       "#sk-container-id-1 div.sk-estimator input.sk-toggleable__control:checked~label.sk-toggleable__label {\n",
       "  /* unfitted */\n",
       "  background-color: var(--sklearn-color-unfitted-level-2);\n",
       "}\n",
       "\n",
       "#sk-container-id-1 div.sk-estimator.fitted input.sk-toggleable__control:checked~label.sk-toggleable__label {\n",
       "  /* fitted */\n",
       "  background-color: var(--sklearn-color-fitted-level-2);\n",
       "}\n",
       "\n",
       "#sk-container-id-1 div.sk-label label.sk-toggleable__label,\n",
       "#sk-container-id-1 div.sk-label label {\n",
       "  /* The background is the default theme color */\n",
       "  color: var(--sklearn-color-text-on-default-background);\n",
       "}\n",
       "\n",
       "/* On hover, darken the color of the background */\n",
       "#sk-container-id-1 div.sk-label:hover label.sk-toggleable__label {\n",
       "  color: var(--sklearn-color-text);\n",
       "  background-color: var(--sklearn-color-unfitted-level-2);\n",
       "}\n",
       "\n",
       "/* Label box, darken color on hover, fitted */\n",
       "#sk-container-id-1 div.sk-label.fitted:hover label.sk-toggleable__label.fitted {\n",
       "  color: var(--sklearn-color-text);\n",
       "  background-color: var(--sklearn-color-fitted-level-2);\n",
       "}\n",
       "\n",
       "/* Estimator label */\n",
       "\n",
       "#sk-container-id-1 div.sk-label label {\n",
       "  font-family: monospace;\n",
       "  font-weight: bold;\n",
       "  display: inline-block;\n",
       "  line-height: 1.2em;\n",
       "}\n",
       "\n",
       "#sk-container-id-1 div.sk-label-container {\n",
       "  text-align: center;\n",
       "}\n",
       "\n",
       "/* Estimator-specific */\n",
       "#sk-container-id-1 div.sk-estimator {\n",
       "  font-family: monospace;\n",
       "  border: 1px dotted var(--sklearn-color-border-box);\n",
       "  border-radius: 0.25em;\n",
       "  box-sizing: border-box;\n",
       "  margin-bottom: 0.5em;\n",
       "  /* unfitted */\n",
       "  background-color: var(--sklearn-color-unfitted-level-0);\n",
       "}\n",
       "\n",
       "#sk-container-id-1 div.sk-estimator.fitted {\n",
       "  /* fitted */\n",
       "  background-color: var(--sklearn-color-fitted-level-0);\n",
       "}\n",
       "\n",
       "/* on hover */\n",
       "#sk-container-id-1 div.sk-estimator:hover {\n",
       "  /* unfitted */\n",
       "  background-color: var(--sklearn-color-unfitted-level-2);\n",
       "}\n",
       "\n",
       "#sk-container-id-1 div.sk-estimator.fitted:hover {\n",
       "  /* fitted */\n",
       "  background-color: var(--sklearn-color-fitted-level-2);\n",
       "}\n",
       "\n",
       "/* Specification for estimator info (e.g. \"i\" and \"?\") */\n",
       "\n",
       "/* Common style for \"i\" and \"?\" */\n",
       "\n",
       ".sk-estimator-doc-link,\n",
       "a:link.sk-estimator-doc-link,\n",
       "a:visited.sk-estimator-doc-link {\n",
       "  float: right;\n",
       "  font-size: smaller;\n",
       "  line-height: 1em;\n",
       "  font-family: monospace;\n",
       "  background-color: var(--sklearn-color-background);\n",
       "  border-radius: 1em;\n",
       "  height: 1em;\n",
       "  width: 1em;\n",
       "  text-decoration: none !important;\n",
       "  margin-left: 1ex;\n",
       "  /* unfitted */\n",
       "  border: var(--sklearn-color-unfitted-level-1) 1pt solid;\n",
       "  color: var(--sklearn-color-unfitted-level-1);\n",
       "}\n",
       "\n",
       ".sk-estimator-doc-link.fitted,\n",
       "a:link.sk-estimator-doc-link.fitted,\n",
       "a:visited.sk-estimator-doc-link.fitted {\n",
       "  /* fitted */\n",
       "  border: var(--sklearn-color-fitted-level-1) 1pt solid;\n",
       "  color: var(--sklearn-color-fitted-level-1);\n",
       "}\n",
       "\n",
       "/* On hover */\n",
       "div.sk-estimator:hover .sk-estimator-doc-link:hover,\n",
       ".sk-estimator-doc-link:hover,\n",
       "div.sk-label-container:hover .sk-estimator-doc-link:hover,\n",
       ".sk-estimator-doc-link:hover {\n",
       "  /* unfitted */\n",
       "  background-color: var(--sklearn-color-unfitted-level-3);\n",
       "  color: var(--sklearn-color-background);\n",
       "  text-decoration: none;\n",
       "}\n",
       "\n",
       "div.sk-estimator.fitted:hover .sk-estimator-doc-link.fitted:hover,\n",
       ".sk-estimator-doc-link.fitted:hover,\n",
       "div.sk-label-container:hover .sk-estimator-doc-link.fitted:hover,\n",
       ".sk-estimator-doc-link.fitted:hover {\n",
       "  /* fitted */\n",
       "  background-color: var(--sklearn-color-fitted-level-3);\n",
       "  color: var(--sklearn-color-background);\n",
       "  text-decoration: none;\n",
       "}\n",
       "\n",
       "/* Span, style for the box shown on hovering the info icon */\n",
       ".sk-estimator-doc-link span {\n",
       "  display: none;\n",
       "  z-index: 9999;\n",
       "  position: relative;\n",
       "  font-weight: normal;\n",
       "  right: .2ex;\n",
       "  padding: .5ex;\n",
       "  margin: .5ex;\n",
       "  width: min-content;\n",
       "  min-width: 20ex;\n",
       "  max-width: 50ex;\n",
       "  color: var(--sklearn-color-text);\n",
       "  box-shadow: 2pt 2pt 4pt #999;\n",
       "  /* unfitted */\n",
       "  background: var(--sklearn-color-unfitted-level-0);\n",
       "  border: .5pt solid var(--sklearn-color-unfitted-level-3);\n",
       "}\n",
       "\n",
       ".sk-estimator-doc-link.fitted span {\n",
       "  /* fitted */\n",
       "  background: var(--sklearn-color-fitted-level-0);\n",
       "  border: var(--sklearn-color-fitted-level-3);\n",
       "}\n",
       "\n",
       ".sk-estimator-doc-link:hover span {\n",
       "  display: block;\n",
       "}\n",
       "\n",
       "/* \"?\"-specific style due to the `<a>` HTML tag */\n",
       "\n",
       "#sk-container-id-1 a.estimator_doc_link {\n",
       "  float: right;\n",
       "  font-size: 1rem;\n",
       "  line-height: 1em;\n",
       "  font-family: monospace;\n",
       "  background-color: var(--sklearn-color-background);\n",
       "  border-radius: 1rem;\n",
       "  height: 1rem;\n",
       "  width: 1rem;\n",
       "  text-decoration: none;\n",
       "  /* unfitted */\n",
       "  color: var(--sklearn-color-unfitted-level-1);\n",
       "  border: var(--sklearn-color-unfitted-level-1) 1pt solid;\n",
       "}\n",
       "\n",
       "#sk-container-id-1 a.estimator_doc_link.fitted {\n",
       "  /* fitted */\n",
       "  border: var(--sklearn-color-fitted-level-1) 1pt solid;\n",
       "  color: var(--sklearn-color-fitted-level-1);\n",
       "}\n",
       "\n",
       "/* On hover */\n",
       "#sk-container-id-1 a.estimator_doc_link:hover {\n",
       "  /* unfitted */\n",
       "  background-color: var(--sklearn-color-unfitted-level-3);\n",
       "  color: var(--sklearn-color-background);\n",
       "  text-decoration: none;\n",
       "}\n",
       "\n",
       "#sk-container-id-1 a.estimator_doc_link.fitted:hover {\n",
       "  /* fitted */\n",
       "  background-color: var(--sklearn-color-fitted-level-3);\n",
       "}\n",
       "</style><div id=\"sk-container-id-1\" class=\"sk-top-container\"><div class=\"sk-text-repr-fallback\"><pre>XGBRegressor(base_score=None, booster=None, callbacks=None,\n",
       "             colsample_bylevel=None, colsample_bynode=None,\n",
       "             colsample_bytree=None, device=&#x27;cuda&#x27;, early_stopping_rounds=None,\n",
       "             enable_categorical=True, eval_metric=None, feature_types=None,\n",
       "             gamma=None, grow_policy=None, importance_type=None,\n",
       "             interaction_constraints=None, learning_rate=0.02, max_bin=None,\n",
       "             max_cat_threshold=None, max_cat_to_onehot=None,\n",
       "             max_delta_step=None, max_depth=None, max_leaves=None,\n",
       "             min_child_weight=None, missing=nan, monotone_constraints=None,\n",
       "             multi_strategy=None, n_estimators=10000, n_jobs=None,\n",
       "             num_parallel_tree=None, random_state=42, ...)</pre><b>In a Jupyter environment, please rerun this cell to show the HTML representation or trust the notebook. <br />On GitHub, the HTML representation is unable to render, please try loading this page with nbviewer.org.</b></div><div class=\"sk-container\" hidden><div class=\"sk-item\"><div class=\"sk-estimator fitted sk-toggleable\"><input class=\"sk-toggleable__control sk-hidden--visually\" id=\"sk-estimator-id-1\" type=\"checkbox\" checked><label for=\"sk-estimator-id-1\" class=\"sk-toggleable__label fitted sk-toggleable__label-arrow fitted\">&nbsp;XGBRegressor<span class=\"sk-estimator-doc-link fitted\">i<span>Fitted</span></span></label><div class=\"sk-toggleable__content fitted\"><pre>XGBRegressor(base_score=None, booster=None, callbacks=None,\n",
       "             colsample_bylevel=None, colsample_bynode=None,\n",
       "             colsample_bytree=None, device=&#x27;cuda&#x27;, early_stopping_rounds=None,\n",
       "             enable_categorical=True, eval_metric=None, feature_types=None,\n",
       "             gamma=None, grow_policy=None, importance_type=None,\n",
       "             interaction_constraints=None, learning_rate=0.02, max_bin=None,\n",
       "             max_cat_threshold=None, max_cat_to_onehot=None,\n",
       "             max_delta_step=None, max_depth=None, max_leaves=None,\n",
       "             min_child_weight=None, missing=nan, monotone_constraints=None,\n",
       "             multi_strategy=None, n_estimators=10000, n_jobs=None,\n",
       "             num_parallel_tree=None, random_state=42, ...)</pre></div> </div></div></div></div>"
      ],
      "text/plain": [
       "XGBRegressor(base_score=None, booster=None, callbacks=None,\n",
       "             colsample_bylevel=None, colsample_bynode=None,\n",
       "             colsample_bytree=None, device='cuda', early_stopping_rounds=None,\n",
       "             enable_categorical=True, eval_metric=None, feature_types=None,\n",
       "             gamma=None, grow_policy=None, importance_type=None,\n",
       "             interaction_constraints=None, learning_rate=0.02, max_bin=None,\n",
       "             max_cat_threshold=None, max_cat_to_onehot=None,\n",
       "             max_delta_step=None, max_depth=None, max_leaves=None,\n",
       "             min_child_weight=None, missing=nan, monotone_constraints=None,\n",
       "             multi_strategy=None, n_estimators=10000, n_jobs=None,\n",
       "             num_parallel_tree=None, random_state=42, ...)"
      ]
     },
     "execution_count": 41,
     "metadata": {},
     "output_type": "execute_result"
    }
   ],
   "source": [
    "model_xgb = XGBRegressor(n_estimators=10000,\n",
    "                            learning_rate=0.02,\n",
    "                            enable_categorical=True,\n",
    "                            device='cuda', \n",
    "                            random_state=42,\n",
    "                        )\n",
    "model_xgb.fit(\n",
    "    X_train_poly, y_train,\n",
    "    verbose=200,\n",
    "    )"
   ]
  },
  {
   "cell_type": "code",
   "execution_count": 42,
   "id": "b59813a6",
   "metadata": {
    "execution": {
     "iopub.execute_input": "2025-04-12T17:47:54.754025Z",
     "iopub.status.busy": "2025-04-12T17:47:54.753795Z",
     "iopub.status.idle": "2025-04-12T17:48:00.744842Z",
     "shell.execute_reply": "2025-04-12T17:48:00.744014Z"
    },
    "papermill": {
     "duration": 6.006633,
     "end_time": "2025-04-12T17:48:00.746274",
     "exception": false,
     "start_time": "2025-04-12T17:47:54.739641",
     "status": "completed"
    },
    "tags": []
   },
   "outputs": [
    {
     "name": "stdout",
     "output_type": "stream",
     "text": [
      "Root mean squared error for train data = 13.010386607633468\n"
     ]
    }
   ],
   "source": [
    "y_pred_train_xgb = model_xgb.predict(X_test_poly)\n",
    "\n",
    "print('Root mean squared error for train data = {}'.format(\n",
    "    root_mean_squared_error(y_test, y_pred_train_xgb)\n",
    "    ))"
   ]
  },
  {
   "cell_type": "code",
   "execution_count": 56,
   "id": "a4bfd356",
   "metadata": {},
   "outputs": [
    {
     "name": "stdout",
     "output_type": "stream",
     "text": [
      "  3%|▎         | 1/30 [2:07:01<61:23:41, 7621.43s/trial, best loss: 13.075194355134451]\n"
     ]
    },
    {
     "ename": "KeyboardInterrupt",
     "evalue": "",
     "output_type": "error",
     "traceback": [
      "\u001b[1;31m---------------------------------------------------------------------------\u001b[0m",
      "\u001b[1;31mKeyboardInterrupt\u001b[0m                         Traceback (most recent call last)",
      "Cell \u001b[1;32mIn[56], line 44\u001b[0m\n\u001b[0;32m     41\u001b[0m \u001b[38;5;66;03m# Запуск оптимизации\u001b[39;00m\n\u001b[0;32m     42\u001b[0m trials \u001b[38;5;241m=\u001b[39m Trials()\n\u001b[1;32m---> 44\u001b[0m best \u001b[38;5;241m=\u001b[39m \u001b[43mfmin\u001b[49m\u001b[43m(\u001b[49m\n\u001b[0;32m     45\u001b[0m \u001b[43m    \u001b[49m\u001b[43mfn\u001b[49m\u001b[38;5;241;43m=\u001b[39;49m\u001b[43mhyperopt_xgb\u001b[49m\u001b[43m,\u001b[49m\n\u001b[0;32m     46\u001b[0m \u001b[43m    \u001b[49m\u001b[43mspace\u001b[49m\u001b[38;5;241;43m=\u001b[39;49m\u001b[43mspace\u001b[49m\u001b[43m,\u001b[49m\n\u001b[0;32m     47\u001b[0m \u001b[43m    \u001b[49m\u001b[43malgo\u001b[49m\u001b[38;5;241;43m=\u001b[39;49m\u001b[43mtpe\u001b[49m\u001b[38;5;241;43m.\u001b[39;49m\u001b[43msuggest\u001b[49m\u001b[43m,\u001b[49m\n\u001b[0;32m     48\u001b[0m \u001b[43m    \u001b[49m\u001b[43mmax_evals\u001b[49m\u001b[38;5;241;43m=\u001b[39;49m\u001b[38;5;241;43m30\u001b[39;49m\u001b[43m,\u001b[49m\u001b[43m  \u001b[49m\u001b[38;5;66;43;03m# можно начать с 30-50\u001b[39;49;00m\n\u001b[0;32m     49\u001b[0m \u001b[43m    \u001b[49m\u001b[43mtrials\u001b[49m\u001b[38;5;241;43m=\u001b[39;49m\u001b[43mtrials\u001b[49m\u001b[43m,\u001b[49m\n\u001b[0;32m     50\u001b[0m \u001b[43m    \u001b[49m\u001b[43mrstate\u001b[49m\u001b[38;5;241;43m=\u001b[39;49m\u001b[43mnp\u001b[49m\u001b[38;5;241;43m.\u001b[39;49m\u001b[43mrandom\u001b[49m\u001b[38;5;241;43m.\u001b[39;49m\u001b[43mdefault_rng\u001b[49m\u001b[43m(\u001b[49m\u001b[38;5;241;43m42\u001b[39;49m\u001b[43m)\u001b[49m\n\u001b[0;32m     51\u001b[0m \u001b[43m)\u001b[49m\n\u001b[0;32m     53\u001b[0m \u001b[38;5;28mprint\u001b[39m(\u001b[38;5;124m\"\u001b[39m\u001b[38;5;124mНаилучшие параметры:\u001b[39m\u001b[38;5;124m\"\u001b[39m)\n\u001b[0;32m     54\u001b[0m \u001b[38;5;28mprint\u001b[39m(best)\n",
      "File \u001b[1;32m~\\AppData\\Roaming\\Python\\Python312\\site-packages\\hyperopt\\fmin.py:540\u001b[0m, in \u001b[0;36mfmin\u001b[1;34m(fn, space, algo, max_evals, timeout, loss_threshold, trials, rstate, allow_trials_fmin, pass_expr_memo_ctrl, catch_eval_exceptions, verbose, return_argmin, points_to_evaluate, max_queue_len, show_progressbar, early_stop_fn, trials_save_file)\u001b[0m\n\u001b[0;32m    537\u001b[0m     fn \u001b[38;5;241m=\u001b[39m __objective_fmin_wrapper(fn)\n\u001b[0;32m    539\u001b[0m \u001b[38;5;28;01mif\u001b[39;00m allow_trials_fmin \u001b[38;5;129;01mand\u001b[39;00m \u001b[38;5;28mhasattr\u001b[39m(trials, \u001b[38;5;124m\"\u001b[39m\u001b[38;5;124mfmin\u001b[39m\u001b[38;5;124m\"\u001b[39m):\n\u001b[1;32m--> 540\u001b[0m     \u001b[38;5;28;01mreturn\u001b[39;00m \u001b[43mtrials\u001b[49m\u001b[38;5;241;43m.\u001b[39;49m\u001b[43mfmin\u001b[49m\u001b[43m(\u001b[49m\n\u001b[0;32m    541\u001b[0m \u001b[43m        \u001b[49m\u001b[43mfn\u001b[49m\u001b[43m,\u001b[49m\n\u001b[0;32m    542\u001b[0m \u001b[43m        \u001b[49m\u001b[43mspace\u001b[49m\u001b[43m,\u001b[49m\n\u001b[0;32m    543\u001b[0m \u001b[43m        \u001b[49m\u001b[43malgo\u001b[49m\u001b[38;5;241;43m=\u001b[39;49m\u001b[43malgo\u001b[49m\u001b[43m,\u001b[49m\n\u001b[0;32m    544\u001b[0m \u001b[43m        \u001b[49m\u001b[43mmax_evals\u001b[49m\u001b[38;5;241;43m=\u001b[39;49m\u001b[43mmax_evals\u001b[49m\u001b[43m,\u001b[49m\n\u001b[0;32m    545\u001b[0m \u001b[43m        \u001b[49m\u001b[43mtimeout\u001b[49m\u001b[38;5;241;43m=\u001b[39;49m\u001b[43mtimeout\u001b[49m\u001b[43m,\u001b[49m\n\u001b[0;32m    546\u001b[0m \u001b[43m        \u001b[49m\u001b[43mloss_threshold\u001b[49m\u001b[38;5;241;43m=\u001b[39;49m\u001b[43mloss_threshold\u001b[49m\u001b[43m,\u001b[49m\n\u001b[0;32m    547\u001b[0m \u001b[43m        \u001b[49m\u001b[43mmax_queue_len\u001b[49m\u001b[38;5;241;43m=\u001b[39;49m\u001b[43mmax_queue_len\u001b[49m\u001b[43m,\u001b[49m\n\u001b[0;32m    548\u001b[0m \u001b[43m        \u001b[49m\u001b[43mrstate\u001b[49m\u001b[38;5;241;43m=\u001b[39;49m\u001b[43mrstate\u001b[49m\u001b[43m,\u001b[49m\n\u001b[0;32m    549\u001b[0m \u001b[43m        \u001b[49m\u001b[43mpass_expr_memo_ctrl\u001b[49m\u001b[38;5;241;43m=\u001b[39;49m\u001b[43mpass_expr_memo_ctrl\u001b[49m\u001b[43m,\u001b[49m\n\u001b[0;32m    550\u001b[0m \u001b[43m        \u001b[49m\u001b[43mverbose\u001b[49m\u001b[38;5;241;43m=\u001b[39;49m\u001b[43mverbose\u001b[49m\u001b[43m,\u001b[49m\n\u001b[0;32m    551\u001b[0m \u001b[43m        \u001b[49m\u001b[43mcatch_eval_exceptions\u001b[49m\u001b[38;5;241;43m=\u001b[39;49m\u001b[43mcatch_eval_exceptions\u001b[49m\u001b[43m,\u001b[49m\n\u001b[0;32m    552\u001b[0m \u001b[43m        \u001b[49m\u001b[43mreturn_argmin\u001b[49m\u001b[38;5;241;43m=\u001b[39;49m\u001b[43mreturn_argmin\u001b[49m\u001b[43m,\u001b[49m\n\u001b[0;32m    553\u001b[0m \u001b[43m        \u001b[49m\u001b[43mshow_progressbar\u001b[49m\u001b[38;5;241;43m=\u001b[39;49m\u001b[43mshow_progressbar\u001b[49m\u001b[43m,\u001b[49m\n\u001b[0;32m    554\u001b[0m \u001b[43m        \u001b[49m\u001b[43mearly_stop_fn\u001b[49m\u001b[38;5;241;43m=\u001b[39;49m\u001b[43mearly_stop_fn\u001b[49m\u001b[43m,\u001b[49m\n\u001b[0;32m    555\u001b[0m \u001b[43m        \u001b[49m\u001b[43mtrials_save_file\u001b[49m\u001b[38;5;241;43m=\u001b[39;49m\u001b[43mtrials_save_file\u001b[49m\u001b[43m,\u001b[49m\n\u001b[0;32m    556\u001b[0m \u001b[43m    \u001b[49m\u001b[43m)\u001b[49m\n\u001b[0;32m    558\u001b[0m \u001b[38;5;28;01mif\u001b[39;00m trials \u001b[38;5;129;01mis\u001b[39;00m \u001b[38;5;28;01mNone\u001b[39;00m:\n\u001b[0;32m    559\u001b[0m     \u001b[38;5;28;01mif\u001b[39;00m os\u001b[38;5;241m.\u001b[39mpath\u001b[38;5;241m.\u001b[39mexists(trials_save_file):\n",
      "File \u001b[1;32m~\\AppData\\Roaming\\Python\\Python312\\site-packages\\hyperopt\\base.py:671\u001b[0m, in \u001b[0;36mTrials.fmin\u001b[1;34m(self, fn, space, algo, max_evals, timeout, loss_threshold, max_queue_len, rstate, verbose, pass_expr_memo_ctrl, catch_eval_exceptions, return_argmin, show_progressbar, early_stop_fn, trials_save_file)\u001b[0m\n\u001b[0;32m    666\u001b[0m \u001b[38;5;66;03m# -- Stop-gap implementation!\u001b[39;00m\n\u001b[0;32m    667\u001b[0m \u001b[38;5;66;03m#    fmin should have been a Trials method in the first place\u001b[39;00m\n\u001b[0;32m    668\u001b[0m \u001b[38;5;66;03m#    but for now it's still sitting in another file.\u001b[39;00m\n\u001b[0;32m    669\u001b[0m \u001b[38;5;28;01mfrom\u001b[39;00m \u001b[38;5;21;01m.\u001b[39;00m\u001b[38;5;21;01mfmin\u001b[39;00m \u001b[38;5;28;01mimport\u001b[39;00m fmin\n\u001b[1;32m--> 671\u001b[0m \u001b[38;5;28;01mreturn\u001b[39;00m \u001b[43mfmin\u001b[49m\u001b[43m(\u001b[49m\n\u001b[0;32m    672\u001b[0m \u001b[43m    \u001b[49m\u001b[43mfn\u001b[49m\u001b[43m,\u001b[49m\n\u001b[0;32m    673\u001b[0m \u001b[43m    \u001b[49m\u001b[43mspace\u001b[49m\u001b[43m,\u001b[49m\n\u001b[0;32m    674\u001b[0m \u001b[43m    \u001b[49m\u001b[43malgo\u001b[49m\u001b[38;5;241;43m=\u001b[39;49m\u001b[43malgo\u001b[49m\u001b[43m,\u001b[49m\n\u001b[0;32m    675\u001b[0m \u001b[43m    \u001b[49m\u001b[43mmax_evals\u001b[49m\u001b[38;5;241;43m=\u001b[39;49m\u001b[43mmax_evals\u001b[49m\u001b[43m,\u001b[49m\n\u001b[0;32m    676\u001b[0m \u001b[43m    \u001b[49m\u001b[43mtimeout\u001b[49m\u001b[38;5;241;43m=\u001b[39;49m\u001b[43mtimeout\u001b[49m\u001b[43m,\u001b[49m\n\u001b[0;32m    677\u001b[0m \u001b[43m    \u001b[49m\u001b[43mloss_threshold\u001b[49m\u001b[38;5;241;43m=\u001b[39;49m\u001b[43mloss_threshold\u001b[49m\u001b[43m,\u001b[49m\n\u001b[0;32m    678\u001b[0m \u001b[43m    \u001b[49m\u001b[43mtrials\u001b[49m\u001b[38;5;241;43m=\u001b[39;49m\u001b[38;5;28;43mself\u001b[39;49m\u001b[43m,\u001b[49m\n\u001b[0;32m    679\u001b[0m \u001b[43m    \u001b[49m\u001b[43mrstate\u001b[49m\u001b[38;5;241;43m=\u001b[39;49m\u001b[43mrstate\u001b[49m\u001b[43m,\u001b[49m\n\u001b[0;32m    680\u001b[0m \u001b[43m    \u001b[49m\u001b[43mverbose\u001b[49m\u001b[38;5;241;43m=\u001b[39;49m\u001b[43mverbose\u001b[49m\u001b[43m,\u001b[49m\n\u001b[0;32m    681\u001b[0m \u001b[43m    \u001b[49m\u001b[43mmax_queue_len\u001b[49m\u001b[38;5;241;43m=\u001b[39;49m\u001b[43mmax_queue_len\u001b[49m\u001b[43m,\u001b[49m\n\u001b[0;32m    682\u001b[0m \u001b[43m    \u001b[49m\u001b[43mallow_trials_fmin\u001b[49m\u001b[38;5;241;43m=\u001b[39;49m\u001b[38;5;28;43;01mFalse\u001b[39;49;00m\u001b[43m,\u001b[49m\u001b[43m  \u001b[49m\u001b[38;5;66;43;03m# -- prevent recursion\u001b[39;49;00m\n\u001b[0;32m    683\u001b[0m \u001b[43m    \u001b[49m\u001b[43mpass_expr_memo_ctrl\u001b[49m\u001b[38;5;241;43m=\u001b[39;49m\u001b[43mpass_expr_memo_ctrl\u001b[49m\u001b[43m,\u001b[49m\n\u001b[0;32m    684\u001b[0m \u001b[43m    \u001b[49m\u001b[43mcatch_eval_exceptions\u001b[49m\u001b[38;5;241;43m=\u001b[39;49m\u001b[43mcatch_eval_exceptions\u001b[49m\u001b[43m,\u001b[49m\n\u001b[0;32m    685\u001b[0m \u001b[43m    \u001b[49m\u001b[43mreturn_argmin\u001b[49m\u001b[38;5;241;43m=\u001b[39;49m\u001b[43mreturn_argmin\u001b[49m\u001b[43m,\u001b[49m\n\u001b[0;32m    686\u001b[0m \u001b[43m    \u001b[49m\u001b[43mshow_progressbar\u001b[49m\u001b[38;5;241;43m=\u001b[39;49m\u001b[43mshow_progressbar\u001b[49m\u001b[43m,\u001b[49m\n\u001b[0;32m    687\u001b[0m \u001b[43m    \u001b[49m\u001b[43mearly_stop_fn\u001b[49m\u001b[38;5;241;43m=\u001b[39;49m\u001b[43mearly_stop_fn\u001b[49m\u001b[43m,\u001b[49m\n\u001b[0;32m    688\u001b[0m \u001b[43m    \u001b[49m\u001b[43mtrials_save_file\u001b[49m\u001b[38;5;241;43m=\u001b[39;49m\u001b[43mtrials_save_file\u001b[49m\u001b[43m,\u001b[49m\n\u001b[0;32m    689\u001b[0m \u001b[43m\u001b[49m\u001b[43m)\u001b[49m\n",
      "File \u001b[1;32m~\\AppData\\Roaming\\Python\\Python312\\site-packages\\hyperopt\\fmin.py:586\u001b[0m, in \u001b[0;36mfmin\u001b[1;34m(fn, space, algo, max_evals, timeout, loss_threshold, trials, rstate, allow_trials_fmin, pass_expr_memo_ctrl, catch_eval_exceptions, verbose, return_argmin, points_to_evaluate, max_queue_len, show_progressbar, early_stop_fn, trials_save_file)\u001b[0m\n\u001b[0;32m    583\u001b[0m rval\u001b[38;5;241m.\u001b[39mcatch_eval_exceptions \u001b[38;5;241m=\u001b[39m catch_eval_exceptions\n\u001b[0;32m    585\u001b[0m \u001b[38;5;66;03m# next line is where the fmin is actually executed\u001b[39;00m\n\u001b[1;32m--> 586\u001b[0m \u001b[43mrval\u001b[49m\u001b[38;5;241;43m.\u001b[39;49m\u001b[43mexhaust\u001b[49m\u001b[43m(\u001b[49m\u001b[43m)\u001b[49m\n\u001b[0;32m    588\u001b[0m \u001b[38;5;28;01mif\u001b[39;00m return_argmin:\n\u001b[0;32m    589\u001b[0m     \u001b[38;5;28;01mif\u001b[39;00m \u001b[38;5;28mlen\u001b[39m(trials\u001b[38;5;241m.\u001b[39mtrials) \u001b[38;5;241m==\u001b[39m \u001b[38;5;241m0\u001b[39m:\n",
      "File \u001b[1;32m~\\AppData\\Roaming\\Python\\Python312\\site-packages\\hyperopt\\fmin.py:364\u001b[0m, in \u001b[0;36mFMinIter.exhaust\u001b[1;34m(self)\u001b[0m\n\u001b[0;32m    362\u001b[0m \u001b[38;5;28;01mdef\u001b[39;00m \u001b[38;5;21mexhaust\u001b[39m(\u001b[38;5;28mself\u001b[39m):\n\u001b[0;32m    363\u001b[0m     n_done \u001b[38;5;241m=\u001b[39m \u001b[38;5;28mlen\u001b[39m(\u001b[38;5;28mself\u001b[39m\u001b[38;5;241m.\u001b[39mtrials)\n\u001b[1;32m--> 364\u001b[0m     \u001b[38;5;28;43mself\u001b[39;49m\u001b[38;5;241;43m.\u001b[39;49m\u001b[43mrun\u001b[49m\u001b[43m(\u001b[49m\u001b[38;5;28;43mself\u001b[39;49m\u001b[38;5;241;43m.\u001b[39;49m\u001b[43mmax_evals\u001b[49m\u001b[43m \u001b[49m\u001b[38;5;241;43m-\u001b[39;49m\u001b[43m \u001b[49m\u001b[43mn_done\u001b[49m\u001b[43m,\u001b[49m\u001b[43m \u001b[49m\u001b[43mblock_until_done\u001b[49m\u001b[38;5;241;43m=\u001b[39;49m\u001b[38;5;28;43mself\u001b[39;49m\u001b[38;5;241;43m.\u001b[39;49m\u001b[43masynchronous\u001b[49m\u001b[43m)\u001b[49m\n\u001b[0;32m    365\u001b[0m     \u001b[38;5;28mself\u001b[39m\u001b[38;5;241m.\u001b[39mtrials\u001b[38;5;241m.\u001b[39mrefresh()\n\u001b[0;32m    366\u001b[0m     \u001b[38;5;28;01mreturn\u001b[39;00m \u001b[38;5;28mself\u001b[39m\n",
      "File \u001b[1;32m~\\AppData\\Roaming\\Python\\Python312\\site-packages\\hyperopt\\fmin.py:300\u001b[0m, in \u001b[0;36mFMinIter.run\u001b[1;34m(self, N, block_until_done)\u001b[0m\n\u001b[0;32m    297\u001b[0m     time\u001b[38;5;241m.\u001b[39msleep(\u001b[38;5;28mself\u001b[39m\u001b[38;5;241m.\u001b[39mpoll_interval_secs)\n\u001b[0;32m    298\u001b[0m \u001b[38;5;28;01melse\u001b[39;00m:\n\u001b[0;32m    299\u001b[0m     \u001b[38;5;66;03m# -- loop over trials and do the jobs directly\u001b[39;00m\n\u001b[1;32m--> 300\u001b[0m     \u001b[38;5;28;43mself\u001b[39;49m\u001b[38;5;241;43m.\u001b[39;49m\u001b[43mserial_evaluate\u001b[49m\u001b[43m(\u001b[49m\u001b[43m)\u001b[49m\n\u001b[0;32m    302\u001b[0m \u001b[38;5;28mself\u001b[39m\u001b[38;5;241m.\u001b[39mtrials\u001b[38;5;241m.\u001b[39mrefresh()\n\u001b[0;32m    303\u001b[0m \u001b[38;5;28;01mif\u001b[39;00m \u001b[38;5;28mself\u001b[39m\u001b[38;5;241m.\u001b[39mtrials_save_file \u001b[38;5;241m!=\u001b[39m \u001b[38;5;124m\"\u001b[39m\u001b[38;5;124m\"\u001b[39m:\n",
      "File \u001b[1;32m~\\AppData\\Roaming\\Python\\Python312\\site-packages\\hyperopt\\fmin.py:178\u001b[0m, in \u001b[0;36mFMinIter.serial_evaluate\u001b[1;34m(self, N)\u001b[0m\n\u001b[0;32m    176\u001b[0m ctrl \u001b[38;5;241m=\u001b[39m base\u001b[38;5;241m.\u001b[39mCtrl(\u001b[38;5;28mself\u001b[39m\u001b[38;5;241m.\u001b[39mtrials, current_trial\u001b[38;5;241m=\u001b[39mtrial)\n\u001b[0;32m    177\u001b[0m \u001b[38;5;28;01mtry\u001b[39;00m:\n\u001b[1;32m--> 178\u001b[0m     result \u001b[38;5;241m=\u001b[39m \u001b[38;5;28;43mself\u001b[39;49m\u001b[38;5;241;43m.\u001b[39;49m\u001b[43mdomain\u001b[49m\u001b[38;5;241;43m.\u001b[39;49m\u001b[43mevaluate\u001b[49m\u001b[43m(\u001b[49m\u001b[43mspec\u001b[49m\u001b[43m,\u001b[49m\u001b[43m \u001b[49m\u001b[43mctrl\u001b[49m\u001b[43m)\u001b[49m\n\u001b[0;32m    179\u001b[0m \u001b[38;5;28;01mexcept\u001b[39;00m \u001b[38;5;167;01mException\u001b[39;00m \u001b[38;5;28;01mas\u001b[39;00m e:\n\u001b[0;32m    180\u001b[0m     logger\u001b[38;5;241m.\u001b[39merror(\u001b[38;5;124m\"\u001b[39m\u001b[38;5;124mjob exception: \u001b[39m\u001b[38;5;132;01m%s\u001b[39;00m\u001b[38;5;124m\"\u001b[39m \u001b[38;5;241m%\u001b[39m \u001b[38;5;28mstr\u001b[39m(e))\n",
      "File \u001b[1;32m~\\AppData\\Roaming\\Python\\Python312\\site-packages\\hyperopt\\base.py:892\u001b[0m, in \u001b[0;36mDomain.evaluate\u001b[1;34m(self, config, ctrl, attach_attachments)\u001b[0m\n\u001b[0;32m    883\u001b[0m \u001b[38;5;28;01melse\u001b[39;00m:\n\u001b[0;32m    884\u001b[0m     \u001b[38;5;66;03m# -- the \"work\" of evaluating `config` can be written\u001b[39;00m\n\u001b[0;32m    885\u001b[0m     \u001b[38;5;66;03m#    either into the pyll part (self.expr)\u001b[39;00m\n\u001b[0;32m    886\u001b[0m     \u001b[38;5;66;03m#    or the normal Python part (self.fn)\u001b[39;00m\n\u001b[0;32m    887\u001b[0m     pyll_rval \u001b[38;5;241m=\u001b[39m pyll\u001b[38;5;241m.\u001b[39mrec_eval(\n\u001b[0;32m    888\u001b[0m         \u001b[38;5;28mself\u001b[39m\u001b[38;5;241m.\u001b[39mexpr,\n\u001b[0;32m    889\u001b[0m         memo\u001b[38;5;241m=\u001b[39mmemo,\n\u001b[0;32m    890\u001b[0m         print_node_on_error\u001b[38;5;241m=\u001b[39m\u001b[38;5;28mself\u001b[39m\u001b[38;5;241m.\u001b[39mrec_eval_print_node_on_error,\n\u001b[0;32m    891\u001b[0m     )\n\u001b[1;32m--> 892\u001b[0m     rval \u001b[38;5;241m=\u001b[39m \u001b[38;5;28;43mself\u001b[39;49m\u001b[38;5;241;43m.\u001b[39;49m\u001b[43mfn\u001b[49m\u001b[43m(\u001b[49m\u001b[43mpyll_rval\u001b[49m\u001b[43m)\u001b[49m\n\u001b[0;32m    894\u001b[0m \u001b[38;5;28;01mif\u001b[39;00m \u001b[38;5;28misinstance\u001b[39m(rval, (\u001b[38;5;28mfloat\u001b[39m, \u001b[38;5;28mint\u001b[39m, np\u001b[38;5;241m.\u001b[39mnumber)):\n\u001b[0;32m    895\u001b[0m     dict_rval \u001b[38;5;241m=\u001b[39m {\u001b[38;5;124m\"\u001b[39m\u001b[38;5;124mloss\u001b[39m\u001b[38;5;124m\"\u001b[39m: \u001b[38;5;28mfloat\u001b[39m(rval), \u001b[38;5;124m\"\u001b[39m\u001b[38;5;124mstatus\u001b[39m\u001b[38;5;124m\"\u001b[39m: STATUS_OK}\n",
      "Cell \u001b[1;32mIn[56], line 34\u001b[0m, in \u001b[0;36mhyperopt_xgb\u001b[1;34m(space, cv, X, y, random_state)\u001b[0m\n\u001b[0;32m     31\u001b[0m model \u001b[38;5;241m=\u001b[39m XGBRegressor(\u001b[38;5;241m*\u001b[39m\u001b[38;5;241m*\u001b[39mparams)\n\u001b[0;32m     33\u001b[0m \u001b[38;5;66;03m# Оцениваем модель с использованием кросс-валидации\u001b[39;00m\n\u001b[1;32m---> 34\u001b[0m scores \u001b[38;5;241m=\u001b[39m \u001b[43mcross_val_score\u001b[49m\u001b[43m(\u001b[49m\u001b[43mmodel\u001b[49m\u001b[43m,\u001b[49m\u001b[43m \u001b[49m\u001b[43mX\u001b[49m\u001b[43m,\u001b[49m\u001b[43m \u001b[49m\u001b[43my\u001b[49m\u001b[43m,\u001b[49m\u001b[43m \u001b[49m\u001b[43mcv\u001b[49m\u001b[38;5;241;43m=\u001b[39;49m\u001b[43mcv\u001b[49m\u001b[43m,\u001b[49m\u001b[43m \u001b[49m\u001b[43mscoring\u001b[49m\u001b[38;5;241;43m=\u001b[39;49m\u001b[38;5;124;43m'\u001b[39;49m\u001b[38;5;124;43mneg_root_mean_squared_error\u001b[39;49m\u001b[38;5;124;43m'\u001b[39;49m\u001b[43m)\u001b[49m\n\u001b[0;32m     36\u001b[0m \u001b[38;5;66;03m# Возвращаем отрицательное значение среднего RMSE для оптимизации\u001b[39;00m\n\u001b[0;32m     37\u001b[0m \u001b[38;5;28;01mreturn\u001b[39;00m \u001b[38;5;241m-\u001b[39mscores\u001b[38;5;241m.\u001b[39mmean()\n",
      "File \u001b[1;32m~\\AppData\\Roaming\\Python\\Python312\\site-packages\\sklearn\\utils\\_param_validation.py:213\u001b[0m, in \u001b[0;36mvalidate_params.<locals>.decorator.<locals>.wrapper\u001b[1;34m(*args, **kwargs)\u001b[0m\n\u001b[0;32m    207\u001b[0m \u001b[38;5;28;01mtry\u001b[39;00m:\n\u001b[0;32m    208\u001b[0m     \u001b[38;5;28;01mwith\u001b[39;00m config_context(\n\u001b[0;32m    209\u001b[0m         skip_parameter_validation\u001b[38;5;241m=\u001b[39m(\n\u001b[0;32m    210\u001b[0m             prefer_skip_nested_validation \u001b[38;5;129;01mor\u001b[39;00m global_skip_validation\n\u001b[0;32m    211\u001b[0m         )\n\u001b[0;32m    212\u001b[0m     ):\n\u001b[1;32m--> 213\u001b[0m         \u001b[38;5;28;01mreturn\u001b[39;00m \u001b[43mfunc\u001b[49m\u001b[43m(\u001b[49m\u001b[38;5;241;43m*\u001b[39;49m\u001b[43margs\u001b[49m\u001b[43m,\u001b[49m\u001b[43m \u001b[49m\u001b[38;5;241;43m*\u001b[39;49m\u001b[38;5;241;43m*\u001b[39;49m\u001b[43mkwargs\u001b[49m\u001b[43m)\u001b[49m\n\u001b[0;32m    214\u001b[0m \u001b[38;5;28;01mexcept\u001b[39;00m InvalidParameterError \u001b[38;5;28;01mas\u001b[39;00m e:\n\u001b[0;32m    215\u001b[0m     \u001b[38;5;66;03m# When the function is just a wrapper around an estimator, we allow\u001b[39;00m\n\u001b[0;32m    216\u001b[0m     \u001b[38;5;66;03m# the function to delegate validation to the estimator, but we replace\u001b[39;00m\n\u001b[0;32m    217\u001b[0m     \u001b[38;5;66;03m# the name of the estimator by the name of the function in the error\u001b[39;00m\n\u001b[0;32m    218\u001b[0m     \u001b[38;5;66;03m# message to avoid confusion.\u001b[39;00m\n\u001b[0;32m    219\u001b[0m     msg \u001b[38;5;241m=\u001b[39m re\u001b[38;5;241m.\u001b[39msub(\n\u001b[0;32m    220\u001b[0m         \u001b[38;5;124mr\u001b[39m\u001b[38;5;124m\"\u001b[39m\u001b[38;5;124mparameter of \u001b[39m\u001b[38;5;124m\\\u001b[39m\u001b[38;5;124mw+ must be\u001b[39m\u001b[38;5;124m\"\u001b[39m,\n\u001b[0;32m    221\u001b[0m         \u001b[38;5;124mf\u001b[39m\u001b[38;5;124m\"\u001b[39m\u001b[38;5;124mparameter of \u001b[39m\u001b[38;5;132;01m{\u001b[39;00mfunc\u001b[38;5;241m.\u001b[39m\u001b[38;5;18m__qualname__\u001b[39m\u001b[38;5;132;01m}\u001b[39;00m\u001b[38;5;124m must be\u001b[39m\u001b[38;5;124m\"\u001b[39m,\n\u001b[0;32m    222\u001b[0m         \u001b[38;5;28mstr\u001b[39m(e),\n\u001b[0;32m    223\u001b[0m     )\n",
      "File \u001b[1;32m~\\AppData\\Roaming\\Python\\Python312\\site-packages\\sklearn\\model_selection\\_validation.py:712\u001b[0m, in \u001b[0;36mcross_val_score\u001b[1;34m(estimator, X, y, groups, scoring, cv, n_jobs, verbose, fit_params, params, pre_dispatch, error_score)\u001b[0m\n\u001b[0;32m    709\u001b[0m \u001b[38;5;66;03m# To ensure multimetric format is not supported\u001b[39;00m\n\u001b[0;32m    710\u001b[0m scorer \u001b[38;5;241m=\u001b[39m check_scoring(estimator, scoring\u001b[38;5;241m=\u001b[39mscoring)\n\u001b[1;32m--> 712\u001b[0m cv_results \u001b[38;5;241m=\u001b[39m \u001b[43mcross_validate\u001b[49m\u001b[43m(\u001b[49m\n\u001b[0;32m    713\u001b[0m \u001b[43m    \u001b[49m\u001b[43mestimator\u001b[49m\u001b[38;5;241;43m=\u001b[39;49m\u001b[43mestimator\u001b[49m\u001b[43m,\u001b[49m\n\u001b[0;32m    714\u001b[0m \u001b[43m    \u001b[49m\u001b[43mX\u001b[49m\u001b[38;5;241;43m=\u001b[39;49m\u001b[43mX\u001b[49m\u001b[43m,\u001b[49m\n\u001b[0;32m    715\u001b[0m \u001b[43m    \u001b[49m\u001b[43my\u001b[49m\u001b[38;5;241;43m=\u001b[39;49m\u001b[43my\u001b[49m\u001b[43m,\u001b[49m\n\u001b[0;32m    716\u001b[0m \u001b[43m    \u001b[49m\u001b[43mgroups\u001b[49m\u001b[38;5;241;43m=\u001b[39;49m\u001b[43mgroups\u001b[49m\u001b[43m,\u001b[49m\n\u001b[0;32m    717\u001b[0m \u001b[43m    \u001b[49m\u001b[43mscoring\u001b[49m\u001b[38;5;241;43m=\u001b[39;49m\u001b[43m{\u001b[49m\u001b[38;5;124;43m\"\u001b[39;49m\u001b[38;5;124;43mscore\u001b[39;49m\u001b[38;5;124;43m\"\u001b[39;49m\u001b[43m:\u001b[49m\u001b[43m \u001b[49m\u001b[43mscorer\u001b[49m\u001b[43m}\u001b[49m\u001b[43m,\u001b[49m\n\u001b[0;32m    718\u001b[0m \u001b[43m    \u001b[49m\u001b[43mcv\u001b[49m\u001b[38;5;241;43m=\u001b[39;49m\u001b[43mcv\u001b[49m\u001b[43m,\u001b[49m\n\u001b[0;32m    719\u001b[0m \u001b[43m    \u001b[49m\u001b[43mn_jobs\u001b[49m\u001b[38;5;241;43m=\u001b[39;49m\u001b[43mn_jobs\u001b[49m\u001b[43m,\u001b[49m\n\u001b[0;32m    720\u001b[0m \u001b[43m    \u001b[49m\u001b[43mverbose\u001b[49m\u001b[38;5;241;43m=\u001b[39;49m\u001b[43mverbose\u001b[49m\u001b[43m,\u001b[49m\n\u001b[0;32m    721\u001b[0m \u001b[43m    \u001b[49m\u001b[43mfit_params\u001b[49m\u001b[38;5;241;43m=\u001b[39;49m\u001b[43mfit_params\u001b[49m\u001b[43m,\u001b[49m\n\u001b[0;32m    722\u001b[0m \u001b[43m    \u001b[49m\u001b[43mparams\u001b[49m\u001b[38;5;241;43m=\u001b[39;49m\u001b[43mparams\u001b[49m\u001b[43m,\u001b[49m\n\u001b[0;32m    723\u001b[0m \u001b[43m    \u001b[49m\u001b[43mpre_dispatch\u001b[49m\u001b[38;5;241;43m=\u001b[39;49m\u001b[43mpre_dispatch\u001b[49m\u001b[43m,\u001b[49m\n\u001b[0;32m    724\u001b[0m \u001b[43m    \u001b[49m\u001b[43merror_score\u001b[49m\u001b[38;5;241;43m=\u001b[39;49m\u001b[43merror_score\u001b[49m\u001b[43m,\u001b[49m\n\u001b[0;32m    725\u001b[0m \u001b[43m\u001b[49m\u001b[43m)\u001b[49m\n\u001b[0;32m    726\u001b[0m \u001b[38;5;28;01mreturn\u001b[39;00m cv_results[\u001b[38;5;124m\"\u001b[39m\u001b[38;5;124mtest_score\u001b[39m\u001b[38;5;124m\"\u001b[39m]\n",
      "File \u001b[1;32m~\\AppData\\Roaming\\Python\\Python312\\site-packages\\sklearn\\utils\\_param_validation.py:213\u001b[0m, in \u001b[0;36mvalidate_params.<locals>.decorator.<locals>.wrapper\u001b[1;34m(*args, **kwargs)\u001b[0m\n\u001b[0;32m    207\u001b[0m \u001b[38;5;28;01mtry\u001b[39;00m:\n\u001b[0;32m    208\u001b[0m     \u001b[38;5;28;01mwith\u001b[39;00m config_context(\n\u001b[0;32m    209\u001b[0m         skip_parameter_validation\u001b[38;5;241m=\u001b[39m(\n\u001b[0;32m    210\u001b[0m             prefer_skip_nested_validation \u001b[38;5;129;01mor\u001b[39;00m global_skip_validation\n\u001b[0;32m    211\u001b[0m         )\n\u001b[0;32m    212\u001b[0m     ):\n\u001b[1;32m--> 213\u001b[0m         \u001b[38;5;28;01mreturn\u001b[39;00m \u001b[43mfunc\u001b[49m\u001b[43m(\u001b[49m\u001b[38;5;241;43m*\u001b[39;49m\u001b[43margs\u001b[49m\u001b[43m,\u001b[49m\u001b[43m \u001b[49m\u001b[38;5;241;43m*\u001b[39;49m\u001b[38;5;241;43m*\u001b[39;49m\u001b[43mkwargs\u001b[49m\u001b[43m)\u001b[49m\n\u001b[0;32m    214\u001b[0m \u001b[38;5;28;01mexcept\u001b[39;00m InvalidParameterError \u001b[38;5;28;01mas\u001b[39;00m e:\n\u001b[0;32m    215\u001b[0m     \u001b[38;5;66;03m# When the function is just a wrapper around an estimator, we allow\u001b[39;00m\n\u001b[0;32m    216\u001b[0m     \u001b[38;5;66;03m# the function to delegate validation to the estimator, but we replace\u001b[39;00m\n\u001b[0;32m    217\u001b[0m     \u001b[38;5;66;03m# the name of the estimator by the name of the function in the error\u001b[39;00m\n\u001b[0;32m    218\u001b[0m     \u001b[38;5;66;03m# message to avoid confusion.\u001b[39;00m\n\u001b[0;32m    219\u001b[0m     msg \u001b[38;5;241m=\u001b[39m re\u001b[38;5;241m.\u001b[39msub(\n\u001b[0;32m    220\u001b[0m         \u001b[38;5;124mr\u001b[39m\u001b[38;5;124m\"\u001b[39m\u001b[38;5;124mparameter of \u001b[39m\u001b[38;5;124m\\\u001b[39m\u001b[38;5;124mw+ must be\u001b[39m\u001b[38;5;124m\"\u001b[39m,\n\u001b[0;32m    221\u001b[0m         \u001b[38;5;124mf\u001b[39m\u001b[38;5;124m\"\u001b[39m\u001b[38;5;124mparameter of \u001b[39m\u001b[38;5;132;01m{\u001b[39;00mfunc\u001b[38;5;241m.\u001b[39m\u001b[38;5;18m__qualname__\u001b[39m\u001b[38;5;132;01m}\u001b[39;00m\u001b[38;5;124m must be\u001b[39m\u001b[38;5;124m\"\u001b[39m,\n\u001b[0;32m    222\u001b[0m         \u001b[38;5;28mstr\u001b[39m(e),\n\u001b[0;32m    223\u001b[0m     )\n",
      "File \u001b[1;32m~\\AppData\\Roaming\\Python\\Python312\\site-packages\\sklearn\\model_selection\\_validation.py:423\u001b[0m, in \u001b[0;36mcross_validate\u001b[1;34m(estimator, X, y, groups, scoring, cv, n_jobs, verbose, fit_params, params, pre_dispatch, return_train_score, return_estimator, return_indices, error_score)\u001b[0m\n\u001b[0;32m    420\u001b[0m \u001b[38;5;66;03m# We clone the estimator to make sure that all the folds are\u001b[39;00m\n\u001b[0;32m    421\u001b[0m \u001b[38;5;66;03m# independent, and that it is pickle-able.\u001b[39;00m\n\u001b[0;32m    422\u001b[0m parallel \u001b[38;5;241m=\u001b[39m Parallel(n_jobs\u001b[38;5;241m=\u001b[39mn_jobs, verbose\u001b[38;5;241m=\u001b[39mverbose, pre_dispatch\u001b[38;5;241m=\u001b[39mpre_dispatch)\n\u001b[1;32m--> 423\u001b[0m results \u001b[38;5;241m=\u001b[39m \u001b[43mparallel\u001b[49m\u001b[43m(\u001b[49m\n\u001b[0;32m    424\u001b[0m \u001b[43m    \u001b[49m\u001b[43mdelayed\u001b[49m\u001b[43m(\u001b[49m\u001b[43m_fit_and_score\u001b[49m\u001b[43m)\u001b[49m\u001b[43m(\u001b[49m\n\u001b[0;32m    425\u001b[0m \u001b[43m        \u001b[49m\u001b[43mclone\u001b[49m\u001b[43m(\u001b[49m\u001b[43mestimator\u001b[49m\u001b[43m)\u001b[49m\u001b[43m,\u001b[49m\n\u001b[0;32m    426\u001b[0m \u001b[43m        \u001b[49m\u001b[43mX\u001b[49m\u001b[43m,\u001b[49m\n\u001b[0;32m    427\u001b[0m \u001b[43m        \u001b[49m\u001b[43my\u001b[49m\u001b[43m,\u001b[49m\n\u001b[0;32m    428\u001b[0m \u001b[43m        \u001b[49m\u001b[43mscorer\u001b[49m\u001b[38;5;241;43m=\u001b[39;49m\u001b[43mscorers\u001b[49m\u001b[43m,\u001b[49m\n\u001b[0;32m    429\u001b[0m \u001b[43m        \u001b[49m\u001b[43mtrain\u001b[49m\u001b[38;5;241;43m=\u001b[39;49m\u001b[43mtrain\u001b[49m\u001b[43m,\u001b[49m\n\u001b[0;32m    430\u001b[0m \u001b[43m        \u001b[49m\u001b[43mtest\u001b[49m\u001b[38;5;241;43m=\u001b[39;49m\u001b[43mtest\u001b[49m\u001b[43m,\u001b[49m\n\u001b[0;32m    431\u001b[0m \u001b[43m        \u001b[49m\u001b[43mverbose\u001b[49m\u001b[38;5;241;43m=\u001b[39;49m\u001b[43mverbose\u001b[49m\u001b[43m,\u001b[49m\n\u001b[0;32m    432\u001b[0m \u001b[43m        \u001b[49m\u001b[43mparameters\u001b[49m\u001b[38;5;241;43m=\u001b[39;49m\u001b[38;5;28;43;01mNone\u001b[39;49;00m\u001b[43m,\u001b[49m\n\u001b[0;32m    433\u001b[0m \u001b[43m        \u001b[49m\u001b[43mfit_params\u001b[49m\u001b[38;5;241;43m=\u001b[39;49m\u001b[43mrouted_params\u001b[49m\u001b[38;5;241;43m.\u001b[39;49m\u001b[43mestimator\u001b[49m\u001b[38;5;241;43m.\u001b[39;49m\u001b[43mfit\u001b[49m\u001b[43m,\u001b[49m\n\u001b[0;32m    434\u001b[0m \u001b[43m        \u001b[49m\u001b[43mscore_params\u001b[49m\u001b[38;5;241;43m=\u001b[39;49m\u001b[43mrouted_params\u001b[49m\u001b[38;5;241;43m.\u001b[39;49m\u001b[43mscorer\u001b[49m\u001b[38;5;241;43m.\u001b[39;49m\u001b[43mscore\u001b[49m\u001b[43m,\u001b[49m\n\u001b[0;32m    435\u001b[0m \u001b[43m        \u001b[49m\u001b[43mreturn_train_score\u001b[49m\u001b[38;5;241;43m=\u001b[39;49m\u001b[43mreturn_train_score\u001b[49m\u001b[43m,\u001b[49m\n\u001b[0;32m    436\u001b[0m \u001b[43m        \u001b[49m\u001b[43mreturn_times\u001b[49m\u001b[38;5;241;43m=\u001b[39;49m\u001b[38;5;28;43;01mTrue\u001b[39;49;00m\u001b[43m,\u001b[49m\n\u001b[0;32m    437\u001b[0m \u001b[43m        \u001b[49m\u001b[43mreturn_estimator\u001b[49m\u001b[38;5;241;43m=\u001b[39;49m\u001b[43mreturn_estimator\u001b[49m\u001b[43m,\u001b[49m\n\u001b[0;32m    438\u001b[0m \u001b[43m        \u001b[49m\u001b[43merror_score\u001b[49m\u001b[38;5;241;43m=\u001b[39;49m\u001b[43merror_score\u001b[49m\u001b[43m,\u001b[49m\n\u001b[0;32m    439\u001b[0m \u001b[43m    \u001b[49m\u001b[43m)\u001b[49m\n\u001b[0;32m    440\u001b[0m \u001b[43m    \u001b[49m\u001b[38;5;28;43;01mfor\u001b[39;49;00m\u001b[43m \u001b[49m\u001b[43mtrain\u001b[49m\u001b[43m,\u001b[49m\u001b[43m \u001b[49m\u001b[43mtest\u001b[49m\u001b[43m \u001b[49m\u001b[38;5;129;43;01min\u001b[39;49;00m\u001b[43m \u001b[49m\u001b[43mindices\u001b[49m\n\u001b[0;32m    441\u001b[0m \u001b[43m\u001b[49m\u001b[43m)\u001b[49m\n\u001b[0;32m    443\u001b[0m _warn_or_raise_about_fit_failures(results, error_score)\n\u001b[0;32m    445\u001b[0m \u001b[38;5;66;03m# For callable scoring, the return type is only know after calling. If the\u001b[39;00m\n\u001b[0;32m    446\u001b[0m \u001b[38;5;66;03m# return type is a dictionary, the error scores can now be inserted with\u001b[39;00m\n\u001b[0;32m    447\u001b[0m \u001b[38;5;66;03m# the correct key.\u001b[39;00m\n",
      "File \u001b[1;32m~\\AppData\\Roaming\\Python\\Python312\\site-packages\\sklearn\\utils\\parallel.py:74\u001b[0m, in \u001b[0;36mParallel.__call__\u001b[1;34m(self, iterable)\u001b[0m\n\u001b[0;32m     69\u001b[0m config \u001b[38;5;241m=\u001b[39m get_config()\n\u001b[0;32m     70\u001b[0m iterable_with_config \u001b[38;5;241m=\u001b[39m (\n\u001b[0;32m     71\u001b[0m     (_with_config(delayed_func, config), args, kwargs)\n\u001b[0;32m     72\u001b[0m     \u001b[38;5;28;01mfor\u001b[39;00m delayed_func, args, kwargs \u001b[38;5;129;01min\u001b[39;00m iterable\n\u001b[0;32m     73\u001b[0m )\n\u001b[1;32m---> 74\u001b[0m \u001b[38;5;28;01mreturn\u001b[39;00m \u001b[38;5;28;43msuper\u001b[39;49m\u001b[43m(\u001b[49m\u001b[43m)\u001b[49m\u001b[38;5;241;43m.\u001b[39;49m\u001b[38;5;21;43m__call__\u001b[39;49m\u001b[43m(\u001b[49m\u001b[43miterable_with_config\u001b[49m\u001b[43m)\u001b[49m\n",
      "File \u001b[1;32m~\\AppData\\Roaming\\Python\\Python312\\site-packages\\joblib\\parallel.py:1918\u001b[0m, in \u001b[0;36mParallel.__call__\u001b[1;34m(self, iterable)\u001b[0m\n\u001b[0;32m   1916\u001b[0m     output \u001b[38;5;241m=\u001b[39m \u001b[38;5;28mself\u001b[39m\u001b[38;5;241m.\u001b[39m_get_sequential_output(iterable)\n\u001b[0;32m   1917\u001b[0m     \u001b[38;5;28mnext\u001b[39m(output)\n\u001b[1;32m-> 1918\u001b[0m     \u001b[38;5;28;01mreturn\u001b[39;00m output \u001b[38;5;28;01mif\u001b[39;00m \u001b[38;5;28mself\u001b[39m\u001b[38;5;241m.\u001b[39mreturn_generator \u001b[38;5;28;01melse\u001b[39;00m \u001b[38;5;28;43mlist\u001b[39;49m\u001b[43m(\u001b[49m\u001b[43moutput\u001b[49m\u001b[43m)\u001b[49m\n\u001b[0;32m   1920\u001b[0m \u001b[38;5;66;03m# Let's create an ID that uniquely identifies the current call. If the\u001b[39;00m\n\u001b[0;32m   1921\u001b[0m \u001b[38;5;66;03m# call is interrupted early and that the same instance is immediately\u001b[39;00m\n\u001b[0;32m   1922\u001b[0m \u001b[38;5;66;03m# re-used, this id will be used to prevent workers that were\u001b[39;00m\n\u001b[0;32m   1923\u001b[0m \u001b[38;5;66;03m# concurrently finalizing a task from the previous call to run the\u001b[39;00m\n\u001b[0;32m   1924\u001b[0m \u001b[38;5;66;03m# callback.\u001b[39;00m\n\u001b[0;32m   1925\u001b[0m \u001b[38;5;28;01mwith\u001b[39;00m \u001b[38;5;28mself\u001b[39m\u001b[38;5;241m.\u001b[39m_lock:\n",
      "File \u001b[1;32m~\\AppData\\Roaming\\Python\\Python312\\site-packages\\joblib\\parallel.py:1847\u001b[0m, in \u001b[0;36mParallel._get_sequential_output\u001b[1;34m(self, iterable)\u001b[0m\n\u001b[0;32m   1845\u001b[0m \u001b[38;5;28mself\u001b[39m\u001b[38;5;241m.\u001b[39mn_dispatched_batches \u001b[38;5;241m+\u001b[39m\u001b[38;5;241m=\u001b[39m \u001b[38;5;241m1\u001b[39m\n\u001b[0;32m   1846\u001b[0m \u001b[38;5;28mself\u001b[39m\u001b[38;5;241m.\u001b[39mn_dispatched_tasks \u001b[38;5;241m+\u001b[39m\u001b[38;5;241m=\u001b[39m \u001b[38;5;241m1\u001b[39m\n\u001b[1;32m-> 1847\u001b[0m res \u001b[38;5;241m=\u001b[39m \u001b[43mfunc\u001b[49m\u001b[43m(\u001b[49m\u001b[38;5;241;43m*\u001b[39;49m\u001b[43margs\u001b[49m\u001b[43m,\u001b[49m\u001b[43m \u001b[49m\u001b[38;5;241;43m*\u001b[39;49m\u001b[38;5;241;43m*\u001b[39;49m\u001b[43mkwargs\u001b[49m\u001b[43m)\u001b[49m\n\u001b[0;32m   1848\u001b[0m \u001b[38;5;28mself\u001b[39m\u001b[38;5;241m.\u001b[39mn_completed_tasks \u001b[38;5;241m+\u001b[39m\u001b[38;5;241m=\u001b[39m \u001b[38;5;241m1\u001b[39m\n\u001b[0;32m   1849\u001b[0m \u001b[38;5;28mself\u001b[39m\u001b[38;5;241m.\u001b[39mprint_progress()\n",
      "File \u001b[1;32m~\\AppData\\Roaming\\Python\\Python312\\site-packages\\sklearn\\utils\\parallel.py:136\u001b[0m, in \u001b[0;36m_FuncWrapper.__call__\u001b[1;34m(self, *args, **kwargs)\u001b[0m\n\u001b[0;32m    134\u001b[0m     config \u001b[38;5;241m=\u001b[39m {}\n\u001b[0;32m    135\u001b[0m \u001b[38;5;28;01mwith\u001b[39;00m config_context(\u001b[38;5;241m*\u001b[39m\u001b[38;5;241m*\u001b[39mconfig):\n\u001b[1;32m--> 136\u001b[0m     \u001b[38;5;28;01mreturn\u001b[39;00m \u001b[38;5;28;43mself\u001b[39;49m\u001b[38;5;241;43m.\u001b[39;49m\u001b[43mfunction\u001b[49m\u001b[43m(\u001b[49m\u001b[38;5;241;43m*\u001b[39;49m\u001b[43margs\u001b[49m\u001b[43m,\u001b[49m\u001b[43m \u001b[49m\u001b[38;5;241;43m*\u001b[39;49m\u001b[38;5;241;43m*\u001b[39;49m\u001b[43mkwargs\u001b[49m\u001b[43m)\u001b[49m\n",
      "File \u001b[1;32m~\\AppData\\Roaming\\Python\\Python312\\site-packages\\sklearn\\model_selection\\_validation.py:888\u001b[0m, in \u001b[0;36m_fit_and_score\u001b[1;34m(estimator, X, y, scorer, train, test, verbose, parameters, fit_params, score_params, return_train_score, return_parameters, return_n_test_samples, return_times, return_estimator, split_progress, candidate_progress, error_score)\u001b[0m\n\u001b[0;32m    886\u001b[0m         estimator\u001b[38;5;241m.\u001b[39mfit(X_train, \u001b[38;5;241m*\u001b[39m\u001b[38;5;241m*\u001b[39mfit_params)\n\u001b[0;32m    887\u001b[0m     \u001b[38;5;28;01melse\u001b[39;00m:\n\u001b[1;32m--> 888\u001b[0m         \u001b[43mestimator\u001b[49m\u001b[38;5;241;43m.\u001b[39;49m\u001b[43mfit\u001b[49m\u001b[43m(\u001b[49m\u001b[43mX_train\u001b[49m\u001b[43m,\u001b[49m\u001b[43m \u001b[49m\u001b[43my_train\u001b[49m\u001b[43m,\u001b[49m\u001b[43m \u001b[49m\u001b[38;5;241;43m*\u001b[39;49m\u001b[38;5;241;43m*\u001b[39;49m\u001b[43mfit_params\u001b[49m\u001b[43m)\u001b[49m\n\u001b[0;32m    890\u001b[0m \u001b[38;5;28;01mexcept\u001b[39;00m \u001b[38;5;167;01mException\u001b[39;00m:\n\u001b[0;32m    891\u001b[0m     \u001b[38;5;66;03m# Note fit time as time until error\u001b[39;00m\n\u001b[0;32m    892\u001b[0m     fit_time \u001b[38;5;241m=\u001b[39m time\u001b[38;5;241m.\u001b[39mtime() \u001b[38;5;241m-\u001b[39m start_time\n",
      "File \u001b[1;32m~\\AppData\\Roaming\\Python\\Python312\\site-packages\\xgboost\\core.py:729\u001b[0m, in \u001b[0;36mrequire_keyword_args.<locals>.throw_if.<locals>.inner_f\u001b[1;34m(*args, **kwargs)\u001b[0m\n\u001b[0;32m    727\u001b[0m \u001b[38;5;28;01mfor\u001b[39;00m k, arg \u001b[38;5;129;01min\u001b[39;00m \u001b[38;5;28mzip\u001b[39m(sig\u001b[38;5;241m.\u001b[39mparameters, args):\n\u001b[0;32m    728\u001b[0m     kwargs[k] \u001b[38;5;241m=\u001b[39m arg\n\u001b[1;32m--> 729\u001b[0m \u001b[38;5;28;01mreturn\u001b[39;00m \u001b[43mfunc\u001b[49m\u001b[43m(\u001b[49m\u001b[38;5;241;43m*\u001b[39;49m\u001b[38;5;241;43m*\u001b[39;49m\u001b[43mkwargs\u001b[49m\u001b[43m)\u001b[49m\n",
      "File \u001b[1;32m~\\AppData\\Roaming\\Python\\Python312\\site-packages\\xgboost\\sklearn.py:1247\u001b[0m, in \u001b[0;36mXGBModel.fit\u001b[1;34m(self, X, y, sample_weight, base_margin, eval_set, verbose, xgb_model, sample_weight_eval_set, base_margin_eval_set, feature_weights)\u001b[0m\n\u001b[0;32m   1244\u001b[0m \u001b[38;5;28;01melse\u001b[39;00m:\n\u001b[0;32m   1245\u001b[0m     obj \u001b[38;5;241m=\u001b[39m \u001b[38;5;28;01mNone\u001b[39;00m\n\u001b[1;32m-> 1247\u001b[0m \u001b[38;5;28mself\u001b[39m\u001b[38;5;241m.\u001b[39m_Booster \u001b[38;5;241m=\u001b[39m \u001b[43mtrain\u001b[49m\u001b[43m(\u001b[49m\n\u001b[0;32m   1248\u001b[0m \u001b[43m    \u001b[49m\u001b[43mparams\u001b[49m\u001b[43m,\u001b[49m\n\u001b[0;32m   1249\u001b[0m \u001b[43m    \u001b[49m\u001b[43mtrain_dmatrix\u001b[49m\u001b[43m,\u001b[49m\n\u001b[0;32m   1250\u001b[0m \u001b[43m    \u001b[49m\u001b[38;5;28;43mself\u001b[39;49m\u001b[38;5;241;43m.\u001b[39;49m\u001b[43mget_num_boosting_rounds\u001b[49m\u001b[43m(\u001b[49m\u001b[43m)\u001b[49m\u001b[43m,\u001b[49m\n\u001b[0;32m   1251\u001b[0m \u001b[43m    \u001b[49m\u001b[43mevals\u001b[49m\u001b[38;5;241;43m=\u001b[39;49m\u001b[43mevals\u001b[49m\u001b[43m,\u001b[49m\n\u001b[0;32m   1252\u001b[0m \u001b[43m    \u001b[49m\u001b[43mearly_stopping_rounds\u001b[49m\u001b[38;5;241;43m=\u001b[39;49m\u001b[38;5;28;43mself\u001b[39;49m\u001b[38;5;241;43m.\u001b[39;49m\u001b[43mearly_stopping_rounds\u001b[49m\u001b[43m,\u001b[49m\n\u001b[0;32m   1253\u001b[0m \u001b[43m    \u001b[49m\u001b[43mevals_result\u001b[49m\u001b[38;5;241;43m=\u001b[39;49m\u001b[43mevals_result\u001b[49m\u001b[43m,\u001b[49m\n\u001b[0;32m   1254\u001b[0m \u001b[43m    \u001b[49m\u001b[43mobj\u001b[49m\u001b[38;5;241;43m=\u001b[39;49m\u001b[43mobj\u001b[49m\u001b[43m,\u001b[49m\n\u001b[0;32m   1255\u001b[0m \u001b[43m    \u001b[49m\u001b[43mcustom_metric\u001b[49m\u001b[38;5;241;43m=\u001b[39;49m\u001b[43mmetric\u001b[49m\u001b[43m,\u001b[49m\n\u001b[0;32m   1256\u001b[0m \u001b[43m    \u001b[49m\u001b[43mverbose_eval\u001b[49m\u001b[38;5;241;43m=\u001b[39;49m\u001b[43mverbose\u001b[49m\u001b[43m,\u001b[49m\n\u001b[0;32m   1257\u001b[0m \u001b[43m    \u001b[49m\u001b[43mxgb_model\u001b[49m\u001b[38;5;241;43m=\u001b[39;49m\u001b[43mmodel\u001b[49m\u001b[43m,\u001b[49m\n\u001b[0;32m   1258\u001b[0m \u001b[43m    \u001b[49m\u001b[43mcallbacks\u001b[49m\u001b[38;5;241;43m=\u001b[39;49m\u001b[38;5;28;43mself\u001b[39;49m\u001b[38;5;241;43m.\u001b[39;49m\u001b[43mcallbacks\u001b[49m\u001b[43m,\u001b[49m\n\u001b[0;32m   1259\u001b[0m \u001b[43m\u001b[49m\u001b[43m)\u001b[49m\n\u001b[0;32m   1261\u001b[0m \u001b[38;5;28mself\u001b[39m\u001b[38;5;241m.\u001b[39m_set_evaluation_result(evals_result)\n\u001b[0;32m   1262\u001b[0m \u001b[38;5;28;01mreturn\u001b[39;00m \u001b[38;5;28mself\u001b[39m\n",
      "File \u001b[1;32m~\\AppData\\Roaming\\Python\\Python312\\site-packages\\xgboost\\core.py:729\u001b[0m, in \u001b[0;36mrequire_keyword_args.<locals>.throw_if.<locals>.inner_f\u001b[1;34m(*args, **kwargs)\u001b[0m\n\u001b[0;32m    727\u001b[0m \u001b[38;5;28;01mfor\u001b[39;00m k, arg \u001b[38;5;129;01min\u001b[39;00m \u001b[38;5;28mzip\u001b[39m(sig\u001b[38;5;241m.\u001b[39mparameters, args):\n\u001b[0;32m    728\u001b[0m     kwargs[k] \u001b[38;5;241m=\u001b[39m arg\n\u001b[1;32m--> 729\u001b[0m \u001b[38;5;28;01mreturn\u001b[39;00m \u001b[43mfunc\u001b[49m\u001b[43m(\u001b[49m\u001b[38;5;241;43m*\u001b[39;49m\u001b[38;5;241;43m*\u001b[39;49m\u001b[43mkwargs\u001b[49m\u001b[43m)\u001b[49m\n",
      "File \u001b[1;32m~\\AppData\\Roaming\\Python\\Python312\\site-packages\\xgboost\\training.py:183\u001b[0m, in \u001b[0;36mtrain\u001b[1;34m(params, dtrain, num_boost_round, evals, obj, maximize, early_stopping_rounds, evals_result, verbose_eval, xgb_model, callbacks, custom_metric)\u001b[0m\n\u001b[0;32m    181\u001b[0m \u001b[38;5;28;01mif\u001b[39;00m cb_container\u001b[38;5;241m.\u001b[39mbefore_iteration(bst, i, dtrain, evals):\n\u001b[0;32m    182\u001b[0m     \u001b[38;5;28;01mbreak\u001b[39;00m\n\u001b[1;32m--> 183\u001b[0m \u001b[43mbst\u001b[49m\u001b[38;5;241;43m.\u001b[39;49m\u001b[43mupdate\u001b[49m\u001b[43m(\u001b[49m\u001b[43mdtrain\u001b[49m\u001b[43m,\u001b[49m\u001b[43m \u001b[49m\u001b[43miteration\u001b[49m\u001b[38;5;241;43m=\u001b[39;49m\u001b[43mi\u001b[49m\u001b[43m,\u001b[49m\u001b[43m \u001b[49m\u001b[43mfobj\u001b[49m\u001b[38;5;241;43m=\u001b[39;49m\u001b[43mobj\u001b[49m\u001b[43m)\u001b[49m\n\u001b[0;32m    184\u001b[0m \u001b[38;5;28;01mif\u001b[39;00m cb_container\u001b[38;5;241m.\u001b[39mafter_iteration(bst, i, dtrain, evals):\n\u001b[0;32m    185\u001b[0m     \u001b[38;5;28;01mbreak\u001b[39;00m\n",
      "File \u001b[1;32m~\\AppData\\Roaming\\Python\\Python312\\site-packages\\xgboost\\core.py:2247\u001b[0m, in \u001b[0;36mBooster.update\u001b[1;34m(self, dtrain, iteration, fobj)\u001b[0m\n\u001b[0;32m   2243\u001b[0m \u001b[38;5;28mself\u001b[39m\u001b[38;5;241m.\u001b[39m_assign_dmatrix_features(dtrain)\n\u001b[0;32m   2245\u001b[0m \u001b[38;5;28;01mif\u001b[39;00m fobj \u001b[38;5;129;01mis\u001b[39;00m \u001b[38;5;28;01mNone\u001b[39;00m:\n\u001b[0;32m   2246\u001b[0m     _check_call(\n\u001b[1;32m-> 2247\u001b[0m         \u001b[43m_LIB\u001b[49m\u001b[38;5;241;43m.\u001b[39;49m\u001b[43mXGBoosterUpdateOneIter\u001b[49m\u001b[43m(\u001b[49m\n\u001b[0;32m   2248\u001b[0m \u001b[43m            \u001b[49m\u001b[38;5;28;43mself\u001b[39;49m\u001b[38;5;241;43m.\u001b[39;49m\u001b[43mhandle\u001b[49m\u001b[43m,\u001b[49m\u001b[43m \u001b[49m\u001b[43mctypes\u001b[49m\u001b[38;5;241;43m.\u001b[39;49m\u001b[43mc_int\u001b[49m\u001b[43m(\u001b[49m\u001b[43miteration\u001b[49m\u001b[43m)\u001b[49m\u001b[43m,\u001b[49m\u001b[43m \u001b[49m\u001b[43mdtrain\u001b[49m\u001b[38;5;241;43m.\u001b[39;49m\u001b[43mhandle\u001b[49m\n\u001b[0;32m   2249\u001b[0m \u001b[43m        \u001b[49m\u001b[43m)\u001b[49m\n\u001b[0;32m   2250\u001b[0m     )\n\u001b[0;32m   2251\u001b[0m \u001b[38;5;28;01melse\u001b[39;00m:\n\u001b[0;32m   2252\u001b[0m     pred \u001b[38;5;241m=\u001b[39m \u001b[38;5;28mself\u001b[39m\u001b[38;5;241m.\u001b[39mpredict(dtrain, output_margin\u001b[38;5;241m=\u001b[39m\u001b[38;5;28;01mTrue\u001b[39;00m, training\u001b[38;5;241m=\u001b[39m\u001b[38;5;28;01mTrue\u001b[39;00m)\n",
      "\u001b[1;31mKeyboardInterrupt\u001b[0m: "
     ]
    }
   ],
   "source": [
    "from hyperopt import fmin, tpe, hp, Trials\n",
    "from sklearn.model_selection import cross_val_score, KFold\n",
    "from xgboost import XGBRegressor\n",
    "import numpy as np\n",
    "from sklearn import metrics\n",
    "\n",
    "# Пространство поиска гиперпараметров\n",
    "space = {\n",
    "    'n_estimators': hp.quniform('n_estimators', 100, 3000, 100),  # разумное количество деревьев\n",
    "    'learning_rate': hp.loguniform('learning_rate', np.log(0.005), np.log(0.2)),  # скорость обучения\n",
    "    'max_depth': hp.quniform('max_depth', 3, 12, 1),  # глубина деревьев\n",
    "    'subsample': hp.uniform('subsample', 0.6, 1.0),  # часть объектов для обучения каждого дерева\n",
    "    'colsample_bytree': hp.uniform('colsample_bytree', 0.6, 1.0),  # часть признаков для каждого дерева\n",
    "    'reg_lambda': hp.uniform('reg_lambda', 0, 10),  # L2-регуляризация\n",
    "    'reg_alpha': hp.uniform('reg_alpha', 0, 10)  # L1-регуляризация\n",
    "}\n",
    "\n",
    "# Функция оценки модели\n",
    "def hyperopt_xgb(space, cv=5, X=X_train_poly, y=y_train, random_state=random_state):\n",
    "    params = {\n",
    "        'n_estimators': int(space['n_estimators']), \n",
    "        'learning_rate': float(space['learning_rate']), \n",
    "        'max_depth': int(space['max_depth']), \n",
    "        'subsample': float(space['subsample']),\n",
    "        'colsample_bytree': float(space['colsample_bytree']),\n",
    "        'reg_lambda': float(space['reg_lambda']),\n",
    "        'reg_alpha': float(space['reg_alpha']),\n",
    "    }\n",
    "\n",
    "    # Инициализация модели с заданными параметрами\n",
    "    model = XGBRegressor(**params)\n",
    "\n",
    "    # Оцениваем модель с использованием кросс-валидации\n",
    "    scores = cross_val_score(model, X, y, cv=cv, scoring='neg_root_mean_squared_error')\n",
    "    \n",
    "    # Возвращаем отрицательное значение среднего RMSE для оптимизации\n",
    "    return -scores.mean()\n",
    "\n",
    "\n",
    "\n",
    "# Запуск оптимизации\n",
    "trials = Trials()\n",
    "\n",
    "best = fmin(\n",
    "    fn=hyperopt_xgb,\n",
    "    space=space,\n",
    "    algo=tpe.suggest,\n",
    "    max_evals=30,  # можно начать с 30-50\n",
    "    trials=trials,\n",
    "    rstate=np.random.default_rng(42)\n",
    ")\n",
    "\n",
    "print(\"Наилучшие параметры:\")\n",
    "print(best)\n",
    "\n",
    "# Обучение финальной модели с лучшими параметрами\n",
    "model_xgb = XGBRegressor(\n",
    "    n_estimators=int(best['n_estimators']),\n",
    "    learning_rate=float(best['learning_rate']),\n",
    "    max_depth=int(best['max_depth']),\n",
    "    subsample=float(best['subsample']),\n",
    "    colsample_bytree=float(best['colsample_bytree']),\n",
    "    reg_lambda=float(best['reg_lambda']),\n",
    "    reg_alpha=float(best['reg_alpha']),\n",
    "    booster='gbtree',\n",
    "    tree_method='hist',\n",
    "    random_state=42,\n",
    "    n_jobs=-1\n",
    ")\n",
    "\n",
    "model_xgb.fit(X_train_poly, y_train)\n",
    "y_test_pred = model_xgb.predict(X_test_poly)\n",
    "\n",
    "print('RMSE на тесте: {:.4f}'.format(metrics.root_mean_squared_error(y_test, y_test_pred)))\n"
   ]
  },
  {
   "cell_type": "code",
   "execution_count": null,
   "id": "93b81579",
   "metadata": {},
   "outputs": [
    {
     "name": "stdout",
     "output_type": "stream",
     "text": [
      "CPU times: total: 0 ns\n",
      "Wall time: 0 ns\n",
      "  0%|          | 0/20 [00:00<?, ?trial/s, best loss=?]"
     ]
    }
   ],
   "source": [
    "# DEFAULT SHOTGUN\n",
    "\n",
    "space={'n_estimators': hp.quniform('n_estimators', 1000, 20000, 100),\n",
    "       'learning_rate': hp.loguniform('lr_linear', np.log(0.001), np.log(0.1)),\n",
    "       'reg_lambda': hp.uniform('lambda_linear', 0, 10),\n",
    "       'reg_alpha': hp.uniform('alpha_linear', 0, 10),\n",
    "       'feature_selector': hp.choice('feature_selector', ['cyclic', 'shuffle', 'random'])\n",
    "\n",
    "      }\n",
    "\n",
    "def hyperopt_xgb(space, cv=5, X=X_train_poly, y=y_train, random_state=random_state):\n",
    "    # функция получает комбинацию гиперпараметров в \"params\"\n",
    "    params = {'n_estimators': int(space['n_estimators']), \n",
    "              'learning_rate': float(space['learning_rate']), \n",
    "             'reg_lambda': float(space['reg_lambda']),\n",
    "            'reg_alpha': float(space['reg_alpha']),\n",
    "            'feature_selector': (space['feature_selector'])\n",
    "              }\n",
    "  \n",
    "    # используем эту комбинацию для построения модели\n",
    "    model = XGBRegressor(**params, random_state=random_state, booster = 'gblinear', updater='shotgun')\n",
    "\n",
    "    # обучаем модель\n",
    "    model.fit(X, y)\n",
    "    score = cross_val_score(\n",
    "        model, X, y, \n",
    "        cv=cv, \n",
    "        scoring='neg_root_mean_squared_error'  # для регрессии\n",
    "    ).mean()\n",
    "    \n",
    "    \n",
    "    return -score\n",
    "#############################################################\n",
    "%time\n",
    "# начинаем подбор гиперпараметров\n",
    "\n",
    "trials = Trials() # используется для логирования результатов\n",
    "\n",
    "best=fmin(hyperopt_xgb, # наша функция \n",
    "          space=space, # пространство гиперпараметров\n",
    "          algo=tpe.suggest, # алгоритм оптимизации, установлен по умолчанию, задавать необязательно\n",
    "          max_evals=20, # максимальное количество итераций\n",
    "          trials=trials, # логирование результатов\n",
    "          rstate=np.random.default_rng(random_state) # фиксируем для повторяемости результата\n",
    "         )\n",
    "print(\"Наилучшие значения гиперпараметров {}\".format(best))\n",
    "\n",
    "feature_selector_options = ['cyclic', 'shuffle', 'random']\n",
    "selected_selector = feature_selector_options[best['feature_selector']]\n",
    "\n",
    "model_xgb = XGBRegressor(n_estimators=int(best['n_estimators']),\n",
    "                            learning_rate=float(best['learning_rate']),\n",
    "                            reg_lambda = float(best['reg_lambda']),\n",
    "                            reg_alpha = float(best['reg_alpha']),\n",
    "                            # feature_selector = best['feature_selector'],\n",
    "                            feature_selector=selected_selector,\n",
    "                            enable_categorical=True,\n",
    "                            device='cpu', \n",
    "                            random_state=42,\n",
    "                            booster = 'gblinear'\n",
    "                        )\n",
    "\n",
    "\n",
    "model_xgb.fit(X_train_poly, y_train)\n",
    "y_test_pred = model_xgb.predict(X_test_poly)\n",
    "print('RMSE_score на обучающем наборе: {:.2f}'.format(metrics.root_mean_squared_error(y_test, y_test_pred)))\n",
    "# print(\"accuracy на тестовом наборе: {:.2f}\".format(model.score(X_test_scaled, y_test)))\n",
    "# y_test_pred = model_xgb.predict(X_test_poly)\n",
    "\n",
    "\n"
   ]
  },
  {
   "cell_type": "code",
   "execution_count": null,
   "id": "3ad5dbb0",
   "metadata": {},
   "outputs": [],
   "source": [
    "# WITH GREEDY\n",
    "\n",
    "space={'n_estimators': hp.quniform('n_estimators', 1000, 20000, 100),\n",
    "       'learning_rate' : hp.quniform('learning_rate', 0, 1, 0.01),\n",
    "       'reg_lambda': hp.quniform('reg_lambda', 0, 100, 1),\n",
    "       'reg_alpha': hp.quniform('reg_alpha', 0, 100, 1),\n",
    "       'feature_selector': hp.choice('feature_selector', ['random', 'greedy', 'thrifty'])\n",
    "\n",
    "      }\n",
    "\n",
    "def hyperopt_xgb(space, cv=5, X=X_train_poly, y=y_train, random_state=random_state):\n",
    "    # функция получает комбинацию гиперпараметров в \"params\"\n",
    "    params = {'n_estimators': int(space['n_estimators']), \n",
    "              'learning_rate': float(space['learning_rate']), \n",
    "             'reg_lambda': float(space['reg_lambda']),\n",
    "            'reg_alpha': float(space['reg_alpha']),\n",
    "            'feature_selector': (space['feature_selector'])\n",
    "              }\n",
    "  \n",
    "    # используем эту комбинацию для построения модели\n",
    "    model = XGBRegressor(**params, random_state=random_state, booster = 'gblinear', updater = 'coord_descent')\n",
    "\n",
    "    # обучаем модель\n",
    "    model.fit(X, y)\n",
    "    score = cross_val_score(\n",
    "        model, X, y, \n",
    "        cv=cv, \n",
    "        scoring='neg_mean_squared_error'  # для регрессии\n",
    "    ).mean()\n",
    "    \n",
    "    \n",
    "    return -score\n",
    "#############################################################\n",
    "%time\n",
    "# начинаем подбор гиперпараметров\n",
    "\n",
    "trials = Trials() # используется для логирования результатов\n",
    "\n",
    "best_disc=fmin(hyperopt_xgb, # наша функция \n",
    "          space=space, # пространство гиперпараметров\n",
    "          algo=tpe.suggest, # алгоритм оптимизации, установлен по умолчанию, задавать необязательно\n",
    "          max_evals=20, # максимальное количество итераций\n",
    "          trials=trials, # логирование результатов\n",
    "          rstate=np.random.default_rng(random_state) # фиксируем для повторяемости результата\n",
    "         )\n",
    "print(\"Наилучшие значения гиперпараметров {}\".format(best))\n",
    "\n",
    "feature_selector_options = ['random', 'greedy', 'thrifty']\n",
    "selected_selector = feature_selector_options[best['feature_selector']]\n",
    "\n",
    "model_xgb_disc = XGBRegressor(n_estimators=int(best_disc['n_estimators']),\n",
    "                            learning_rate=float(best_disc['learning_rate']),\n",
    "                            reg_lambda = float(best_disc['reg_lambda']),\n",
    "                            reg_alpha = float(best_disc['reg_alpha']),\n",
    "                            feature_selector=selected_selector,\n",
    "                            \n",
    "                            enable_categorical=True,\n",
    "                            device='cpu', \n",
    "                            random_state=42,\n",
    "                            booster = 'gblinear',\n",
    "                            updater = 'coord_descent'\n",
    "                        )\n",
    "\n",
    "\n",
    "model_xgb_disc.fit(X_train_poly, y_train)\n",
    "y_test_pred_disc = model_xgb_disc.predict(X_test_poly)\n",
    "print('RMSE_score на обучающем наборе: {:.2f}'.format(metrics.root_mean_squared_error(y_test, y_test_pred_disc)))\n",
    "# print(\"accuracy на тестовом наборе: {:.2f}\".format(model.score(X_test_scaled, y_test)))\n",
    "# y_test_pred_disc = model_xgb_disc.predict(X_test_poly)\n",
    "\n",
    "\n"
   ]
  },
  {
   "cell_type": "code",
   "execution_count": 51,
   "id": "f315d5fb",
   "metadata": {},
   "outputs": [
    {
     "name": "stdout",
     "output_type": "stream",
     "text": [
      "================================================================================\n",
      "ERROR in rec_eval\n",
      "EXCEPTION <class 'AttributeError'> 'NoneType' object has no attribute 'integers'\n",
      "NODE\n",
      "0 randint\n",
      "1   Literal{2}\n",
      "================================================================================\n"
     ]
    },
    {
     "ename": "AttributeError",
     "evalue": "'NoneType' object has no attribute 'integers'",
     "output_type": "error",
     "traceback": [
      "\u001b[1;31m---------------------------------------------------------------------------\u001b[0m",
      "\u001b[1;31mAttributeError\u001b[0m                            Traceback (most recent call last)",
      "Cell \u001b[1;32mIn[51], line 40\u001b[0m\n\u001b[0;32m     37\u001b[0m     \u001b[38;5;28;01mreturn\u001b[39;00m \u001b[38;5;241m-\u001b[39mscore\n\u001b[0;32m     39\u001b[0m \u001b[38;5;66;03m# После оптимизации:\u001b[39;00m\n\u001b[1;32m---> 40\u001b[0m best_params \u001b[38;5;241m=\u001b[39m \u001b[43mspace_eval\u001b[49m\u001b[43m(\u001b[49m\u001b[43mspace\u001b[49m\u001b[43m,\u001b[49m\u001b[43m \u001b[49m\u001b[43mbest\u001b[49m\u001b[43m)\u001b[49m  \u001b[38;5;66;03m# Автоматически преобразует choice-параметры\u001b[39;00m\n\u001b[0;32m     42\u001b[0m model_xgb \u001b[38;5;241m=\u001b[39m XGBRegressor(\n\u001b[0;32m     43\u001b[0m     \u001b[38;5;241m*\u001b[39m\u001b[38;5;241m*\u001b[39mbest_params,\n\u001b[0;32m     44\u001b[0m     enable_categorical\u001b[38;5;241m=\u001b[39m\u001b[38;5;28;01mTrue\u001b[39;00m,\n\u001b[0;32m     45\u001b[0m     device\u001b[38;5;241m=\u001b[39m\u001b[38;5;124m'\u001b[39m\u001b[38;5;124mcpu\u001b[39m\u001b[38;5;124m'\u001b[39m\n\u001b[0;32m     46\u001b[0m )\n\u001b[0;32m     48\u001b[0m \u001b[38;5;66;03m# Для линейного бустера добавляем рекомендуемые параметры\u001b[39;00m\n",
      "File \u001b[1;32m~\\AppData\\Roaming\\Python\\Python312\\site-packages\\hyperopt\\fmin.py:618\u001b[0m, in \u001b[0;36mspace_eval\u001b[1;34m(space, hp_assignment)\u001b[0m\n\u001b[0;32m    616\u001b[0m         \u001b[38;5;28;01mif\u001b[39;00m label \u001b[38;5;129;01min\u001b[39;00m hp_assignment:\n\u001b[0;32m    617\u001b[0m             memo[node] \u001b[38;5;241m=\u001b[39m hp_assignment[label]\n\u001b[1;32m--> 618\u001b[0m rval \u001b[38;5;241m=\u001b[39m \u001b[43mpyll\u001b[49m\u001b[38;5;241;43m.\u001b[39;49m\u001b[43mrec_eval\u001b[49m\u001b[43m(\u001b[49m\u001b[43mspace\u001b[49m\u001b[43m,\u001b[49m\u001b[43m \u001b[49m\u001b[43mmemo\u001b[49m\u001b[38;5;241;43m=\u001b[39;49m\u001b[43mmemo\u001b[49m\u001b[43m)\u001b[49m\n\u001b[0;32m    619\u001b[0m \u001b[38;5;28;01mreturn\u001b[39;00m rval\n",
      "File \u001b[1;32m~\\AppData\\Roaming\\Python\\Python312\\site-packages\\hyperopt\\pyll\\base.py:902\u001b[0m, in \u001b[0;36mrec_eval\u001b[1;34m(expr, deepcopy_inputs, memo, max_program_len, memo_gc, print_trace, print_node_on_error)\u001b[0m\n\u001b[0;32m    899\u001b[0m     kwargs \u001b[38;5;241m=\u001b[39m copy\u001b[38;5;241m.\u001b[39mdeepcopy(_kwargs)\n\u001b[0;32m    901\u001b[0m \u001b[38;5;28;01mtry\u001b[39;00m:\n\u001b[1;32m--> 902\u001b[0m     rval \u001b[38;5;241m=\u001b[39m \u001b[43mscope\u001b[49m\u001b[38;5;241;43m.\u001b[39;49m\u001b[43m_impls\u001b[49m\u001b[43m[\u001b[49m\u001b[43mnode\u001b[49m\u001b[38;5;241;43m.\u001b[39;49m\u001b[43mname\u001b[49m\u001b[43m]\u001b[49m\u001b[43m(\u001b[49m\u001b[38;5;241;43m*\u001b[39;49m\u001b[43margs\u001b[49m\u001b[43m,\u001b[49m\u001b[43m \u001b[49m\u001b[38;5;241;43m*\u001b[39;49m\u001b[38;5;241;43m*\u001b[39;49m\u001b[43mkwargs\u001b[49m\u001b[43m)\u001b[49m\n\u001b[0;32m    904\u001b[0m \u001b[38;5;28;01mexcept\u001b[39;00m \u001b[38;5;167;01mException\u001b[39;00m \u001b[38;5;28;01mas\u001b[39;00m e:\n\u001b[0;32m    905\u001b[0m     \u001b[38;5;28;01mif\u001b[39;00m print_node_on_error:\n",
      "File \u001b[1;32m~\\AppData\\Roaming\\Python\\Python312\\site-packages\\hyperopt\\pyll\\stochastic.py:100\u001b[0m, in \u001b[0;36mrandint\u001b[1;34m(low, high, rng, size)\u001b[0m\n\u001b[0;32m     93\u001b[0m \u001b[38;5;129m@implicit_stochastic\u001b[39m\n\u001b[0;32m     94\u001b[0m \u001b[38;5;129m@scope\u001b[39m\u001b[38;5;241m.\u001b[39mdefine\n\u001b[0;32m     95\u001b[0m \u001b[38;5;28;01mdef\u001b[39;00m \u001b[38;5;21mrandint\u001b[39m(low, high\u001b[38;5;241m=\u001b[39m\u001b[38;5;28;01mNone\u001b[39;00m, rng\u001b[38;5;241m=\u001b[39m\u001b[38;5;28;01mNone\u001b[39;00m, size\u001b[38;5;241m=\u001b[39m()):\n\u001b[0;32m     96\u001b[0m \u001b[38;5;250m    \u001b[39m\u001b[38;5;124;03m\"\"\"\u001b[39;00m\n\u001b[0;32m     97\u001b[0m \u001b[38;5;124;03m    See np.random.randint documentation.\u001b[39;00m\n\u001b[0;32m     98\u001b[0m \u001b[38;5;124;03m    rng = random number generator, typically equals np.random.Generator\u001b[39;00m\n\u001b[0;32m     99\u001b[0m \u001b[38;5;124;03m    \"\"\"\u001b[39;00m\n\u001b[1;32m--> 100\u001b[0m     \u001b[38;5;28;01mreturn\u001b[39;00m \u001b[43mrng\u001b[49m\u001b[38;5;241;43m.\u001b[39;49m\u001b[43mintegers\u001b[49m(low, high, size)\n",
      "\u001b[1;31mAttributeError\u001b[0m: 'NoneType' object has no attribute 'integers'"
     ]
    }
   ],
   "source": [
    "from hyperopt import space_eval\n",
    "\n",
    "space = hp.choice('model_type', [\n",
    "    {  # Вариант для gbtree\n",
    "        'booster': 'gbtree',\n",
    "        'n_estimators': hp.quniform('n_estimators_tree', 100, 1000, 50),\n",
    "        'learning_rate': hp.uniform('lr_tree', 0.01, 0.3),\n",
    "        'reg_lambda': hp.uniform('lambda_tree', 0, 10),\n",
    "        'reg_alpha': hp.uniform('alpha_tree', 0, 10)\n",
    "    },\n",
    "    {  # Вариант для gblinear\n",
    "        'booster': 'gblinear',\n",
    "        'n_estimators': hp.quniform('n_estimators_linear', 10, 200, 10),\n",
    "        'learning_rate': hp.uniform('lr_linear', 0.001, 0.1),\n",
    "        'reg_lambda': hp.uniform('lambda_linear', 0, 10),\n",
    "        'reg_alpha': hp.uniform('alpha_linear', 0, 10),\n",
    "        'feature_selector': hp.choice('feature_selector', ['cyclic', 'shuffle', 'random', 'greedy', 'thrifty'])\n",
    "    }\n",
    "])\n",
    "\n",
    "def hyperopt_xgb(params, cv=5, X=X_train_poly, y=y_train, random_state=random_state):\n",
    "    params = {\n",
    "        'booster': params['booster'],\n",
    "        'n_estimators': int(params['n_estimators']),\n",
    "        'learning_rate': params['learning_rate'],\n",
    "        'reg_lambda': params['reg_lambda'],\n",
    "        'reg_alpha': params['reg_alpha'],\n",
    "        'random_state': random_state\n",
    "    }\n",
    "    \n",
    "    if params['booster'] == 'gblinear':\n",
    "        params['feature_selector'] = params.get('feature_selector', 'cyclic')\n",
    "        params['updater'] = 'shotgun'  # Обязательный параметр для gblinear\n",
    "\n",
    "    model = XGBRegressor(**params)\n",
    "    score = cross_val_score(model, X, y, cv=cv, scoring='neg_mean_squared_error').mean()\n",
    "    return -score\n",
    "\n",
    "# После оптимизации:\n",
    "best_params = space_eval(space, best)  # Автоматически преобразует choice-параметры\n",
    "\n",
    "model_xgb = XGBRegressor(\n",
    "    **best_params,\n",
    "    enable_categorical=True,\n",
    "    device='cpu'\n",
    ")\n",
    "\n",
    "# Для линейного бустера добавляем рекомендуемые параметры\n",
    "if best_params['booster'] == 'gblinear':\n",
    "    model_xgb.set_params(\n",
    "        updater='shotgun',  # или 'coord_descent'\n",
    "        top_k=10  # пример значения для greedy/thrifty\n",
    "    )\n",
    "\n",
    "model_xgb.fit(X_train_poly, y_train)\n",
    "\n",
    "# Оценка качества\n",
    "y_train_pred = model_xgb.predict(X_train_poly)\n",
    "y_test_pred = model_xgb.predict(X_test_poly)  # исправлено на model_xgb\n",
    "\n",
    "print('MSE на обучающем наборе: {:.2f}'.format(metrics.mean_squared_error(y_train, y_train_pred)))\n",
    "print('MSE на тестовом наборе: {:.2f}'.format(metrics.mean_squared_error(y_test, y_test_pred)))\n",
    "print('R² на тестовом наборе: {:.2f}'.format(metrics.r2_score(y_test, y_test_pred)))\n",
    "\n",
    "# Для линейных моделей можно посмотреть коэффициенты\n",
    "if best_params['booster'] == 'gblinear':\n",
    "    print(\"\\nКоэффициенты модели:\")\n",
    "    print(pd.Series(model_xgb.coef_, index=X_train_poly.columns).sort_values(ascending=False))"
   ]
  },
  {
   "cell_type": "code",
   "execution_count": 53,
   "id": "39204fca",
   "metadata": {},
   "outputs": [
    {
     "name": "stdout",
     "output_type": "stream",
     "text": [
      "Error with params {'booster': 'gblinear', 'feature_selector': 'random', 'learning_rate': 0.007653970723379449, 'n_estimators': 40, 'reg_alpha': 9.065407930159006, 'reg_lambda': 7.231479244442287, 'updater': 'shotgun'}: \n",
      "All the 3 fits failed.\n",
      "It is very likely that your model is misconfigured.\n",
      "You can try to debug the error by setting error_score='raise'.\n",
      "\n",
      "Below are more details about the failures:\n",
      "--------------------------------------------------------------------------------\n",
      "1 fits failed with the following error:\n",
      "Traceback (most recent call last):\n",
      "  File \"C:\\Users\\nitys\\AppData\\Roaming\\Python\\Python312\\site-packages\\sklearn\\model_selection\\_validation.py\", line 888, in _fit_and_score\n",
      "    estimator.fit(X_train, y_train, **fit_params)\n",
      "  File \"C:\\Users\\nitys\\AppData\\Roaming\\Python\\Python312\\site-packages\\xgboost\\core.py\", line 729, in inner_f\n",
      "    return func(**kwargs)\n",
      "           ^^^^^^^^^^^^^^\n",
      "  File \"C:\\Users\\nitys\\AppData\\Roaming\\Python\\Python312\\site-packages\\xgboost\\sklearn.py\", line 1247, in fit\n",
      "    self._Booster = train(\n",
      "                    ^^^^^^\n",
      "  File \"C:\\Users\\nitys\\AppData\\Roaming\\Python\\Python312\\site-packages\\xgboost\\core.py\", line 729, in inner_f\n",
      "    return func(**kwargs)\n",
      "           ^^^^^^^^^^^^^^\n",
      "  File \"C:\\Users\\nitys\\AppData\\Roaming\\Python\\Python312\\site-packages\\xgboost\\training.py\", line 183, in train\n",
      "    bst.update(dtrain, iteration=i, fobj=obj)\n",
      "  File \"C:\\Users\\nitys\\AppData\\Roaming\\Python\\Python312\\site-packages\\xgboost\\core.py\", line 2246, in update\n",
      "    _check_call(\n",
      "  File \"C:\\Users\\nitys\\AppData\\Roaming\\Python\\Python312\\site-packages\\xgboost\\core.py\", line 310, in _check_call\n",
      "    raise XGBoostError(py_str(_LIB.XGBGetLastError()))\n",
      "xgboost.core.XGBoostError: [23:25:24] C:\\actions-runner\\_work\\xgboost\\xgboost\\src\\linear\\updater_shotgun.cc:20: Unsupported feature selector for shotgun updater.\n",
      "Supported options are: {cyclic, shuffle}\n",
      "\n",
      "--------------------------------------------------------------------------------\n",
      "1 fits failed with the following error:\n",
      "Traceback (most recent call last):\n",
      "  File \"C:\\Users\\nitys\\AppData\\Roaming\\Python\\Python312\\site-packages\\sklearn\\model_selection\\_validation.py\", line 888, in _fit_and_score\n",
      "    estimator.fit(X_train, y_train, **fit_params)\n",
      "  File \"C:\\Users\\nitys\\AppData\\Roaming\\Python\\Python312\\site-packages\\xgboost\\core.py\", line 729, in inner_f\n",
      "    return func(**kwargs)\n",
      "           ^^^^^^^^^^^^^^\n",
      "  File \"C:\\Users\\nitys\\AppData\\Roaming\\Python\\Python312\\site-packages\\xgboost\\sklearn.py\", line 1247, in fit\n",
      "    self._Booster = train(\n",
      "                    ^^^^^^\n",
      "  File \"C:\\Users\\nitys\\AppData\\Roaming\\Python\\Python312\\site-packages\\xgboost\\core.py\", line 729, in inner_f\n",
      "    return func(**kwargs)\n",
      "           ^^^^^^^^^^^^^^\n",
      "  File \"C:\\Users\\nitys\\AppData\\Roaming\\Python\\Python312\\site-packages\\xgboost\\training.py\", line 183, in train\n",
      "    bst.update(dtrain, iteration=i, fobj=obj)\n",
      "  File \"C:\\Users\\nitys\\AppData\\Roaming\\Python\\Python312\\site-packages\\xgboost\\core.py\", line 2246, in update\n",
      "    _check_call(\n",
      "  File \"C:\\Users\\nitys\\AppData\\Roaming\\Python\\Python312\\site-packages\\xgboost\\core.py\", line 310, in _check_call\n",
      "    raise XGBoostError(py_str(_LIB.XGBGetLastError()))\n",
      "xgboost.core.XGBoostError: [23:25:29] C:\\actions-runner\\_work\\xgboost\\xgboost\\src\\linear\\updater_shotgun.cc:20: Unsupported feature selector for shotgun updater.\n",
      "Supported options are: {cyclic, shuffle}\n",
      "\n",
      "--------------------------------------------------------------------------------\n",
      "1 fits failed with the following error:\n",
      "Traceback (most recent call last):\n",
      "  File \"C:\\Users\\nitys\\AppData\\Roaming\\Python\\Python312\\site-packages\\sklearn\\model_selection\\_validation.py\", line 888, in _fit_and_score\n",
      "    estimator.fit(X_train, y_train, **fit_params)\n",
      "  File \"C:\\Users\\nitys\\AppData\\Roaming\\Python\\Python312\\site-packages\\xgboost\\core.py\", line 729, in inner_f\n",
      "    return func(**kwargs)\n",
      "           ^^^^^^^^^^^^^^\n",
      "  File \"C:\\Users\\nitys\\AppData\\Roaming\\Python\\Python312\\site-packages\\xgboost\\sklearn.py\", line 1247, in fit\n",
      "    self._Booster = train(\n",
      "                    ^^^^^^\n",
      "  File \"C:\\Users\\nitys\\AppData\\Roaming\\Python\\Python312\\site-packages\\xgboost\\core.py\", line 729, in inner_f\n",
      "    return func(**kwargs)\n",
      "           ^^^^^^^^^^^^^^\n",
      "  File \"C:\\Users\\nitys\\AppData\\Roaming\\Python\\Python312\\site-packages\\xgboost\\training.py\", line 183, in train\n",
      "    bst.update(dtrain, iteration=i, fobj=obj)\n",
      "  File \"C:\\Users\\nitys\\AppData\\Roaming\\Python\\Python312\\site-packages\\xgboost\\core.py\", line 2246, in update\n",
      "    _check_call(\n",
      "  File \"C:\\Users\\nitys\\AppData\\Roaming\\Python\\Python312\\site-packages\\xgboost\\core.py\", line 310, in _check_call\n",
      "    raise XGBoostError(py_str(_LIB.XGBGetLastError()))\n",
      "xgboost.core.XGBoostError: [23:25:36] C:\\actions-runner\\_work\\xgboost\\xgboost\\src\\linear\\updater_shotgun.cc:20: Unsupported feature selector for shotgun updater.\n",
      "Supported options are: {cyclic, shuffle}\n",
      "\n",
      "Error with params {'booster': 'gblinear', 'feature_selector': 'random', 'learning_rate': 0.0014571151842793914, 'n_estimators': 200, 'reg_alpha': 5.062108137358255, 'reg_lambda': 8.69355916285306, 'updater': 'shotgun'}: \n",
      "All the 3 fits failed.\n",
      "It is very likely that your model is misconfigured.\n",
      "You can try to debug the error by setting error_score='raise'.\n",
      "\n",
      "Below are more details about the failures:\n",
      "--------------------------------------------------------------------------------\n",
      "1 fits failed with the following error:\n",
      "Traceback (most recent call last):\n",
      "  File \"C:\\Users\\nitys\\AppData\\Roaming\\Python\\Python312\\site-packages\\sklearn\\model_selection\\_validation.py\", line 888, in _fit_and_score\n",
      "    estimator.fit(X_train, y_train, **fit_params)\n",
      "  File \"C:\\Users\\nitys\\AppData\\Roaming\\Python\\Python312\\site-packages\\xgboost\\core.py\", line 729, in inner_f\n",
      "    return func(**kwargs)\n",
      "           ^^^^^^^^^^^^^^\n",
      "  File \"C:\\Users\\nitys\\AppData\\Roaming\\Python\\Python312\\site-packages\\xgboost\\sklearn.py\", line 1247, in fit\n",
      "    self._Booster = train(\n",
      "                    ^^^^^^\n",
      "  File \"C:\\Users\\nitys\\AppData\\Roaming\\Python\\Python312\\site-packages\\xgboost\\core.py\", line 729, in inner_f\n",
      "    return func(**kwargs)\n",
      "           ^^^^^^^^^^^^^^\n",
      "  File \"C:\\Users\\nitys\\AppData\\Roaming\\Python\\Python312\\site-packages\\xgboost\\training.py\", line 183, in train\n",
      "    bst.update(dtrain, iteration=i, fobj=obj)\n",
      "  File \"C:\\Users\\nitys\\AppData\\Roaming\\Python\\Python312\\site-packages\\xgboost\\core.py\", line 2246, in update\n",
      "    _check_call(\n",
      "  File \"C:\\Users\\nitys\\AppData\\Roaming\\Python\\Python312\\site-packages\\xgboost\\core.py\", line 310, in _check_call\n",
      "    raise XGBoostError(py_str(_LIB.XGBGetLastError()))\n",
      "xgboost.core.XGBoostError: [23:25:42] C:\\actions-runner\\_work\\xgboost\\xgboost\\src\\linear\\updater_shotgun.cc:20: Unsupported feature selector for shotgun updater.\n",
      "Supported options are: {cyclic, shuffle}\n",
      "\n",
      "--------------------------------------------------------------------------------\n",
      "1 fits failed with the following error:\n",
      "Traceback (most recent call last):\n",
      "  File \"C:\\Users\\nitys\\AppData\\Roaming\\Python\\Python312\\site-packages\\sklearn\\model_selection\\_validation.py\", line 888, in _fit_and_score\n",
      "    estimator.fit(X_train, y_train, **fit_params)\n",
      "  File \"C:\\Users\\nitys\\AppData\\Roaming\\Python\\Python312\\site-packages\\xgboost\\core.py\", line 729, in inner_f\n",
      "    return func(**kwargs)\n",
      "           ^^^^^^^^^^^^^^\n",
      "  File \"C:\\Users\\nitys\\AppData\\Roaming\\Python\\Python312\\site-packages\\xgboost\\sklearn.py\", line 1247, in fit\n",
      "    self._Booster = train(\n",
      "                    ^^^^^^\n",
      "  File \"C:\\Users\\nitys\\AppData\\Roaming\\Python\\Python312\\site-packages\\xgboost\\core.py\", line 729, in inner_f\n",
      "    return func(**kwargs)\n",
      "           ^^^^^^^^^^^^^^\n",
      "  File \"C:\\Users\\nitys\\AppData\\Roaming\\Python\\Python312\\site-packages\\xgboost\\training.py\", line 183, in train\n",
      "    bst.update(dtrain, iteration=i, fobj=obj)\n",
      "  File \"C:\\Users\\nitys\\AppData\\Roaming\\Python\\Python312\\site-packages\\xgboost\\core.py\", line 2246, in update\n",
      "    _check_call(\n",
      "  File \"C:\\Users\\nitys\\AppData\\Roaming\\Python\\Python312\\site-packages\\xgboost\\core.py\", line 310, in _check_call\n",
      "    raise XGBoostError(py_str(_LIB.XGBGetLastError()))\n",
      "xgboost.core.XGBoostError: [23:25:49] C:\\actions-runner\\_work\\xgboost\\xgboost\\src\\linear\\updater_shotgun.cc:20: Unsupported feature selector for shotgun updater.\n",
      "Supported options are: {cyclic, shuffle}\n",
      "\n",
      "--------------------------------------------------------------------------------\n",
      "1 fits failed with the following error:\n",
      "Traceback (most recent call last):\n",
      "  File \"C:\\Users\\nitys\\AppData\\Roaming\\Python\\Python312\\site-packages\\sklearn\\model_selection\\_validation.py\", line 888, in _fit_and_score\n",
      "    estimator.fit(X_train, y_train, **fit_params)\n",
      "  File \"C:\\Users\\nitys\\AppData\\Roaming\\Python\\Python312\\site-packages\\xgboost\\core.py\", line 729, in inner_f\n",
      "    return func(**kwargs)\n",
      "           ^^^^^^^^^^^^^^\n",
      "  File \"C:\\Users\\nitys\\AppData\\Roaming\\Python\\Python312\\site-packages\\xgboost\\sklearn.py\", line 1247, in fit\n",
      "    self._Booster = train(\n",
      "                    ^^^^^^\n",
      "  File \"C:\\Users\\nitys\\AppData\\Roaming\\Python\\Python312\\site-packages\\xgboost\\core.py\", line 729, in inner_f\n",
      "    return func(**kwargs)\n",
      "           ^^^^^^^^^^^^^^\n",
      "  File \"C:\\Users\\nitys\\AppData\\Roaming\\Python\\Python312\\site-packages\\xgboost\\training.py\", line 183, in train\n",
      "    bst.update(dtrain, iteration=i, fobj=obj)\n",
      "  File \"C:\\Users\\nitys\\AppData\\Roaming\\Python\\Python312\\site-packages\\xgboost\\core.py\", line 2246, in update\n",
      "    _check_call(\n",
      "  File \"C:\\Users\\nitys\\AppData\\Roaming\\Python\\Python312\\site-packages\\xgboost\\core.py\", line 310, in _check_call\n",
      "    raise XGBoostError(py_str(_LIB.XGBGetLastError()))\n",
      "xgboost.core.XGBoostError: [23:25:55] C:\\actions-runner\\_work\\xgboost\\xgboost\\src\\linear\\updater_shotgun.cc:20: Unsupported feature selector for shotgun updater.\n",
      "Supported options are: {cyclic, shuffle}\n",
      "\n",
      "Error with params {'booster': 'gblinear', 'feature_selector': 'random', 'learning_rate': 0.0016205455182182705, 'n_estimators': 130, 'reg_alpha': 2.557240383270325, 'reg_lambda': 3.0780459889893876, 'updater': 'shotgun'}: \n",
      "All the 3 fits failed.\n",
      "It is very likely that your model is misconfigured.\n",
      "You can try to debug the error by setting error_score='raise'.\n",
      "\n",
      "Below are more details about the failures:\n",
      "--------------------------------------------------------------------------------\n",
      "1 fits failed with the following error:\n",
      "Traceback (most recent call last):\n",
      "  File \"C:\\Users\\nitys\\AppData\\Roaming\\Python\\Python312\\site-packages\\sklearn\\model_selection\\_validation.py\", line 888, in _fit_and_score\n",
      "    estimator.fit(X_train, y_train, **fit_params)\n",
      "  File \"C:\\Users\\nitys\\AppData\\Roaming\\Python\\Python312\\site-packages\\xgboost\\core.py\", line 729, in inner_f\n",
      "    return func(**kwargs)\n",
      "           ^^^^^^^^^^^^^^\n",
      "  File \"C:\\Users\\nitys\\AppData\\Roaming\\Python\\Python312\\site-packages\\xgboost\\sklearn.py\", line 1247, in fit\n",
      "    self._Booster = train(\n",
      "                    ^^^^^^\n",
      "  File \"C:\\Users\\nitys\\AppData\\Roaming\\Python\\Python312\\site-packages\\xgboost\\core.py\", line 729, in inner_f\n",
      "    return func(**kwargs)\n",
      "           ^^^^^^^^^^^^^^\n",
      "  File \"C:\\Users\\nitys\\AppData\\Roaming\\Python\\Python312\\site-packages\\xgboost\\training.py\", line 183, in train\n",
      "    bst.update(dtrain, iteration=i, fobj=obj)\n",
      "  File \"C:\\Users\\nitys\\AppData\\Roaming\\Python\\Python312\\site-packages\\xgboost\\core.py\", line 2246, in update\n",
      "    _check_call(\n",
      "  File \"C:\\Users\\nitys\\AppData\\Roaming\\Python\\Python312\\site-packages\\xgboost\\core.py\", line 310, in _check_call\n",
      "    raise XGBoostError(py_str(_LIB.XGBGetLastError()))\n",
      "xgboost.core.XGBoostError: [23:55:55] C:\\actions-runner\\_work\\xgboost\\xgboost\\src\\linear\\updater_shotgun.cc:20: Unsupported feature selector for shotgun updater.\n",
      "Supported options are: {cyclic, shuffle}\n",
      "\n",
      "--------------------------------------------------------------------------------\n",
      "1 fits failed with the following error:\n",
      "Traceback (most recent call last):\n",
      "  File \"C:\\Users\\nitys\\AppData\\Roaming\\Python\\Python312\\site-packages\\sklearn\\model_selection\\_validation.py\", line 888, in _fit_and_score\n",
      "    estimator.fit(X_train, y_train, **fit_params)\n",
      "  File \"C:\\Users\\nitys\\AppData\\Roaming\\Python\\Python312\\site-packages\\xgboost\\core.py\", line 729, in inner_f\n",
      "    return func(**kwargs)\n",
      "           ^^^^^^^^^^^^^^\n",
      "  File \"C:\\Users\\nitys\\AppData\\Roaming\\Python\\Python312\\site-packages\\xgboost\\sklearn.py\", line 1247, in fit\n",
      "    self._Booster = train(\n",
      "                    ^^^^^^\n",
      "  File \"C:\\Users\\nitys\\AppData\\Roaming\\Python\\Python312\\site-packages\\xgboost\\core.py\", line 729, in inner_f\n",
      "    return func(**kwargs)\n",
      "           ^^^^^^^^^^^^^^\n",
      "  File \"C:\\Users\\nitys\\AppData\\Roaming\\Python\\Python312\\site-packages\\xgboost\\training.py\", line 183, in train\n",
      "    bst.update(dtrain, iteration=i, fobj=obj)\n",
      "  File \"C:\\Users\\nitys\\AppData\\Roaming\\Python\\Python312\\site-packages\\xgboost\\core.py\", line 2246, in update\n",
      "    _check_call(\n",
      "  File \"C:\\Users\\nitys\\AppData\\Roaming\\Python\\Python312\\site-packages\\xgboost\\core.py\", line 310, in _check_call\n",
      "    raise XGBoostError(py_str(_LIB.XGBGetLastError()))\n",
      "xgboost.core.XGBoostError: [23:56:00] C:\\actions-runner\\_work\\xgboost\\xgboost\\src\\linear\\updater_shotgun.cc:20: Unsupported feature selector for shotgun updater.\n",
      "Supported options are: {cyclic, shuffle}\n",
      "\n",
      "--------------------------------------------------------------------------------\n",
      "1 fits failed with the following error:\n",
      "Traceback (most recent call last):\n",
      "  File \"C:\\Users\\nitys\\AppData\\Roaming\\Python\\Python312\\site-packages\\sklearn\\model_selection\\_validation.py\", line 888, in _fit_and_score\n",
      "    estimator.fit(X_train, y_train, **fit_params)\n",
      "  File \"C:\\Users\\nitys\\AppData\\Roaming\\Python\\Python312\\site-packages\\xgboost\\core.py\", line 729, in inner_f\n",
      "    return func(**kwargs)\n",
      "           ^^^^^^^^^^^^^^\n",
      "  File \"C:\\Users\\nitys\\AppData\\Roaming\\Python\\Python312\\site-packages\\xgboost\\sklearn.py\", line 1247, in fit\n",
      "    self._Booster = train(\n",
      "                    ^^^^^^\n",
      "  File \"C:\\Users\\nitys\\AppData\\Roaming\\Python\\Python312\\site-packages\\xgboost\\core.py\", line 729, in inner_f\n",
      "    return func(**kwargs)\n",
      "           ^^^^^^^^^^^^^^\n",
      "  File \"C:\\Users\\nitys\\AppData\\Roaming\\Python\\Python312\\site-packages\\xgboost\\training.py\", line 183, in train\n",
      "    bst.update(dtrain, iteration=i, fobj=obj)\n",
      "  File \"C:\\Users\\nitys\\AppData\\Roaming\\Python\\Python312\\site-packages\\xgboost\\core.py\", line 2246, in update\n",
      "    _check_call(\n",
      "  File \"C:\\Users\\nitys\\AppData\\Roaming\\Python\\Python312\\site-packages\\xgboost\\core.py\", line 310, in _check_call\n",
      "    raise XGBoostError(py_str(_LIB.XGBGetLastError()))\n",
      "xgboost.core.XGBoostError: [23:56:06] C:\\actions-runner\\_work\\xgboost\\xgboost\\src\\linear\\updater_shotgun.cc:20: Unsupported feature selector for shotgun updater.\n",
      "Supported options are: {cyclic, shuffle}\n",
      "\n",
      "Error with params {'booster': 'gblinear', 'feature_selector': 'random', 'learning_rate': 0.04305162298933302, 'n_estimators': 160, 'reg_alpha': 3.104380862936379, 'reg_lambda': 4.51625695847095, 'updater': 'shotgun'}: \n",
      "All the 3 fits failed.\n",
      "It is very likely that your model is misconfigured.\n",
      "You can try to debug the error by setting error_score='raise'.\n",
      "\n",
      "Below are more details about the failures:\n",
      "--------------------------------------------------------------------------------\n",
      "1 fits failed with the following error:\n",
      "Traceback (most recent call last):\n",
      "  File \"C:\\Users\\nitys\\AppData\\Roaming\\Python\\Python312\\site-packages\\sklearn\\model_selection\\_validation.py\", line 888, in _fit_and_score\n",
      "    estimator.fit(X_train, y_train, **fit_params)\n",
      "  File \"C:\\Users\\nitys\\AppData\\Roaming\\Python\\Python312\\site-packages\\xgboost\\core.py\", line 729, in inner_f\n",
      "    return func(**kwargs)\n",
      "           ^^^^^^^^^^^^^^\n",
      "  File \"C:\\Users\\nitys\\AppData\\Roaming\\Python\\Python312\\site-packages\\xgboost\\sklearn.py\", line 1247, in fit\n",
      "    self._Booster = train(\n",
      "                    ^^^^^^\n",
      "  File \"C:\\Users\\nitys\\AppData\\Roaming\\Python\\Python312\\site-packages\\xgboost\\core.py\", line 729, in inner_f\n",
      "    return func(**kwargs)\n",
      "           ^^^^^^^^^^^^^^\n",
      "  File \"C:\\Users\\nitys\\AppData\\Roaming\\Python\\Python312\\site-packages\\xgboost\\training.py\", line 183, in train\n",
      "    bst.update(dtrain, iteration=i, fobj=obj)\n",
      "  File \"C:\\Users\\nitys\\AppData\\Roaming\\Python\\Python312\\site-packages\\xgboost\\core.py\", line 2246, in update\n",
      "    _check_call(\n",
      "  File \"C:\\Users\\nitys\\AppData\\Roaming\\Python\\Python312\\site-packages\\xgboost\\core.py\", line 310, in _check_call\n",
      "    raise XGBoostError(py_str(_LIB.XGBGetLastError()))\n",
      "xgboost.core.XGBoostError: [00:18:29] C:\\actions-runner\\_work\\xgboost\\xgboost\\src\\linear\\updater_shotgun.cc:20: Unsupported feature selector for shotgun updater.\n",
      "Supported options are: {cyclic, shuffle}\n",
      "\n",
      "--------------------------------------------------------------------------------\n",
      "1 fits failed with the following error:\n",
      "Traceback (most recent call last):\n",
      "  File \"C:\\Users\\nitys\\AppData\\Roaming\\Python\\Python312\\site-packages\\sklearn\\model_selection\\_validation.py\", line 888, in _fit_and_score\n",
      "    estimator.fit(X_train, y_train, **fit_params)\n",
      "  File \"C:\\Users\\nitys\\AppData\\Roaming\\Python\\Python312\\site-packages\\xgboost\\core.py\", line 729, in inner_f\n",
      "    return func(**kwargs)\n",
      "           ^^^^^^^^^^^^^^\n",
      "  File \"C:\\Users\\nitys\\AppData\\Roaming\\Python\\Python312\\site-packages\\xgboost\\sklearn.py\", line 1247, in fit\n",
      "    self._Booster = train(\n",
      "                    ^^^^^^\n",
      "  File \"C:\\Users\\nitys\\AppData\\Roaming\\Python\\Python312\\site-packages\\xgboost\\core.py\", line 729, in inner_f\n",
      "    return func(**kwargs)\n",
      "           ^^^^^^^^^^^^^^\n",
      "  File \"C:\\Users\\nitys\\AppData\\Roaming\\Python\\Python312\\site-packages\\xgboost\\training.py\", line 183, in train\n",
      "    bst.update(dtrain, iteration=i, fobj=obj)\n",
      "  File \"C:\\Users\\nitys\\AppData\\Roaming\\Python\\Python312\\site-packages\\xgboost\\core.py\", line 2246, in update\n",
      "    _check_call(\n",
      "  File \"C:\\Users\\nitys\\AppData\\Roaming\\Python\\Python312\\site-packages\\xgboost\\core.py\", line 310, in _check_call\n",
      "    raise XGBoostError(py_str(_LIB.XGBGetLastError()))\n",
      "xgboost.core.XGBoostError: [00:18:38] C:\\actions-runner\\_work\\xgboost\\xgboost\\src\\linear\\updater_shotgun.cc:20: Unsupported feature selector for shotgun updater.\n",
      "Supported options are: {cyclic, shuffle}\n",
      "\n",
      "--------------------------------------------------------------------------------\n",
      "1 fits failed with the following error:\n",
      "Traceback (most recent call last):\n",
      "  File \"C:\\Users\\nitys\\AppData\\Roaming\\Python\\Python312\\site-packages\\sklearn\\model_selection\\_validation.py\", line 888, in _fit_and_score\n",
      "    estimator.fit(X_train, y_train, **fit_params)\n",
      "  File \"C:\\Users\\nitys\\AppData\\Roaming\\Python\\Python312\\site-packages\\xgboost\\core.py\", line 729, in inner_f\n",
      "    return func(**kwargs)\n",
      "           ^^^^^^^^^^^^^^\n",
      "  File \"C:\\Users\\nitys\\AppData\\Roaming\\Python\\Python312\\site-packages\\xgboost\\sklearn.py\", line 1247, in fit\n",
      "    self._Booster = train(\n",
      "                    ^^^^^^\n",
      "  File \"C:\\Users\\nitys\\AppData\\Roaming\\Python\\Python312\\site-packages\\xgboost\\core.py\", line 729, in inner_f\n",
      "    return func(**kwargs)\n",
      "           ^^^^^^^^^^^^^^\n",
      "  File \"C:\\Users\\nitys\\AppData\\Roaming\\Python\\Python312\\site-packages\\xgboost\\training.py\", line 183, in train\n",
      "    bst.update(dtrain, iteration=i, fobj=obj)\n",
      "  File \"C:\\Users\\nitys\\AppData\\Roaming\\Python\\Python312\\site-packages\\xgboost\\core.py\", line 2246, in update\n",
      "    _check_call(\n",
      "  File \"C:\\Users\\nitys\\AppData\\Roaming\\Python\\Python312\\site-packages\\xgboost\\core.py\", line 310, in _check_call\n",
      "    raise XGBoostError(py_str(_LIB.XGBGetLastError()))\n",
      "xgboost.core.XGBoostError: [00:18:46] C:\\actions-runner\\_work\\xgboost\\xgboost\\src\\linear\\updater_shotgun.cc:20: Unsupported feature selector for shotgun updater.\n",
      "Supported options are: {cyclic, shuffle}\n",
      "\n",
      "100%|██████████| 20/20 [1:55:09<00:00, 345.48s/trial, best loss: 174.64740700403772]\n"
     ]
    },
    {
     "ename": "TypeError",
     "evalue": "'float' object cannot be interpreted as an integer",
     "output_type": "error",
     "traceback": [
      "\u001b[1;31m---------------------------------------------------------------------------\u001b[0m",
      "\u001b[1;31mTypeError\u001b[0m                                 Traceback (most recent call last)",
      "Cell \u001b[1;32mIn[53], line 87\u001b[0m\n\u001b[0;32m     85\u001b[0m \u001b[38;5;66;03m# Обучение и оценка\u001b[39;00m\n\u001b[0;32m     86\u001b[0m final_model \u001b[38;5;241m=\u001b[39m XGBRegressor(\u001b[38;5;241m*\u001b[39m\u001b[38;5;241m*\u001b[39mmodel_params)\n\u001b[1;32m---> 87\u001b[0m \u001b[43mfinal_model\u001b[49m\u001b[38;5;241;43m.\u001b[39;49m\u001b[43mfit\u001b[49m\u001b[43m(\u001b[49m\u001b[43mX_train_poly\u001b[49m\u001b[43m,\u001b[49m\u001b[43m \u001b[49m\u001b[43my_train\u001b[49m\u001b[43m)\u001b[49m\n\u001b[0;32m     89\u001b[0m y_pred_train \u001b[38;5;241m=\u001b[39m final_model\u001b[38;5;241m.\u001b[39mpredict(X_train_poly)\n\u001b[0;32m     90\u001b[0m y_pred_test \u001b[38;5;241m=\u001b[39m final_model\u001b[38;5;241m.\u001b[39mpredict(X_test_poly)\n",
      "File \u001b[1;32m~\\AppData\\Roaming\\Python\\Python312\\site-packages\\xgboost\\core.py:729\u001b[0m, in \u001b[0;36mrequire_keyword_args.<locals>.throw_if.<locals>.inner_f\u001b[1;34m(*args, **kwargs)\u001b[0m\n\u001b[0;32m    727\u001b[0m \u001b[38;5;28;01mfor\u001b[39;00m k, arg \u001b[38;5;129;01min\u001b[39;00m \u001b[38;5;28mzip\u001b[39m(sig\u001b[38;5;241m.\u001b[39mparameters, args):\n\u001b[0;32m    728\u001b[0m     kwargs[k] \u001b[38;5;241m=\u001b[39m arg\n\u001b[1;32m--> 729\u001b[0m \u001b[38;5;28;01mreturn\u001b[39;00m \u001b[43mfunc\u001b[49m\u001b[43m(\u001b[49m\u001b[38;5;241;43m*\u001b[39;49m\u001b[38;5;241;43m*\u001b[39;49m\u001b[43mkwargs\u001b[49m\u001b[43m)\u001b[49m\n",
      "File \u001b[1;32m~\\AppData\\Roaming\\Python\\Python312\\site-packages\\xgboost\\sklearn.py:1247\u001b[0m, in \u001b[0;36mXGBModel.fit\u001b[1;34m(self, X, y, sample_weight, base_margin, eval_set, verbose, xgb_model, sample_weight_eval_set, base_margin_eval_set, feature_weights)\u001b[0m\n\u001b[0;32m   1244\u001b[0m \u001b[38;5;28;01melse\u001b[39;00m:\n\u001b[0;32m   1245\u001b[0m     obj \u001b[38;5;241m=\u001b[39m \u001b[38;5;28;01mNone\u001b[39;00m\n\u001b[1;32m-> 1247\u001b[0m \u001b[38;5;28mself\u001b[39m\u001b[38;5;241m.\u001b[39m_Booster \u001b[38;5;241m=\u001b[39m \u001b[43mtrain\u001b[49m\u001b[43m(\u001b[49m\n\u001b[0;32m   1248\u001b[0m \u001b[43m    \u001b[49m\u001b[43mparams\u001b[49m\u001b[43m,\u001b[49m\n\u001b[0;32m   1249\u001b[0m \u001b[43m    \u001b[49m\u001b[43mtrain_dmatrix\u001b[49m\u001b[43m,\u001b[49m\n\u001b[0;32m   1250\u001b[0m \u001b[43m    \u001b[49m\u001b[38;5;28;43mself\u001b[39;49m\u001b[38;5;241;43m.\u001b[39;49m\u001b[43mget_num_boosting_rounds\u001b[49m\u001b[43m(\u001b[49m\u001b[43m)\u001b[49m\u001b[43m,\u001b[49m\n\u001b[0;32m   1251\u001b[0m \u001b[43m    \u001b[49m\u001b[43mevals\u001b[49m\u001b[38;5;241;43m=\u001b[39;49m\u001b[43mevals\u001b[49m\u001b[43m,\u001b[49m\n\u001b[0;32m   1252\u001b[0m \u001b[43m    \u001b[49m\u001b[43mearly_stopping_rounds\u001b[49m\u001b[38;5;241;43m=\u001b[39;49m\u001b[38;5;28;43mself\u001b[39;49m\u001b[38;5;241;43m.\u001b[39;49m\u001b[43mearly_stopping_rounds\u001b[49m\u001b[43m,\u001b[49m\n\u001b[0;32m   1253\u001b[0m \u001b[43m    \u001b[49m\u001b[43mevals_result\u001b[49m\u001b[38;5;241;43m=\u001b[39;49m\u001b[43mevals_result\u001b[49m\u001b[43m,\u001b[49m\n\u001b[0;32m   1254\u001b[0m \u001b[43m    \u001b[49m\u001b[43mobj\u001b[49m\u001b[38;5;241;43m=\u001b[39;49m\u001b[43mobj\u001b[49m\u001b[43m,\u001b[49m\n\u001b[0;32m   1255\u001b[0m \u001b[43m    \u001b[49m\u001b[43mcustom_metric\u001b[49m\u001b[38;5;241;43m=\u001b[39;49m\u001b[43mmetric\u001b[49m\u001b[43m,\u001b[49m\n\u001b[0;32m   1256\u001b[0m \u001b[43m    \u001b[49m\u001b[43mverbose_eval\u001b[49m\u001b[38;5;241;43m=\u001b[39;49m\u001b[43mverbose\u001b[49m\u001b[43m,\u001b[49m\n\u001b[0;32m   1257\u001b[0m \u001b[43m    \u001b[49m\u001b[43mxgb_model\u001b[49m\u001b[38;5;241;43m=\u001b[39;49m\u001b[43mmodel\u001b[49m\u001b[43m,\u001b[49m\n\u001b[0;32m   1258\u001b[0m \u001b[43m    \u001b[49m\u001b[43mcallbacks\u001b[49m\u001b[38;5;241;43m=\u001b[39;49m\u001b[38;5;28;43mself\u001b[39;49m\u001b[38;5;241;43m.\u001b[39;49m\u001b[43mcallbacks\u001b[49m\u001b[43m,\u001b[49m\n\u001b[0;32m   1259\u001b[0m \u001b[43m\u001b[49m\u001b[43m)\u001b[49m\n\u001b[0;32m   1261\u001b[0m \u001b[38;5;28mself\u001b[39m\u001b[38;5;241m.\u001b[39m_set_evaluation_result(evals_result)\n\u001b[0;32m   1262\u001b[0m \u001b[38;5;28;01mreturn\u001b[39;00m \u001b[38;5;28mself\u001b[39m\n",
      "File \u001b[1;32m~\\AppData\\Roaming\\Python\\Python312\\site-packages\\xgboost\\core.py:729\u001b[0m, in \u001b[0;36mrequire_keyword_args.<locals>.throw_if.<locals>.inner_f\u001b[1;34m(*args, **kwargs)\u001b[0m\n\u001b[0;32m    727\u001b[0m \u001b[38;5;28;01mfor\u001b[39;00m k, arg \u001b[38;5;129;01min\u001b[39;00m \u001b[38;5;28mzip\u001b[39m(sig\u001b[38;5;241m.\u001b[39mparameters, args):\n\u001b[0;32m    728\u001b[0m     kwargs[k] \u001b[38;5;241m=\u001b[39m arg\n\u001b[1;32m--> 729\u001b[0m \u001b[38;5;28;01mreturn\u001b[39;00m \u001b[43mfunc\u001b[49m\u001b[43m(\u001b[49m\u001b[38;5;241;43m*\u001b[39;49m\u001b[38;5;241;43m*\u001b[39;49m\u001b[43mkwargs\u001b[49m\u001b[43m)\u001b[49m\n",
      "File \u001b[1;32m~\\AppData\\Roaming\\Python\\Python312\\site-packages\\xgboost\\training.py:180\u001b[0m, in \u001b[0;36mtrain\u001b[1;34m(params, dtrain, num_boost_round, evals, obj, maximize, early_stopping_rounds, evals_result, verbose_eval, xgb_model, callbacks, custom_metric)\u001b[0m\n\u001b[0;32m    174\u001b[0m cb_container \u001b[38;5;241m=\u001b[39m CallbackContainer(\n\u001b[0;32m    175\u001b[0m     callbacks, metric\u001b[38;5;241m=\u001b[39mcustom_metric, output_margin\u001b[38;5;241m=\u001b[39m\u001b[38;5;28mcallable\u001b[39m(obj)\n\u001b[0;32m    176\u001b[0m )\n\u001b[0;32m    178\u001b[0m bst \u001b[38;5;241m=\u001b[39m cb_container\u001b[38;5;241m.\u001b[39mbefore_training(bst)\n\u001b[1;32m--> 180\u001b[0m \u001b[38;5;28;01mfor\u001b[39;00m i \u001b[38;5;129;01min\u001b[39;00m \u001b[38;5;28;43mrange\u001b[39;49m\u001b[43m(\u001b[49m\u001b[43mstart_iteration\u001b[49m\u001b[43m,\u001b[49m\u001b[43m \u001b[49m\u001b[43mnum_boost_round\u001b[49m\u001b[43m)\u001b[49m:\n\u001b[0;32m    181\u001b[0m     \u001b[38;5;28;01mif\u001b[39;00m cb_container\u001b[38;5;241m.\u001b[39mbefore_iteration(bst, i, dtrain, evals):\n\u001b[0;32m    182\u001b[0m         \u001b[38;5;28;01mbreak\u001b[39;00m\n",
      "\u001b[1;31mTypeError\u001b[0m: 'float' object cannot be interpreted as an integer"
     ]
    }
   ],
   "source": [
    "import hyperopt\n",
    "from hyperopt import fmin, tpe, hp, Trials, space_eval\n",
    "import numpy as np\n",
    "from sklearn.metrics import r2_score, mean_squared_error\n",
    "\n",
    "import numpy as np\n",
    "from hyperopt import fmin, tpe, hp, Trials, space_eval\n",
    "from xgboost import XGBRegressor\n",
    "from sklearn.model_selection import cross_val_score\n",
    "\n",
    "# Условное пространство параметров с разделением для gbtree и gblinear\n",
    "space = hp.choice('model_type', [\n",
    "    {   # Для gbtree\n",
    "        'booster': 'gbtree',\n",
    "        'n_estimators': hp.quniform('n_estimators_tree', 100, 1000, 50),\n",
    "        'learning_rate': hp.loguniform('lr_tree', np.log(0.01), np.log(0.3)),\n",
    "        'max_depth': hp.quniform('max_depth', 3, 9, 1),\n",
    "        'reg_lambda': hp.uniform('lambda_tree', 0, 10),\n",
    "        'reg_alpha': hp.uniform('alpha_tree', 0, 10),\n",
    "        'subsample': hp.uniform('subsample_tree', 0.5, 1.0)\n",
    "    },\n",
    "    {   # Для gblinear\n",
    "        'booster': 'gblinear',\n",
    "        'n_estimators': hp.quniform('n_estimators_linear', 10, 200, 10),\n",
    "        'learning_rate': hp.loguniform('lr_linear', np.log(0.001), np.log(0.1)),\n",
    "        'reg_lambda': hp.uniform('lambda_linear', 0, 10),\n",
    "        'reg_alpha': hp.uniform('alpha_linear', 0, 10),\n",
    "        'feature_selector': hp.choice('feature_selector', ['cyclic', 'shuffle', 'random']),\n",
    "        'updater': 'shotgun'\n",
    "    }\n",
    "])\n",
    "\n",
    "def hyperopt_xgb(params):\n",
    "    # Преобразование параметров\n",
    "    params = params.copy()\n",
    "    for key in ['n_estimators', 'max_depth']:\n",
    "        if key in params:\n",
    "            params[key] = int(params[key])\n",
    "    \n",
    "    try:\n",
    "        model = XGBRegressor(\n",
    "            **params,\n",
    "            enable_categorical=True,\n",
    "            random_state=42\n",
    "        )\n",
    "        score = cross_val_score(\n",
    "            model, \n",
    "            X_train_poly, \n",
    "            y_train,\n",
    "            cv=3,\n",
    "            scoring='neg_mean_squared_error'\n",
    "        ).mean()\n",
    "        return -score\n",
    "    except Exception as e:\n",
    "        print(f\"Error with params {params}: {str(e)}\")\n",
    "        return float('inf')\n",
    "\n",
    "# Запуск оптимизации с новым генератором\n",
    "trials = Trials()\n",
    "best = fmin(\n",
    "    fn=hyperopt_xgb,\n",
    "    space=space,\n",
    "    algo=tpe.suggest,\n",
    "    max_evals=20,\n",
    "    trials=trials,\n",
    "    rstate=np.random.default_rng(42)  # Используем новый генератор\n",
    ")\n",
    "\n",
    "# Преобразование результатов\n",
    "best_params = space_eval(space, best)\n",
    "\n",
    "# Создание финальной модели с проверкой параметров\n",
    "model_params = {\n",
    "    'enable_categorical': True,\n",
    "    'random_state': 42,\n",
    "    'device': 'cpu'\n",
    "}\n",
    "\n",
    "# Фильтруем только допустимые параметры\n",
    "valid_params = XGBRegressor().get_params().keys()\n",
    "for k, v in best_params.items():\n",
    "    if k in valid_params:\n",
    "        model_params[k] = v\n",
    "\n",
    "# Обучение и оценка\n",
    "final_model = XGBRegressor(**model_params)\n",
    "final_model.fit(X_train_poly, y_train)\n",
    "\n",
    "y_pred_train = final_model.predict(X_train_poly)\n",
    "y_pred_test = final_model.predict(X_test_poly)\n",
    "\n",
    "print(f'Train MSE: {mean_squared_error(y_train, y_pred_train):.2f}')\n",
    "print(f'Test MSE: {mean_squared_error(y_test, y_pred_test):.2f}')\n",
    "print(f'Test R²: {r2_score(y_test, y_pred_test):.2f}')"
   ]
  },
  {
   "cell_type": "markdown",
   "id": "a2bec600",
   "metadata": {
    "papermill": {
     "duration": 0.012853,
     "end_time": "2025-04-12T17:48:00.772940",
     "exception": false,
     "start_time": "2025-04-12T17:48:00.760087",
     "status": "completed"
    },
    "tags": []
   },
   "source": [
    "## Prediction for test data"
   ]
  },
  {
   "cell_type": "code",
   "execution_count": 43,
   "id": "e87aa6ed",
   "metadata": {
    "execution": {
     "iopub.execute_input": "2025-04-12T17:48:00.800000Z",
     "iopub.status.busy": "2025-04-12T17:48:00.799736Z",
     "iopub.status.idle": "2025-04-12T17:48:10.643340Z",
     "shell.execute_reply": "2025-04-12T17:48:10.642721Z"
    },
    "papermill": {
     "duration": 9.858983,
     "end_time": "2025-04-12T17:48:10.644884",
     "exception": false,
     "start_time": "2025-04-12T17:48:00.785901",
     "status": "completed"
    },
    "tags": []
   },
   "outputs": [],
   "source": [
    "y_pred_test_poly_xgb = model_xgb.predict(df_encoded_test_poly)"
   ]
  },
  {
   "cell_type": "code",
   "execution_count": 44,
   "id": "e4e059e5",
   "metadata": {
    "execution": {
     "iopub.execute_input": "2025-04-12T17:48:10.672815Z",
     "iopub.status.busy": "2025-04-12T17:48:10.672594Z",
     "iopub.status.idle": "2025-04-12T17:48:11.101791Z",
     "shell.execute_reply": "2025-04-12T17:48:11.101023Z"
    },
    "papermill": {
     "duration": 0.444249,
     "end_time": "2025-04-12T17:48:11.103239",
     "exception": false,
     "start_time": "2025-04-12T17:48:10.658990",
     "status": "completed"
    },
    "tags": []
   },
   "outputs": [],
   "source": [
    "# downloading of sample data, reaching with predictions, saving\n",
    "sample_submission = pd.read_csv(\n",
    "    '/kaggle/input/playground-series-s5e4/sample_submission.csv'\n",
    "    )\n",
    "\n",
    "sample_submission_poly_df_xgb = pd.DataFrame(\n",
    "    y_pred_test_poly_xgb, columns=['y_pred']\n",
    "    )\n",
    "\n",
    "sample_submission_poly_xgb = pd.concat(\n",
    "    [sample_submission, sample_submission_poly_df_xgb], \n",
    "    axis=1\n",
    "    )\n",
    "\n",
    "sample_submission_poly_xgb = sample_submission_poly_xgb.drop(\n",
    "    'Listening_Time_minutes', axis=1\n",
    "    )\n",
    "\n",
    "sample_submission_poly_xgb = sample_submission_poly_xgb.rename(\n",
    "    columns={'y_pred': 'Listening_Time_minutes'}\n",
    "    )\n",
    "\n",
    "sample_submission_poly_xgb = sample_submission_poly_xgb.set_index('id')\n",
    "\n",
    "sample_submission_poly_xgb.to_csv('/kaggle/working/submission_v3.csv')"
   ]
  },
  {
   "cell_type": "code",
   "execution_count": 45,
   "id": "8225af71",
   "metadata": {
    "execution": {
     "iopub.execute_input": "2025-04-12T17:48:11.130033Z",
     "iopub.status.busy": "2025-04-12T17:48:11.129773Z",
     "iopub.status.idle": "2025-04-12T17:48:11.191479Z",
     "shell.execute_reply": "2025-04-12T17:48:11.190981Z"
    },
    "papermill": {
     "duration": 0.076059,
     "end_time": "2025-04-12T17:48:11.192667",
     "exception": false,
     "start_time": "2025-04-12T17:48:11.116608",
     "status": "completed"
    },
    "tags": []
   },
   "outputs": [],
   "source": [
    "# model saving\n",
    "model_xgb.save_model('/kaggle/working/model_xgb_poly.model')"
   ]
  }
 ],
 "metadata": {
  "kaggle": {
   "accelerator": "nvidiaTeslaT4",
   "dataSources": [
    {
     "databundleVersionId": 11351736,
     "sourceId": 91715,
     "sourceType": "competition"
    }
   ],
   "dockerImageVersionId": 31012,
   "isGpuEnabled": true,
   "isInternetEnabled": true,
   "language": "python",
   "sourceType": "notebook"
  },
  "kernelspec": {
   "display_name": "Python 3",
   "language": "python",
   "name": "python3"
  },
  "language_info": {
   "codemirror_mode": {
    "name": "ipython",
    "version": 3
   },
   "file_extension": ".py",
   "mimetype": "text/x-python",
   "name": "python",
   "nbconvert_exporter": "python",
   "pygments_lexer": "ipython3",
   "version": "3.12.1"
  },
  "papermill": {
   "default_parameters": {},
   "duration": 836.978706,
   "end_time": "2025-04-12T17:48:12.124665",
   "environment_variables": {},
   "exception": null,
   "input_path": "__notebook__.ipynb",
   "output_path": "__notebook__.ipynb",
   "parameters": {},
   "start_time": "2025-04-12T17:34:15.145959",
   "version": "2.6.0"
  }
 },
 "nbformat": 4,
 "nbformat_minor": 5
}
