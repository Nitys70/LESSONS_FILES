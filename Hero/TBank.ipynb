{
 "cells": [
  {
   "cell_type": "markdown",
   "metadata": {},
   "source": [
    "**task 2**"
   ]
  },
  {
   "cell_type": "code",
   "execution_count": null,
   "metadata": {},
   "outputs": [],
   "source": [
    "def cut_counter(n):\n",
    "    if n%2 == 0:\n",
    "        return n/2\n",
    "    else:\n",
    "        return int(n//2 + 1)\n",
    "    \n",
    "n=7\n",
    "\n",
    "cut_counter(n)"
   ]
  },
  {
   "cell_type": "markdown",
   "metadata": {},
   "source": [
    "**task 3**"
   ]
  },
  {
   "cell_type": "code",
   "execution_count": 5,
   "metadata": {},
   "outputs": [
    {
     "name": "stdout",
     "output_type": "stream",
     "text": [
      "31\n"
     ]
    }
   ],
   "source": [
    "contracts_and_limittime = input()\n",
    "stages = input()\n",
    "leave_coworker = input()\n",
    "\n",
    "def time_calculating(contracts_and_limittime, stages, leave_coworker):\n",
    "    \n",
    "    # Произведем преобразование данных в целочисленные значения\n",
    "    contracts_and_limittime = contracts_and_limittime.split(' ')\n",
    "    contracts_and_limittime = list(map(int, contracts_and_limittime))\n",
    "\n",
    "    stages = stages.split(' ')\n",
    "    stages = list(map(int, stages))\n",
    "    \n",
    "    # Убавляем значение на 1, чтобы соответствовать нумерации [0...N]\n",
    "    leave_coworker = int(leave_coworker) - 1\n",
    "\n",
    "    # Зададим отдельные переменные для кол-ва договоров \n",
    "    # и предельное время нахождения одного сотрудника /\n",
    "    contracts, limit_time = contracts_and_limittime\n",
    "    \n",
    "    # Выдвинем гипотезу, что минимальное время - это время, прохождения \n",
    "    # всей последовательности этажей, начиная с первого по списку в одну сторону. \n",
    "    # Вопрос заключается в том, чтобы успеть до уходящего коллеги, на это \n",
    "    # и сделаем первую проверку /\n",
    "    \n",
    "    # Зададим переменные - макс время, если идти последовательно пешком до \n",
    "    # уходящего коллеги сверху вниз и наоборот /\n",
    "    max_time_downstairs = max(stages) - stages[leave_coworker]\n",
    "    max_time_upstairs = stages[leave_coworker] - min(stages)\n",
    "    \n",
    "    \n",
    "    if limit_time > max_time_downstairs or limit_time > max_time_upstairs:\n",
    "        result = max(stages) - min(stages)\n",
    "        return result\n",
    "    \n",
    "    # В противном случае обход придется начинать с уходящего коллеги \n",
    "    # и задача сводится к тому, чтобы определить какой участок от этого \n",
    "    # коллеги меньший (\"верхний\" или \"нижний\"), чтобы его пройти 2 раза /\n",
    "    \n",
    "    else:\n",
    "        leave_coworker_stage = stages[leave_coworker]\n",
    "        \n",
    "        upstairs_dist = max(stages) - leave_coworker_stage\n",
    "        downstairs_dist = leave_coworker_stage - min(stages)\n",
    "        \n",
    "        if upstairs_dist < downstairs_dist:\n",
    "            result = upstairs_dist*2 + downstairs_dist\n",
    "            \n",
    "            return result\n",
    "        \n",
    "        else:\n",
    "            result = downstairs_dist*2 + upstairs_dist\n",
    "        \n",
    "            return result\n",
    "    \n",
    "print(time_calculating(contracts_and_limittime, stages, leave_coworker))\n",
    "\n",
    "# Примечание: переменная contracts - количество договоров не задействована"
   ]
  }
 ],
 "metadata": {
  "kernelspec": {
   "display_name": "Python 3",
   "language": "python",
   "name": "python3"
  },
  "language_info": {
   "codemirror_mode": {
    "name": "ipython",
    "version": 3
   },
   "file_extension": ".py",
   "mimetype": "text/x-python",
   "name": "python",
   "nbconvert_exporter": "python",
   "pygments_lexer": "ipython3",
   "version": "3.12.0"
  }
 },
 "nbformat": 4,
 "nbformat_minor": 2
}
