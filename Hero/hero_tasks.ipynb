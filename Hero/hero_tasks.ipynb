{
 "cells": [
  {
   "cell_type": "code",
   "execution_count": null,
   "metadata": {},
   "outputs": [],
   "source": [
    "nums = [2,2,3, 1, 6 , 7]\n",
    "def checkPossibility(nums):\n",
    "    # tmp_nums = nums\n",
    "    # print(nums[0])\n",
    "    # print(len(nums))\n",
    "    if len(nums) <= 2:\n",
    "        return True \n",
    "    n = 1\n",
    "    m = 0    \n",
    "    for elem in nums:\n",
    "        if n == len(nums):\n",
    "            if elem > nums[n-1]:\n",
    "                m+=1\n",
    "            else:\n",
    "                break\n",
    "        if elem < nums[n]:\n",
    "            n +=1\n",
    "        else:\n",
    "            n+=1\n",
    "            m+=1\n",
    "    # print('THISIS M:', m)\n",
    "    # print('THISIS N:', n)\n",
    "\n",
    "    if m > 1:\n",
    "        return False\n",
    "    else: \n",
    "        return True    \n",
    "    \n",
    "    \n",
    "    \n",
    "    \n",
    "\n",
    "    \n",
    "checkPossibility(nums) \n",
    "\n",
    "  "
   ]
  },
  {
   "cell_type": "code",
   "execution_count": null,
   "metadata": {},
   "outputs": [],
   "source": [
    "strings = ['А роза упала на лапу Азора', 'Не полиндром', 'АА ББ АА']\n",
    "\n",
    "def get_polindromes(strings):\n",
    "    new_list = []\n",
    "    for elem in strings:\n",
    "        filler = elem\n",
    "        elem = elem.lower()\n",
    "        elem = elem.replace(' ','')\n",
    "        if elem == elem[::-1]:\n",
    "            new_list.append(filler)\n",
    "    \n",
    "    print(new_list)\n",
    "    return new_list\n",
    "# new_list = strings.split(', ')\n",
    "\n",
    "\n",
    "get_polindromes(strings)"
   ]
  },
  {
   "cell_type": "code",
   "execution_count": 2,
   "metadata": {},
   "outputs": [
    {
     "data": {
      "text/plain": [
       "True"
      ]
     },
     "execution_count": 2,
     "metadata": {},
     "output_type": "execute_result"
    }
   ],
   "source": [
    "nums = [2,2,3, 1, 6 , 7]\n",
    "\n",
    "nums = [4, 2, 3]\n",
    "\n",
    "def checkPossibility(nums):\n",
    "    if len(nums) <= 2:\n",
    "        return True \n",
    "    n = 1\n",
    "    m = 0    \n",
    "    for elem in nums:\n",
    "        if n == len(nums):\n",
    "            if elem > nums[n-1]:\n",
    "                m+=1\n",
    "            else:\n",
    "                break\n",
    "        if elem < nums[n]:\n",
    "            n +=1\n",
    "        else:\n",
    "            n+=1\n",
    "            m+=1\n",
    "    if m > 1:\n",
    "        return False\n",
    "    else: \n",
    "        return True    \n",
    "    \n",
    "    \n",
    "checkPossibility(nums)"
   ]
  },
  {
   "cell_type": "code",
   "execution_count": 8,
   "metadata": {},
   "outputs": [
    {
     "name": "stdout",
     "output_type": "stream",
     "text": [
      "<class 'list'>\n",
      "[]\n"
     ]
    }
   ],
   "source": [
    "\n",
    "# lst1 = [1, 2, 3]\n",
    "\n",
    "# lst2= [3, 4, 5]\n",
    "\n",
    "\n",
    "lst1 = []\n",
    "lst2 = [1, 2, 3]\n",
    "\n",
    "def get_common_elements(lst1, lst2):\n",
    "    set1 = set(lst1)\n",
    "    set2 = set(lst2)\n",
    "    final_set = set1.intersection(set2)\n",
    "    final_list = list(final_set)\n",
    "\n",
    "    return final_list\n",
    "  \n",
    "print(get_common_elements(lst1, lst2))"
   ]
  },
  {
   "cell_type": "code",
   "execution_count": 5,
   "metadata": {},
   "outputs": [
    {
     "name": "stdout",
     "output_type": "stream",
     "text": [
      "<class 'str'>\n",
      "['1', '2', '3', '4']\n"
     ]
    }
   ],
   "source": [
    "params = input()\n",
    "\n",
    "print(type(params))\n",
    "print(list(params.split(' ')))"
   ]
  },
  {
   "cell_type": "code",
   "execution_count": 18,
   "metadata": {},
   "outputs": [
    {
     "data": {
      "text/plain": [
       "4"
      ]
     },
     "execution_count": 18,
     "metadata": {},
     "output_type": "execute_result"
    }
   ],
   "source": [
    "def cut_counter(n):\n",
    "    if n%2 == 0:\n",
    "        return n/2\n",
    "    else:\n",
    "        return int(n//2 + 1)\n",
    "    \n",
    "n=7\n",
    "\n",
    "cut_counter(n)"
   ]
  },
  {
   "cell_type": "code",
   "execution_count": null,
   "metadata": {},
   "outputs": [],
   "source": [
    "contracts_time = [5, 5]\n",
    "\n",
    "\n",
    "\n",
    "5  5\n",
    "1  4  9  16  25\n",
    "2"
   ]
  },
  {
   "cell_type": "code",
   "execution_count": 47,
   "metadata": {},
   "outputs": [
    {
     "name": "stdout",
     "output_type": "stream",
     "text": [
      "4\n",
      "5 5 \n",
      " 2 3 4 5 6 7 8 \n",
      " 2\n"
     ]
    }
   ],
   "source": [
    "contracts_time = input()\n",
    "stages = input()\n",
    "leave_coworker = input()\n",
    "\n",
    "def time_calculating(contracts_time, stages, leave_coworker):\n",
    "    \n",
    "    # Произведем преобразование данных\n",
    "    contracts_time = contracts_time.split(' ')\n",
    "    contracts_time = list(map(int, contracts_time))\n",
    "\n",
    "    stages = stages.split(' ')\n",
    "    stages = list(map(int, stages))\n",
    "\n",
    "    leave_coworker = int(leave_coworker) -1\n",
    "\n",
    "    # Зададим отдельные переменные для кол-ва договоров \n",
    "    # и предельное время нахохждения одного сотрудника /\n",
    "    contracts, limit_time = contracts_time\n",
    "    \n",
    "    if limit_time > (contracts-1):\n",
    "        return contracts-1\n",
    "    else:\n",
    "        leave_coworker_stage = stages[leave_coworker]\n",
    "        \n",
    "        return leave_coworker_stage\n",
    "    \n",
    "print(time_calculating(contracts_time, stages, leave_coworker))\n",
    "print(contracts_time, '\\n', stages, '\\n', leave_coworker)\n"
   ]
  }
 ],
 "metadata": {
  "kernelspec": {
   "display_name": "Python 3",
   "language": "python",
   "name": "python3"
  },
  "language_info": {
   "codemirror_mode": {
    "name": "ipython",
    "version": 3
   },
   "file_extension": ".py",
   "mimetype": "text/x-python",
   "name": "python",
   "nbconvert_exporter": "python",
   "pygments_lexer": "ipython3",
   "version": "3.12.1"
  }
 },
 "nbformat": 4,
 "nbformat_minor": 2
}
