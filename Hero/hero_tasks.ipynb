{
 "cells": [
  {
   "cell_type": "code",
   "execution_count": null,
   "metadata": {},
   "outputs": [],
   "source": [
    "nums = [2,2,3, 1, 6 , 7]\n",
    "def checkPossibility(nums):\n",
    "    # tmp_nums = nums\n",
    "    # print(nums[0])\n",
    "    # print(len(nums))\n",
    "    if len(nums) <= 2:\n",
    "        return True \n",
    "    n = 1\n",
    "    m = 0    \n",
    "    for elem in nums:\n",
    "        if n == len(nums):\n",
    "            if elem > nums[n-1]:\n",
    "                m+=1\n",
    "            else:\n",
    "                break\n",
    "        if elem < nums[n]:\n",
    "            n +=1\n",
    "        else:\n",
    "            n+=1\n",
    "            m+=1\n",
    "    # print('THISIS M:', m)\n",
    "    # print('THISIS N:', n)\n",
    "\n",
    "    if m > 1:\n",
    "        return False\n",
    "    else: \n",
    "        return True    \n",
    "    \n",
    "    \n",
    "    \n",
    "    \n",
    "\n",
    "    \n",
    "checkPossibility(nums) \n",
    "\n",
    "  "
   ]
  },
  {
   "cell_type": "code",
   "execution_count": null,
   "metadata": {},
   "outputs": [],
   "source": [
    "strings = ['А роза упала на лапу Азора', 'Не полиндром', 'АА ББ АА']\n",
    "\n",
    "def get_polindromes(strings):\n",
    "    new_list = []\n",
    "    for elem in strings:\n",
    "        filler = elem\n",
    "        elem = elem.lower()\n",
    "        elem = elem.replace(' ','')\n",
    "        if elem == elem[::-1]:\n",
    "            new_list.append(filler)\n",
    "    \n",
    "    print(new_list)\n",
    "    return new_list\n",
    "# new_list = strings.split(', ')\n",
    "\n",
    "\n",
    "get_polindromes(strings)"
   ]
  },
  {
   "cell_type": "code",
   "execution_count": 2,
   "metadata": {},
   "outputs": [
    {
     "data": {
      "text/plain": [
       "True"
      ]
     },
     "execution_count": 2,
     "metadata": {},
     "output_type": "execute_result"
    }
   ],
   "source": [
    "nums = [2,2,3, 1, 6 , 7]\n",
    "\n",
    "nums = [4, 2, 3]\n",
    "\n",
    "def checkPossibility(nums):\n",
    "    if len(nums) <= 2:\n",
    "        return True \n",
    "    n = 1\n",
    "    m = 0    \n",
    "    for elem in nums:\n",
    "        if n == len(nums):\n",
    "            if elem > nums[n-1]:\n",
    "                m+=1\n",
    "            else:\n",
    "                break\n",
    "        if elem < nums[n]:\n",
    "            n +=1\n",
    "        else:\n",
    "            n+=1\n",
    "            m+=1\n",
    "    if m > 1:\n",
    "        return False\n",
    "    else: \n",
    "        return True    \n",
    "    \n",
    "    \n",
    "checkPossibility(nums)"
   ]
  },
  {
   "cell_type": "code",
   "execution_count": 8,
   "metadata": {},
   "outputs": [
    {
     "name": "stdout",
     "output_type": "stream",
     "text": [
      "<class 'list'>\n",
      "[]\n"
     ]
    }
   ],
   "source": [
    "\n",
    "# lst1 = [1, 2, 3]\n",
    "\n",
    "# lst2= [3, 4, 5]\n",
    "\n",
    "\n",
    "lst1 = []\n",
    "lst2 = [1, 2, 3]\n",
    "\n",
    "def get_common_elements(lst1, lst2):\n",
    "    set1 = set(lst1)\n",
    "    set2 = set(lst2)\n",
    "    final_set = set1.intersection(set2)\n",
    "    final_list = list(final_set)\n",
    "\n",
    "    return final_list\n",
    "  \n",
    "print(get_common_elements(lst1, lst2))"
   ]
  }
 ],
 "metadata": {
  "kernelspec": {
   "display_name": "Python 3",
   "language": "python",
   "name": "python3"
  },
  "language_info": {
   "codemirror_mode": {
    "name": "ipython",
    "version": 3
   },
   "file_extension": ".py",
   "mimetype": "text/x-python",
   "name": "python",
   "nbconvert_exporter": "python",
   "pygments_lexer": "ipython3",
   "version": "3.12.1"
  }
 },
 "nbformat": 4,
 "nbformat_minor": 2
}
