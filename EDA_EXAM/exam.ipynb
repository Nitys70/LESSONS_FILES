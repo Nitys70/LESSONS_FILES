{
 "cells": [
  {
   "cell_type": "code",
   "execution_count": 7,
   "metadata": {},
   "outputs": [
    {
     "data": {
      "text/html": [
       "<div>\n",
       "<style scoped>\n",
       "    .dataframe tbody tr th:only-of-type {\n",
       "        vertical-align: middle;\n",
       "    }\n",
       "\n",
       "    .dataframe tbody tr th {\n",
       "        vertical-align: top;\n",
       "    }\n",
       "\n",
       "    .dataframe thead th {\n",
       "        text-align: right;\n",
       "    }\n",
       "</style>\n",
       "<table border=\"1\" class=\"dataframe\">\n",
       "  <thead>\n",
       "    <tr style=\"text-align: right;\">\n",
       "      <th></th>\n",
       "      <th>0</th>\n",
       "    </tr>\n",
       "  </thead>\n",
       "  <tbody>\n",
       "    <tr>\n",
       "      <th>0</th>\n",
       "      <td>-0.5</td>\n",
       "    </tr>\n",
       "    <tr>\n",
       "      <th>1</th>\n",
       "      <td>0.5</td>\n",
       "    </tr>\n",
       "    <tr>\n",
       "      <th>2</th>\n",
       "      <td>0.0</td>\n",
       "    </tr>\n",
       "    <tr>\n",
       "      <th>3</th>\n",
       "      <td>2.2</td>\n",
       "    </tr>\n",
       "    <tr>\n",
       "      <th>4</th>\n",
       "      <td>-2.0</td>\n",
       "    </tr>\n",
       "  </tbody>\n",
       "</table>\n",
       "</div>"
      ],
      "text/plain": [
       "     0\n",
       "0 -0.5\n",
       "1  0.5\n",
       "2  0.0\n",
       "3  2.2\n",
       "4 -2.0"
      ]
     },
     "metadata": {},
     "output_type": "display_data"
    },
    {
     "data": {
      "text/html": [
       "<div>\n",
       "<style scoped>\n",
       "    .dataframe tbody tr th:only-of-type {\n",
       "        vertical-align: middle;\n",
       "    }\n",
       "\n",
       "    .dataframe tbody tr th {\n",
       "        vertical-align: top;\n",
       "    }\n",
       "\n",
       "    .dataframe thead th {\n",
       "        text-align: right;\n",
       "    }\n",
       "</style>\n",
       "<table border=\"1\" class=\"dataframe\">\n",
       "  <thead>\n",
       "    <tr style=\"text-align: right;\">\n",
       "      <th></th>\n",
       "      <th>0</th>\n",
       "    </tr>\n",
       "  </thead>\n",
       "  <tbody>\n",
       "    <tr>\n",
       "      <th>0</th>\n",
       "      <td>30</td>\n",
       "    </tr>\n",
       "    <tr>\n",
       "      <th>1</th>\n",
       "      <td>40</td>\n",
       "    </tr>\n",
       "    <tr>\n",
       "      <th>2</th>\n",
       "      <td>35</td>\n",
       "    </tr>\n",
       "    <tr>\n",
       "      <th>3</th>\n",
       "      <td>57</td>\n",
       "    </tr>\n",
       "    <tr>\n",
       "      <th>4</th>\n",
       "      <td>15</td>\n",
       "    </tr>\n",
       "  </tbody>\n",
       "</table>\n",
       "</div>"
      ],
      "text/plain": [
       "    0\n",
       "0  30\n",
       "1  40\n",
       "2  35\n",
       "3  57\n",
       "4  15"
      ]
     },
     "execution_count": 7,
     "metadata": {},
     "output_type": "execute_result"
    }
   ],
   "source": [
    "import pandas as pd\n",
    "from sklearn import preprocessing\n",
    "\n",
    "data = [30,40,35,57,15]\n",
    "\n",
    "df = pd.DataFrame(data)\n",
    "df\n",
    "\n",
    "r_scaler = preprocessing.RobustScaler()\n",
    "\n",
    "df_r = pd.DataFrame(r_scaler.fit_transform(df))\n",
    "display(df_r)\n",
    "df"
   ]
  },
  {
   "cell_type": "code",
   "execution_count": 26,
   "metadata": {},
   "outputs": [
    {
     "name": "stdout",
     "output_type": "stream",
     "text": [
      "16898\n",
      "10032\n",
      "\n",
      "\n",
      "91.0\n",
      "88.0\n",
      "4.499873552750829e-17\n",
      "Распределение не нормальное\n",
      "3.5727031185288115e-13\n",
      "Распределение не нормальное\n",
      "300\n",
      "p-value = 0.896\n",
      "p-значение больше, чем заданный уровень значимости 0.05. У нас нет оснований отвергнуть нулевую гипотезу.\n"
     ]
    }
   ],
   "source": [
    "import pandas as pd\n",
    "import scipy.stats as stats\n",
    "\n",
    "df = pd.read_csv('data/new-site.csv', sep = '\\t')\n",
    "\n",
    "print(df[df['site']== 0]['dwell-time'].sum())\n",
    "print(df[df['site']== 1]['dwell-time'].sum())\n",
    "df['site'].value_counts()\n",
    "print('\\n')\n",
    "print(round(df[df['site']== 0]['dwell-time'].mean(), 0))\n",
    "print(round(df[df['site']== 1]['dwell-time'].mean(), 0))\n",
    "\n",
    "data_a = list(df[df['site']== 0]['dwell-time'])\n",
    "data_b = list(df[df['site']== 1]['dwell-time'])\n",
    "\n",
    "alpha = 0.05\n",
    "\n",
    "_,p = stats.shapiro(data_a)\n",
    "print(p)\n",
    "if p <= alpha:\n",
    "    print('Распределение не нормальное')\n",
    "else:\n",
    "    print('Распределение нормальное')\n",
    "    \n",
    "_,p = stats.shapiro(data_b)\n",
    "print(p)\n",
    "if p <= alpha:\n",
    "    print('Распределение не нормальное')\n",
    "else:\n",
    "    print('Распределение нормальное')\n",
    "    \n",
    "print(len(data_a)+ len(data_b))\n",
    "df.shape\n",
    "\n",
    "_, p = stats.mannwhitneyu(data_a, data_b)\n",
    "\n",
    "print('p-value = {:.3f}'.format(p))\n",
    "\n",
    "# интерпретируем результат\n",
    "if p <= alpha:\n",
    "    print('p-значение меньше, чем заданный уровень значимости {:.2f}. Отвергаем нулевую гипотезу.'.format(alpha))\n",
    "else:\n",
    "    print('p-значение больше, чем заданный уровень значимости {:.2f}. У нас нет оснований отвергнуть нулевую гипотезу.'.format(alpha))\n"
   ]
  },
  {
   "cell_type": "code",
   "execution_count": 31,
   "metadata": {},
   "outputs": [
    {
     "data": {
      "text/plain": [
       "2"
      ]
     },
     "execution_count": 31,
     "metadata": {},
     "output_type": "execute_result"
    }
   ],
   "source": [
    "f = -2\n",
    "f = -f\n",
    "f"
   ]
  }
 ],
 "metadata": {
  "kernelspec": {
   "display_name": "Python 3",
   "language": "python",
   "name": "python3"
  },
  "language_info": {
   "codemirror_mode": {
    "name": "ipython",
    "version": 3
   },
   "file_extension": ".py",
   "mimetype": "text/x-python",
   "name": "python",
   "nbconvert_exporter": "python",
   "pygments_lexer": "ipython3",
   "version": "3.12.0"
  }
 },
 "nbformat": 4,
 "nbformat_minor": 2
}
