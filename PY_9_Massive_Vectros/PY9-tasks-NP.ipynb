{
 "cells": [
  {
   "cell_type": "code",
   "execution_count": 2,
   "metadata": {},
   "outputs": [
    {
     "name": "stdout",
     "output_type": "stream",
     "text": [
      "<class 'numpy.int8'>\n"
     ]
    }
   ],
   "source": [
    "import numpy as np\n",
    "\n",
    "a = np.int8(20)\n",
    "\n",
    "print(type(a))"
   ]
  },
  {
   "cell_type": "code",
   "execution_count": 3,
   "metadata": {},
   "outputs": [
    {
     "data": {
      "text/plain": [
       "iinfo(min=-9223372036854775808, max=9223372036854775807, dtype=int64)"
      ]
     },
     "execution_count": 3,
     "metadata": {},
     "output_type": "execute_result"
    }
   ],
   "source": [
    "\n",
    "\n",
    "np.iinfo(np.int64)"
   ]
  },
  {
   "cell_type": "code",
   "execution_count": 4,
   "metadata": {},
   "outputs": [
    {
     "name": "stdout",
     "output_type": "stream",
     "text": [
      "56\n"
     ]
    },
    {
     "name": "stderr",
     "output_type": "stream",
     "text": [
      "C:\\Users\\nitys\\AppData\\Local\\Temp\\ipykernel_8644\\3196159569.py:2: DeprecationWarning: NumPy will stop allowing conversion of out-of-bound Python integers to integer arrays.  The conversion of -456 to uint8 will fail in the future.\n",
      "For the old behavior, usually:\n",
      "    np.array(value).astype(dtype)\n",
      "will give the desired result (the cast overflows).\n",
      "  a = np.uint8(-456)\n"
     ]
    }
   ],
   "source": [
    "import numpy as np\n",
    "a = np.uint8(-456)\n",
    "\n",
    "print(a)"
   ]
  },
  {
   "cell_type": "code",
   "execution_count": 4,
   "metadata": {},
   "outputs": [
    {
     "data": {
      "text/plain": [
       "dtype('int8')"
      ]
     },
     "execution_count": 4,
     "metadata": {},
     "output_type": "execute_result"
    }
   ],
   "source": [
    "import numpy as np\n",
    "\n",
    "nd_arr = np.array([\n",
    "    [1, 2, 3],\n",
    "    [4, 5, 6],\n",
    "    [7, 8, 9]   \n",
    "    ], dtype=np.int8)\n",
    "nd_arr.dtype"
   ]
  },
  {
   "cell_type": "code",
   "execution_count": 28,
   "metadata": {},
   "outputs": [
    {
     "data": {
      "text/plain": [
       "2"
      ]
     },
     "execution_count": 28,
     "metadata": {},
     "output_type": "execute_result"
    }
   ],
   "source": [
    "import numpy as np\n",
    "\n",
    "arr = np.array([ \n",
    "            [1, 2, 3],\n",
    "            [3, 4, 5],\n",
    "            [7, 8, 9]                \n",
    "            ], dtype=np.int16)\n",
    "\n",
    "arr.ndim"
   ]
  },
  {
   "cell_type": "code",
   "execution_count": 40,
   "metadata": {},
   "outputs": [
    {
     "name": "stdout",
     "output_type": "stream",
     "text": [
      "(array([-6.  , -5.55, -5.1 , -4.65, -4.2 , -3.75, -3.3 , -2.85, -2.4 ,\n",
      "       -1.95, -1.5 , -1.05, -0.6 , -0.15,  0.3 ,  0.75,  1.2 ,  1.65,\n",
      "        2.1 ,  2.55,  3.  ,  3.45,  3.9 ,  4.35,  4.8 ,  5.25,  5.7 ,\n",
      "        6.15,  6.6 ,  7.05,  7.5 ,  7.95,  8.4 ,  8.85,  9.3 ,  9.75,\n",
      "       10.2 , 10.65, 11.1 , 11.55, 12.  , 12.45, 12.9 , 13.35, 13.8 ,\n",
      "       14.25, 14.7 , 15.15, 15.6 , 16.05, 16.5 , 16.95, 17.4 , 17.84,\n",
      "       18.3 , 18.75, 19.2 , 19.66, 20.1 , 20.55], dtype=float16), 0.45)\n"
     ]
    }
   ],
   "source": [
    "arr = np.linspace(-6, 21, 60, False, True, dtype=np.float16)\n",
    "print(arr)"
   ]
  },
  {
   "cell_type": "code",
   "execution_count": 41,
   "metadata": {},
   "outputs": [
    {
     "name": "stdout",
     "output_type": "stream",
     "text": [
      "3\n"
     ]
    }
   ],
   "source": [
    "a = [1, 2, 3]\n",
    "print(a[-1])"
   ]
  },
  {
   "cell_type": "code",
   "execution_count": 63,
   "metadata": {},
   "outputs": [
    {
     "name": "stdout",
     "output_type": "stream",
     "text": [
      "[-32037  29943   -564   8225   7181 -18049]\n"
     ]
    }
   ],
   "source": [
    "import numpy as np\n",
    "\n",
    "mystery = np.array([\n",
    "       [-13586,  15203,  28445, -27117,  -1781, -17182, -18049],\n",
    "       [ 25936, -30968,  -1297,  -4593,   6451,  15790,   7181],\n",
    "       [ 13348,  28049,  28655,  -6012,  21762,  25397,   8225],\n",
    "       [ 13240,   7994,  32592,  20149,  13754,  11795,   -564],\n",
    "       [-21725,  -8681,  30305,  22260, -17918,  12578,  29943],\n",
    "       [-16841, -25392, -17278,  11740,   5916,    -47, -32037]\n",
    "       ], dtype=np.int16)\n",
    "\n",
    "\n",
    "rev = mystery [::-1, -1]\n",
    "\n",
    "print(rev)\n"
   ]
  },
  {
   "cell_type": "code",
   "execution_count": 84,
   "metadata": {},
   "outputs": [
    {
     "name": "stdout",
     "output_type": "stream",
     "text": [
      "[1.         1.41421356 1.73205081        nan 2.23606798        nan]\n",
      "fsafasf 0\n",
      "STR LIST [False, False, False, True, False, True]\n",
      "TYPE STR LIST <class 'list'>\n",
      "TRUE COUNTER 2\n",
      "2\n",
      "[1.         1.41421356 1.73205081 0.         2.23606798 0.        ]\n",
      "6.382332347441762\n"
     ]
    },
    {
     "name": "stderr",
     "output_type": "stream",
     "text": [
      "C:\\Users\\nitys\\AppData\\Local\\Temp\\ipykernel_25224\\3608624834.py:3: RuntimeWarning: invalid value encountered in sqrt\n",
      "  roots = np.sqrt(a)\n"
     ]
    }
   ],
   "source": [
    "import numpy as np\n",
    "a = np.array( [1, 2, 3, -4, 5, -8])\n",
    "roots = np.sqrt(a)\n",
    "\n",
    "\n",
    "print(roots)\n",
    "n_nan = np.count_nonzero(roots)\n",
    "print('fsafasf', len(roots) -n_nan)\n",
    "strange_list = list(np.isnan(roots))\n",
    "print('STR LIST', strange_list)\n",
    "print('TYPE STR LIST', type(strange_list))\n",
    "a = strange_list.count(True)\n",
    "print('TRUE COUNTER', a)\n",
    "\n",
    "\n",
    "print(a)\n",
    "roots[np.isnan(roots)] = 0\n",
    "\n",
    "print(roots)\n",
    "print(sum(roots))\n"
   ]
  },
  {
   "cell_type": "code",
   "execution_count": 1,
   "metadata": {},
   "outputs": [
    {
     "name": "stdout",
     "output_type": "stream",
     "text": [
      "N_NAN \n",
      " 3\n",
      "MYSTERY NEW \n",
      " [ 12279. -26024.  28745.      0.  31244.  -2365.  -6974.  -9212.      0.\n",
      " -17722.  16132.  25933.      0. -16431.  29810.]\n",
      "MYSTERY INT \n",
      " [      12279      -26024       28745 -2147483648       31244       -2365\n",
      "       -6974       -9212 -2147483648      -17722       16132       25933\n",
      " -2147483648      -16431       29810]\n",
      "ARRAY \n",
      " [-26024. -17722. -16431.  -9212.  -6974.  -2365.  12279.  16132.  25933.\n",
      "  28745.  29810.  31244.     nan     nan     nan]\n",
      "TABLE \n",
      " [[-26024.  -2365.  29810.]\n",
      " [-17722.  12279.  31244.]\n",
      " [-16431.  16132.     nan]\n",
      " [ -9212.  25933.     nan]\n",
      " [ -6974.  28745.     nan]]\n",
      "COL \n",
      " [-2365. 12279. 16132. 25933. 28745.]\n"
     ]
    },
    {
     "name": "stderr",
     "output_type": "stream",
     "text": [
      "C:\\Users\\nitys\\AppData\\Local\\Temp\\ipykernel_24168\\4033763485.py:14: RuntimeWarning: invalid value encountered in cast\n",
      "  mystery_int = np.int32(mystery)\n"
     ]
    }
   ],
   "source": [
    "import numpy as np\n",
    "\n",
    "mystery = np.array([ 12279., -26024.,  28745.,  np.nan,  31244.,  -2365.,  -6974., -9212., np.nan, -17722.,  16132.,  25933.,  np.nan, -16431., 29810.], dtype=np.float32)\n",
    "\n",
    "nans_index = np.isnan(mystery)\n",
    "strange_list = list(nans_index)\n",
    "n_nan = strange_list.count(True)\n",
    "print('N_NAN', '\\n', n_nan)\n",
    "\n",
    "mystery_new = mystery.copy()\n",
    "mystery_new[np.isnan(mystery_new)] = 0\n",
    "print('MYSTERY NEW', '\\n' , mystery_new)\n",
    "\n",
    "mystery_int = np.int32(mystery) \n",
    "\n",
    "print('MYSTERY INT', '\\n', mystery_int)\n",
    "\n",
    "array = mystery.copy()\n",
    "array.sort()\n",
    "print('ARRAY', '\\n', array)\n",
    "\n",
    "table = array.reshape((5, 3), order='F')\n",
    "print('TABLE', '\\n',  table)\n",
    "\n",
    "col = table[:, 1]\n",
    "print('COL', '\\n',  col)"
   ]
  },
  {
   "cell_type": "code",
   "execution_count": 3,
   "metadata": {},
   "outputs": [
    {
     "name": "stdout",
     "output_type": "stream",
     "text": [
      "23\n"
     ]
    }
   ],
   "source": [
    "import numpy as np\n",
    "\n",
    "x = np.array( [1, 4] )\n",
    "y = np.array( [3, 5] )\n",
    "\n",
    "print(np.dot(x,y))"
   ]
  },
  {
   "cell_type": "code",
   "execution_count": 7,
   "metadata": {},
   "outputs": [
    {
     "name": "stdout",
     "output_type": "stream",
     "text": [
      "34 4828 68\n"
     ]
    }
   ],
   "source": [
    "import numpy as np\n",
    "\n",
    "a = np.array( [23, 34, 27] ) \n",
    "b= np.array( [-54,  1,  46] )\n",
    "c = np.array( [46, 68, 54] )\n",
    "\n",
    "ab = a + b\n",
    "ac = a + c\n",
    "bc = b + c\n",
    "\n",
    "lenght_a = np.linalg.norm(a)\n",
    "lenght_b = np.linalg.norm(b)\n",
    "lenght_c = np.linalg.norm(c)\n",
    "\n",
    "lenght_ab = np.linalg.norm(ab)\n",
    "lenght_ac = np.linalg.norm(ac)\n",
    "lenght_bc = np.linalg.norm(bc)\n",
    "\n",
    "# if (lenght_a + lenght_b) == lenght_ab:\n",
    "#     print ('ab')\n",
    "    \n",
    "# if (lenght_a + lenght_c) == lenght_ac:\n",
    "#     print ('ac')\n",
    "\n",
    "# if (lenght_c + lenght_b) == lenght_bc:\n",
    "#     print ('bc')\n",
    "\n",
    "# distance_ab = np.linalg.norm(a - b)\n",
    "# distance_ac = np.linalg.norm(a - c)\n",
    "# distance_bc = np.linalg.norm(b - c)\n",
    "\n",
    "scalar_ab = np.dot(a,b)\n",
    "scalar_ac = np.dot(a,c)\n",
    "scalar_bc = np.dot(b,c)\n",
    "\n",
    "print(scalar_ab, scalar_ac, scalar_bc)"
   ]
  },
  {
   "cell_type": "code",
   "execution_count": 12,
   "metadata": {},
   "outputs": [
    {
     "name": "stdout",
     "output_type": "stream",
     "text": [
      "481,,18,308,,13,652,391,,63,,62,353,111,805,251,,36,544,600,799,283,880,,470,599,814,507,242,650,180,860,979,298,621,197,572,976,905,427,119,905,,64,430,742,563,382,211,228,760,567,366,103,409,211,952,,,5,493,151,267,517,495,375,,80,341,,39,560,,85,490,,44,,17,151,,42,688,648,501,437,154,,66,,28,921,642,196,719,208,492,538,687,841,933,386,719,114,261,838,228,120,508,316,476,233,902,698,471,604,172,993,790,557,129,446,,64,317,997,509,710,909,147,228,595,188,246,728,509,365,139,773,426,929,888,534,513,666,,77,299,943,985,588,137,,31,385,405,980,854,327,714,318,909,803,334,130,949,532,640,820,975,889,240,878,294,899,488,639,961,819,649,939,163,209,879,479,573,557,,25,783,332,311,425,140,678,766,492,234,316,811,447,772,325,640,387,858,208,739,870,227,385,,24,286,,22,599,951,994,457,,99,238,172,549,932,412,545,713,,19,785,931,684,333,630,752,191,949,200,361,887,243,753,600,635,243,173,249,294,583,106,772,848,387,874,321,562,,96,211,561,918,868,206,745,710,869,387,600,726,179,336,806,392,612\n"
     ]
    }
   ],
   "source": [
    "a = '481  18 308  13 652 391  63  62 353 111 805 251  36 544 600 799 283 880 \\\n",
    " 470 599 814 507 242 650 180 860 979 298 621 197 572 976 905 427 119 905\\\n",
    "  64 430 742 563 382 211 228 760 567 366 103 409 211 952   5 493 151 267\\\n",
    " 517 495 375  80 341  39 560  85 490  44  17 151  42 688 648 501 437 154\\\n",
    "  66  28 921 642 196 719 208 492 538 687 841 933 386 719 114 261 838 228\\\n",
    " 120 508 316 476 233 902 698 471 604 172 993 790 557 129 446  64 317 997\\\n",
    " 509 710 909 147 228 595 188 246 728 509 365 139 773 426 929 888 534 513\\\n",
    " 666  77 299 943 985 588 137  31 385 405 980 854 327 714 318 909 803 334\\\n",
    " 130 949 532 640 820 975 889 240 878 294 899 488 639 961 819 649 939 163\\\n",
    " 209 879 479 573 557  25 783 332 311 425 140 678 766 492 234 316 811 447\\\n",
    " 772 325 640 387 858 208 739 870 227 385  24 286  22 599 951 994 457  99\\\n",
    " 238 172 549 932 412 545 713  19 785 931 684 333 630 752 191 949 200 361\\\n",
    " 887 243 753 600 635 243 173 249 294 583 106 772 848 387 874 321 562  96\\\n",
    " 211 561 918 868 206 745 710 869 387 600 726 179 336 806 392 612'\n",
    "b = a.replace(' ', ',')\n",
    "print(b)"
   ]
  },
  {
   "cell_type": "code",
   "execution_count": 27,
   "metadata": {},
   "outputs": [
    {
     "data": {
      "text/plain": [
       "array([[[[0.39318533, 0.38745121],\n",
       "         [0.61098658, 0.44448917]],\n",
       "\n",
       "        [[0.91092597, 0.57298919],\n",
       "         [0.81009036, 0.32079261]]],\n",
       "\n",
       "\n",
       "       [[[0.13148197, 0.09949626],\n",
       "         [0.32063647, 0.3298567 ]],\n",
       "\n",
       "        [[0.67669909, 0.28897683],\n",
       "         [0.72886923, 0.627995  ]]]])"
      ]
     },
     "execution_count": 27,
     "metadata": {},
     "output_type": "execute_result"
    }
   ],
   "source": [
    "import numpy as np\n",
    "\n",
    "np.random.rand(2, 2, 2, 2)"
   ]
  },
  {
   "cell_type": "code",
   "execution_count": 45,
   "metadata": {},
   "outputs": [
    {
     "name": "stdout",
     "output_type": "stream",
     "text": [
      "[ 2  4 14]\n"
     ]
    }
   ],
   "source": [
    "import numpy as np\n",
    "np.random.seed(2021)\n",
    "\n",
    "simple = np.random.rand()\n",
    "#print(simple)\n",
    "\n",
    "randoms = np.random.uniform(-150, 2022, size=120)\n",
    "#print(randoms)\n",
    "\n",
    "table = np.random.randint(1, 101, size=(3, 2)) \n",
    "#print(table)\n",
    "\n",
    "even = np.arange(2, 17, 2)\n",
    "#print(even)\n",
    "\n",
    "mix = np.random.permutation(even)\n",
    "#print(mix)\n",
    "\n",
    "select = np.random.choice(even, size=3, replace=False)\n",
    "#print(select)\n",
    "\n",
    "triplet = np.random.permutation(select)\n",
    "#print(triplet)\n",
    "\n"
   ]
  },
  {
   "cell_type": "code",
   "execution_count": 86,
   "metadata": {},
   "outputs": [
    {
     "name": "stdout",
     "output_type": "stream",
     "text": [
      "[[0. 1. 0. 1. 0. 1. 0. 1.]\n",
      " [1. 0. 1. 0. 1. 0. 1. 0.]\n",
      " [0. 1. 0. 1. 0. 1. 0. 1.]\n",
      " [1. 0. 1. 0. 1. 0. 1. 0.]\n",
      " [0. 1. 0. 1. 0. 1. 0. 1.]\n",
      " [1. 0. 1. 0. 1. 0. 1. 0.]\n",
      " [0. 1. 0. 1. 0. 1. 0. 1.]\n",
      " [1. 0. 1. 0. 1. 0. 1. 0.]]\n"
     ]
    }
   ],
   "source": [
    "import numpy as np\n",
    "\n",
    "a = 8\n",
    "def get_chess(a):\n",
    "    arr = np.zeros((a,a))\n",
    "    arr[::2 , 1::2] = 1\n",
    "    arr[1::2 , ::2] = 1\n",
    "    \n",
    "    return arr\n",
    "\n",
    "print(get_chess(a))"
   ]
  },
  {
   "cell_type": "code",
   "execution_count": 100,
   "metadata": {},
   "outputs": [
    {
     "name": "stdout",
     "output_type": "stream",
     "text": [
      "(array([1, 2, 3]), 2159249477)\n"
     ]
    }
   ],
   "source": [
    "import numpy as np\n",
    "from random import randint\n",
    "#array = np.array( [1, 2, 3]) \n",
    "def shuffle_seed(array):\n",
    "    rand_for_seed = randint(0, 2**32)\n",
    "    return (array, rand_for_seed)\n",
    "\n",
    "print(shuffle_seed(array))"
   ]
  },
  {
   "cell_type": "code",
   "execution_count": 12,
   "metadata": {},
   "outputs": [
    {
     "ename": "SyntaxError",
     "evalue": "invalid syntax (1928039531.py, line 4)",
     "output_type": "error",
     "traceback": [
      "\u001b[1;36m  Cell \u001b[1;32mIn[12], line 4\u001b[1;36m\u001b[0m\n\u001b[1;33m    min_max = np.array[]\u001b[0m\n\u001b[1;37m                       ^\u001b[0m\n\u001b[1;31mSyntaxError\u001b[0m\u001b[1;31m:\u001b[0m invalid syntax\n"
     ]
    }
   ],
   "source": [
    "import numpy as np\n",
    "\n",
    "def min_max_dist(*vectors):\n",
    "    min_max = np.array( [] )\n",
    "    print(type(vectors[0]))\n",
    "    print(min_max)\n",
    "    \n",
    "    \n",
    "    \n",
    "    \n",
    "\n",
    "vec1 = np.array([1,2,3])\n",
    "vec2 = np.array([4,5,6])\n",
    "vec3 = np.array([7, 8, 9])\n",
    "\n",
    "min_max_dist(vec1, vec2, vec3)\n",
    "# (5.196152422706632, 10.392304845413264)\n"
   ]
  },
  {
   "cell_type": "code",
   "execution_count": 133,
   "metadata": {},
   "outputs": [
    {
     "name": "stdout",
     "output_type": "stream",
     "text": [
      "(2, 3, 4)\n",
      "range(0, 2)\n"
     ]
    },
    {
     "ename": "TypeError",
     "evalue": "map() must have at least two arguments.",
     "output_type": "error",
     "traceback": [
      "\u001b[1;31m---------------------------------------------------------------------------\u001b[0m",
      "\u001b[1;31mTypeError\u001b[0m                                 Traceback (most recent call last)",
      "Cell \u001b[1;32mIn[133], line 12\u001b[0m\n\u001b[0;32m      9\u001b[0m         \u001b[38;5;28mprint\u001b[39m(\u001b[38;5;28mmap\u001b[39m(args[i]\u001b[38;5;241m*\u001b[39m args[(i\u001b[38;5;241m+\u001b[39m\u001b[38;5;241m1\u001b[39m):a]))\n\u001b[0;32m     10\u001b[0m     \u001b[38;5;28;01mreturn\u001b[39;00m args\n\u001b[1;32m---> 12\u001b[0m \u001b[38;5;28mprint\u001b[39m(\u001b[43mtesti\u001b[49m\u001b[43m(\u001b[49m\u001b[43ma\u001b[49m\u001b[43m,\u001b[49m\u001b[43mb\u001b[49m\u001b[43m,\u001b[49m\u001b[43mc\u001b[49m\u001b[43m)\u001b[49m)\n",
      "Cell \u001b[1;32mIn[133], line 9\u001b[0m, in \u001b[0;36mtesti\u001b[1;34m(*args)\u001b[0m\n\u001b[0;32m      6\u001b[0m \u001b[38;5;28mprint\u001b[39m(\u001b[38;5;28mrange\u001b[39m(a\u001b[38;5;241m-\u001b[39m\u001b[38;5;241m1\u001b[39m))\n\u001b[0;32m      7\u001b[0m \u001b[38;5;28;01mfor\u001b[39;00m i \u001b[38;5;129;01min\u001b[39;00m \u001b[38;5;28mrange\u001b[39m(a):\n\u001b[1;32m----> 9\u001b[0m     \u001b[38;5;28mprint\u001b[39m(\u001b[38;5;28;43mmap\u001b[39;49m\u001b[43m(\u001b[49m\u001b[43margs\u001b[49m\u001b[43m[\u001b[49m\u001b[43mi\u001b[49m\u001b[43m]\u001b[49m\u001b[38;5;241;43m*\u001b[39;49m\u001b[43m \u001b[49m\u001b[43margs\u001b[49m\u001b[43m[\u001b[49m\u001b[43m(\u001b[49m\u001b[43mi\u001b[49m\u001b[38;5;241;43m+\u001b[39;49m\u001b[38;5;241;43m1\u001b[39;49m\u001b[43m)\u001b[49m\u001b[43m:\u001b[49m\u001b[43ma\u001b[49m\u001b[43m]\u001b[49m\u001b[43m)\u001b[49m)\n\u001b[0;32m     10\u001b[0m \u001b[38;5;28;01mreturn\u001b[39;00m args\n",
      "\u001b[1;31mTypeError\u001b[0m: map() must have at least two arguments."
     ]
    }
   ],
   "source": [
    "a, b, c = 2, 3, 4\n",
    "\n",
    "def testi(*args):\n",
    "    print(args)\n",
    "    a = len(args)\n",
    "    print(range(a-1))\n",
    "    for i in range(a):\n",
    "        \n",
    "        print(map(args[i]* args[(i+1):a]))\n",
    "    return args\n",
    "\n",
    "print(testi(a,b,c))"
   ]
  },
  {
   "cell_type": "code",
   "execution_count": 111,
   "metadata": {},
   "outputs": [
    {
     "name": "stdout",
     "output_type": "stream",
     "text": [
      "OrderedDict({3: 4, 1: 2, 5: 1})\n"
     ]
    }
   ],
   "source": [
    "from collections import OrderedDict\n",
    "\n",
    "a = [ (1, 2), (3, 4), (5, 1) ]\n",
    "\n",
    "b = OrderedDict(sorted(a, key= lambda x: x[1], reverse=True))\n",
    "\n",
    "print(b)"
   ]
  },
  {
   "cell_type": "code",
   "execution_count": 15,
   "metadata": {},
   "outputs": [
    {
     "name": "stdout",
     "output_type": "stream",
     "text": [
      "[array([21, 32, 45,  6]), array([ 3,  8, 25, 36]), array([21, 32, 45,  6]), array([ 7, 16, 45,  6]), array([ 3,  8, 25, 36]), array([ 7, 16, 45,  6])]\n"
     ]
    }
   ],
   "source": [
    "import numpy as np\n",
    "\n",
    "a = np.array([3, 4, 5, 6])\n",
    "b = np.array([7, 8, 9, 1])\n",
    "c = np.array([1, 2, 5, 6])\n",
    "\n",
    "def testi_kw(*args):\n",
    "    final_arr = list()\n",
    "    #print(final_arr)\n",
    "    for i in range(len(args)):\n",
    "        empty_ar = list(map( lambda x: args[i] * x, args ))\n",
    "        empty_ar.pop(i)\n",
    "        ar_for_upd = empty_ar.copy()\n",
    "        #print(ar_for_upd)\n",
    "        final_arr += ar_for_upd\n",
    "        \n",
    "    return (final_arr)\n",
    "\n",
    "\n",
    "# b = list(map( lambda x: a[0] * x, a) )\n",
    "# print(b)\n",
    "# print(type(a[0]))\n",
    "# print(c)\n",
    "\n",
    "print(testi_kw(a, b, c))"
   ]
  },
  {
   "cell_type": "code",
   "execution_count": 2,
   "metadata": {},
   "outputs": [
    {
     "name": "stdout",
     "output_type": "stream",
     "text": [
      "(5.196152422706632, 10.392304845413264)\n"
     ]
    }
   ],
   "source": [
    "import numpy as np\n",
    "\n",
    "# a = np.array([3, 4, 5, 6])\n",
    "# b = np.array([7, 8, 9, 1])\n",
    "# c = np.array([1, 2, 5, 6])\n",
    "\n",
    "def min_max_dist(*vectors):\n",
    "    final_arr = list()\n",
    "    #print(final_arr)\n",
    "    for i in range(len(vectors)):\n",
    "        empty_ar = list(map( lambda x: np.linalg.norm( vectors[i] - x ), vectors ))\n",
    "        empty_ar.pop(i)\n",
    "        ar_for_upd = empty_ar.copy()\n",
    "        #print(ar_for_upd)\n",
    "        final_arr += ar_for_upd\n",
    "        \n",
    "    return ( min(final_arr), max(final_arr) )\n",
    "\n",
    "print(min_max_dist(np.array([1, 2, 3]), np.array([4, 5, 6]), np.array([7, 8, 9])))\n",
    "\n",
    "#print(min_max_dist(a, b, c))"
   ]
  },
  {
   "cell_type": "code",
   "execution_count": 5,
   "metadata": {},
   "outputs": [
    {
     "name": "stdout",
     "output_type": "stream",
     "text": [
      "False\n"
     ]
    }
   ],
   "source": [
    "import numpy as np\n",
    "\n",
    "\n",
    "def any_normal(*vectors):\n",
    "    final_arr = list()\n",
    "    #print(final_arr)\n",
    "    for i in range(len(vectors)):\n",
    "        empty_ar = list(map( lambda x: np.dot( vectors[i], x ), vectors ))\n",
    "        empty_ar.pop(i)\n",
    "        if 0 in empty_ar:\n",
    "            return True\n",
    "        else: \n",
    "            return False\n",
    "\n",
    "print(any_normal(np.array([1, 2, 3]), np.array([4, 5, 6]), np.array([7, 8, 9])))\n",
    "\n",
    "#print(min_max_dist(a, b, c))"
   ]
  },
  {
   "cell_type": "code",
   "execution_count": 4,
   "metadata": {},
   "outputs": [
    {
     "name": "stdout",
     "output_type": "stream",
     "text": [
      "[[[ 56.  58.   5.  89.   8.]\n",
      "  [ 69. 100.  44.  10.  92.]\n",
      "  [ 35.  48.  16.  30.  13.]\n",
      "  [ 44.  77.  81.  24.   7.]\n",
      "  [ 78.  82.  86.  34.   6.]]\n",
      "\n",
      " [[ 16.  81.  59.   3. 100.]\n",
      "  [ 14.  52.  64.  73.  54.]\n",
      "  [ 49.  68.  93.   3.  26.]\n",
      "  [ 50.  12.  33.   6.  80.]\n",
      "  [ 95.  83.  66.  76.  78.]]\n",
      "\n",
      " [[ 61.  10.  35.  55.  27.]\n",
      "  [ 68.  74.  91.  75.  36.]\n",
      "  [  9.  73.  17.  12.  41.]\n",
      "  [ 26.  86.  87.  18.  37.]\n",
      "  [ 50.  42.  34.  16.  67.]]]\n"
     ]
    }
   ],
   "source": [
    "from random import randint\n",
    "import numpy as np\n",
    "\n",
    "\n",
    "def get_loto(num):\n",
    "    arr = np.zeros((num* 5* 5))\n",
    "    for i in range(len(arr)): \n",
    "        arr[i] = randint(1, 101)  \n",
    "    brr = arr.reshape((num, 5, 5))\n",
    "    return brr\n",
    "    \n",
    "print(get_loto(3))\n",
    "    \n",
    "    "
   ]
  },
  {
   "cell_type": "code",
   "execution_count": 2,
   "metadata": {},
   "outputs": [
    {
     "data": {
      "text/plain": [
       "UK       Англия\n",
       "CA       Канада\n",
       "US          США\n",
       "RU       Россия\n",
       "UA      Украина\n",
       "BY     Беларусь\n",
       "KZ    Казахстан\n",
       "Name: countries, dtype: object"
      ]
     },
     "metadata": {},
     "output_type": "display_data"
    }
   ],
   "source": [
    "import pandas as pd\n",
    "\n",
    "countries = pd.Series(\n",
    "    data = ['Англия', 'Канада', 'США', 'Россия', 'Украина', 'Беларусь', 'Казахстан'],\n",
    "    index = ['UK', 'CA', 'US', 'RU', 'UA', 'BY', 'KZ'],\n",
    "    name = 'countries'\n",
    ")\n",
    "display(countries)"
   ]
  },
  {
   "cell_type": "code",
   "execution_count": 1,
   "metadata": {},
   "outputs": [
    {
     "name": "stdout",
     "output_type": "stream",
     "text": [
      "[[[11. 16. 25. 54. 86.]\n",
      "  [97.  5. 50. 45. 13.]\n",
      "  [90. 98. 42. 12. 34.]\n",
      "  [17. 37. 46. 31. 47.]\n",
      "  [65. 72. 18. 69. 39.]]\n",
      "\n",
      " [[11. 16. 25. 54. 86.]\n",
      "  [97.  5. 50. 45. 13.]\n",
      "  [90. 98. 42. 12. 34.]\n",
      "  [17. 37. 46. 31. 47.]\n",
      "  [65. 72. 18. 69. 39.]]\n",
      "\n",
      " [[11. 16. 25. 54. 86.]\n",
      "  [97.  5. 50. 45. 13.]\n",
      "  [90. 98. 42. 12. 34.]\n",
      "  [17. 37. 46. 31. 47.]\n",
      "  [65. 72. 18. 69. 39.]]\n",
      "\n",
      " [[11. 16. 25. 54. 86.]\n",
      "  [97.  5. 50. 45. 13.]\n",
      "  [90. 98. 42. 12. 34.]\n",
      "  [17. 37. 46. 31. 47.]\n",
      "  [65. 72. 18. 69. 39.]]]\n"
     ]
    }
   ],
   "source": [
    "import numpy as np\n",
    "\n",
    "\n",
    "def get_unique_loto(num):\n",
    "    new_arr = np.zeros((num,5,5))\n",
    "    # for i in range(num-3):\n",
    "    #     print('Count')\n",
    "    new_arr += (np.random.choice(np.arange(1, 101), size=(5,5), replace=False))        \n",
    "    return new_arr\n",
    "\n",
    "print(get_unique_loto(4))\n",
    "    "
   ]
  },
  {
   "cell_type": "code",
   "execution_count": 27,
   "metadata": {},
   "outputs": [
    {
     "ename": "TypeError",
     "evalue": "Cannot interpret '2' as a data type",
     "output_type": "error",
     "traceback": [
      "\u001b[1;31m---------------------------------------------------------------------------\u001b[0m",
      "\u001b[1;31mTypeError\u001b[0m                                 Traceback (most recent call last)",
      "Cell \u001b[1;32mIn[27], line 2\u001b[0m\n\u001b[0;32m      1\u001b[0m \u001b[38;5;28;01mimport\u001b[39;00m \u001b[38;5;21;01mnumpy\u001b[39;00m \u001b[38;5;28;01mas\u001b[39;00m \u001b[38;5;21;01mnp\u001b[39;00m\n\u001b[1;32m----> 2\u001b[0m arr \u001b[38;5;241m=\u001b[39m \u001b[43mnp\u001b[49m\u001b[38;5;241;43m.\u001b[39;49m\u001b[43marray\u001b[49m\u001b[43m(\u001b[49m\u001b[38;5;241;43m2\u001b[39;49m\u001b[43m,\u001b[49m\u001b[38;5;241;43m2\u001b[39;49m\u001b[43m)\u001b[49m\n\u001b[0;32m      3\u001b[0m \u001b[38;5;28mprint\u001b[39m(arr)\n",
      "\u001b[1;31mTypeError\u001b[0m: Cannot interpret '2' as a data type"
     ]
    }
   ],
   "source": [
    "import numpy as np\n",
    "arr = np.array(2,2)\n",
    "print(arr)"
   ]
  },
  {
   "cell_type": "code",
   "execution_count": 6,
   "metadata": {},
   "outputs": [
    {
     "name": "stdout",
     "output_type": "stream",
     "text": [
      "Counter({19: 1, 242: 1, 14: 1, 152: 1, 142: 1, 1000: 1})\n",
      "261.5\n"
     ]
    }
   ],
   "source": [
    "from collections import Counter\n",
    "simplelist = [19, 242, 14, 152, 142, 1000]\n",
    "\n",
    "c = Counter(simplelist)\n",
    "print(c)\n",
    "\n",
    "a = sum(c.keys())/len(simplelist)\n",
    "print(a)"
   ]
  }
 ],
 "metadata": {
  "kernelspec": {
   "display_name": "Python 3",
   "language": "python",
   "name": "python3"
  },
  "language_info": {
   "codemirror_mode": {
    "name": "ipython",
    "version": 3
   },
   "file_extension": ".py",
   "mimetype": "text/x-python",
   "name": "python",
   "nbconvert_exporter": "python",
   "pygments_lexer": "ipython3",
   "version": "3.12.1"
  }
 },
 "nbformat": 4,
 "nbformat_minor": 2
}
