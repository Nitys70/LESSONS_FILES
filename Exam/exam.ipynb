{
 "cells": [
  {
   "cell_type": "code",
   "execution_count": 1,
   "metadata": {},
   "outputs": [
    {
     "name": "stdout",
     "output_type": "stream",
     "text": [
      "True True True False\n"
     ]
    }
   ],
   "source": [
    "a = [1,2,3]\n",
    "b = a\n",
    "c = [1,2,3]\n",
    "print(a == b, a == c, a is b, a is c)"
   ]
  },
  {
   "cell_type": "code",
   "execution_count": 8,
   "metadata": {},
   "outputs": [
    {
     "ename": "TypeError",
     "evalue": "can only concatenate list (not \"tuple\") to list",
     "output_type": "error",
     "traceback": [
      "\u001b[1;31m---------------------------------------------------------------------------\u001b[0m",
      "\u001b[1;31mTypeError\u001b[0m                                 Traceback (most recent call last)",
      "Cell \u001b[1;32mIn[8], line 4\u001b[0m\n\u001b[0;32m      1\u001b[0m one \u001b[38;5;241m=\u001b[39m [\u001b[38;5;241m1\u001b[39m, \u001b[38;5;124m\"\u001b[39m\u001b[38;5;124m2\u001b[39m\u001b[38;5;124m\"\u001b[39m, \u001b[38;5;241m3\u001b[39m, \u001b[38;5;124m\"\u001b[39m\u001b[38;5;124m4\u001b[39m\u001b[38;5;124m\"\u001b[39m]\n\u001b[0;32m      2\u001b[0m two \u001b[38;5;241m=\u001b[39m (\u001b[38;5;124m\"\u001b[39m\u001b[38;5;124ma\u001b[39m\u001b[38;5;124m\"\u001b[39m, \u001b[38;5;124m\"\u001b[39m\u001b[38;5;124mb\u001b[39m\u001b[38;5;124m\"\u001b[39m, \u001b[38;5;124m\"\u001b[39m\u001b[38;5;124mc\u001b[39m\u001b[38;5;124m\"\u001b[39m, \u001b[38;5;124m\"\u001b[39m\u001b[38;5;124md\u001b[39m\u001b[38;5;124m\"\u001b[39m)\n\u001b[1;32m----> 4\u001b[0m three \u001b[38;5;241m=\u001b[39m \u001b[43mone\u001b[49m\u001b[43m \u001b[49m\u001b[38;5;241;43m+\u001b[39;49m\u001b[43m \u001b[49m\u001b[43mtwo\u001b[49m\n",
      "\u001b[1;31mTypeError\u001b[0m: can only concatenate list (not \"tuple\") to list"
     ]
    }
   ],
   "source": [
    "one = [1, \"2\", 3, \"4\"]\n",
    "two = (\"a\", \"b\", \"c\", \"d\")\n",
    "\n",
    "three = one + two"
   ]
  },
  {
   "cell_type": "code",
   "execution_count": 13,
   "metadata": {},
   "outputs": [
    {
     "data": {
      "text/plain": [
       "[1, 2, 3]"
      ]
     },
     "execution_count": 13,
     "metadata": {},
     "output_type": "execute_result"
    }
   ],
   "source": [
    "m_lst = [1,2,3,4]\n",
    "\n",
    "m_lst_2 = m_lst[: -1]\n",
    "# m_lst_2.reverse()\n",
    "\n",
    "\n",
    "m_lst_2"
   ]
  },
  {
   "cell_type": "code",
   "execution_count": 5,
   "metadata": {},
   "outputs": [
    {
     "ename": "AttributeError",
     "evalue": "'dict_keys' object has no attribute 'values'",
     "output_type": "error",
     "traceback": [
      "\u001b[1;31m---------------------------------------------------------------------------\u001b[0m",
      "\u001b[1;31mAttributeError\u001b[0m                            Traceback (most recent call last)",
      "Cell \u001b[1;32mIn[5], line 7\u001b[0m\n\u001b[0;32m      3\u001b[0m my_dict \u001b[38;5;241m=\u001b[39m {\u001b[38;5;124m'\u001b[39m\u001b[38;5;124ma\u001b[39m\u001b[38;5;124m'\u001b[39m:\u001b[38;5;241m1\u001b[39m, \u001b[38;5;124m'\u001b[39m\u001b[38;5;124mg\u001b[39m\u001b[38;5;124m'\u001b[39m:\u001b[38;5;241m2\u001b[39m, \u001b[38;5;124m'\u001b[39m\u001b[38;5;124mc\u001b[39m\u001b[38;5;124m'\u001b[39m:\u001b[38;5;241m3\u001b[39m}\n\u001b[0;32m      5\u001b[0m \u001b[38;5;66;03m# sorted(my_dict)\u001b[39;00m\n\u001b[1;32m----> 7\u001b[0m \u001b[38;5;28;01mfor\u001b[39;00m key, value \u001b[38;5;129;01min\u001b[39;00m \u001b[43mmy_dict\u001b[49m\u001b[38;5;241;43m.\u001b[39;49m\u001b[43mkeys\u001b[49m\u001b[43m(\u001b[49m\u001b[43m)\u001b[49m\u001b[38;5;241;43m.\u001b[39;49m\u001b[43mvalues\u001b[49m():\n\u001b[0;32m      8\u001b[0m     \u001b[38;5;28mprint\u001b[39m(key, value)\n",
      "\u001b[1;31mAttributeError\u001b[0m: 'dict_keys' object has no attribute 'values'"
     ]
    }
   ],
   "source": [
    "# my_dict = {1: 'a', 3: 'b', 2: 'g'}\n",
    "\n",
    "my_dict = {'a':1, 'g':2, 'c':3}\n",
    "\n",
    "# sorted(my_dict)\n",
    "\n",
    "for key, value in my_dict.keys().values():\n",
    "    print(key, value)"
   ]
  },
  {
   "cell_type": "code",
   "execution_count": 1,
   "metadata": {},
   "outputs": [
    {
     "data": {
      "text/plain": [
       "0"
      ]
     },
     "execution_count": 1,
     "metadata": {},
     "output_type": "execute_result"
    }
   ],
   "source": [
    "config = {\n",
    "    \"server\": {\n",
    "        \"host\": \"127.0.0.1\",\n",
    "        \"port\": \"22\"\n",
    "    },\n",
    "    \"configuration\": {\n",
    "        \"ssh\": {\n",
    "            \"access\": True,\n",
    "            \"login\": \"some\",\n",
    "            \"password\": \"some\"\n",
    "        },\n",
    "        \"name\": \"2491Oaaf1414\"\n",
    "    }\n",
    "}\n",
    "\n",
    "\n",
    "config.get('login', 0)"
   ]
  },
  {
   "cell_type": "code",
   "execution_count": 9,
   "metadata": {},
   "outputs": [
    {
     "data": {
      "text/plain": [
       "'fghfgfd'"
      ]
     },
     "execution_count": 9,
     "metadata": {},
     "output_type": "execute_result"
    }
   ],
   "source": [
    "s = 'fgh fg fd'\n",
    "\n",
    "# s = s.replace(' ','')\n",
    "s = ''.join(s.split(' '))\n",
    "\n",
    "s"
   ]
  },
  {
   "cell_type": "code",
   "execution_count": 12,
   "metadata": {},
   "outputs": [
    {
     "name": "stdout",
     "output_type": "stream",
     "text": [
      "Температура: 25, оставшееся время: 40\n",
      "Температура: {temperature}, оставшееся время: {remaining_time}\n",
      "Температура: 25, оставшееся время: 40\n"
     ]
    }
   ],
   "source": [
    "temperature = 25\n",
    "\n",
    "remaining_time = 40\n",
    "\n",
    "print(f'Температура: {temperature}, оставшееся время: {remaining_time}')\n",
    "\n",
    "print(          r'Температура: {temperature}, оставшееся время: {remaining_time}')\n",
    "\n",
    "print(\"Температура: {}, оставшееся время: {}\".format(temperature,remaining_time))"
   ]
  },
  {
   "cell_type": "code",
   "execution_count": 15,
   "metadata": {},
   "outputs": [
    {
     "ename": "AttributeError",
     "evalue": "'str' object has no attribute 'isallnumber'",
     "output_type": "error",
     "traceback": [
      "\u001b[1;31m---------------------------------------------------------------------------\u001b[0m",
      "\u001b[1;31mAttributeError\u001b[0m                            Traceback (most recent call last)",
      "Cell \u001b[1;32mIn[15], line 3\u001b[0m\n\u001b[0;32m      1\u001b[0m s \u001b[38;5;241m=\u001b[39m \u001b[38;5;124m'\u001b[39m\u001b[38;5;124m1234\u001b[39m\u001b[38;5;124m'\u001b[39m\n\u001b[1;32m----> 3\u001b[0m \u001b[43ms\u001b[49m\u001b[38;5;241;43m.\u001b[39;49m\u001b[43misallnumber\u001b[49m()\n",
      "\u001b[1;31mAttributeError\u001b[0m: 'str' object has no attribute 'isallnumber'"
     ]
    }
   ],
   "source": [
    "s = '1234'\n",
    "\n",
    "s.isallnumber()"
   ]
  },
  {
   "cell_type": "code",
   "execution_count": 16,
   "metadata": {},
   "outputs": [
    {
     "name": "stdout",
     "output_type": "stream",
     "text": [
      "None\n"
     ]
    }
   ],
   "source": [
    "def test(a):\n",
    "    b = a**2\n",
    "    \n",
    "print(test(2))"
   ]
  },
  {
   "cell_type": "code",
   "execution_count": 30,
   "metadata": {},
   "outputs": [
    {
     "name": "stdout",
     "output_type": "stream",
     "text": [
      "[1. 1. 1. 1. 1. 1. 1. 1. 1. 1.]\n"
     ]
    }
   ],
   "source": [
    "import numpy as np\n",
    "\n",
    "values = np.array([0, 1, 2, 3, 4, 5, 6, 7, 8, 9])\n",
    "values\n",
    "\n",
    "new = (1,1)\n",
    "\n",
    "def standart_z(values, new):\n",
    "    relative_value = (values - values.min()) / (values.max() - values.min())\n",
    "    scaled_value = new[0] + (new[1] - new[0]) * relative_value\n",
    "    return scaled_value\n",
    "print(standart_z(values, new))"
   ]
  },
  {
   "cell_type": "code",
   "execution_count": 31,
   "metadata": {},
   "outputs": [
    {
     "ename": "NameError",
     "evalue": "name 'data' is not defined",
     "output_type": "error",
     "traceback": [
      "\u001b[1;31m---------------------------------------------------------------------------\u001b[0m",
      "\u001b[1;31mNameError\u001b[0m                                 Traceback (most recent call last)",
      "Cell \u001b[1;32mIn[31], line 21\u001b[0m\n\u001b[0;32m     19\u001b[0m \u001b[38;5;66;03m# Вызов функций\u001b[39;00m\n\u001b[0;32m     20\u001b[0m read_data()\n\u001b[1;32m---> 21\u001b[0m \u001b[43mfreq\u001b[49m\u001b[43m(\u001b[49m\u001b[38;5;124;43m'\u001b[39;49m\u001b[38;5;124;43mвойна\u001b[39;49m\u001b[38;5;124;43m'\u001b[39;49m\u001b[43m)\u001b[49m\n",
      "Cell \u001b[1;32mIn[31], line 11\u001b[0m, in \u001b[0;36mfreq\u001b[1;34m(target_word)\u001b[0m\n\u001b[0;32m      9\u001b[0m \u001b[38;5;28;01mdef\u001b[39;00m \u001b[38;5;21mfreq\u001b[39m(target_word):  \n\u001b[0;32m     10\u001b[0m     new_dict \u001b[38;5;241m=\u001b[39m \u001b[38;5;28mdict\u001b[39m() \n\u001b[1;32m---> 11\u001b[0m     \u001b[38;5;28;01mfor\u001b[39;00m i \u001b[38;5;129;01min\u001b[39;00m \u001b[43mdata\u001b[49m: \u001b[38;5;66;03m# СТРОКА С ОШИБКОЙ\u001b[39;00m\n\u001b[0;32m     12\u001b[0m         \u001b[38;5;28;01mif\u001b[39;00m i \u001b[38;5;129;01mnot\u001b[39;00m \u001b[38;5;129;01min\u001b[39;00m new_dict:\n\u001b[0;32m     13\u001b[0m             new_dict[i] \u001b[38;5;241m=\u001b[39m \u001b[38;5;241m1\u001b[39m\n",
      "\u001b[1;31mNameError\u001b[0m: name 'data' is not defined"
     ]
    }
   ],
   "source": [
    "# Функция чтения данных\n",
    "def read_data():\n",
    "    data =open('war_peace_processed.txt', 'rt', encoding='utf-8').read()\n",
    "    data = data.split('\\n')\n",
    "    return data\n",
    "\n",
    "\n",
    "# Функция подсчёта частоты употребления слова в тексте\n",
    "def freq(target_word):  \n",
    "    new_dict = dict() \n",
    "    for i in data: # СТРОКА С ОШИБКОЙ\n",
    "        if i not in new_dict:\n",
    "            new_dict[i] = 1\n",
    "        else:\n",
    "            new_dict[i] = new_dict.get(i) + 1\n",
    "    return new_dict.get(target_word, 0)\n",
    "\n",
    "\n",
    "# Вызов функций\n",
    "read_data()\n",
    "freq('война')"
   ]
  },
  {
   "cell_type": "code",
   "execution_count": 36,
   "metadata": {},
   "outputs": [
    {
     "data": {
      "text/plain": [
       "array([2.        , 2.02040816, 2.04081633, 2.06122449, 2.08163265,\n",
       "       2.10204082, 2.12244898, 2.14285714, 2.16326531, 2.18367347,\n",
       "       2.20408163, 2.2244898 , 2.24489796, 2.26530612, 2.28571429,\n",
       "       2.30612245, 2.32653061, 2.34693878, 2.36734694, 2.3877551 ,\n",
       "       2.40816327, 2.42857143, 2.44897959, 2.46938776, 2.48979592,\n",
       "       2.51020408, 2.53061224, 2.55102041, 2.57142857, 2.59183673,\n",
       "       2.6122449 , 2.63265306, 2.65306122, 2.67346939, 2.69387755,\n",
       "       2.71428571, 2.73469388, 2.75510204, 2.7755102 , 2.79591837,\n",
       "       2.81632653, 2.83673469, 2.85714286, 2.87755102, 2.89795918,\n",
       "       2.91836735, 2.93877551, 2.95918367, 2.97959184, 3.        ])"
      ]
     },
     "execution_count": 36,
     "metadata": {},
     "output_type": "execute_result"
    }
   ],
   "source": [
    "import numpy as np\n",
    "\n",
    "a = np.linspace(2, 3)\n",
    "a"
   ]
  },
  {
   "cell_type": "code",
   "execution_count": null,
   "metadata": {},
   "outputs": [],
   "source": [
    "import pandas as pd\n",
    "\n"
   ]
  },
  {
   "cell_type": "code",
   "execution_count": 18,
   "metadata": {},
   "outputs": [
    {
     "name": "stdout",
     "output_type": "stream",
     "text": [
      "{'Oranges (packaged)': 114.99, 'Candy (Rotfront)': 280.0, 'Boiled sausage': 133.99, 'Juice J7 (orange)': 105.59, 'Trout (Seven Seas)': 327.99}\n"
     ]
    }
   ],
   "source": [
    "products = {'Oranges (packaged)': 114.99, 'Candy (Rotfront)': 280.0, 'Boiled sausage': 199.99, 'Juice J7 (orange)': 119.99, 'Trout (Seven Seas)': 399.99}\n",
    "stocks = {'Boiled sausage': '33%', 'Juice J7 (orange)': '12%', 'Trout (Seven Seas)': '18%'}\n",
    "\n",
    "def apply_discounts(products, stocks):\n",
    "    products_disc = products.copy()\n",
    "    \n",
    "    stocks_int = {}\n",
    "    for m in stocks.items():\n",
    "        if m[1] is not int:\n",
    "            n = list(m[1])\n",
    "            int_disc = []\n",
    "            for elem in n:\n",
    "                if elem.isnumeric():\n",
    "                    int_disc.append(elem)\n",
    "            int_dics = ''.join(int_disc)\n",
    "            int_dics = int(int_dics)\n",
    "            stocks_int[m[0]] = int_dics\n",
    "    \n",
    "    products_name = list(products_disc.keys())\n",
    "    \n",
    "   \n",
    "    for stock in stocks_int.items():\n",
    "        if stock[0] in products_name:\n",
    "            products_disc[stock[0]] = round(products_disc[stock[0]] - products_disc[stock[0]]*stock[1]/100, 2)\n",
    "        else:\n",
    "            continue\n",
    "    \n",
    "    \n",
    "    return products_disc  \n",
    "    \n",
    "# stocks_int = {}\n",
    "# for m in stocks.items():\n",
    "#     if m[1] is not int:\n",
    "#         n = list(m[1])\n",
    "#         int_disc = []\n",
    "#         for elem in n:\n",
    "#             if elem.isnumeric():\n",
    "#                 int_disc.append(elem)\n",
    "#         int_dics = ''.join(int_disc)\n",
    "#         int_dics = int(int_dics)\n",
    "#         stocks_int[m[0]] = int_dics         \n",
    " \n",
    " \n",
    "# stocks_int\n",
    "\n",
    "print(apply_discounts(products, stocks))\n",
    "\n",
    "## {'Oranges (packaged)': 114.99, 'Candy (Rotfront)': 280.0, 'Boiled sausage': 133.99, 'Juice J7 (orange)': 105.59, 'Trout (Seven Seas)': 327.99}\n"
   ]
  },
  {
   "cell_type": "code",
   "execution_count": 12,
   "metadata": {},
   "outputs": [
    {
     "data": {
      "text/plain": [
       "int"
      ]
     },
     "execution_count": 12,
     "metadata": {},
     "output_type": "execute_result"
    }
   ],
   "source": [
    "a = '33%'\n",
    "\n",
    "a = list(a)\n",
    "\n",
    "b = []\n",
    "\n",
    "for m in a:\n",
    "    if m.isnumeric():\n",
    "        b.append(m)\n",
    "        \n",
    "\n",
    "# b=int(a)\n",
    "\n",
    "c = '5'\n",
    "c.isnumeric()\n",
    "b = ''.join(b)\n",
    "b = int(b)\n",
    "\n",
    "type(b)"
   ]
  },
  {
   "cell_type": "code",
   "execution_count": 4,
   "metadata": {},
   "outputs": [
    {
     "name": "stdout",
     "output_type": "stream",
     "text": [
      "33%\n",
      "12%\n",
      "18%\n"
     ]
    }
   ],
   "source": [
    "stocks = {'Boiled sausage': '33%', 'Juice J7 (orange)': '12%', 'Trout (Seven Seas)': '18%'}\n",
    "\n",
    "for m in stocks.items():\n",
    "    print(m[1])\n"
   ]
  },
  {
   "cell_type": "code",
   "execution_count": 28,
   "metadata": {},
   "outputs": [
    {
     "data": {
      "text/html": [
       "<div>\n",
       "<style scoped>\n",
       "    .dataframe tbody tr th:only-of-type {\n",
       "        vertical-align: middle;\n",
       "    }\n",
       "\n",
       "    .dataframe tbody tr th {\n",
       "        vertical-align: top;\n",
       "    }\n",
       "\n",
       "    .dataframe thead th {\n",
       "        text-align: right;\n",
       "    }\n",
       "</style>\n",
       "<table border=\"1\" class=\"dataframe\">\n",
       "  <thead>\n",
       "    <tr style=\"text-align: right;\">\n",
       "      <th></th>\n",
       "      <th>Country</th>\n",
       "      <th>Total</th>\n",
       "    </tr>\n",
       "  </thead>\n",
       "  <tbody>\n",
       "    <tr>\n",
       "      <th>0</th>\n",
       "      <td>Россия</td>\n",
       "      <td>11</td>\n",
       "    </tr>\n",
       "    <tr>\n",
       "      <th>1</th>\n",
       "      <td>Британия</td>\n",
       "      <td>5</td>\n",
       "    </tr>\n",
       "    <tr>\n",
       "      <th>2</th>\n",
       "      <td>США</td>\n",
       "      <td>13</td>\n",
       "    </tr>\n",
       "    <tr>\n",
       "      <th>3</th>\n",
       "      <td>Япония</td>\n",
       "      <td>6</td>\n",
       "    </tr>\n",
       "    <tr>\n",
       "      <th>4</th>\n",
       "      <td>Аргентина</td>\n",
       "      <td>7</td>\n",
       "    </tr>\n",
       "  </tbody>\n",
       "</table>\n",
       "</div>"
      ],
      "text/plain": [
       "     Country Total\n",
       "0     Россия    11\n",
       "1   Британия     5\n",
       "2        США    13\n",
       "3     Япония     6\n",
       "4  Аргентина     7"
      ]
     },
     "execution_count": 28,
     "metadata": {},
     "output_type": "execute_result"
    }
   ],
   "source": [
    "import pandas as pd \n",
    "\n",
    "data_bronze = (['Россия', '11'], ['Британия', '5'], ['США', '13'], ['Япония', '6'], ['Аргентина', '7'])\n",
    "\n",
    "data_silver = (['Россия', '11'], ['Британия', '5'], ['Конго', '13'], ['Япония', '6'], ['Аргентина', '8'])\n",
    "\n",
    "bronze_top = pd.DataFrame(data = data_bronze, columns=['Country', 'Total'])\n",
    "silver_top = pd.DataFrame(data = data_silver, columns=['Country', 'Total'])\n",
    "\n",
    "bronze_top.to_csv('bronze_top.csv', index=False)\n",
    "silver_top.to_csv('silver_top.csv', index=False)\n",
    "\n",
    "bronze_top"
   ]
  },
  {
   "cell_type": "code",
   "execution_count": 29,
   "metadata": {},
   "outputs": [
    {
     "data": {
      "text/html": [
       "<div>\n",
       "<style scoped>\n",
       "    .dataframe tbody tr th:only-of-type {\n",
       "        vertical-align: middle;\n",
       "    }\n",
       "\n",
       "    .dataframe tbody tr th {\n",
       "        vertical-align: top;\n",
       "    }\n",
       "\n",
       "    .dataframe thead th {\n",
       "        text-align: right;\n",
       "    }\n",
       "</style>\n",
       "<table border=\"1\" class=\"dataframe\">\n",
       "  <thead>\n",
       "    <tr style=\"text-align: right;\">\n",
       "      <th></th>\n",
       "      <th>Country</th>\n",
       "      <th>Total_bronze</th>\n",
       "      <th>Total_silver</th>\n",
       "    </tr>\n",
       "  </thead>\n",
       "  <tbody>\n",
       "    <tr>\n",
       "      <th>0</th>\n",
       "      <td>Россия</td>\n",
       "      <td>11</td>\n",
       "      <td>11</td>\n",
       "    </tr>\n",
       "    <tr>\n",
       "      <th>1</th>\n",
       "      <td>Британия</td>\n",
       "      <td>5</td>\n",
       "      <td>5</td>\n",
       "    </tr>\n",
       "    <tr>\n",
       "      <th>2</th>\n",
       "      <td>Япония</td>\n",
       "      <td>6</td>\n",
       "      <td>6</td>\n",
       "    </tr>\n",
       "    <tr>\n",
       "      <th>3</th>\n",
       "      <td>Аргентина</td>\n",
       "      <td>7</td>\n",
       "      <td>8</td>\n",
       "    </tr>\n",
       "  </tbody>\n",
       "</table>\n",
       "</div>"
      ],
      "text/plain": [
       "     Country  Total_bronze  Total_silver\n",
       "0     Россия            11            11\n",
       "1   Британия             5             5\n",
       "2     Япония             6             6\n",
       "3  Аргентина             7             8"
      ]
     },
     "execution_count": 29,
     "metadata": {},
     "output_type": "execute_result"
    }
   ],
   "source": [
    "import pandas as pd\n",
    "\n",
    "data_bronze = pd.read_csv('bronze_top.csv')\n",
    "\n",
    "data_silver = pd.read_csv('silver_top.csv')\n",
    "\n",
    "\n",
    "data_bronze = data_bronze.rename(columns={'Total':'Total_bronze'})\n",
    "data_silver = data_silver.rename(columns={'Total':'Total_silver'})\n",
    "\n",
    "merged = data_bronze.merge(\n",
    "    data_silver, \n",
    "    on='Country',\n",
    "    how='inner',\n",
    "    # left_index=False, right_index=False\n",
    ")\n",
    "\n",
    "\n",
    "\n",
    "merged"
   ]
  },
  {
   "cell_type": "code",
   "execution_count": 46,
   "metadata": {},
   "outputs": [
    {
     "name": "stdout",
     "output_type": "stream",
     "text": [
      "Средняя ежедневная выработка за март составала 11.0\n"
     ]
    },
    {
     "data": {
      "text/plain": [
       "<Axes: >"
      ]
     },
     "execution_count": 46,
     "metadata": {},
     "output_type": "execute_result"
    },
    {
     "data": {
      "image/png": "[encoded data removed]",
      "text/plain": [
       "<Figure size 1000x500 with 1 Axes>"
      ]
     },
     "metadata": {},
     "output_type": "display_data"
    }
   ],
   "source": [
    "import pandas as pd\n",
    "import datetime as dt\n",
    "\n",
    "# from datetime import to_period\n",
    "\n",
    "df = pd.read_csv('solarpower.csv')\n",
    "\n",
    "a = df[df['cum_power']== -1]\n",
    "a\n",
    "\n",
    "df.iat[45, 1] = (df.iloc[44]['cum_power'] + df.iloc[46]['cum_power']) / 2\n",
    "\n",
    "df.iat[647, 1] = (df.iloc[646]['cum_power'] + df.iloc[648]['cum_power']) / 2\n",
    "\n",
    "\n",
    "df.iloc[45]\n",
    "a = df[df['cum_power']== -1]\n",
    "a\n",
    "\n",
    "\n",
    "round(df['cum_power'].mean(), 0)\n",
    "\n",
    "df['date'] = pd.to_datetime(df['date'])\n",
    "df['month_gen'] = df['date'].dt.to_period(\"M\")\n",
    "\n",
    "# def day_power_fill():\n",
    "#     for n in range(1, 665):\n",
    "#         day_power_gen = df.iloc[n]['cum_power'] - df.iloc[n-1]['cum_power']\n",
    "\n",
    "# df['day_power'] = df.groupby(by ='month_gen')['cum_power'].agg('sum')\n",
    "\n",
    "new_df = df.groupby(by ='month_gen')['cum_power'].agg('mean')\n",
    "new_df \n",
    "\n",
    "\n",
    "df['day_power'] = df['cum_power'].diff()\n",
    "\n",
    "march_17_mean = df[df['month_gen'] == '2017-03']['day_power'].mean()\n",
    "print(f'Средняя ежедневная выработка за март составала {round(march_17_mean,0)}')\n",
    "\n",
    "\n",
    "df_to_plot = df.groupby('month_gen')['day_power'].mean()\n",
    "df_to_plot = df_to_plot.reset_index()\n",
    "# df_to_plot = pd.DataFrame(df_to_plot)\n",
    "# df_to_plot['month_gen'].astype('str')\n",
    "\n",
    "\n",
    "import seaborn as sns\n",
    "import matplotlib.pyplot as plt\n",
    "\n",
    "\n",
    "# fig, axes = plt.subplots(ncols=1, nrows=1, figsize=(14, 10))\n",
    "\n",
    "\n",
    "# generaation = sns.lineplot(\n",
    "#             data = df_to_plot,\n",
    "#             x = 'month_gen',\n",
    "#             y = 'day_power',\n",
    "#             # label = 'Средняя генерация энергии по месяцам',\n",
    "#             # # ax=axes[0],\n",
    "#             )\n",
    "\n",
    "# df_to_plot = pd.DataFrame(df_to_plot)\n",
    "# df_to_plot\n",
    "\n",
    "df_to_plot['day_power'].plot(\n",
    "    kind='line',\n",
    "    figsize=(10,5)\n",
    ")"
   ]
  },
  {
   "cell_type": "code",
   "execution_count": 107,
   "metadata": {},
   "outputs": [
    {
     "data": {
      "text/plain": [
       "[1, 2, 3, 4]"
      ]
     },
     "execution_count": 107,
     "metadata": {},
     "output_type": "execute_result"
    }
   ],
   "source": [
    "a = list(range(1,5))\n",
    "a"
   ]
  }
 ],
 "metadata": {
  "kernelspec": {
   "display_name": "Python 3",
   "language": "python",
   "name": "python3"
  },
  "language_info": {
   "codemirror_mode": {
    "name": "ipython",
    "version": 3
   },
   "file_extension": ".py",
   "mimetype": "text/x-python",
   "name": "python",
   "nbconvert_exporter": "python",
   "pygments_lexer": "ipython3",
   "version": "3.12.0"
  }
 },
 "nbformat": 4,
 "nbformat_minor": 2
}
